{
 "cells": [
  {
   "cell_type": "markdown",
   "metadata": {},
   "source": [
    "# Dashboard Profile completion"
   ]
  },
  {
   "cell_type": "code",
   "execution_count": 81,
   "metadata": {},
   "outputs": [
    {
     "data": {
      "text/html": [
       "        <script type=\"text/javascript\">\n",
       "        window.PlotlyConfig = {MathJaxConfig: 'local'};\n",
       "        if (window.MathJax) {MathJax.Hub.Config({SVG: {font: \"STIX-Web\"}});}\n",
       "        if (typeof require !== 'undefined') {\n",
       "        require.undef(\"plotly\");\n",
       "        requirejs.config({\n",
       "            paths: {\n",
       "                'plotly': ['https://cdn.plot.ly/plotly-latest.min']\n",
       "            }\n",
       "        });\n",
       "        require(['plotly'], function(Plotly) {\n",
       "            window._Plotly = Plotly;\n",
       "        });\n",
       "        }\n",
       "        </script>\n",
       "        "
      ]
     },
     "metadata": {},
     "output_type": "display_data"
    },
    {
     "data": {
      "text/html": [
       "        <script type=\"text/javascript\">\n",
       "        window.PlotlyConfig = {MathJaxConfig: 'local'};\n",
       "        if (window.MathJax) {MathJax.Hub.Config({SVG: {font: \"STIX-Web\"}});}\n",
       "        if (typeof require !== 'undefined') {\n",
       "        require.undef(\"plotly\");\n",
       "        requirejs.config({\n",
       "            paths: {\n",
       "                'plotly': ['https://cdn.plot.ly/plotly-latest.min']\n",
       "            }\n",
       "        });\n",
       "        require(['plotly'], function(Plotly) {\n",
       "            window._Plotly = Plotly;\n",
       "        });\n",
       "        }\n",
       "        </script>\n",
       "        "
      ]
     },
     "metadata": {},
     "output_type": "display_data"
    }
   ],
   "source": [
    "import pymysql.cursors\n",
    "\n",
    "import pandas as pd\n",
    "import numpy as np\n",
    "from time import time\n",
    "import json\n",
    "from sqlalchemy import create_engine\n",
    "import re\n",
    "import datetime\n",
    "import lifetimes\n",
    "#import pymc3 as pm\n",
    "\n",
    "%matplotlib inline\n",
    "import matplotlib.pyplot as plt\n",
    "import seaborn as sns; sns.set()\n",
    "plt.style.use('seaborn-whitegrid')\n",
    "import numpy as np\n",
    "import plotly.plotly as py\n",
    "import plotly.graph_objs as go\n",
    "from plotly.offline import iplot, init_notebook_mode\n",
    "import cufflinks\n",
    "cufflinks.go_offline(connected=True)\n",
    "init_notebook_mode(connected=True)\n",
    "\n",
    "import plotly\n",
    "plotly.tools.set_config_file(world_readable=True , sharing='public')"
   ]
  },
  {
   "cell_type": "code",
   "execution_count": 61,
   "metadata": {},
   "outputs": [],
   "source": [
    "connect_sql = pymysql.connect(host='prd-db-olxin-replica-1.cnhuszkczyjo.ap-southeast-1.rds.amazonaws.com',\n",
    "                            user='dev',\n",
    "                            password='^b6W2vVuM4KJ',\n",
    "                            db='olxin',\n",
    "                            charset='utf8mb4',\n",
    "                            cursorclass=pymysql.cursors.DictCursor)\n",
    "\n",
    "connect_sql_pk = pymysql.connect(host='prd-db-olxpk-replica-1.cnhuszkczyjo.ap-southeast-1.rds.amazonaws.com',\n",
    "                            user='dev',\n",
    "                            password='^b6W2vVuM4KJ',\n",
    "                            db='olxpk',\n",
    "                            charset='utf8mb4',\n",
    "                            cursorclass=pymysql.cursors.DictCursor)"
   ]
  },
  {
   "cell_type": "markdown",
   "metadata": {},
   "source": [
    "## India Cohort"
   ]
  },
  {
   "cell_type": "markdown",
   "metadata": {},
   "source": [
    "-  First query : 05/07/2019"
   ]
  },
  {
   "cell_type": "code",
   "execution_count": 17,
   "metadata": {},
   "outputs": [],
   "source": [
    "query = \"\"\"\n",
    "\n",
    "SELECT\n",
    "        extract(year from created_at) as year  ,\n",
    "        extract(month from created_at) as month,\n",
    "        extract(week from created_at) as week,\n",
    "        sum(case when ((google_id is null and facebook_id is null) or (google_id = '' and facebook_id = '')) then 0 else 1 end) social_account,\n",
    "        sum(case when default_phone is null or default_phone='' then 0 else 1 end) as tiene_phone,\n",
    "        sum(CASE\n",
    "             WHEN email LIKE '%olx.co%' THEN 0 -- Autogenerado\n",
    "             WHEN email LIKE '%@olx%' THEN 0 -- Autogenerado\n",
    "             WHEN email LIKE '%DELETED%' THEN 0 -- Autogenerados\n",
    "             WHEN email LIKE '%UNLINK%' THEN 0 -- Autogenerados\n",
    "             WHEN email REGEXP '[0-9]{7}' THEN 0 -- Error de carga\n",
    "             ELSE 1 END)  as valido_email,\n",
    "        sum(case when default_person!='OLX User' then 1 else 0 end) as real_name,\n",
    "        sum(case when b.external_key is not Null and b.external_key>0 then 1 else 0 end) has_photo,\n",
    "        count(id)\n",
    "        -- SUBSTRING_INDEX(email,'@',-1) as domain\n",
    "FROM olxin.users a\n",
    "    left join (select distinct external_key from olxin.images where active=1 and type='user') b on a.id=b.external_key\n",
    "   where type in ('confirmed')\n",
    "        and created_at > '2019-02-11'\n",
    "group by 1,2,3\n",
    "\n",
    "  \n",
    "\"\"\""
   ]
  },
  {
   "cell_type": "code",
   "execution_count": 18,
   "metadata": {},
   "outputs": [],
   "source": [
    "df = pd.read_sql_query(query.replace('%', '%%'), connect_sql)"
   ]
  },
  {
   "cell_type": "code",
   "execution_count": 51,
   "metadata": {},
   "outputs": [],
   "source": [
    "df_2019_05_07 = df.copy()"
   ]
  },
  {
   "cell_type": "code",
   "execution_count": 52,
   "metadata": {},
   "outputs": [
    {
     "data": {
      "text/plain": [
       "year                          object\n",
       "month                         object\n",
       "week                          object\n",
       "social_account               float64\n",
       "tiene_phone                  float64\n",
       "valido_email                 float64\n",
       "real_name                    float64\n",
       "has_photo                    float64\n",
       "count(id)                      int64\n",
       "year_month_week               object\n",
       "percentage_social_account    float64\n",
       "percentage_tiene_phone       float64\n",
       "percentage_valid_email       float64\n",
       "percentage_real_name         float64\n",
       "percentage_has_photo         float64\n",
       "dtype: object"
      ]
     },
     "execution_count": 52,
     "metadata": {},
     "output_type": "execute_result"
    }
   ],
   "source": [
    "df_2019_05_07.year = df.year.astype(str)\n",
    "df_2019_05_07.month = df.month.astype(str)\n",
    "df_2019_05_07.week = df.week.astype(str)\n",
    "df_2019_05_07['year_month_week'] = df_2019_05_07['year'] + '-' +  df_2019_05_07['month'] + '-' + df_2019_05_07['week'] \n",
    "df_2019_05_07.dtypes"
   ]
  },
  {
   "cell_type": "code",
   "execution_count": 53,
   "metadata": {},
   "outputs": [],
   "source": [
    "df_2019_05_07['percentage_social_account'] = df_2019_05_07['social_account'] / df_2019_05_07['count(id)']\n",
    "df_2019_05_07['percentage_tiene_phone'] = df_2019_05_07['tiene_phone'] / df_2019_05_07['count(id)']\n",
    "df_2019_05_07['percentage_valid_email'] = df_2019_05_07['valido_email'] / df_2019_05_07['count(id)']\n",
    "df_2019_05_07['percentage_real_name'] = df_2019_05_07['real_name'] / df_2019_05_07['count(id)']\n",
    "df_2019_05_07['percentage_has_photo'] = df_2019_05_07['has_photo'] / df_2019_05_07['count(id)']"
   ]
  },
  {
   "cell_type": "code",
   "execution_count": 54,
   "metadata": {},
   "outputs": [
    {
     "data": {
      "text/html": [
       "<div>\n",
       "<style scoped>\n",
       "    .dataframe tbody tr th:only-of-type {\n",
       "        vertical-align: middle;\n",
       "    }\n",
       "\n",
       "    .dataframe tbody tr th {\n",
       "        vertical-align: top;\n",
       "    }\n",
       "\n",
       "    .dataframe thead th {\n",
       "        text-align: right;\n",
       "    }\n",
       "</style>\n",
       "<table border=\"1\" class=\"dataframe\">\n",
       "  <thead>\n",
       "    <tr style=\"text-align: right;\">\n",
       "      <th></th>\n",
       "      <th>year</th>\n",
       "      <th>month</th>\n",
       "      <th>week</th>\n",
       "      <th>social_account</th>\n",
       "      <th>tiene_phone</th>\n",
       "      <th>valido_email</th>\n",
       "      <th>real_name</th>\n",
       "      <th>has_photo</th>\n",
       "      <th>count(id)</th>\n",
       "      <th>year_month_week</th>\n",
       "      <th>percentage_social_account</th>\n",
       "      <th>percentage_tiene_phone</th>\n",
       "      <th>percentage_valid_email</th>\n",
       "      <th>percentage_real_name</th>\n",
       "      <th>percentage_has_photo</th>\n",
       "    </tr>\n",
       "  </thead>\n",
       "  <tbody>\n",
       "    <tr>\n",
       "      <th>0</th>\n",
       "      <td>2019</td>\n",
       "      <td>2</td>\n",
       "      <td>6</td>\n",
       "      <td>695989.0</td>\n",
       "      <td>390755.0</td>\n",
       "      <td>590153.0</td>\n",
       "      <td>774694.0</td>\n",
       "      <td>661497.0</td>\n",
       "      <td>1053099</td>\n",
       "      <td>2019-2-6</td>\n",
       "      <td>0.660896</td>\n",
       "      <td>0.371052</td>\n",
       "      <td>0.560397</td>\n",
       "      <td>0.735633</td>\n",
       "      <td>0.628143</td>\n",
       "    </tr>\n",
       "    <tr>\n",
       "      <th>1</th>\n",
       "      <td>2019</td>\n",
       "      <td>2</td>\n",
       "      <td>7</td>\n",
       "      <td>591106.0</td>\n",
       "      <td>401144.0</td>\n",
       "      <td>498624.0</td>\n",
       "      <td>671415.0</td>\n",
       "      <td>560882.0</td>\n",
       "      <td>963462</td>\n",
       "      <td>2019-2-7</td>\n",
       "      <td>0.613523</td>\n",
       "      <td>0.416357</td>\n",
       "      <td>0.517534</td>\n",
       "      <td>0.696878</td>\n",
       "      <td>0.582153</td>\n",
       "    </tr>\n",
       "    <tr>\n",
       "      <th>2</th>\n",
       "      <td>2019</td>\n",
       "      <td>2</td>\n",
       "      <td>8</td>\n",
       "      <td>387755.0</td>\n",
       "      <td>275663.0</td>\n",
       "      <td>325951.0</td>\n",
       "      <td>442587.0</td>\n",
       "      <td>369032.0</td>\n",
       "      <td>644644</td>\n",
       "      <td>2019-2-8</td>\n",
       "      <td>0.601503</td>\n",
       "      <td>0.427621</td>\n",
       "      <td>0.505629</td>\n",
       "      <td>0.686560</td>\n",
       "      <td>0.572459</td>\n",
       "    </tr>\n",
       "    <tr>\n",
       "      <th>3</th>\n",
       "      <td>2019</td>\n",
       "      <td>3</td>\n",
       "      <td>8</td>\n",
       "      <td>144412.0</td>\n",
       "      <td>111078.0</td>\n",
       "      <td>121102.0</td>\n",
       "      <td>166573.0</td>\n",
       "      <td>137277.0</td>\n",
       "      <td>248381</td>\n",
       "      <td>2019-3-8</td>\n",
       "      <td>0.581413</td>\n",
       "      <td>0.447208</td>\n",
       "      <td>0.487565</td>\n",
       "      <td>0.670635</td>\n",
       "      <td>0.552687</td>\n",
       "    </tr>\n",
       "    <tr>\n",
       "      <th>4</th>\n",
       "      <td>2019</td>\n",
       "      <td>3</td>\n",
       "      <td>9</td>\n",
       "      <td>531167.0</td>\n",
       "      <td>404078.0</td>\n",
       "      <td>447363.0</td>\n",
       "      <td>612309.0</td>\n",
       "      <td>505729.0</td>\n",
       "      <td>909585</td>\n",
       "      <td>2019-3-9</td>\n",
       "      <td>0.583966</td>\n",
       "      <td>0.444244</td>\n",
       "      <td>0.491832</td>\n",
       "      <td>0.673174</td>\n",
       "      <td>0.556000</td>\n",
       "    </tr>\n",
       "    <tr>\n",
       "      <th>5</th>\n",
       "      <td>2019</td>\n",
       "      <td>3</td>\n",
       "      <td>10</td>\n",
       "      <td>512313.0</td>\n",
       "      <td>401433.0</td>\n",
       "      <td>433994.0</td>\n",
       "      <td>591855.0</td>\n",
       "      <td>486449.0</td>\n",
       "      <td>891101</td>\n",
       "      <td>2019-3-10</td>\n",
       "      <td>0.574921</td>\n",
       "      <td>0.450491</td>\n",
       "      <td>0.487031</td>\n",
       "      <td>0.664184</td>\n",
       "      <td>0.545897</td>\n",
       "    </tr>\n",
       "    <tr>\n",
       "      <th>6</th>\n",
       "      <td>2019</td>\n",
       "      <td>3</td>\n",
       "      <td>11</td>\n",
       "      <td>508871.0</td>\n",
       "      <td>401085.0</td>\n",
       "      <td>428618.0</td>\n",
       "      <td>585650.0</td>\n",
       "      <td>487777.0</td>\n",
       "      <td>886662</td>\n",
       "      <td>2019-3-11</td>\n",
       "      <td>0.573918</td>\n",
       "      <td>0.452354</td>\n",
       "      <td>0.483406</td>\n",
       "      <td>0.660511</td>\n",
       "      <td>0.550127</td>\n",
       "    </tr>\n",
       "    <tr>\n",
       "      <th>7</th>\n",
       "      <td>2019</td>\n",
       "      <td>3</td>\n",
       "      <td>12</td>\n",
       "      <td>559362.0</td>\n",
       "      <td>427344.0</td>\n",
       "      <td>467741.0</td>\n",
       "      <td>642489.0</td>\n",
       "      <td>538112.0</td>\n",
       "      <td>958461</td>\n",
       "      <td>2019-3-12</td>\n",
       "      <td>0.583604</td>\n",
       "      <td>0.445865</td>\n",
       "      <td>0.488013</td>\n",
       "      <td>0.670334</td>\n",
       "      <td>0.561433</td>\n",
       "    </tr>\n",
       "    <tr>\n",
       "      <th>8</th>\n",
       "      <td>2019</td>\n",
       "      <td>3</td>\n",
       "      <td>13</td>\n",
       "      <td>85409.0</td>\n",
       "      <td>64893.0</td>\n",
       "      <td>71961.0</td>\n",
       "      <td>98077.0</td>\n",
       "      <td>82397.0</td>\n",
       "      <td>145827</td>\n",
       "      <td>2019-3-13</td>\n",
       "      <td>0.585687</td>\n",
       "      <td>0.445000</td>\n",
       "      <td>0.493468</td>\n",
       "      <td>0.672557</td>\n",
       "      <td>0.565033</td>\n",
       "    </tr>\n",
       "    <tr>\n",
       "      <th>9</th>\n",
       "      <td>2019</td>\n",
       "      <td>4</td>\n",
       "      <td>13</td>\n",
       "      <td>471331.0</td>\n",
       "      <td>365991.0</td>\n",
       "      <td>391867.0</td>\n",
       "      <td>538624.0</td>\n",
       "      <td>453692.0</td>\n",
       "      <td>803488</td>\n",
       "      <td>2019-4-13</td>\n",
       "      <td>0.586606</td>\n",
       "      <td>0.455503</td>\n",
       "      <td>0.487707</td>\n",
       "      <td>0.670357</td>\n",
       "      <td>0.564653</td>\n",
       "    </tr>\n",
       "    <tr>\n",
       "      <th>10</th>\n",
       "      <td>2019</td>\n",
       "      <td>4</td>\n",
       "      <td>14</td>\n",
       "      <td>522162.0</td>\n",
       "      <td>408365.0</td>\n",
       "      <td>435610.0</td>\n",
       "      <td>598897.0</td>\n",
       "      <td>502851.0</td>\n",
       "      <td>890492</td>\n",
       "      <td>2019-4-14</td>\n",
       "      <td>0.586375</td>\n",
       "      <td>0.458584</td>\n",
       "      <td>0.489179</td>\n",
       "      <td>0.672546</td>\n",
       "      <td>0.564689</td>\n",
       "    </tr>\n",
       "    <tr>\n",
       "      <th>11</th>\n",
       "      <td>2019</td>\n",
       "      <td>4</td>\n",
       "      <td>15</td>\n",
       "      <td>489989.0</td>\n",
       "      <td>387070.0</td>\n",
       "      <td>410055.0</td>\n",
       "      <td>560880.0</td>\n",
       "      <td>473017.0</td>\n",
       "      <td>839266</td>\n",
       "      <td>2019-4-15</td>\n",
       "      <td>0.583830</td>\n",
       "      <td>0.461201</td>\n",
       "      <td>0.488588</td>\n",
       "      <td>0.668298</td>\n",
       "      <td>0.563608</td>\n",
       "    </tr>\n",
       "    <tr>\n",
       "      <th>12</th>\n",
       "      <td>2019</td>\n",
       "      <td>4</td>\n",
       "      <td>16</td>\n",
       "      <td>492835.0</td>\n",
       "      <td>391136.0</td>\n",
       "      <td>412182.0</td>\n",
       "      <td>562396.0</td>\n",
       "      <td>476633.0</td>\n",
       "      <td>848582</td>\n",
       "      <td>2019-4-16</td>\n",
       "      <td>0.580775</td>\n",
       "      <td>0.460929</td>\n",
       "      <td>0.485730</td>\n",
       "      <td>0.662748</td>\n",
       "      <td>0.561682</td>\n",
       "    </tr>\n",
       "    <tr>\n",
       "      <th>13</th>\n",
       "      <td>2019</td>\n",
       "      <td>4</td>\n",
       "      <td>17</td>\n",
       "      <td>222353.0</td>\n",
       "      <td>173773.0</td>\n",
       "      <td>186232.0</td>\n",
       "      <td>253077.0</td>\n",
       "      <td>215390.0</td>\n",
       "      <td>381912</td>\n",
       "      <td>2019-4-17</td>\n",
       "      <td>0.582210</td>\n",
       "      <td>0.455008</td>\n",
       "      <td>0.487631</td>\n",
       "      <td>0.662658</td>\n",
       "      <td>0.563978</td>\n",
       "    </tr>\n",
       "    <tr>\n",
       "      <th>14</th>\n",
       "      <td>2019</td>\n",
       "      <td>5</td>\n",
       "      <td>17</td>\n",
       "      <td>286912.0</td>\n",
       "      <td>227054.0</td>\n",
       "      <td>240256.0</td>\n",
       "      <td>327106.0</td>\n",
       "      <td>277976.0</td>\n",
       "      <td>497754</td>\n",
       "      <td>2019-5-17</td>\n",
       "      <td>0.576413</td>\n",
       "      <td>0.456157</td>\n",
       "      <td>0.482680</td>\n",
       "      <td>0.657164</td>\n",
       "      <td>0.558461</td>\n",
       "    </tr>\n",
       "    <tr>\n",
       "      <th>15</th>\n",
       "      <td>2019</td>\n",
       "      <td>5</td>\n",
       "      <td>18</td>\n",
       "      <td>207076.0</td>\n",
       "      <td>163875.0</td>\n",
       "      <td>174618.0</td>\n",
       "      <td>236739.0</td>\n",
       "      <td>201254.0</td>\n",
       "      <td>361076</td>\n",
       "      <td>2019-5-18</td>\n",
       "      <td>0.573497</td>\n",
       "      <td>0.453852</td>\n",
       "      <td>0.483605</td>\n",
       "      <td>0.655649</td>\n",
       "      <td>0.557373</td>\n",
       "    </tr>\n",
       "  </tbody>\n",
       "</table>\n",
       "</div>"
      ],
      "text/plain": [
       "    year month week  social_account  tiene_phone  valido_email  real_name  \\\n",
       "0   2019     2    6        695989.0     390755.0      590153.0   774694.0   \n",
       "1   2019     2    7        591106.0     401144.0      498624.0   671415.0   \n",
       "2   2019     2    8        387755.0     275663.0      325951.0   442587.0   \n",
       "3   2019     3    8        144412.0     111078.0      121102.0   166573.0   \n",
       "4   2019     3    9        531167.0     404078.0      447363.0   612309.0   \n",
       "5   2019     3   10        512313.0     401433.0      433994.0   591855.0   \n",
       "6   2019     3   11        508871.0     401085.0      428618.0   585650.0   \n",
       "7   2019     3   12        559362.0     427344.0      467741.0   642489.0   \n",
       "8   2019     3   13         85409.0      64893.0       71961.0    98077.0   \n",
       "9   2019     4   13        471331.0     365991.0      391867.0   538624.0   \n",
       "10  2019     4   14        522162.0     408365.0      435610.0   598897.0   \n",
       "11  2019     4   15        489989.0     387070.0      410055.0   560880.0   \n",
       "12  2019     4   16        492835.0     391136.0      412182.0   562396.0   \n",
       "13  2019     4   17        222353.0     173773.0      186232.0   253077.0   \n",
       "14  2019     5   17        286912.0     227054.0      240256.0   327106.0   \n",
       "15  2019     5   18        207076.0     163875.0      174618.0   236739.0   \n",
       "\n",
       "    has_photo  count(id) year_month_week  percentage_social_account  \\\n",
       "0    661497.0    1053099        2019-2-6                   0.660896   \n",
       "1    560882.0     963462        2019-2-7                   0.613523   \n",
       "2    369032.0     644644        2019-2-8                   0.601503   \n",
       "3    137277.0     248381        2019-3-8                   0.581413   \n",
       "4    505729.0     909585        2019-3-9                   0.583966   \n",
       "5    486449.0     891101       2019-3-10                   0.574921   \n",
       "6    487777.0     886662       2019-3-11                   0.573918   \n",
       "7    538112.0     958461       2019-3-12                   0.583604   \n",
       "8     82397.0     145827       2019-3-13                   0.585687   \n",
       "9    453692.0     803488       2019-4-13                   0.586606   \n",
       "10   502851.0     890492       2019-4-14                   0.586375   \n",
       "11   473017.0     839266       2019-4-15                   0.583830   \n",
       "12   476633.0     848582       2019-4-16                   0.580775   \n",
       "13   215390.0     381912       2019-4-17                   0.582210   \n",
       "14   277976.0     497754       2019-5-17                   0.576413   \n",
       "15   201254.0     361076       2019-5-18                   0.573497   \n",
       "\n",
       "    percentage_tiene_phone  percentage_valid_email  percentage_real_name  \\\n",
       "0                 0.371052                0.560397              0.735633   \n",
       "1                 0.416357                0.517534              0.696878   \n",
       "2                 0.427621                0.505629              0.686560   \n",
       "3                 0.447208                0.487565              0.670635   \n",
       "4                 0.444244                0.491832              0.673174   \n",
       "5                 0.450491                0.487031              0.664184   \n",
       "6                 0.452354                0.483406              0.660511   \n",
       "7                 0.445865                0.488013              0.670334   \n",
       "8                 0.445000                0.493468              0.672557   \n",
       "9                 0.455503                0.487707              0.670357   \n",
       "10                0.458584                0.489179              0.672546   \n",
       "11                0.461201                0.488588              0.668298   \n",
       "12                0.460929                0.485730              0.662748   \n",
       "13                0.455008                0.487631              0.662658   \n",
       "14                0.456157                0.482680              0.657164   \n",
       "15                0.453852                0.483605              0.655649   \n",
       "\n",
       "    percentage_has_photo  \n",
       "0               0.628143  \n",
       "1               0.582153  \n",
       "2               0.572459  \n",
       "3               0.552687  \n",
       "4               0.556000  \n",
       "5               0.545897  \n",
       "6               0.550127  \n",
       "7               0.561433  \n",
       "8               0.565033  \n",
       "9               0.564653  \n",
       "10              0.564689  \n",
       "11              0.563608  \n",
       "12              0.561682  \n",
       "13              0.563978  \n",
       "14              0.558461  \n",
       "15              0.557373  "
      ]
     },
     "execution_count": 54,
     "metadata": {},
     "output_type": "execute_result"
    }
   ],
   "source": [
    "df_2019_05_07.head(20)"
   ]
  },
  {
   "cell_type": "code",
   "execution_count": 74,
   "metadata": {},
   "outputs": [
    {
     "data": {
      "image/png": "[encoded data removed]",
      "text/plain": [
       "<Figure size 1080x576 with 6 Axes>"
      ]
     },
     "metadata": {},
     "output_type": "display_data"
    }
   ],
   "source": [
    "fig , ((ax1,ax2) , (ax3,ax4) , (ax5,ax6)) = plt.subplots(3,2,figsize=(15,8))\n",
    "\n",
    "ax1.bar(df_2019_05_07.year_month_week, height=df_2019_05_07.percentage_social_account, width=.4)\n",
    "ax1.set_title(\"Social Account\")\n",
    "ax1.set_ylim((0.4,0.8))\n",
    "\n",
    "ax2.bar(df_2019_05_07.year_month_week, height=df_2019_05_07.percentage_tiene_phone, width=.4)\n",
    "ax2.set_title(\"Has phone\")\n",
    "ax2.set_ylim((0.3,0.5))\n",
    "\n",
    "ax3.bar(df_2019_05_07.year_month_week, height=df_2019_05_07.percentage_valid_email, width=.4)\n",
    "ax3.set_title(\"Valid email\")\n",
    "ax3.set_ylim((0.4,0.6))\n",
    "\n",
    "ax4.bar(df_2019_05_07.year_month_week, height=df_2019_05_07.percentage_real_name, width=.4)\n",
    "ax4.set_title(\"Real Name\")\n",
    "ax4.set_ylim((0.6,0.8))\n",
    "\n",
    "ax5.bar(df_2019_05_07.year_month_week, height=df_2019_05_07.percentage_has_photo, width=.4)\n",
    "ax5.set_title(\"Has image\")\n",
    "ax5.set_ylim((0.5,0.7))\n",
    "\n",
    "ax6.bar(df_2019_05_07.year_month_week, height=df_2019_05_07.percentage_social_account, width=.4)\n",
    "ax6.set_title(\"NOTHING\")\n",
    "\n",
    "#fig.set_title('India')\n",
    "fig.suptitle('India')\n",
    "\n",
    "fig.autofmt_xdate(rotation = 90)"
   ]
  },
  {
   "cell_type": "markdown",
   "metadata": {},
   "source": [
    "## Pakistan Cohort"
   ]
  },
  {
   "cell_type": "markdown",
   "metadata": {},
   "source": [
    "-  First query : 05/07/2019"
   ]
  },
  {
   "cell_type": "code",
   "execution_count": 62,
   "metadata": {},
   "outputs": [],
   "source": [
    "query = \"\"\"\n",
    "\n",
    "SELECT\n",
    "        extract(year from created_at) as year ,\n",
    "        extract(month from created_at) as month,\n",
    "        extract(week from created_at) as week,\n",
    "        sum(case when ((google_id is null and facebook_id is null) or (google_id = '' and facebook_id = '')) then 0 else 1 end) social_account,\n",
    "        sum(case when default_phone is null or default_phone='' then 0 else 1 end) as tiene_phone,\n",
    "        sum(CASE\n",
    "             WHEN email LIKE '%olx.co%' THEN 0 -- Autogenerado\n",
    "             WHEN email LIKE '%@olx%' THEN 0 -- Autogenerado\n",
    "             WHEN email LIKE '%DELETED%' THEN 0 -- Autogenerados\n",
    "             WHEN email LIKE '%UNLINK%' THEN 0 -- Autogenerados\n",
    "             WHEN email REGEXP '[0-9]{7}' THEN 0 -- Error de carga\n",
    "             ELSE 1 END)  as valido_email,\n",
    "        sum(case when default_person!='OLX User' then 1 else 0 end) as real_name,\n",
    "        sum(case when b.external_key is not Null and b.external_key>0 then 1 else 0 end) has_photo,\n",
    "        count(id)\n",
    "        -- SUBSTRING_INDEX(email,'@',-1) as domain\n",
    "FROM olxpk.users a\n",
    "    left join (select distinct external_key from olxpk.images where active=1 and type='user') b on a.id=b.external_key\n",
    "   where type in ('confirmed')\n",
    "        and created_at > '2019-02-11'\n",
    "group by 1,2,3\n",
    "\n",
    "  \n",
    "\"\"\""
   ]
  },
  {
   "cell_type": "code",
   "execution_count": 63,
   "metadata": {},
   "outputs": [],
   "source": [
    "df2 = pd.read_sql_query(query.replace('%', '%%'), connect_sql_pk)"
   ]
  },
  {
   "cell_type": "code",
   "execution_count": 65,
   "metadata": {},
   "outputs": [],
   "source": [
    "df2_2019_05_07 = df2.copy()"
   ]
  },
  {
   "cell_type": "code",
   "execution_count": 66,
   "metadata": {},
   "outputs": [
    {
     "data": {
      "text/plain": [
       "year                object\n",
       "month               object\n",
       "week                object\n",
       "social_account     float64\n",
       "tiene_phone        float64\n",
       "valido_email       float64\n",
       "real_name          float64\n",
       "has_photo          float64\n",
       "count(id)            int64\n",
       "year_month_week     object\n",
       "dtype: object"
      ]
     },
     "execution_count": 66,
     "metadata": {},
     "output_type": "execute_result"
    }
   ],
   "source": [
    "df2_2019_05_07.year = df.year.astype(str)\n",
    "df2_2019_05_07.month = df.month.astype(str)\n",
    "df2_2019_05_07.week = df.week.astype(str)\n",
    "df2_2019_05_07['year_month_week'] = df2_2019_05_07['year'] + '-' +  df2_2019_05_07['month'] + '-' + df2_2019_05_07['week'] \n",
    "df2_2019_05_07.dtypes"
   ]
  },
  {
   "cell_type": "code",
   "execution_count": 67,
   "metadata": {},
   "outputs": [],
   "source": [
    "df2_2019_05_07['percentage_social_account'] = df2_2019_05_07['social_account'] / df2_2019_05_07['count(id)']\n",
    "df2_2019_05_07['percentage_tiene_phone'] = df2_2019_05_07['tiene_phone'] / df2_2019_05_07['count(id)']\n",
    "df2_2019_05_07['percentage_valid_email'] = df2_2019_05_07['valido_email'] / df2_2019_05_07['count(id)']\n",
    "df2_2019_05_07['percentage_real_name'] = df2_2019_05_07['real_name'] / df2_2019_05_07['count(id)']\n",
    "df2_2019_05_07['percentage_has_photo'] = df2_2019_05_07['has_photo'] / df2_2019_05_07['count(id)']"
   ]
  },
  {
   "cell_type": "code",
   "execution_count": 75,
   "metadata": {},
   "outputs": [
    {
     "data": {
      "image/png": "[encoded data removed]",
      "text/plain": [
       "<Figure size 1080x576 with 6 Axes>"
      ]
     },
     "metadata": {},
     "output_type": "display_data"
    }
   ],
   "source": [
    "fig , ((ax1,ax2) , (ax3,ax4) , (ax5,ax6)) = plt.subplots(3,2,figsize=(15,8))\n",
    "\n",
    "ax1.bar(df2_2019_05_07.year_month_week, height=df2_2019_05_07.percentage_social_account, width=.4)\n",
    "ax1.set_title(\"Social Account\")\n",
    "ax1.set_ylim((0.4,0.8))\n",
    "\n",
    "ax2.bar(df2_2019_05_07.year_month_week, height=df2_2019_05_07.percentage_tiene_phone, width=.4)\n",
    "ax2.set_title(\"Has phone\")\n",
    "ax2.set_ylim((0.3,0.5))\n",
    "\n",
    "ax3.bar(df2_2019_05_07.year_month_week, height=df2_2019_05_07.percentage_valid_email, width=.4)\n",
    "ax3.set_title(\"Valid email\")\n",
    "ax3.set_ylim((0.4,0.6))\n",
    "\n",
    "ax4.bar(df2_2019_05_07.year_month_week, height=df2_2019_05_07.percentage_real_name, width=.4)\n",
    "ax4.set_title(\"Real Name\")\n",
    "ax4.set_ylim((0.6,0.8))\n",
    "\n",
    "ax5.bar(df2_2019_05_07.year_month_week, height=df2_2019_05_07.percentage_has_photo, width=.4)\n",
    "ax5.set_title(\"Has image\")\n",
    "ax5.set_ylim((0.5,0.7))\n",
    "\n",
    "ax6.bar(df2_2019_05_07.year_month_week, height=df2_2019_05_07.percentage_social_account, width=.4)\n",
    "ax6.set_title(\"NOTHING\")\n",
    "\n",
    "fig.suptitle('Pakistan')\n",
    "\n",
    "fig.autofmt_xdate(rotation = 90)"
   ]
  },
  {
   "cell_type": "markdown",
   "metadata": {},
   "source": [
    "## Trying to plotly"
   ]
  },
  {
   "cell_type": "code",
   "execution_count": 84,
   "metadata": {},
   "outputs": [],
   "source": [
    "import plotly.dashboard_objs as dashboard\n",
    "\n",
    "import IPython.display\n",
    "from IPython.display import Image\n",
    "\n",
    "my_dboard4 = dashboard.Dashboard()"
   ]
  },
  {
   "cell_type": "code",
   "execution_count": 119,
   "metadata": {},
   "outputs": [
    {
     "name": "stderr",
     "output_type": "stream",
     "text": [
      "C:\\Users\\OLX - Lucas Dresi\\Anaconda3\\lib\\site-packages\\IPython\\core\\display.py:689: UserWarning:\n",
      "\n",
      "Consider using IPython.display.IFrame instead\n",
      "\n"
     ]
    },
    {
     "data": {
      "text/plain": [
       "'https://plot.ly/~MagicFredes/57'"
      ]
     },
     "execution_count": 119,
     "metadata": {},
     "output_type": "execute_result"
    }
   ],
   "source": [
    "trace1 = go.Bar(\n",
    "             x = df_2019_05_07['year_month_week'] , \n",
    "             y = df_2019_05_07['percentage_tiene_phone'],\n",
    "             name= 'Has phone'\n",
    ")\n",
    "\n",
    "trace2 = go.Bar(\n",
    "             x = df_2019_05_07['year_month_week'] , \n",
    "             y = df_2019_05_07['percentage_valid_email'],\n",
    "             name= 'Has email'\n",
    ")\n",
    "\n",
    "\n",
    "\n",
    "data = [trace1 , trace2]\n",
    "#data2 = [trace0]\n",
    "\n",
    "\n",
    "layout = dict(title = 'India',\n",
    "              yaxis = dict(title='Percentage' , zeroline = False),\n",
    "              xaxis = dict(title='Registration cohort' , zeroline = False , type='category'),\n",
    "              width=500,\n",
    "              height=500\n",
    "             )\n",
    "\n",
    "fig = dict(data=data, layout=layout)\n",
    "\n",
    "# IPython notebook\n",
    "py.iplot(fig, filename='profile_completion_india')\n",
    "\n",
    "url_1 = py.plot(fig, filename='profile_completion_india', auto_open=False ,sharing='public')\n",
    "url_1"
   ]
  },
  {
   "cell_type": "code",
   "execution_count": 118,
   "metadata": {},
   "outputs": [
    {
     "name": "stderr",
     "output_type": "stream",
     "text": [
      "C:\\Users\\OLX - Lucas Dresi\\Anaconda3\\lib\\site-packages\\IPython\\core\\display.py:689: UserWarning:\n",
      "\n",
      "Consider using IPython.display.IFrame instead\n",
      "\n"
     ]
    },
    {
     "data": {
      "text/plain": [
       "'https://plot.ly/~MagicFredes/61'"
      ]
     },
     "execution_count": 118,
     "metadata": {},
     "output_type": "execute_result"
    }
   ],
   "source": [
    "trace0 = go.Bar(\n",
    "             x = df_2019_05_07['year_month_week'] , \n",
    "             y = df_2019_05_07['percentage_social_account'],\n",
    "             name= 'Social account'\n",
    "            )\n",
    "\n",
    "trace3 = go.Bar(\n",
    "             x = df_2019_05_07['year_month_week'] , \n",
    "             y = df_2019_05_07['percentage_real_name'],\n",
    "             name= 'Has real name'\n",
    ")\n",
    "\n",
    "trace4 = go.Bar(\n",
    "             x = df_2019_05_07['year_month_week'] , \n",
    "             y = df_2019_05_07['percentage_has_photo'],\n",
    "             name= 'Has photo'\n",
    ")\n",
    "\n",
    "data = [trace0 , trace3,trace4]\n",
    "#data2 = [trace0]\n",
    "\n",
    "\n",
    "layout = dict(title = 'India',\n",
    "              yaxis = dict(title='Percentage' , zeroline = False),\n",
    "              xaxis = dict(title='Registration cohort' , zeroline = False , type='category'),\n",
    "              width=500,\n",
    "              height=500\n",
    "             )\n",
    "\n",
    "fig = dict(data=data, layout=layout)\n",
    "\n",
    "# IPython notebook\n",
    "py.iplot(fig, filename='profile_completion_india2')\n",
    "\n",
    "url_2 = py.plot(fig, filename='profile_completion_india2', auto_open=False ,sharing='public')\n",
    "url_2"
   ]
  },
  {
   "cell_type": "code",
   "execution_count": 117,
   "metadata": {},
   "outputs": [
    {
     "name": "stderr",
     "output_type": "stream",
     "text": [
      "C:\\Users\\OLX - Lucas Dresi\\Anaconda3\\lib\\site-packages\\IPython\\core\\display.py:689: UserWarning:\n",
      "\n",
      "Consider using IPython.display.IFrame instead\n",
      "\n"
     ]
    },
    {
     "data": {
      "text/plain": [
       "'https://plot.ly/~MagicFredes/59'"
      ]
     },
     "execution_count": 117,
     "metadata": {},
     "output_type": "execute_result"
    }
   ],
   "source": [
    "trace1 = go.Bar(\n",
    "             x = df2_2019_05_07['year_month_week'] , \n",
    "             y = df2_2019_05_07['percentage_tiene_phone'],\n",
    "             name= 'Has phone'\n",
    ")\n",
    "\n",
    "trace2 = go.Bar(\n",
    "             x = df2_2019_05_07['year_month_week'] , \n",
    "             y = df2_2019_05_07['percentage_valid_email'],\n",
    "             name= 'Has email'\n",
    ")\n",
    "\n",
    "data = [trace1 , trace2]\n",
    "\n",
    "layout = dict(title = 'Pakistan',\n",
    "              yaxis = dict(title='Percentage' , zeroline = False),\n",
    "              xaxis = dict(title='Registration cohort' , zeroline = False , type='category'),\n",
    "              width=500,\n",
    "              height=500\n",
    "             )\n",
    "\n",
    "fig = dict(data=data, layout=layout)\n",
    "\n",
    "# IPython notebook\n",
    "py.iplot(fig, filename='profile_completion_pakistan')\n",
    "\n",
    "url_3 = py.plot(fig, filename='profile_completion_pakistan', auto_open=False ,sharing='public')\n",
    "url_3"
   ]
  },
  {
   "cell_type": "code",
   "execution_count": 116,
   "metadata": {},
   "outputs": [
    {
     "name": "stderr",
     "output_type": "stream",
     "text": [
      "C:\\Users\\OLX - Lucas Dresi\\Anaconda3\\lib\\site-packages\\IPython\\core\\display.py:689: UserWarning:\n",
      "\n",
      "Consider using IPython.display.IFrame instead\n",
      "\n"
     ]
    },
    {
     "data": {
      "text/plain": [
       "'https://plot.ly/~MagicFredes/63'"
      ]
     },
     "execution_count": 116,
     "metadata": {},
     "output_type": "execute_result"
    }
   ],
   "source": [
    "trace0 = go.Bar(\n",
    "             x = df2_2019_05_07['year_month_week'] , \n",
    "             y = df2_2019_05_07['percentage_social_account'],\n",
    "             name= 'Social account'\n",
    "            )\n",
    "\n",
    "\n",
    "trace3 = go.Bar(\n",
    "             x = df2_2019_05_07['year_month_week'] , \n",
    "             y = df2_2019_05_07['percentage_real_name'],\n",
    "             name= 'Has real name'\n",
    ")\n",
    "\n",
    "trace4 = go.Bar(\n",
    "             x = df2_2019_05_07['year_month_week'] , \n",
    "             y = df2_2019_05_07['percentage_has_photo'],\n",
    "             name= 'Has photo'\n",
    ")\n",
    "\n",
    "data = [trace0 , trace3, trace4]\n",
    "\n",
    "layout = dict(title = 'Pakistan',\n",
    "              yaxis = dict(title='Percentage' , zeroline = False),\n",
    "              xaxis = dict(title='Registration cohort' , zeroline = False , type='category'),\n",
    "              width=500,\n",
    "              height=500)\n",
    "              \n",
    "            \n",
    "\n",
    "fig = dict(data=data, layout=layout)\n",
    "\n",
    "# IPython notebook\n",
    "py.iplot(fig, filename='profile_completion_pakistan2')\n",
    "\n",
    "url_4 = py.plot(fig, filename='profile_completion_pakistan2', auto_open=False ,sharing='public')\n",
    "url_4"
   ]
  },
  {
   "cell_type": "code",
   "execution_count": 99,
   "metadata": {},
   "outputs": [],
   "source": [
    "import re\n",
    "\n",
    "def fileId_from_url(url):\n",
    "    \"\"\"Return fileId from a url.\"\"\"\n",
    "    raw_fileId = re.findall(\"~[A-z]+/[0-9]+\", url)[0][1: ]\n",
    "    return raw_fileId.replace('/', ':')\n",
    "\n",
    "fileId_1 = fileId_from_url(url_1)\n",
    "fileId_2 = fileId_from_url(url_2)\n",
    "fileId_3 = fileId_from_url(url_3)\n",
    "fileId_4 = fileId_from_url(url_4)"
   ]
  },
  {
   "cell_type": "code",
   "execution_count": 101,
   "metadata": {},
   "outputs": [],
   "source": [
    "box_a = {\n",
    "    'type': 'box',\n",
    "    'boxType': 'plot',\n",
    "    'fileId': fileId_1,\n",
    "    'title': 'profile_completion_india'\n",
    "}\n",
    "\n",
    "box_b = {\n",
    "    'type': 'box',\n",
    "    'boxType': 'plot',\n",
    "    'fileId': fileId_2,\n",
    "    'title': 'profile_completion_india2'\n",
    "}\n",
    "\n",
    "box_c = {\n",
    "    'type': 'box',\n",
    "    'boxType': 'plot',\n",
    "    'fileId': fileId_3,\n",
    "    'title': 'profile_completion_pakistan'\n",
    "}\n",
    "\n",
    "\n",
    "box_d = {\n",
    "    'type': 'box',\n",
    "    'boxType': 'plot',\n",
    "    'fileId': fileId_4,\n",
    "    'title': 'profile_completion_pakistan2'\n",
    "}\n",
    "\n"
   ]
  },
  {
   "cell_type": "code",
   "execution_count": 102,
   "metadata": {},
   "outputs": [],
   "source": [
    "my_dboard4.insert(box_a, 'below', 1)"
   ]
  },
  {
   "cell_type": "code",
   "execution_count": 103,
   "metadata": {},
   "outputs": [],
   "source": [
    "my_dboard4.insert(box_b, 'right', 1)"
   ]
  },
  {
   "cell_type": "code",
   "execution_count": 106,
   "metadata": {},
   "outputs": [],
   "source": [
    "my_dboard4.insert(box_c, 'below', 1)"
   ]
  },
  {
   "cell_type": "code",
   "execution_count": 107,
   "metadata": {},
   "outputs": [],
   "source": [
    "my_dboard4.insert(box_d, 'below', 3)"
   ]
  },
  {
   "cell_type": "code",
   "execution_count": 120,
   "metadata": {},
   "outputs": [
    {
     "data": {
      "text/plain": [
       "'https://plot.ly/~MagicFredes/65/untitled-dashboard/'"
      ]
     },
     "execution_count": 120,
     "metadata": {},
     "output_type": "execute_result"
    }
   ],
   "source": [
    "import plotly.plotly as py\n",
    "py.dashboard_ops.upload(my_dboard4, 'Profile completion')"
   ]
  }
 ],
 "metadata": {
  "kernelspec": {
   "display_name": "Python 3",
   "language": "python",
   "name": "python3"
  },
  "language_info": {
   "codemirror_mode": {
    "name": "ipython",
    "version": 3
   },
   "file_extension": ".py",
   "mimetype": "text/x-python",
   "name": "python",
   "nbconvert_exporter": "python",
   "pygments_lexer": "ipython3",
   "version": "3.7.1"
  },
  "toc": {
   "base_numbering": 1,
   "nav_menu": {},
   "number_sections": true,
   "sideBar": true,
   "skip_h1_title": false,
   "title_cell": "Table of Contents",
   "title_sidebar": "Contents",
   "toc_cell": false,
   "toc_position": {},
   "toc_section_display": true,
   "toc_window_display": true
  },
  "varInspector": {
   "cols": {
    "lenName": 16,
    "lenType": 16,
    "lenVar": 40
   },
   "kernels_config": {
    "python": {
     "delete_cmd_postfix": "",
     "delete_cmd_prefix": "del ",
     "library": "var_list.py",
     "varRefreshCmd": "print(var_dic_list())"
    },
    "r": {
     "delete_cmd_postfix": ") ",
     "delete_cmd_prefix": "rm(",
     "library": "var_list.r",
     "varRefreshCmd": "cat(var_dic_list()) "
    }
   },
   "types_to_exclude": [
    "module",
    "function",
    "builtin_function_or_method",
    "instance",
    "_Feature"
   ],
   "window_display": false
  }
 },
 "nbformat": 4,
 "nbformat_minor": 2
}
