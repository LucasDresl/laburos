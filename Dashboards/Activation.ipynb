{
 "cells": [
  {
   "cell_type": "code",
   "execution_count": 28,
   "metadata": {},
   "outputs": [],
   "source": [
    "import pandas as pd\n",
    "import numpy as np\n",
    "from time import time\n",
    "import json\n",
    "from sqlalchemy import create_engine\n",
    "import re\n",
    "import datetime\n",
    "\n",
    "import matplotlib.pyplot as plt\n",
    "import seaborn; seaborn.set()\n",
    "import pickle"
   ]
  },
  {
   "cell_type": "code",
   "execution_count": 29,
   "metadata": {},
   "outputs": [],
   "source": [
    "# Set up the SQL connection\n",
    "dbname = 'redshift'\n",
    "url = 'panamera-ods.cnsuxis6zqxr.us-west-2.redshift.amazonaws.com:5439/panameraods'\n",
    "engine = create_engine(\"postgresql://\" + 'lucasdresl' + \":\" + 'cQsY801a76x82x62aWDT' + \"@\" + url)"
   ]
  },
  {
   "cell_type": "markdown",
   "metadata": {},
   "source": [
    "# Shares"
   ]
  },
  {
   "cell_type": "markdown",
   "metadata": {},
   "source": [
    "## Share:  new and returning users"
   ]
  },
  {
   "cell_type": "code",
   "execution_count": 3,
   "metadata": {},
   "outputs": [],
   "source": [
    "query = \"\"\"\n",
    "\n",
    "select\n",
    "  date_nk,\n",
    "  country_sk,\n",
    "  count(distinct case when user_active_new_returning_nk = 'new' then session_long else null end) as new_users,\n",
    "  count(distinct session_long) as total_users  \n",
    "  from ods.fact_user_hydra_browsing_activity \n",
    " where is_panamera = true \n",
    "   and date_nk > '2019-02-01'\n",
    "   and country_sk in ('olx|mea|pk' , 'olx|mea|za' , 'olx|asia|in')\n",
    "  group by 1,2\n",
    "\n",
    " \n",
    "\"\"\""
   ]
  },
  {
   "cell_type": "code",
   "execution_count": 4,
   "metadata": {
    "code_folding": []
   },
   "outputs": [
    {
     "data": {
      "text/plain": [
       "(474, 4)"
      ]
     },
     "execution_count": 4,
     "metadata": {},
     "output_type": "execute_result"
    }
   ],
   "source": [
    "df_new_and_retur = pd.read_sql_query(query ,engine)\n",
    "df_new_and_retur.shape"
   ]
  },
  {
   "cell_type": "code",
   "execution_count": 5,
   "metadata": {},
   "outputs": [
    {
     "data": {
      "text/html": [
       "<div>\n",
       "<style scoped>\n",
       "    .dataframe tbody tr th:only-of-type {\n",
       "        vertical-align: middle;\n",
       "    }\n",
       "\n",
       "    .dataframe tbody tr th {\n",
       "        vertical-align: top;\n",
       "    }\n",
       "\n",
       "    .dataframe thead th {\n",
       "        text-align: right;\n",
       "    }\n",
       "</style>\n",
       "<table border=\"1\" class=\"dataframe\">\n",
       "  <thead>\n",
       "    <tr style=\"text-align: right;\">\n",
       "      <th></th>\n",
       "      <th>date_nk</th>\n",
       "      <th>country_sk</th>\n",
       "      <th>new_users</th>\n",
       "      <th>total_users</th>\n",
       "    </tr>\n",
       "  </thead>\n",
       "  <tbody>\n",
       "    <tr>\n",
       "      <th>0</th>\n",
       "      <td>2019-02-26</td>\n",
       "      <td>olx|mea|za</td>\n",
       "      <td>42247</td>\n",
       "      <td>174534</td>\n",
       "    </tr>\n",
       "    <tr>\n",
       "      <th>1</th>\n",
       "      <td>2019-02-02</td>\n",
       "      <td>olx|asia|in</td>\n",
       "      <td>1</td>\n",
       "      <td>58</td>\n",
       "    </tr>\n",
       "    <tr>\n",
       "      <th>2</th>\n",
       "      <td>2019-04-01</td>\n",
       "      <td>olx|mea|za</td>\n",
       "      <td>49454</td>\n",
       "      <td>192141</td>\n",
       "    </tr>\n",
       "    <tr>\n",
       "      <th>3</th>\n",
       "      <td>2019-02-20</td>\n",
       "      <td>olx|mea|za</td>\n",
       "      <td>44682</td>\n",
       "      <td>185717</td>\n",
       "    </tr>\n",
       "    <tr>\n",
       "      <th>4</th>\n",
       "      <td>2019-06-07</td>\n",
       "      <td>olx|mea|za</td>\n",
       "      <td>55151</td>\n",
       "      <td>185826</td>\n",
       "    </tr>\n",
       "  </tbody>\n",
       "</table>\n",
       "</div>"
      ],
      "text/plain": [
       "      date_nk   country_sk  new_users  total_users\n",
       "0  2019-02-26   olx|mea|za      42247       174534\n",
       "1  2019-02-02  olx|asia|in          1           58\n",
       "2  2019-04-01   olx|mea|za      49454       192141\n",
       "3  2019-02-20   olx|mea|za      44682       185717\n",
       "4  2019-06-07   olx|mea|za      55151       185826"
      ]
     },
     "execution_count": 5,
     "metadata": {},
     "output_type": "execute_result"
    }
   ],
   "source": [
    "df_new_and_retur.head()"
   ]
  },
  {
   "cell_type": "code",
   "execution_count": 6,
   "metadata": {
    "scrolled": true
   },
   "outputs": [
    {
     "data": {
      "text/html": [
       "<div>\n",
       "<style scoped>\n",
       "    .dataframe tbody tr th:only-of-type {\n",
       "        vertical-align: middle;\n",
       "    }\n",
       "\n",
       "    .dataframe tbody tr th {\n",
       "        vertical-align: top;\n",
       "    }\n",
       "\n",
       "    .dataframe thead th {\n",
       "        text-align: right;\n",
       "    }\n",
       "</style>\n",
       "<table border=\"1\" class=\"dataframe\">\n",
       "  <thead>\n",
       "    <tr style=\"text-align: right;\">\n",
       "      <th></th>\n",
       "      <th>date_nk</th>\n",
       "      <th>country_sk</th>\n",
       "      <th>new_users</th>\n",
       "      <th>total_users</th>\n",
       "      <th>returning</th>\n",
       "      <th>percentage_new_user</th>\n",
       "    </tr>\n",
       "  </thead>\n",
       "  <tbody>\n",
       "    <tr>\n",
       "      <th>276</th>\n",
       "      <td>2019-07-08</td>\n",
       "      <td>olx|mea|pk</td>\n",
       "      <td>189974</td>\n",
       "      <td>676505</td>\n",
       "      <td>486531</td>\n",
       "      <td>0.280817</td>\n",
       "    </tr>\n",
       "    <tr>\n",
       "      <th>104</th>\n",
       "      <td>2019-07-08</td>\n",
       "      <td>olx|mea|za</td>\n",
       "      <td>66543</td>\n",
       "      <td>205648</td>\n",
       "      <td>139105</td>\n",
       "      <td>0.323577</td>\n",
       "    </tr>\n",
       "    <tr>\n",
       "      <th>433</th>\n",
       "      <td>2019-07-09</td>\n",
       "      <td>olx|asia|in</td>\n",
       "      <td>482732</td>\n",
       "      <td>3985998</td>\n",
       "      <td>3503266</td>\n",
       "      <td>0.121107</td>\n",
       "    </tr>\n",
       "    <tr>\n",
       "      <th>347</th>\n",
       "      <td>2019-07-09</td>\n",
       "      <td>olx|mea|za</td>\n",
       "      <td>51914</td>\n",
       "      <td>190555</td>\n",
       "      <td>138641</td>\n",
       "      <td>0.272436</td>\n",
       "    </tr>\n",
       "    <tr>\n",
       "      <th>111</th>\n",
       "      <td>2019-07-09</td>\n",
       "      <td>olx|mea|pk</td>\n",
       "      <td>135422</td>\n",
       "      <td>619745</td>\n",
       "      <td>484323</td>\n",
       "      <td>0.218512</td>\n",
       "    </tr>\n",
       "  </tbody>\n",
       "</table>\n",
       "</div>"
      ],
      "text/plain": [
       "        date_nk   country_sk  new_users  total_users  returning  \\\n",
       "276  2019-07-08   olx|mea|pk     189974       676505     486531   \n",
       "104  2019-07-08   olx|mea|za      66543       205648     139105   \n",
       "433  2019-07-09  olx|asia|in     482732      3985998    3503266   \n",
       "347  2019-07-09   olx|mea|za      51914       190555     138641   \n",
       "111  2019-07-09   olx|mea|pk     135422       619745     484323   \n",
       "\n",
       "     percentage_new_user  \n",
       "276             0.280817  \n",
       "104             0.323577  \n",
       "433             0.121107  \n",
       "347             0.272436  \n",
       "111             0.218512  "
      ]
     },
     "execution_count": 6,
     "metadata": {},
     "output_type": "execute_result"
    }
   ],
   "source": [
    "df_new_and_retur['returning'] = df_new_and_retur['total_users'] - df_new_and_retur['new_users']\n",
    "df_new_and_retur['percentage_new_user'] = df_new_and_retur['new_users'] / df_new_and_retur['total_users']\n",
    "df_new_and_retur = df_new_and_retur.sort_values(['date_nk'])\n",
    "df_new_and_retur.tail()"
   ]
  },
  {
   "cell_type": "code",
   "execution_count": 7,
   "metadata": {},
   "outputs": [
    {
     "data": {
      "text/html": [
       "<div>\n",
       "<style scoped>\n",
       "    .dataframe tbody tr th:only-of-type {\n",
       "        vertical-align: middle;\n",
       "    }\n",
       "\n",
       "    .dataframe tbody tr th {\n",
       "        vertical-align: top;\n",
       "    }\n",
       "\n",
       "    .dataframe thead th {\n",
       "        text-align: right;\n",
       "    }\n",
       "</style>\n",
       "<table border=\"1\" class=\"dataframe\">\n",
       "  <thead>\n",
       "    <tr style=\"text-align: right;\">\n",
       "      <th></th>\n",
       "      <th>date_nk</th>\n",
       "      <th>country_sk</th>\n",
       "      <th>new_users</th>\n",
       "      <th>total_users</th>\n",
       "      <th>returning</th>\n",
       "      <th>percentage_new_user</th>\n",
       "    </tr>\n",
       "  </thead>\n",
       "  <tbody>\n",
       "    <tr>\n",
       "      <th>68</th>\n",
       "      <td>2019-06-20</td>\n",
       "      <td>olx|asia|in</td>\n",
       "      <td>513757</td>\n",
       "      <td>3939326</td>\n",
       "      <td>3425569</td>\n",
       "      <td>0.130417</td>\n",
       "    </tr>\n",
       "    <tr>\n",
       "      <th>246</th>\n",
       "      <td>2019-06-21</td>\n",
       "      <td>olx|asia|in</td>\n",
       "      <td>522928</td>\n",
       "      <td>3908020</td>\n",
       "      <td>3385092</td>\n",
       "      <td>0.133809</td>\n",
       "    </tr>\n",
       "    <tr>\n",
       "      <th>310</th>\n",
       "      <td>2019-06-22</td>\n",
       "      <td>olx|asia|in</td>\n",
       "      <td>524277</td>\n",
       "      <td>3921072</td>\n",
       "      <td>3396795</td>\n",
       "      <td>0.133708</td>\n",
       "    </tr>\n",
       "    <tr>\n",
       "      <th>145</th>\n",
       "      <td>2019-06-23</td>\n",
       "      <td>olx|asia|in</td>\n",
       "      <td>550097</td>\n",
       "      <td>3975417</td>\n",
       "      <td>3425320</td>\n",
       "      <td>0.138375</td>\n",
       "    </tr>\n",
       "    <tr>\n",
       "      <th>204</th>\n",
       "      <td>2019-06-24</td>\n",
       "      <td>olx|asia|in</td>\n",
       "      <td>538016</td>\n",
       "      <td>4020926</td>\n",
       "      <td>3482910</td>\n",
       "      <td>0.133804</td>\n",
       "    </tr>\n",
       "    <tr>\n",
       "      <th>101</th>\n",
       "      <td>2019-06-25</td>\n",
       "      <td>olx|asia|in</td>\n",
       "      <td>505715</td>\n",
       "      <td>4009677</td>\n",
       "      <td>3503962</td>\n",
       "      <td>0.126124</td>\n",
       "    </tr>\n",
       "    <tr>\n",
       "      <th>117</th>\n",
       "      <td>2019-06-26</td>\n",
       "      <td>olx|asia|in</td>\n",
       "      <td>506761</td>\n",
       "      <td>4013754</td>\n",
       "      <td>3506993</td>\n",
       "      <td>0.126256</td>\n",
       "    </tr>\n",
       "    <tr>\n",
       "      <th>461</th>\n",
       "      <td>2019-06-27</td>\n",
       "      <td>olx|asia|in</td>\n",
       "      <td>491277</td>\n",
       "      <td>3921686</td>\n",
       "      <td>3430409</td>\n",
       "      <td>0.125272</td>\n",
       "    </tr>\n",
       "    <tr>\n",
       "      <th>361</th>\n",
       "      <td>2019-06-28</td>\n",
       "      <td>olx|asia|in</td>\n",
       "      <td>510393</td>\n",
       "      <td>3966256</td>\n",
       "      <td>3455863</td>\n",
       "      <td>0.128684</td>\n",
       "    </tr>\n",
       "    <tr>\n",
       "      <th>335</th>\n",
       "      <td>2019-06-29</td>\n",
       "      <td>olx|asia|in</td>\n",
       "      <td>479993</td>\n",
       "      <td>3932981</td>\n",
       "      <td>3452988</td>\n",
       "      <td>0.122043</td>\n",
       "    </tr>\n",
       "    <tr>\n",
       "      <th>472</th>\n",
       "      <td>2019-06-30</td>\n",
       "      <td>olx|asia|in</td>\n",
       "      <td>463137</td>\n",
       "      <td>3845864</td>\n",
       "      <td>3382727</td>\n",
       "      <td>0.120425</td>\n",
       "    </tr>\n",
       "    <tr>\n",
       "      <th>431</th>\n",
       "      <td>2019-07-01</td>\n",
       "      <td>olx|asia|in</td>\n",
       "      <td>481407</td>\n",
       "      <td>3971562</td>\n",
       "      <td>3490155</td>\n",
       "      <td>0.121214</td>\n",
       "    </tr>\n",
       "    <tr>\n",
       "      <th>127</th>\n",
       "      <td>2019-07-02</td>\n",
       "      <td>olx|asia|in</td>\n",
       "      <td>481545</td>\n",
       "      <td>3938734</td>\n",
       "      <td>3457189</td>\n",
       "      <td>0.122259</td>\n",
       "    </tr>\n",
       "    <tr>\n",
       "      <th>128</th>\n",
       "      <td>2019-07-03</td>\n",
       "      <td>olx|asia|in</td>\n",
       "      <td>522718</td>\n",
       "      <td>4026723</td>\n",
       "      <td>3504005</td>\n",
       "      <td>0.129812</td>\n",
       "    </tr>\n",
       "    <tr>\n",
       "      <th>153</th>\n",
       "      <td>2019-07-04</td>\n",
       "      <td>olx|asia|in</td>\n",
       "      <td>551755</td>\n",
       "      <td>4017086</td>\n",
       "      <td>3465331</td>\n",
       "      <td>0.137352</td>\n",
       "    </tr>\n",
       "    <tr>\n",
       "      <th>432</th>\n",
       "      <td>2019-07-05</td>\n",
       "      <td>olx|asia|in</td>\n",
       "      <td>565993</td>\n",
       "      <td>4085658</td>\n",
       "      <td>3519665</td>\n",
       "      <td>0.138532</td>\n",
       "    </tr>\n",
       "    <tr>\n",
       "      <th>392</th>\n",
       "      <td>2019-07-06</td>\n",
       "      <td>olx|asia|in</td>\n",
       "      <td>537099</td>\n",
       "      <td>3980210</td>\n",
       "      <td>3443111</td>\n",
       "      <td>0.134942</td>\n",
       "    </tr>\n",
       "    <tr>\n",
       "      <th>320</th>\n",
       "      <td>2019-07-07</td>\n",
       "      <td>olx|asia|in</td>\n",
       "      <td>568381</td>\n",
       "      <td>4121537</td>\n",
       "      <td>3553156</td>\n",
       "      <td>0.137905</td>\n",
       "    </tr>\n",
       "    <tr>\n",
       "      <th>473</th>\n",
       "      <td>2019-07-08</td>\n",
       "      <td>olx|asia|in</td>\n",
       "      <td>559867</td>\n",
       "      <td>4091764</td>\n",
       "      <td>3531897</td>\n",
       "      <td>0.136828</td>\n",
       "    </tr>\n",
       "    <tr>\n",
       "      <th>433</th>\n",
       "      <td>2019-07-09</td>\n",
       "      <td>olx|asia|in</td>\n",
       "      <td>482732</td>\n",
       "      <td>3985998</td>\n",
       "      <td>3503266</td>\n",
       "      <td>0.121107</td>\n",
       "    </tr>\n",
       "  </tbody>\n",
       "</table>\n",
       "</div>"
      ],
      "text/plain": [
       "        date_nk   country_sk  new_users  total_users  returning  \\\n",
       "68   2019-06-20  olx|asia|in     513757      3939326    3425569   \n",
       "246  2019-06-21  olx|asia|in     522928      3908020    3385092   \n",
       "310  2019-06-22  olx|asia|in     524277      3921072    3396795   \n",
       "145  2019-06-23  olx|asia|in     550097      3975417    3425320   \n",
       "204  2019-06-24  olx|asia|in     538016      4020926    3482910   \n",
       "101  2019-06-25  olx|asia|in     505715      4009677    3503962   \n",
       "117  2019-06-26  olx|asia|in     506761      4013754    3506993   \n",
       "461  2019-06-27  olx|asia|in     491277      3921686    3430409   \n",
       "361  2019-06-28  olx|asia|in     510393      3966256    3455863   \n",
       "335  2019-06-29  olx|asia|in     479993      3932981    3452988   \n",
       "472  2019-06-30  olx|asia|in     463137      3845864    3382727   \n",
       "431  2019-07-01  olx|asia|in     481407      3971562    3490155   \n",
       "127  2019-07-02  olx|asia|in     481545      3938734    3457189   \n",
       "128  2019-07-03  olx|asia|in     522718      4026723    3504005   \n",
       "153  2019-07-04  olx|asia|in     551755      4017086    3465331   \n",
       "432  2019-07-05  olx|asia|in     565993      4085658    3519665   \n",
       "392  2019-07-06  olx|asia|in     537099      3980210    3443111   \n",
       "320  2019-07-07  olx|asia|in     568381      4121537    3553156   \n",
       "473  2019-07-08  olx|asia|in     559867      4091764    3531897   \n",
       "433  2019-07-09  olx|asia|in     482732      3985998    3503266   \n",
       "\n",
       "     percentage_new_user  \n",
       "68              0.130417  \n",
       "246             0.133809  \n",
       "310             0.133708  \n",
       "145             0.138375  \n",
       "204             0.133804  \n",
       "101             0.126124  \n",
       "117             0.126256  \n",
       "461             0.125272  \n",
       "361             0.128684  \n",
       "335             0.122043  \n",
       "472             0.120425  \n",
       "431             0.121214  \n",
       "127             0.122259  \n",
       "128             0.129812  \n",
       "153             0.137352  \n",
       "432             0.138532  \n",
       "392             0.134942  \n",
       "320             0.137905  \n",
       "473             0.136828  \n",
       "433             0.121107  "
      ]
     },
     "execution_count": 7,
     "metadata": {},
     "output_type": "execute_result"
    }
   ],
   "source": [
    "df_new_and_retur[df_new_and_retur['country_sk'] == 'olx|asia|in'].tail(20)"
   ]
  },
  {
   "cell_type": "code",
   "execution_count": 8,
   "metadata": {},
   "outputs": [
    {
     "data": {
      "text/plain": [
       "<matplotlib.axes._subplots.AxesSubplot at 0x1a1dc86390>"
      ]
     },
     "execution_count": 8,
     "metadata": {},
     "output_type": "execute_result"
    },
    {
     "data": {
      "image/png": "[encoded data removed]",
      "text/plain": [
       "<Figure size 1080x360 with 1 Axes>"
      ]
     },
     "metadata": {
      "needs_background": "light"
     },
     "output_type": "display_data"
    }
   ],
   "source": [
    "pd.pivot_table(data=df_new_and_retur ,values='percentage_new_user' ,index='date_nk',columns='country_sk').plot(title='New user / DAU' , figsize=(15,5))"
   ]
  },
  {
   "cell_type": "markdown",
   "metadata": {},
   "source": [
    "FALTARIA ABRIRLO POR CHANNEL!"
   ]
  },
  {
   "cell_type": "markdown",
   "metadata": {},
   "source": [
    "# Time from first session to login"
   ]
  },
  {
   "cell_type": "code",
   "execution_count": 234,
   "metadata": {},
   "outputs": [],
   "source": [
    "query1 = \"\"\"\n",
    "\n",
    ";drop table if exists first_date_in_app_android;\n",
    "select\n",
    "  session_long,\n",
    "  min(date_event_nk) as first_date_in\n",
    "  into temp table first_date_in_app_android\n",
    "   from ods.panameraolx_asia_hydra_ninja_web_last_3_months\n",
    "  where\n",
    "     session_long_seq=1\n",
    "    and channel_sk = 'web|desktop_web'\n",
    "    and date_event_nk in ('2019-03-01' , '2019-03-02')\n",
    " group by 1\n",
    "\n",
    ";drop table if exists first_reply_in_app_android;\n",
    "select\n",
    "  session_long,\n",
    "  min(date_event_nk) as first_date_reply\n",
    "  into temp table first_reply_in_app_android\n",
    "   from ods.panameraolx_asia_hydra_ninja_web_last_3_months\n",
    "  where\n",
    "    trackevent in ('item_tap_call' , 'item_chat_tap_send_1st_reply' , 'item_tap_sms' , 'item_chat_tap_sms')\n",
    "    and channel_sk = 'web|desktop_web'\n",
    " group by 1;\n",
    "\n",
    "\n",
    "select\n",
    "  f1.session_long,\n",
    "  f1.first_date_in,\n",
    "  f2.first_date_reply,\n",
    "  case when f2.first_date_reply is null then 0 else 1 end as has_made_event,\n",
    "  case when f2.first_date_reply is null then DATEDIFF(days,f1.first_date_in , CURRENT_TIMESTAMP::timestamp) else datediff(days,first_date_in, first_date_reply)  end as days_to_reply\n",
    "  from first_date_in_app_android f1\n",
    "   left join  first_reply_in_app_android f2 on f1.session_long=f2.session_long\n",
    " where \n",
    "   datediff(days,first_date_in, first_date_reply) >= 0 or datediff(days,first_date_in, first_date_reply) is null\n",
    "   \n",
    "\n",
    "\"\"\"\n"
   ]
  },
  {
   "cell_type": "code",
   "execution_count": 235,
   "metadata": {},
   "outputs": [],
   "source": [
    "df_time_to_reply_android = pd.read_sql_query(query1.replace('%', '%%'), connection_string)"
   ]
  },
  {
   "cell_type": "code",
   "execution_count": 236,
   "metadata": {},
   "outputs": [
    {
     "data": {
      "text/html": [
       "<div>\n",
       "<style scoped>\n",
       "    .dataframe tbody tr th:only-of-type {\n",
       "        vertical-align: middle;\n",
       "    }\n",
       "\n",
       "    .dataframe tbody tr th {\n",
       "        vertical-align: top;\n",
       "    }\n",
       "\n",
       "    .dataframe thead th {\n",
       "        text-align: right;\n",
       "    }\n",
       "</style>\n",
       "<table border=\"1\" class=\"dataframe\">\n",
       "  <thead>\n",
       "    <tr style=\"text-align: right;\">\n",
       "      <th></th>\n",
       "      <th>session_long</th>\n",
       "      <th>first_date_in</th>\n",
       "      <th>first_date_reply</th>\n",
       "      <th>has_made_event</th>\n",
       "      <th>days_to_reply</th>\n",
       "    </tr>\n",
       "  </thead>\n",
       "  <tbody>\n",
       "    <tr>\n",
       "      <th>0</th>\n",
       "      <td>16936c5d2efx3d6f7066</td>\n",
       "      <td>2019-03-01</td>\n",
       "      <td>2019-03-01</td>\n",
       "      <td>1</td>\n",
       "      <td>0</td>\n",
       "    </tr>\n",
       "    <tr>\n",
       "      <th>1</th>\n",
       "      <td>1693735abc1x325df2ee</td>\n",
       "      <td>2019-03-01</td>\n",
       "      <td>2019-03-01</td>\n",
       "      <td>1</td>\n",
       "      <td>0</td>\n",
       "    </tr>\n",
       "    <tr>\n",
       "      <th>2</th>\n",
       "      <td>169377648b0xba2c44b</td>\n",
       "      <td>2019-03-01</td>\n",
       "      <td>2019-03-01</td>\n",
       "      <td>1</td>\n",
       "      <td>0</td>\n",
       "    </tr>\n",
       "    <tr>\n",
       "      <th>3</th>\n",
       "      <td>16937775e15x6b023605</td>\n",
       "      <td>2019-03-01</td>\n",
       "      <td>2019-03-01</td>\n",
       "      <td>1</td>\n",
       "      <td>0</td>\n",
       "    </tr>\n",
       "    <tr>\n",
       "      <th>4</th>\n",
       "      <td>169378fb27dxd8b5dfb</td>\n",
       "      <td>2019-03-01</td>\n",
       "      <td>2019-03-01</td>\n",
       "      <td>1</td>\n",
       "      <td>0</td>\n",
       "    </tr>\n",
       "  </tbody>\n",
       "</table>\n",
       "</div>"
      ],
      "text/plain": [
       "           session_long first_date_in first_date_reply  has_made_event  \\\n",
       "0  16936c5d2efx3d6f7066    2019-03-01       2019-03-01               1   \n",
       "1  1693735abc1x325df2ee    2019-03-01       2019-03-01               1   \n",
       "2   169377648b0xba2c44b    2019-03-01       2019-03-01               1   \n",
       "3  16937775e15x6b023605    2019-03-01       2019-03-01               1   \n",
       "4   169378fb27dxd8b5dfb    2019-03-01       2019-03-01               1   \n",
       "\n",
       "   days_to_reply  \n",
       "0              0  \n",
       "1              0  \n",
       "2              0  \n",
       "3              0  \n",
       "4              0  "
      ]
     },
     "execution_count": 236,
     "metadata": {},
     "output_type": "execute_result"
    }
   ],
   "source": [
    "df_time_to_reply_android.head()"
   ]
  },
  {
   "cell_type": "code",
   "execution_count": 237,
   "metadata": {},
   "outputs": [
    {
     "data": {
      "text/plain": [
       "0    203923\n",
       "1      8956\n",
       "Name: has_made_event, dtype: int64"
      ]
     },
     "execution_count": 237,
     "metadata": {},
     "output_type": "execute_result"
    }
   ],
   "source": [
    "df_time_to_reply_android['has_made_event'].value_counts()"
   ]
  },
  {
   "cell_type": "code",
   "execution_count": 238,
   "metadata": {},
   "outputs": [],
   "source": [
    "df_time_to_reply_android['days_to_reply_plusone'] = df_time_to_reply_android['days_to_reply'] + 1 "
   ]
  },
  {
   "cell_type": "code",
   "execution_count": 239,
   "metadata": {},
   "outputs": [],
   "source": [
    "df_time_to_reply_android[df_time_to_reply_android['has_made_event'] == 1].days_to_reply.value_counts().to_excel('C:\\\\Users\\\\OLX - Lucas Dresi\\\\Documents\\\\Activation\\\\time_of_response_desktop.xlsx')"
   ]
  },
  {
   "cell_type": "code",
   "execution_count": null,
   "metadata": {},
   "outputs": [],
   "source": []
  },
  {
   "cell_type": "code",
   "execution_count": 213,
   "metadata": {},
   "outputs": [
    {
     "name": "stdout",
     "output_type": "stream",
     "text": [
      "Populating the interactive namespace from numpy and matplotlib\n"
     ]
    },
    {
     "data": {
      "text/plain": [
       "[]"
      ]
     },
     "execution_count": 213,
     "metadata": {},
     "output_type": "execute_result"
    },
    {
     "data": {
      "image/png": "[encoded data removed]",
      "text/plain": [
       "<Figure size 1080x360 with 1 Axes>"
      ]
     },
     "metadata": {
      "needs_background": "light"
     },
     "output_type": "display_data"
    }
   ],
   "source": [
    "%pylab inline\n",
    "figsize(15,5)\n",
    "df_time_to_reply_android_sample = df_time_to_reply_android.sample(n=80)\n",
    "durations = df_time_to_reply_android_sample.days_to_reply.values\n",
    "events = df_time_to_reply_android_sample.has_made_event.values\n",
    "\n",
    "ax = lifelines.plotting.plot_lifetimes(durations=durations,\n",
    "                                       event_observed=events)\n",
    "ax.set_xlim(0, 40)\n",
    "ax.grid(axis='x')\n",
    "ax.set_xlabel(\"Time in days\")\n",
    "ax.set_title(\"Lifelines for new user to reply\");\n",
    "plt.plot()"
   ]
  },
  {
   "cell_type": "code",
   "execution_count": 217,
   "metadata": {},
   "outputs": [
    {
     "name": "stdout",
     "output_type": "stream",
     "text": [
      "Median time for reply: inf days after being a new user\n"
     ]
    },
    {
     "data": {
      "image/png": "[encoded data removed]",
      "text/plain": [
       "<Figure size 1080x360 with 1 Axes>"
      ]
     },
     "metadata": {
      "needs_background": "light"
     },
     "output_type": "display_data"
    }
   ],
   "source": [
    "kmf = lifelines.KaplanMeierFitter()\n",
    "\n",
    "kmf.fit(durations, events)\n",
    "\n",
    "kmf.survival_function_.plot()\n",
    "# or kmf.survival_function_.plot.line()\n",
    "plt.title('KM Survival Function: Leukemia Patients');\n",
    "print(f'Median time for reply: {kmf.median_} days after being a new user')"
   ]
  },
  {
   "cell_type": "code",
   "execution_count": 218,
   "metadata": {},
   "outputs": [
    {
     "data": {
      "text/plain": [
       "0.7375000000000005"
      ]
     },
     "execution_count": 218,
     "metadata": {},
     "output_type": "execute_result"
    }
   ],
   "source": [
    "kmf.predict(1)"
   ]
  },
  {
   "cell_type": "code",
   "execution_count": 215,
   "metadata": {},
   "outputs": [
    {
     "ename": "NameError",
     "evalue": "name 'df1' is not defined",
     "output_type": "error",
     "traceback": [
      "\u001b[1;31m---------------------------------------------------------------------------\u001b[0m",
      "\u001b[1;31mNameError\u001b[0m                                 Traceback (most recent call last)",
      "\u001b[1;32m<ipython-input-215-fe47e80ee832>\u001b[0m in \u001b[0;36m<module>\u001b[1;34m\u001b[0m\n\u001b[0;32m      1\u001b[0m \u001b[1;32mfrom\u001b[0m \u001b[0mlifelines\u001b[0m \u001b[1;32mimport\u001b[0m \u001b[0mKaplanMeierFitter\u001b[0m\u001b[1;33m\u001b[0m\u001b[1;33m\u001b[0m\u001b[0m\n\u001b[0;32m      2\u001b[0m \u001b[0mkmf\u001b[0m \u001b[1;33m=\u001b[0m \u001b[0mKaplanMeierFitter\u001b[0m\u001b[1;33m(\u001b[0m\u001b[1;33m)\u001b[0m\u001b[1;33m\u001b[0m\u001b[1;33m\u001b[0m\u001b[0m\n\u001b[1;32m----> 3\u001b[1;33m \u001b[0mT\u001b[0m \u001b[1;33m=\u001b[0m \u001b[0mdf1\u001b[0m\u001b[1;33m[\u001b[0m\u001b[1;34m'hours_to_answer'\u001b[0m\u001b[1;33m]\u001b[0m\u001b[1;33m\u001b[0m\u001b[1;33m\u001b[0m\u001b[0m\n\u001b[0m\u001b[0;32m      4\u001b[0m \u001b[0mC\u001b[0m \u001b[1;33m=\u001b[0m \u001b[0mdf1\u001b[0m\u001b[1;33m[\u001b[0m\u001b[1;34m'censored'\u001b[0m\u001b[1;33m]\u001b[0m\u001b[1;33m\u001b[0m\u001b[1;33m\u001b[0m\u001b[0m\n\u001b[0;32m      5\u001b[0m \u001b[0mkmf\u001b[0m\u001b[1;33m.\u001b[0m\u001b[0mfit\u001b[0m\u001b[1;33m(\u001b[0m\u001b[0mT\u001b[0m\u001b[1;33m,\u001b[0m\u001b[0mC\u001b[0m\u001b[1;33m)\u001b[0m\u001b[1;33m\u001b[0m\u001b[1;33m\u001b[0m\u001b[0m\n",
      "\u001b[1;31mNameError\u001b[0m: name 'df1' is not defined"
     ]
    }
   ],
   "source": [
    "from lifelines import KaplanMeierFitter\n",
    "kmf = KaplanMeierFitter()\n",
    "T = df1['hours_to_answer']\n",
    "C = df1['censored']\n",
    "kmf.fit(T,C)\n",
    "%pylab inline\n",
    "figsize(15,6)"
   ]
  },
  {
   "cell_type": "code",
   "execution_count": null,
   "metadata": {},
   "outputs": [],
   "source": [
    "kmf.plot()"
   ]
  },
  {
   "cell_type": "markdown",
   "metadata": {},
   "source": [
    "S(t) gives us the probability that the event has not occurred by the time t . In simple words, S(t) gives us the proportion of population with the time to event value more than t."
   ]
  },
  {
   "cell_type": "markdown",
   "metadata": {},
   "source": [
    "# Matrix cohort"
   ]
  },
  {
   "cell_type": "code",
   "execution_count": null,
   "metadata": {},
   "outputs": [],
   "source": []
  },
  {
   "cell_type": "code",
   "execution_count": null,
   "metadata": {},
   "outputs": [],
   "source": []
  },
  {
   "cell_type": "markdown",
   "metadata": {},
   "source": [
    "# DUB / DAU"
   ]
  },
  {
   "cell_type": "markdown",
   "metadata": {},
   "source": [
    "## Opcion 1 : DUB / DAU new users"
   ]
  },
  {
   "cell_type": "code",
   "execution_count": 19,
   "metadata": {},
   "outputs": [],
   "source": [
    "query1 = \"\"\"\n",
    "\n",
    "WITH verified AS (\n",
    "    SELECT session_long,date_event_nk\n",
    "from ods.panameraolx_asia_hydra_ninja_android_last_month\n",
    "WHERE session_long_seq = 1\n",
    "\n",
    " AND (trackevent  NOT IN ('app_open', 'on_create', 'apps', 'push_dis','pushDis'\n",
    ", 'push_rcv', 'pushRcv', 'UAReg', 'ua_reg', 'uareg','push_dismissed', 'push_show'\n",
    ", 'fetching_matrix', 'not_found','permissions_impression','userBadgeCount'\n",
    ",'test_assignment', 'google_play_services'\n",
    ",'test_impression','test_discovered','appOpen', 'fetchTestDefinitionsError' \n",
    ", 'insertActiveTestListError', 'updateActiveTestError', 'deleteAllActiveTestsError'\n",
    ", 'getActiveTestListError', 'getExistingActiveTestListError', 'insertDiscoveredTestListError'\n",
    ", 'getDiscoveredTestListError', 'getChangedDiscoveredTestListError', 'deleteDiscoveredTestsThatAreActiveError'\n",
    ", 'deleteExpiredDiscoveredTestsError', 'setNotExecutedError', 'contextIsNull'\n",
    ", 'contextIsNotInstanceOfApplication', 'configIsNull', 'fetchTestDefinitionsError'\n",
    ", 'test_assignment', 'test_impression', 'test_discovered') OR\n",
    "        trackevent NOT ILIKE 'b2c%')\n",
    "  group by 1,2\n",
    ")\n",
    "SELECT\n",
    "  date_event_nk,\n",
    "  COUNT(DISTINCT case when session_long_seq=1 then session_long else null end) as new_users_android,\n",
    "  COUNT(DISTINCT CASE WHEN trackevent = 'onboarding_show' THEN session_long ELSE NULL END) AS onboarding_show_android,\n",
    "  COUNT(DISTINCT CASE WHEN trackevent in ('item_tap_call' , 'item_chat_tap_send_1st_reply' , 'item_tap_sms' , 'item_chat_tap_sms') THEN session_long ELSE NULL END) AS repliers_android\n",
    "  FROM ods.panameraolx_asia_hydra_ninja_android_last_month\n",
    "JOIN verified USING (session_long,date_event_nk)\n",
    "group by 1\n",
    ";\n",
    "\n",
    " \n",
    "\"\"\"\n",
    "\n",
    "\n",
    "query2 = \"\"\"\n",
    "\n",
    "WITH verified AS (\n",
    "    SELECT session_long,date_event_nk\n",
    "from ods.panameraolx_asia_hydra_ninja_ios_last_month\n",
    "WHERE session_long_seq = 1\n",
    " AND (trackevent  NOT IN ('app_open', 'on_create', 'apps', 'push_dis','pushDis'\n",
    ", 'push_rcv', 'pushRcv', 'UAReg', 'ua_reg', 'uareg','push_dismissed', 'push_show'\n",
    ", 'fetching_matrix', 'not_found','permissions_impression','userBadgeCount'\n",
    ",'test_assignment', 'google_play_services'\n",
    ",'test_impression','test_discovered','appOpen', 'fetchTestDefinitionsError' \n",
    ", 'insertActiveTestListError', 'updateActiveTestError', 'deleteAllActiveTestsError'\n",
    ", 'getActiveTestListError', 'getExistingActiveTestListError', 'insertDiscoveredTestListError'\n",
    ", 'getDiscoveredTestListError', 'getChangedDiscoveredTestListError', 'deleteDiscoveredTestsThatAreActiveError'\n",
    ", 'deleteExpiredDiscoveredTestsError', 'setNotExecutedError', 'contextIsNull'\n",
    ", 'contextIsNotInstanceOfApplication', 'configIsNull', 'fetchTestDefinitionsError'\n",
    ", 'test_assignment', 'test_impression', 'test_discovered') OR\n",
    "        trackevent NOT ILIKE 'b2c%')\n",
    "  group by 1,2\n",
    ")\n",
    "SELECT\n",
    "  date_event_nk,\n",
    "  COUNT(DISTINCT CASE WHEN session_long_seq=1 THEN session_long ELSE NULL END) AS new_users_ios,\n",
    "  COUNT(DISTINCT CASE WHEN trackevent = 'onboarding_show' THEN session_long ELSE NULL END) AS onboarding_show_ios,\n",
    "  COUNT(DISTINCT CASE WHEN trackevent in ('item_tap_call' , 'item_chat_tap_send_1st_reply' , 'item_tap_sms' , 'item_chat_tap_sms') THEN session_long ELSE NULL END) AS repliers_ios\n",
    "  FROM ods.panameraolx_asia_hydra_ninja_ios_last_month\n",
    "JOIN verified USING (session_long,date_event_nk)\n",
    "group by 1\n",
    "\n",
    " \n",
    "\"\"\"\n",
    "\n",
    "\n",
    "query3 = \"\"\"\n",
    "\n",
    "WITH verified AS (\n",
    "    SELECT session_long,date_event_nk\n",
    "from ods.panameraolx_asia_hydra_ninja_web_last_month\n",
    "WHERE session_long_seq = 1\n",
    " AND (trackevent  NOT IN ('app_open', 'on_create', 'apps', 'push_dis','pushDis'\n",
    ", 'push_rcv', 'pushRcv', 'UAReg', 'ua_reg', 'uareg','push_dismissed', 'push_show'\n",
    ", 'fetching_matrix', 'not_found','permissions_impression','userBadgeCount'\n",
    ",'test_assignment', 'google_play_services'\n",
    ",'test_impression','test_discovered','appOpen', 'fetchTestDefinitionsError' \n",
    ", 'insertActiveTestListError', 'updateActiveTestError', 'deleteAllActiveTestsError'\n",
    ", 'getActiveTestListError', 'getExistingActiveTestListError', 'insertDiscoveredTestListError'\n",
    ", 'getDiscoveredTestListError', 'getChangedDiscoveredTestListError', 'deleteDiscoveredTestsThatAreActiveError'\n",
    ", 'deleteExpiredDiscoveredTestsError', 'setNotExecutedError', 'contextIsNull'\n",
    ", 'contextIsNotInstanceOfApplication', 'configIsNull', 'fetchTestDefinitionsError'\n",
    ", 'test_assignment', 'test_impression', 'test_discovered') OR\n",
    "        trackevent NOT ILIKE 'b2c%')\n",
    "  group by 1,2\n",
    ")\n",
    "SELECT\n",
    "  date_event_nk,\n",
    "  COUNT(DISTINCT CASE WHEN session_long_seq=1 THEN session_long ELSE NULL END) AS new_users_web,  \n",
    "  COUNT(DISTINCT CASE WHEN trackevent in ('item_tap_call' , 'item_chat_tap_send_1st_reply' , 'item_tap_sms' , 'item_chat_tap_sms') THEN session_long ELSE NULL END) AS repliers_web\n",
    "  FROM ods.panameraolx_asia_hydra_ninja_web_last_month\n",
    "JOIN verified USING (session_long,date_event_nk)\n",
    "group by 1\n",
    "\n",
    " \n",
    "\"\"\""
   ]
  },
  {
   "cell_type": "code",
   "execution_count": 20,
   "metadata": {},
   "outputs": [
    {
     "name": "stdout",
     "output_type": "stream",
     "text": [
      "Wall time: 3min 36s\n"
     ]
    }
   ],
   "source": [
    "%%time\n",
    "df_new_repliers_android = pd.read_sql_query(query1.replace('%', '%%'), connection_string)\n",
    "df_new_repliers_ios = pd.read_sql_query(query2.replace('%', '%%'), connection_string)\n",
    "df_new_repliers_web = pd.read_sql_query(query3.replace('%', '%%'), connection_string)"
   ]
  },
  {
   "cell_type": "code",
   "execution_count": 22,
   "metadata": {},
   "outputs": [],
   "source": [
    "df_new_repliers_android['DUB_/_DAU_android'] = df_new_repliers_android['repliers_android'] / df_new_repliers_android['new_users_android']\n",
    "df_new_repliers_ios['DUB_/_DAU_ios'] = df_new_repliers_ios['repliers_ios'] / df_new_repliers_ios['new_users_ios']\n",
    "df_new_repliers_web['DUB_/_DAU_web'] = df_new_repliers_web['repliers_web'] / df_new_repliers_web['new_users_web']"
   ]
  },
  {
   "cell_type": "code",
   "execution_count": 24,
   "metadata": {},
   "outputs": [],
   "source": [
    "df_new_repliers = pd.merge(df_new_repliers_android ,df_new_repliers_ios , how='inner' , on='date_event_nk')\n",
    "df_new_repliers = pd.merge(df_new_repliers ,df_new_repliers_web , how='inner' , on='date_event_nk')"
   ]
  },
  {
   "cell_type": "code",
   "execution_count": 30,
   "metadata": {},
   "outputs": [],
   "source": [
    "df_new_repliers['new_users'] = df_new_repliers['new_users_android'] + df_new_repliers['new_users_ios'] +  df_new_repliers['new_users_web'] \n",
    "df_new_repliers['new_users_repliers'] = df_new_repliers['repliers_android'] + df_new_repliers['repliers_ios'] +  df_new_repliers['repliers_web'] \n",
    "df_new_repliers['DUB/DAU_new'] = df_new_repliers['new_users_repliers'] / df_new_repliers['new_users'] "
   ]
  },
  {
   "cell_type": "code",
   "execution_count": 31,
   "metadata": {},
   "outputs": [
    {
     "data": {
      "text/html": [
       "<div>\n",
       "<style scoped>\n",
       "    .dataframe tbody tr th:only-of-type {\n",
       "        vertical-align: middle;\n",
       "    }\n",
       "\n",
       "    .dataframe tbody tr th {\n",
       "        vertical-align: top;\n",
       "    }\n",
       "\n",
       "    .dataframe thead th {\n",
       "        text-align: right;\n",
       "    }\n",
       "</style>\n",
       "<table border=\"1\" class=\"dataframe\">\n",
       "  <thead>\n",
       "    <tr style=\"text-align: right;\">\n",
       "      <th></th>\n",
       "      <th>date_event_nk</th>\n",
       "      <th>new_users_android</th>\n",
       "      <th>onboarding_show_android</th>\n",
       "      <th>repliers_android</th>\n",
       "      <th>DUB_/_DAU_android</th>\n",
       "      <th>new_users_ios</th>\n",
       "      <th>onboarding_show_ios</th>\n",
       "      <th>repliers_ios</th>\n",
       "      <th>DUB_/_DAU_ios</th>\n",
       "      <th>new_users_web</th>\n",
       "      <th>repliers_web</th>\n",
       "      <th>DUB_/_DAU_web</th>\n",
       "      <th>new_users</th>\n",
       "      <th>new_users_repliers</th>\n",
       "      <th>DUB_/_DAU</th>\n",
       "      <th>DUB/DAU_new</th>\n",
       "    </tr>\n",
       "  </thead>\n",
       "  <tbody>\n",
       "    <tr>\n",
       "      <th>0</th>\n",
       "      <td>2019-05-18</td>\n",
       "      <td>243871</td>\n",
       "      <td>190356</td>\n",
       "      <td>54228</td>\n",
       "      <td>0.222363</td>\n",
       "      <td>13205</td>\n",
       "      <td>8452</td>\n",
       "      <td>2474</td>\n",
       "      <td>0.187353</td>\n",
       "      <td>599701</td>\n",
       "      <td>13410</td>\n",
       "      <td>0.022361</td>\n",
       "      <td>856777</td>\n",
       "      <td>70112</td>\n",
       "      <td>0.081832</td>\n",
       "      <td>0.081832</td>\n",
       "    </tr>\n",
       "    <tr>\n",
       "      <th>1</th>\n",
       "      <td>2019-05-11</td>\n",
       "      <td>246660</td>\n",
       "      <td>192433</td>\n",
       "      <td>54983</td>\n",
       "      <td>0.222910</td>\n",
       "      <td>12989</td>\n",
       "      <td>8203</td>\n",
       "      <td>2499</td>\n",
       "      <td>0.192394</td>\n",
       "      <td>604429</td>\n",
       "      <td>14070</td>\n",
       "      <td>0.023278</td>\n",
       "      <td>864078</td>\n",
       "      <td>71552</td>\n",
       "      <td>0.082807</td>\n",
       "      <td>0.082807</td>\n",
       "    </tr>\n",
       "    <tr>\n",
       "      <th>2</th>\n",
       "      <td>2019-05-16</td>\n",
       "      <td>241306</td>\n",
       "      <td>189411</td>\n",
       "      <td>54520</td>\n",
       "      <td>0.225937</td>\n",
       "      <td>12861</td>\n",
       "      <td>8120</td>\n",
       "      <td>2432</td>\n",
       "      <td>0.189099</td>\n",
       "      <td>610007</td>\n",
       "      <td>13679</td>\n",
       "      <td>0.022424</td>\n",
       "      <td>864174</td>\n",
       "      <td>70631</td>\n",
       "      <td>0.081732</td>\n",
       "      <td>0.081732</td>\n",
       "    </tr>\n",
       "    <tr>\n",
       "      <th>3</th>\n",
       "      <td>2019-05-13</td>\n",
       "      <td>239317</td>\n",
       "      <td>185796</td>\n",
       "      <td>52784</td>\n",
       "      <td>0.220561</td>\n",
       "      <td>12649</td>\n",
       "      <td>7925</td>\n",
       "      <td>2338</td>\n",
       "      <td>0.184837</td>\n",
       "      <td>622031</td>\n",
       "      <td>13326</td>\n",
       "      <td>0.021423</td>\n",
       "      <td>873997</td>\n",
       "      <td>68448</td>\n",
       "      <td>0.078316</td>\n",
       "      <td>0.078316</td>\n",
       "    </tr>\n",
       "    <tr>\n",
       "      <th>4</th>\n",
       "      <td>2019-05-06</td>\n",
       "      <td>234015</td>\n",
       "      <td>182330</td>\n",
       "      <td>50726</td>\n",
       "      <td>0.216764</td>\n",
       "      <td>12861</td>\n",
       "      <td>7968</td>\n",
       "      <td>2339</td>\n",
       "      <td>0.181868</td>\n",
       "      <td>596434</td>\n",
       "      <td>13350</td>\n",
       "      <td>0.022383</td>\n",
       "      <td>843310</td>\n",
       "      <td>66415</td>\n",
       "      <td>0.078755</td>\n",
       "      <td>0.078755</td>\n",
       "    </tr>\n",
       "  </tbody>\n",
       "</table>\n",
       "</div>"
      ],
      "text/plain": [
       "  date_event_nk  new_users_android  onboarding_show_android  repliers_android  \\\n",
       "0    2019-05-18             243871                   190356             54228   \n",
       "1    2019-05-11             246660                   192433             54983   \n",
       "2    2019-05-16             241306                   189411             54520   \n",
       "3    2019-05-13             239317                   185796             52784   \n",
       "4    2019-05-06             234015                   182330             50726   \n",
       "\n",
       "   DUB_/_DAU_android  new_users_ios  onboarding_show_ios  repliers_ios  \\\n",
       "0           0.222363          13205                 8452          2474   \n",
       "1           0.222910          12989                 8203          2499   \n",
       "2           0.225937          12861                 8120          2432   \n",
       "3           0.220561          12649                 7925          2338   \n",
       "4           0.216764          12861                 7968          2339   \n",
       "\n",
       "   DUB_/_DAU_ios  new_users_web  repliers_web  DUB_/_DAU_web  new_users  \\\n",
       "0       0.187353         599701         13410       0.022361     856777   \n",
       "1       0.192394         604429         14070       0.023278     864078   \n",
       "2       0.189099         610007         13679       0.022424     864174   \n",
       "3       0.184837         622031         13326       0.021423     873997   \n",
       "4       0.181868         596434         13350       0.022383     843310   \n",
       "\n",
       "   new_users_repliers  DUB_/_DAU  DUB/DAU_new  \n",
       "0               70112   0.081832     0.081832  \n",
       "1               71552   0.082807     0.082807  \n",
       "2               70631   0.081732     0.081732  \n",
       "3               68448   0.078316     0.078316  \n",
       "4               66415   0.078755     0.078755  "
      ]
     },
     "execution_count": 31,
     "metadata": {},
     "output_type": "execute_result"
    }
   ],
   "source": [
    "df_new_repliers.head()"
   ]
  },
  {
   "cell_type": "code",
   "execution_count": 38,
   "metadata": {
    "scrolled": false
   },
   "outputs": [
    {
     "data": {
      "text/plain": [
       "<matplotlib.axes._subplots.AxesSubplot at 0x162bb0e6fd0>"
      ]
     },
     "execution_count": 38,
     "metadata": {},
     "output_type": "execute_result"
    },
    {
     "data": {
      "image/png": "[encoded data removed]",
      "text/plain": [
       "<Figure size 1080x360 with 1 Axes>"
      ]
     },
     "metadata": {
      "needs_background": "light"
     },
     "output_type": "display_data"
    }
   ],
   "source": [
    "df_new_to_reply = df_new_repliers[['date_event_nk', 'DUB_/_DAU_android' , 'DUB_/_DAU_ios' , 'DUB_/_DAU_web' , 'DUB/DAU_new']]\n",
    "df_new_to_reply = df_new_to_reply.set_index('date_event_nk')\n",
    "df_new_to_reply.plot(title='DUB - DAU for new users in India'  ,figsize=(15,5))"
   ]
  },
  {
   "cell_type": "code",
   "execution_count": 2,
   "metadata": {},
   "outputs": [
    {
     "name": "stdout",
     "output_type": "stream",
     "text": [
      "WARNING: The conda.compat module is deprecated and will be removed in a future release.\n",
      "Collecting package metadata: / ^C\n",
      "failed\n",
      "\n",
      "CondaError: KeyboardInterrupt\n",
      "\n"
     ]
    },
    {
     "ename": "NameError",
     "evalue": "name 'y' is not defined",
     "output_type": "error",
     "traceback": [
      "\u001b[0;31m---------------------------------------------------------------------------\u001b[0m",
      "\u001b[0;31mNameError\u001b[0m                                 Traceback (most recent call last)",
      "\u001b[0;32m<ipython-input-2-cca52ceb0ebf>\u001b[0m in \u001b[0;36m<module>\u001b[0;34m\u001b[0m\n\u001b[1;32m      1\u001b[0m \u001b[0mget_ipython\u001b[0m\u001b[0;34m(\u001b[0m\u001b[0;34m)\u001b[0m\u001b[0;34m.\u001b[0m\u001b[0msystem\u001b[0m\u001b[0;34m(\u001b[0m\u001b[0;34m'conda install -c conda-forge jupyter_contrib_nbextensions'\u001b[0m\u001b[0;34m)\u001b[0m\u001b[0;34m\u001b[0m\u001b[0;34m\u001b[0m\u001b[0m\n\u001b[0;32m----> 2\u001b[0;31m \u001b[0my\u001b[0m\u001b[0;34m\u001b[0m\u001b[0;34m\u001b[0m\u001b[0m\n\u001b[0m",
      "\u001b[0;31mNameError\u001b[0m: name 'y' is not defined"
     ]
    }
   ],
   "source": [
    "!conda install -c conda-forge jupyter_contrib_nbextensions\n",
    "y"
   ]
  },
  {
   "cell_type": "markdown",
   "metadata": {},
   "source": [
    "## Opcion 1 : DUB / DAU returning users"
   ]
  },
  {
   "cell_type": "code",
   "execution_count": 64,
   "metadata": {},
   "outputs": [],
   "source": [
    "query1 = \"\"\"\n",
    "\n",
    "WITH verified AS (\n",
    "    SELECT session_long,date_event_nk,min(session_long_seq)\n",
    " from ods.panameraolx_asia_hydra_ninja_android_last_month\n",
    " \n",
    " WHERE (trackevent  NOT IN ('app_open', 'on_create', 'apps', 'push_dis','pushDis'\n",
    ", 'push_rcv', 'pushRcv', 'UAReg', 'ua_reg', 'uareg','push_dismissed', 'push_show'\n",
    ", 'fetching_matrix', 'not_found','permissions_impression','userBadgeCount'\n",
    ",'test_assignment', 'google_play_services'\n",
    ",'test_impression','test_discovered','appOpen', 'fetchTestDefinitionsError' \n",
    ", 'insertActiveTestListError', 'updateActiveTestError', 'deleteAllActiveTestsError'\n",
    ", 'getActiveTestListError', 'getExistingActiveTestListError', 'insertDiscoveredTestListError'\n",
    ", 'getDiscoveredTestListError', 'getChangedDiscoveredTestListError', 'deleteDiscoveredTestsThatAreActiveError'\n",
    ", 'deleteExpiredDiscoveredTestsError', 'setNotExecutedError', 'contextIsNull'\n",
    ", 'contextIsNotInstanceOfApplication', 'configIsNull', 'fetchTestDefinitionsError'\n",
    ", 'test_assignment', 'test_impression', 'test_discovered') OR\n",
    "        trackevent NOT ILIKE 'b2c%')\n",
    "        \n",
    "  group by 1,2\n",
    "  having min(session_long_seq) > 1\n",
    ")\n",
    "SELECT\n",
    "  date_event_nk,\n",
    "  COUNT(DISTINCT session_long) as returning_users_android,\n",
    "  COUNT(DISTINCT CASE WHEN trackevent in ('item_tap_call' , 'item_chat_tap_send_1st_reply' , 'item_tap_sms' , 'item_chat_tap_sms') THEN session_long ELSE NULL END) AS repliers_android\n",
    "  FROM ds.poanameraolx_asia_hydra_ninja_android_last_month\n",
    "JOIN verified USING (session_long,date_event_nk)\n",
    "group by 1\n",
    ";\n",
    "\n",
    "\"\"\"\n",
    "\n",
    "\n",
    "query2 = \"\"\"\n",
    "\n",
    "WITH verified AS (\n",
    "    SELECT session_long,date_event_nk,min(session_long_seq)\n",
    " from ods.panameraolx_asia_hydra_ninja_ios_last_month\n",
    " \n",
    "  WHERE (trackevent  NOT IN ('app_open', 'on_create', 'apps', 'push_dis','pushDis'\n",
    ", 'push_rcv', 'pushRcv', 'UAReg', 'ua_reg', 'uareg','push_dismissed', 'push_show'\n",
    ", 'fetching_matrix', 'not_found','permissions_impression','userBadgeCount'\n",
    ",'test_assignment', 'google_play_services'\n",
    ",'test_impression','test_discovered','appOpen', 'fetchTestDefinitionsError'\n",
    ", 'insertActiveTestListError', 'updateActiveTestError', 'deleteAllActiveTestsError'\n",
    ", 'getActiveTestListError', 'getExistingActiveTestListError', 'insertDiscoveredTestListError'\n",
    ", 'getDiscoveredTestListError', 'getChangedDiscoveredTestListError', 'deleteDiscoveredTestsThatAreActiveError'\n",
    ", 'deleteExpiredDiscoveredTestsError', 'setNotExecutedError', 'contextIsNull'\n",
    ", 'contextIsNotInstanceOfApplication', 'configIsNull', 'fetchTestDefinitionsError'\n",
    ", 'test_assignment', 'test_impression', 'test_discovered') OR\n",
    "        trackevent NOT ILIKE 'b2c%')\n",
    " \n",
    "  group by 1,2\n",
    "  having min(session_long_seq) > 1\n",
    ")\n",
    "SELECT\n",
    "  date_event_nk,\n",
    "  COUNT(DISTINCT session_long) as returning_users_ios,\n",
    "  COUNT(DISTINCT CASE WHEN trackevent in ('item_tap_call' , 'item_chat_tap_send_1st_reply' , 'item_tap_sms' , 'item_chat_tap_sms') THEN session_long ELSE NULL END) AS repliers_ios\n",
    "  FROM ods.panameraolx_asia_hydra_ninja_ios_last_month\n",
    "JOIN verified USING (session_long,date_event_nk)\n",
    "group by 1\n",
    ";\n",
    "\n",
    " \n",
    "\"\"\"\n",
    "\n",
    "\n",
    "query3 = \"\"\"\n",
    "\n",
    "WITH verified AS (\n",
    "    SELECT session_long,date_event_nk,min(session_long_seq)\n",
    " from ods.panameraolx_asia_hydra_ninja_web_last_month\n",
    " \n",
    "  WHERE (trackevent  NOT IN ('app_open', 'on_create', 'apps', 'push_dis','pushDis'\n",
    ", 'push_rcv', 'pushRcv', 'UAReg', 'ua_reg', 'uareg','push_dismissed', 'push_show'\n",
    ", 'fetching_matrix', 'not_found','permissions_impression','userBadgeCount'\n",
    ",'test_assignment', 'google_play_services'\n",
    ",'test_impression','test_discovered','appOpen', 'fetchTestDefinitionsError' \n",
    ", 'insertActiveTestListError', 'updateActiveTestError', 'deleteAllActiveTestsError'\n",
    ", 'getActiveTestListError', 'getExistingActiveTestListError', 'insertDiscoveredTestListError'\n",
    ", 'getDiscoveredTestListError', 'getChangedDiscoveredTestListError', 'deleteDiscoveredTestsThatAreActiveError'\n",
    ", 'deleteExpiredDiscoveredTestsError', 'setNotExecutedError', 'contextIsNull'\n",
    ", 'contextIsNotInstanceOfApplication', 'configIsNull', 'fetchTestDefinitionsError'\n",
    ", 'test_assignment', 'test_impression', 'test_discovered') OR\n",
    "        trackevent NOT ILIKE 'b2c%')\n",
    "        \n",
    "  group by 1,2\n",
    "  having min(session_long_seq) > 1\n",
    ")\n",
    "SELECT\n",
    "  date_event_nk,\n",
    "  COUNT(DISTINCT session_long) as returning_users_web,\n",
    "  COUNT(DISTINCT CASE WHEN trackevent in ('item_tap_call' , 'item_chat_tap_send_1st_reply' , 'item_tap_sms' , 'item_chat_tap_sms') THEN session_long ELSE NULL END) AS repliers_web\n",
    "  FROM ods.panameraolx_asia_hydra_ninja_web_last_month\n",
    "JOIN verified USING (session_long,date_event_nk)\n",
    "group by 1\n",
    ";\n",
    "\n",
    "\"\"\""
   ]
  },
  {
   "cell_type": "code",
   "execution_count": 65,
   "metadata": {},
   "outputs": [
    {
     "name": "stdout",
     "output_type": "stream",
     "text": [
      "Wall time: 12min 2s\n"
     ]
    }
   ],
   "source": [
    "%%time\n",
    "df_retur_repliers_android = pd.read_sql_query(query1.replace('%', '%%'), connection_string)\n",
    "df_retur_repliers_ios = pd.read_sql_query(query2.replace('%', '%%'), connection_string)\n",
    "df_retur_repliers_web = pd.read_sql_query(query3.replace('%', '%%'), connection_string)"
   ]
  },
  {
   "cell_type": "code",
   "execution_count": 66,
   "metadata": {},
   "outputs": [
    {
     "data": {
      "text/html": [
       "<div>\n",
       "<style scoped>\n",
       "    .dataframe tbody tr th:only-of-type {\n",
       "        vertical-align: middle;\n",
       "    }\n",
       "\n",
       "    .dataframe tbody tr th {\n",
       "        vertical-align: top;\n",
       "    }\n",
       "\n",
       "    .dataframe thead th {\n",
       "        text-align: right;\n",
       "    }\n",
       "</style>\n",
       "<table border=\"1\" class=\"dataframe\">\n",
       "  <thead>\n",
       "    <tr style=\"text-align: right;\">\n",
       "      <th></th>\n",
       "      <th>date_event_nk</th>\n",
       "      <th>returning_users_android</th>\n",
       "      <th>repliers_android</th>\n",
       "    </tr>\n",
       "  </thead>\n",
       "  <tbody>\n",
       "    <tr>\n",
       "      <th>31</th>\n",
       "      <td>2019-06-10</td>\n",
       "      <td>5572196</td>\n",
       "      <td>621710</td>\n",
       "    </tr>\n",
       "    <tr>\n",
       "      <th>38</th>\n",
       "      <td>2019-06-11</td>\n",
       "      <td>5672373</td>\n",
       "      <td>604935</td>\n",
       "    </tr>\n",
       "    <tr>\n",
       "      <th>41</th>\n",
       "      <td>2019-06-12</td>\n",
       "      <td>5641322</td>\n",
       "      <td>603295</td>\n",
       "    </tr>\n",
       "    <tr>\n",
       "      <th>16</th>\n",
       "      <td>2019-06-13</td>\n",
       "      <td>5075395</td>\n",
       "      <td>586495</td>\n",
       "    </tr>\n",
       "    <tr>\n",
       "      <th>0</th>\n",
       "      <td>2019-06-14</td>\n",
       "      <td>358035</td>\n",
       "      <td>34094</td>\n",
       "    </tr>\n",
       "  </tbody>\n",
       "</table>\n",
       "</div>"
      ],
      "text/plain": [
       "   date_event_nk  returning_users_android  repliers_android\n",
       "31    2019-06-10                  5572196            621710\n",
       "38    2019-06-11                  5672373            604935\n",
       "41    2019-06-12                  5641322            603295\n",
       "16    2019-06-13                  5075395            586495\n",
       "0     2019-06-14                   358035             34094"
      ]
     },
     "execution_count": 66,
     "metadata": {},
     "output_type": "execute_result"
    }
   ],
   "source": [
    "df_retur_repliers_android.sort_values(['date_event_nk']).tail()"
   ]
  },
  {
   "cell_type": "code",
   "execution_count": 67,
   "metadata": {},
   "outputs": [],
   "source": [
    "df_retur_repliers_android['DUB_/_DAU_android'] = df_retur_repliers_android['repliers_android'] / df_retur_repliers_android['returning_users_android']\n",
    "df_retur_repliers_ios['DUB_/_DAU_ios'] = df_retur_repliers_ios['repliers_ios'] / df_retur_repliers_ios['returning_users_ios']\n",
    "df_retur_repliers_web['DUB_/_DAU_web'] = df_retur_repliers_web['repliers_web'] / df_retur_repliers_web['returning_users_web']"
   ]
  },
  {
   "cell_type": "code",
   "execution_count": 68,
   "metadata": {},
   "outputs": [],
   "source": [
    "df_retur_repliers = pd.merge(df_retur_repliers_android ,df_retur_repliers_ios , how='inner' , on='date_event_nk')\n",
    "df_retur_repliers = pd.merge(df_retur_repliers ,df_retur_repliers_web , how='inner' , on='date_event_nk')"
   ]
  },
  {
   "cell_type": "code",
   "execution_count": 69,
   "metadata": {},
   "outputs": [],
   "source": [
    "df_retur_repliers['returning_users'] = df_retur_repliers['returning_users_android'] + df_retur_repliers['returning_users_ios'] +  df_retur_repliers['returning_users_web'] \n",
    "df_retur_repliers['returning_users_repliers'] = df_retur_repliers['repliers_android'] + df_retur_repliers['repliers_ios'] +  df_retur_repliers['repliers_web'] \n",
    "df_retur_repliers['DUB/DAU_returning'] = df_retur_repliers['returning_users_repliers'] / df_retur_repliers['returning_users'] "
   ]
  },
  {
   "cell_type": "code",
   "execution_count": 70,
   "metadata": {},
   "outputs": [
    {
     "data": {
      "text/plain": [
       "<matplotlib.axes._subplots.AxesSubplot at 0x162bc57bac8>"
      ]
     },
     "execution_count": 70,
     "metadata": {},
     "output_type": "execute_result"
    },
    {
     "data": {
      "image/png": "[encoded data removed]",
      "text/plain": [
       "<Figure size 1080x360 with 1 Axes>"
      ]
     },
     "metadata": {
      "needs_background": "light"
     },
     "output_type": "display_data"
    }
   ],
   "source": [
    "df_retur_to_reply = df_retur_repliers[['date_event_nk', 'DUB_/_DAU_android' , 'DUB_/_DAU_ios' , 'DUB_/_DAU_web' , 'DUB/DAU_returning']]\n",
    "df_retur_to_reply = df_retur_to_reply.set_index('date_event_nk')\n",
    "df_retur_to_reply.plot(title='DUB - DAU for retruning users in India'  ,figsize=(15,5))"
   ]
  },
  {
   "cell_type": "markdown",
   "metadata": {},
   "source": [
    "## Opcion 2 : DUB / DAU new users"
   ]
  },
  {
   "cell_type": "code",
   "execution_count": 14,
   "metadata": {},
   "outputs": [],
   "source": [
    "query = \"\"\"\n",
    "\n",
    "drop table if exists dau_new;\n",
    "select\n",
    "  date_nk,\n",
    "  count(distinct session_long) as new_dau\n",
    "   into temp dau_new\n",
    "   from ods.fact_user_hydra_browsing_activity\n",
    "   --  left join (select session_long,user_sk,date_nk from ods.fact_user_hydra_browsing_activity where user_sk!='unknown' and is_panamera = true and country_sk in ('olx|mea|pk' , 'olx|mea|za' , 'olx|asia|in') and date_nk = '2019-06-11')\n",
    " where\n",
    "   is_panamera = true\n",
    "    and date_nk >= '2019-05-01'\n",
    "    and country_sk in ('olx|asia|in')\n",
    "    and user_active_new_returning_nk = 'new'\n",
    "group by 1\n",
    "order by 1\n",
    "\n",
    ";drop table if exists new_users_label;\n",
    "select\n",
    "  date_nk,\n",
    "  session_long,\n",
    "  user_sk\n",
    "   into temp new_users_label\n",
    "    from ods.fact_user_hydra_browsing_activity\n",
    "  where\n",
    "    is_panamera = true\n",
    "and country_sk = 'olx|asia|in'\n",
    "and user_active_new_returning_nk = 'new'\n",
    "and user_sk != 'unknown'\n",
    "and date_nk >= '2019-05-01'\n",
    " group by 1,2,3\n",
    "\n",
    ";drop table if exists repliess;\n",
    "select\n",
    "   date_sent_nk,\n",
    "   count(distinct panamera_user_sk) as new_repliers\n",
    "  into temp repliess\n",
    "  from ods.fact_replies f1\n",
    "    inner join new_users_label f2 on f1.panamera_user_sk=f2.user_sk and f1.date_sent_nk=f2.date_nk\n",
    "    where country_sk = 'olx|asia|in'\n",
    "  and reply_num = 1\n",
    "  and date_sent_nk >= '2019-05-01'\n",
    "group by 1;\n",
    "\n",
    "\n",
    "select\n",
    "  f1.date_nk,\n",
    "  f1.new_dau,\n",
    "  f2.new_repliers\n",
    "   from dau_new f1\n",
    "  inner join repliess f2 on f1.date_nk=f2.date_sent_nk\n",
    "order by 1\n",
    "    \n",
    " \n",
    "\"\"\""
   ]
  },
  {
   "cell_type": "code",
   "execution_count": 15,
   "metadata": {},
   "outputs": [],
   "source": [
    "df_news_to_reply = pd.read_sql_query(query ,engine)"
   ]
  },
  {
   "cell_type": "code",
   "execution_count": 16,
   "metadata": {},
   "outputs": [
    {
     "data": {
      "text/html": [
       "<div>\n",
       "<style scoped>\n",
       "    .dataframe tbody tr th:only-of-type {\n",
       "        vertical-align: middle;\n",
       "    }\n",
       "\n",
       "    .dataframe tbody tr th {\n",
       "        vertical-align: top;\n",
       "    }\n",
       "\n",
       "    .dataframe thead th {\n",
       "        text-align: right;\n",
       "    }\n",
       "</style>\n",
       "<table border=\"1\" class=\"dataframe\">\n",
       "  <thead>\n",
       "    <tr style=\"text-align: right;\">\n",
       "      <th></th>\n",
       "      <th>date_nk</th>\n",
       "      <th>new_dau</th>\n",
       "      <th>new_repliers</th>\n",
       "    </tr>\n",
       "  </thead>\n",
       "  <tbody>\n",
       "    <tr>\n",
       "      <th>0</th>\n",
       "      <td>2019-05-01</td>\n",
       "      <td>477561</td>\n",
       "      <td>73898</td>\n",
       "    </tr>\n",
       "    <tr>\n",
       "      <th>1</th>\n",
       "      <td>2019-05-02</td>\n",
       "      <td>460631</td>\n",
       "      <td>70323</td>\n",
       "    </tr>\n",
       "    <tr>\n",
       "      <th>2</th>\n",
       "      <td>2019-05-03</td>\n",
       "      <td>445650</td>\n",
       "      <td>66558</td>\n",
       "    </tr>\n",
       "    <tr>\n",
       "      <th>3</th>\n",
       "      <td>2019-05-04</td>\n",
       "      <td>455528</td>\n",
       "      <td>69442</td>\n",
       "    </tr>\n",
       "    <tr>\n",
       "      <th>4</th>\n",
       "      <td>2019-05-05</td>\n",
       "      <td>460759</td>\n",
       "      <td>70618</td>\n",
       "    </tr>\n",
       "    <tr>\n",
       "      <th>5</th>\n",
       "      <td>2019-05-06</td>\n",
       "      <td>448982</td>\n",
       "      <td>66956</td>\n",
       "    </tr>\n",
       "    <tr>\n",
       "      <th>6</th>\n",
       "      <td>2019-05-07</td>\n",
       "      <td>446197</td>\n",
       "      <td>66638</td>\n",
       "    </tr>\n",
       "    <tr>\n",
       "      <th>7</th>\n",
       "      <td>2019-05-08</td>\n",
       "      <td>446799</td>\n",
       "      <td>67906</td>\n",
       "    </tr>\n",
       "    <tr>\n",
       "      <th>8</th>\n",
       "      <td>2019-05-09</td>\n",
       "      <td>457695</td>\n",
       "      <td>69497</td>\n",
       "    </tr>\n",
       "    <tr>\n",
       "      <th>9</th>\n",
       "      <td>2019-05-10</td>\n",
       "      <td>446982</td>\n",
       "      <td>67392</td>\n",
       "    </tr>\n",
       "    <tr>\n",
       "      <th>10</th>\n",
       "      <td>2019-05-11</td>\n",
       "      <td>464307</td>\n",
       "      <td>71677</td>\n",
       "    </tr>\n",
       "    <tr>\n",
       "      <th>11</th>\n",
       "      <td>2019-05-12</td>\n",
       "      <td>433145</td>\n",
       "      <td>65475</td>\n",
       "    </tr>\n",
       "    <tr>\n",
       "      <th>12</th>\n",
       "      <td>2019-05-13</td>\n",
       "      <td>456909</td>\n",
       "      <td>69138</td>\n",
       "    </tr>\n",
       "    <tr>\n",
       "      <th>13</th>\n",
       "      <td>2019-05-14</td>\n",
       "      <td>467853</td>\n",
       "      <td>71226</td>\n",
       "    </tr>\n",
       "    <tr>\n",
       "      <th>14</th>\n",
       "      <td>2019-05-15</td>\n",
       "      <td>466278</td>\n",
       "      <td>70430</td>\n",
       "    </tr>\n",
       "    <tr>\n",
       "      <th>15</th>\n",
       "      <td>2019-05-16</td>\n",
       "      <td>463352</td>\n",
       "      <td>71102</td>\n",
       "    </tr>\n",
       "    <tr>\n",
       "      <th>16</th>\n",
       "      <td>2019-05-17</td>\n",
       "      <td>455426</td>\n",
       "      <td>68884</td>\n",
       "    </tr>\n",
       "    <tr>\n",
       "      <th>17</th>\n",
       "      <td>2019-05-18</td>\n",
       "      <td>464012</td>\n",
       "      <td>70339</td>\n",
       "    </tr>\n",
       "    <tr>\n",
       "      <th>18</th>\n",
       "      <td>2019-05-19</td>\n",
       "      <td>460410</td>\n",
       "      <td>72848</td>\n",
       "    </tr>\n",
       "    <tr>\n",
       "      <th>19</th>\n",
       "      <td>2019-05-20</td>\n",
       "      <td>465939</td>\n",
       "      <td>71241</td>\n",
       "    </tr>\n",
       "    <tr>\n",
       "      <th>20</th>\n",
       "      <td>2019-05-21</td>\n",
       "      <td>480172</td>\n",
       "      <td>72459</td>\n",
       "    </tr>\n",
       "    <tr>\n",
       "      <th>21</th>\n",
       "      <td>2019-05-22</td>\n",
       "      <td>482050</td>\n",
       "      <td>71855</td>\n",
       "    </tr>\n",
       "    <tr>\n",
       "      <th>22</th>\n",
       "      <td>2019-05-23</td>\n",
       "      <td>372638</td>\n",
       "      <td>57761</td>\n",
       "    </tr>\n",
       "    <tr>\n",
       "      <th>23</th>\n",
       "      <td>2019-05-24</td>\n",
       "      <td>430588</td>\n",
       "      <td>66141</td>\n",
       "    </tr>\n",
       "    <tr>\n",
       "      <th>24</th>\n",
       "      <td>2019-05-25</td>\n",
       "      <td>456214</td>\n",
       "      <td>69661</td>\n",
       "    </tr>\n",
       "    <tr>\n",
       "      <th>25</th>\n",
       "      <td>2019-05-26</td>\n",
       "      <td>465019</td>\n",
       "      <td>72751</td>\n",
       "    </tr>\n",
       "    <tr>\n",
       "      <th>26</th>\n",
       "      <td>2019-05-27</td>\n",
       "      <td>472269</td>\n",
       "      <td>70715</td>\n",
       "    </tr>\n",
       "    <tr>\n",
       "      <th>27</th>\n",
       "      <td>2019-05-28</td>\n",
       "      <td>467755</td>\n",
       "      <td>71339</td>\n",
       "    </tr>\n",
       "    <tr>\n",
       "      <th>28</th>\n",
       "      <td>2019-05-29</td>\n",
       "      <td>465344</td>\n",
       "      <td>70539</td>\n",
       "    </tr>\n",
       "    <tr>\n",
       "      <th>29</th>\n",
       "      <td>2019-05-30</td>\n",
       "      <td>452800</td>\n",
       "      <td>69067</td>\n",
       "    </tr>\n",
       "    <tr>\n",
       "      <th>30</th>\n",
       "      <td>2019-05-31</td>\n",
       "      <td>454099</td>\n",
       "      <td>68466</td>\n",
       "    </tr>\n",
       "    <tr>\n",
       "      <th>31</th>\n",
       "      <td>2019-06-01</td>\n",
       "      <td>471093</td>\n",
       "      <td>69995</td>\n",
       "    </tr>\n",
       "    <tr>\n",
       "      <th>32</th>\n",
       "      <td>2019-06-02</td>\n",
       "      <td>515279</td>\n",
       "      <td>75827</td>\n",
       "    </tr>\n",
       "    <tr>\n",
       "      <th>33</th>\n",
       "      <td>2019-06-03</td>\n",
       "      <td>523984</td>\n",
       "      <td>75264</td>\n",
       "    </tr>\n",
       "    <tr>\n",
       "      <th>34</th>\n",
       "      <td>2019-06-04</td>\n",
       "      <td>490390</td>\n",
       "      <td>72033</td>\n",
       "    </tr>\n",
       "    <tr>\n",
       "      <th>35</th>\n",
       "      <td>2019-06-05</td>\n",
       "      <td>468599</td>\n",
       "      <td>66143</td>\n",
       "    </tr>\n",
       "    <tr>\n",
       "      <th>36</th>\n",
       "      <td>2019-06-06</td>\n",
       "      <td>481600</td>\n",
       "      <td>68346</td>\n",
       "    </tr>\n",
       "    <tr>\n",
       "      <th>37</th>\n",
       "      <td>2019-06-07</td>\n",
       "      <td>497727</td>\n",
       "      <td>67133</td>\n",
       "    </tr>\n",
       "    <tr>\n",
       "      <th>38</th>\n",
       "      <td>2019-06-08</td>\n",
       "      <td>477893</td>\n",
       "      <td>71813</td>\n",
       "    </tr>\n",
       "    <tr>\n",
       "      <th>39</th>\n",
       "      <td>2019-06-09</td>\n",
       "      <td>456532</td>\n",
       "      <td>70113</td>\n",
       "    </tr>\n",
       "  </tbody>\n",
       "</table>\n",
       "</div>"
      ],
      "text/plain": [
       "       date_nk  new_dau  new_repliers\n",
       "0   2019-05-01   477561         73898\n",
       "1   2019-05-02   460631         70323\n",
       "2   2019-05-03   445650         66558\n",
       "3   2019-05-04   455528         69442\n",
       "4   2019-05-05   460759         70618\n",
       "5   2019-05-06   448982         66956\n",
       "6   2019-05-07   446197         66638\n",
       "7   2019-05-08   446799         67906\n",
       "8   2019-05-09   457695         69497\n",
       "9   2019-05-10   446982         67392\n",
       "10  2019-05-11   464307         71677\n",
       "11  2019-05-12   433145         65475\n",
       "12  2019-05-13   456909         69138\n",
       "13  2019-05-14   467853         71226\n",
       "14  2019-05-15   466278         70430\n",
       "15  2019-05-16   463352         71102\n",
       "16  2019-05-17   455426         68884\n",
       "17  2019-05-18   464012         70339\n",
       "18  2019-05-19   460410         72848\n",
       "19  2019-05-20   465939         71241\n",
       "20  2019-05-21   480172         72459\n",
       "21  2019-05-22   482050         71855\n",
       "22  2019-05-23   372638         57761\n",
       "23  2019-05-24   430588         66141\n",
       "24  2019-05-25   456214         69661\n",
       "25  2019-05-26   465019         72751\n",
       "26  2019-05-27   472269         70715\n",
       "27  2019-05-28   467755         71339\n",
       "28  2019-05-29   465344         70539\n",
       "29  2019-05-30   452800         69067\n",
       "30  2019-05-31   454099         68466\n",
       "31  2019-06-01   471093         69995\n",
       "32  2019-06-02   515279         75827\n",
       "33  2019-06-03   523984         75264\n",
       "34  2019-06-04   490390         72033\n",
       "35  2019-06-05   468599         66143\n",
       "36  2019-06-06   481600         68346\n",
       "37  2019-06-07   497727         67133\n",
       "38  2019-06-08   477893         71813\n",
       "39  2019-06-09   456532         70113"
      ]
     },
     "execution_count": 16,
     "metadata": {},
     "output_type": "execute_result"
    }
   ],
   "source": [
    "df_news_to_reply.head(40)"
   ]
  },
  {
   "cell_type": "code",
   "execution_count": 17,
   "metadata": {},
   "outputs": [
    {
     "data": {
      "text/plain": [
       "<matplotlib.axes._subplots.AxesSubplot at 0x1a1e456ac8>"
      ]
     },
     "execution_count": 17,
     "metadata": {},
     "output_type": "execute_result"
    },
    {
     "data": {
      "image/png": "[encoded data removed]",
      "text/plain": [
       "<Figure size 1080x360 with 1 Axes>"
      ]
     },
     "metadata": {
      "needs_background": "light"
     },
     "output_type": "display_data"
    }
   ],
   "source": [
    "df_news_to_reply['DUB/DAU'] = df_news_to_reply['new_repliers'] / df_news_to_reply['new_dau']\n",
    "df_news_to_reply = df_news_to_reply.set_index('date_nk')\n",
    "df_news_to_reply = df_news_to_reply[['DUB/DAU']]\n",
    "df_news_to_reply.plot(figsize=(15,5) , title='DUB / DAU for new users')"
   ]
  },
  {
   "cell_type": "code",
   "execution_count": 18,
   "metadata": {},
   "outputs": [
    {
     "data": {
      "text/plain": [
       "0.1462992681493174"
      ]
     },
     "execution_count": 18,
     "metadata": {},
     "output_type": "execute_result"
    }
   ],
   "source": [
    "df_news_to_reply['DUB/DAU'].mean()"
   ]
  },
  {
   "cell_type": "markdown",
   "metadata": {},
   "source": [
    "## Opcion 2 : DUB / DAU returning users"
   ]
  },
  {
   "cell_type": "code",
   "execution_count": 22,
   "metadata": {},
   "outputs": [],
   "source": [
    "query = \"\"\"\n",
    "\n",
    "drop table if exists dau_new_and_retur;\n",
    "select\n",
    "  date_nk,\n",
    "  count(distinct case when user_active_new_returning_nk = 'new' then session_long else null end) as new_users,\n",
    "  count(distinct session_long) as total_users  \n",
    "  into temp table dau_new_and_retur\n",
    "  from ods.fact_user_hydra_browsing_activity \n",
    " where is_panamera = true \n",
    "   and date_nk >= '2019-05-01'\n",
    "   and country_sk = 'olx|asia|in'\n",
    "  group by 1\n",
    "\n",
    "\n",
    ";drop table if exists new_users_label;\n",
    "select\n",
    "  date_nk,\n",
    "  session_long,\n",
    "  user_sk\n",
    "   into temp new_users_label\n",
    "    from ods.fact_user_hydra_browsing_activity\n",
    "  where\n",
    "    is_panamera = true\n",
    "and country_sk = 'olx|asia|in'\n",
    "and user_sk != 'unknown'\n",
    "and date_nk >= '2019-05-01'\n",
    "and user_active_new_returning_nk = 'new'\n",
    " group by 1,2,3\n",
    "\n",
    "\n",
    ";drop table if exists repliess;\n",
    "select\n",
    "   date_sent_nk,\n",
    "   count(distinct panamera_user_sk) as returning_repliers\n",
    "  into temp repliess\n",
    "  from ods.fact_replies f1\n",
    "    left join new_users_label f2 on f1.panamera_user_sk=f2.user_sk and f1.date_sent_nk=f2.date_nk\n",
    "    where country_sk = 'olx|asia|in'\n",
    " and reply_num = 1\n",
    " and date_sent_nk >= '2019-05-01'\n",
    " and f2.user_sk is null\n",
    "group by 1;\n",
    "\n",
    "select\n",
    " date_nk,\n",
    " f1.total_users - f1.new_users as returning_user,\n",
    " f2.returning_repliers\n",
    "  from dau_new_and_retur f1\n",
    "   inner join repliess f2 on f1.date_nk=f2.date_sent_nk\n",
    "order by 1\n",
    "\n",
    "\"\"\""
   ]
  },
  {
   "cell_type": "code",
   "execution_count": 23,
   "metadata": {},
   "outputs": [],
   "source": [
    "df_returning_to_reply = pd.read_sql_query(query ,engine)"
   ]
  },
  {
   "cell_type": "code",
   "execution_count": 24,
   "metadata": {},
   "outputs": [
    {
     "data": {
      "text/html": [
       "<div>\n",
       "<style scoped>\n",
       "    .dataframe tbody tr th:only-of-type {\n",
       "        vertical-align: middle;\n",
       "    }\n",
       "\n",
       "    .dataframe tbody tr th {\n",
       "        vertical-align: top;\n",
       "    }\n",
       "\n",
       "    .dataframe thead th {\n",
       "        text-align: right;\n",
       "    }\n",
       "</style>\n",
       "<table border=\"1\" class=\"dataframe\">\n",
       "  <thead>\n",
       "    <tr style=\"text-align: right;\">\n",
       "      <th></th>\n",
       "      <th>date_nk</th>\n",
       "      <th>returning_user</th>\n",
       "      <th>returning_repliers</th>\n",
       "    </tr>\n",
       "  </thead>\n",
       "  <tbody>\n",
       "    <tr>\n",
       "      <th>0</th>\n",
       "      <td>2019-05-01</td>\n",
       "      <td>3292534</td>\n",
       "      <td>662354</td>\n",
       "    </tr>\n",
       "    <tr>\n",
       "      <th>1</th>\n",
       "      <td>2019-05-02</td>\n",
       "      <td>3272462</td>\n",
       "      <td>646647</td>\n",
       "    </tr>\n",
       "    <tr>\n",
       "      <th>2</th>\n",
       "      <td>2019-05-03</td>\n",
       "      <td>3230965</td>\n",
       "      <td>616324</td>\n",
       "    </tr>\n",
       "    <tr>\n",
       "      <th>3</th>\n",
       "      <td>2019-05-04</td>\n",
       "      <td>3224294</td>\n",
       "      <td>640090</td>\n",
       "    </tr>\n",
       "    <tr>\n",
       "      <th>4</th>\n",
       "      <td>2019-05-05</td>\n",
       "      <td>3215541</td>\n",
       "      <td>648195</td>\n",
       "    </tr>\n",
       "    <tr>\n",
       "      <th>5</th>\n",
       "      <td>2019-05-06</td>\n",
       "      <td>3236100</td>\n",
       "      <td>623548</td>\n",
       "    </tr>\n",
       "    <tr>\n",
       "      <th>6</th>\n",
       "      <td>2019-05-07</td>\n",
       "      <td>3225953</td>\n",
       "      <td>632785</td>\n",
       "    </tr>\n",
       "    <tr>\n",
       "      <th>7</th>\n",
       "      <td>2019-05-08</td>\n",
       "      <td>3242738</td>\n",
       "      <td>638517</td>\n",
       "    </tr>\n",
       "    <tr>\n",
       "      <th>8</th>\n",
       "      <td>2019-05-09</td>\n",
       "      <td>3281590</td>\n",
       "      <td>655938</td>\n",
       "    </tr>\n",
       "    <tr>\n",
       "      <th>9</th>\n",
       "      <td>2019-05-10</td>\n",
       "      <td>3241376</td>\n",
       "      <td>638354</td>\n",
       "    </tr>\n",
       "    <tr>\n",
       "      <th>10</th>\n",
       "      <td>2019-05-11</td>\n",
       "      <td>3279030</td>\n",
       "      <td>657677</td>\n",
       "    </tr>\n",
       "    <tr>\n",
       "      <th>11</th>\n",
       "      <td>2019-05-12</td>\n",
       "      <td>3167409</td>\n",
       "      <td>630399</td>\n",
       "    </tr>\n",
       "    <tr>\n",
       "      <th>12</th>\n",
       "      <td>2019-05-13</td>\n",
       "      <td>3284687</td>\n",
       "      <td>646519</td>\n",
       "    </tr>\n",
       "    <tr>\n",
       "      <th>13</th>\n",
       "      <td>2019-05-14</td>\n",
       "      <td>3314963</td>\n",
       "      <td>661104</td>\n",
       "    </tr>\n",
       "    <tr>\n",
       "      <th>14</th>\n",
       "      <td>2019-05-15</td>\n",
       "      <td>3310753</td>\n",
       "      <td>661436</td>\n",
       "    </tr>\n",
       "    <tr>\n",
       "      <th>15</th>\n",
       "      <td>2019-05-16</td>\n",
       "      <td>3323252</td>\n",
       "      <td>671096</td>\n",
       "    </tr>\n",
       "    <tr>\n",
       "      <th>16</th>\n",
       "      <td>2019-05-17</td>\n",
       "      <td>3298991</td>\n",
       "      <td>660450</td>\n",
       "    </tr>\n",
       "    <tr>\n",
       "      <th>17</th>\n",
       "      <td>2019-05-18</td>\n",
       "      <td>3294945</td>\n",
       "      <td>666416</td>\n",
       "    </tr>\n",
       "    <tr>\n",
       "      <th>18</th>\n",
       "      <td>2019-05-19</td>\n",
       "      <td>3275065</td>\n",
       "      <td>674320</td>\n",
       "    </tr>\n",
       "    <tr>\n",
       "      <th>19</th>\n",
       "      <td>2019-05-20</td>\n",
       "      <td>3352928</td>\n",
       "      <td>674185</td>\n",
       "    </tr>\n",
       "    <tr>\n",
       "      <th>20</th>\n",
       "      <td>2019-05-21</td>\n",
       "      <td>3415265</td>\n",
       "      <td>690914</td>\n",
       "    </tr>\n",
       "    <tr>\n",
       "      <th>21</th>\n",
       "      <td>2019-05-22</td>\n",
       "      <td>3353216</td>\n",
       "      <td>681172</td>\n",
       "    </tr>\n",
       "    <tr>\n",
       "      <th>22</th>\n",
       "      <td>2019-05-23</td>\n",
       "      <td>3034135</td>\n",
       "      <td>577139</td>\n",
       "    </tr>\n",
       "    <tr>\n",
       "      <th>23</th>\n",
       "      <td>2019-05-24</td>\n",
       "      <td>3218897</td>\n",
       "      <td>634791</td>\n",
       "    </tr>\n",
       "    <tr>\n",
       "      <th>24</th>\n",
       "      <td>2019-05-25</td>\n",
       "      <td>3307580</td>\n",
       "      <td>663316</td>\n",
       "    </tr>\n",
       "    <tr>\n",
       "      <th>25</th>\n",
       "      <td>2019-05-26</td>\n",
       "      <td>3337144</td>\n",
       "      <td>682886</td>\n",
       "    </tr>\n",
       "    <tr>\n",
       "      <th>26</th>\n",
       "      <td>2019-05-27</td>\n",
       "      <td>3403602</td>\n",
       "      <td>671545</td>\n",
       "    </tr>\n",
       "    <tr>\n",
       "      <th>27</th>\n",
       "      <td>2019-05-28</td>\n",
       "      <td>3415592</td>\n",
       "      <td>677259</td>\n",
       "    </tr>\n",
       "    <tr>\n",
       "      <th>28</th>\n",
       "      <td>2019-05-29</td>\n",
       "      <td>3403680</td>\n",
       "      <td>679601</td>\n",
       "    </tr>\n",
       "    <tr>\n",
       "      <th>29</th>\n",
       "      <td>2019-05-30</td>\n",
       "      <td>3352288</td>\n",
       "      <td>665597</td>\n",
       "    </tr>\n",
       "    <tr>\n",
       "      <th>30</th>\n",
       "      <td>2019-05-31</td>\n",
       "      <td>3338930</td>\n",
       "      <td>662409</td>\n",
       "    </tr>\n",
       "    <tr>\n",
       "      <th>31</th>\n",
       "      <td>2019-06-01</td>\n",
       "      <td>3352280</td>\n",
       "      <td>668414</td>\n",
       "    </tr>\n",
       "    <tr>\n",
       "      <th>32</th>\n",
       "      <td>2019-06-02</td>\n",
       "      <td>3388177</td>\n",
       "      <td>686645</td>\n",
       "    </tr>\n",
       "    <tr>\n",
       "      <th>33</th>\n",
       "      <td>2019-06-03</td>\n",
       "      <td>3283991</td>\n",
       "      <td>496134</td>\n",
       "    </tr>\n",
       "    <tr>\n",
       "      <th>34</th>\n",
       "      <td>2019-06-04</td>\n",
       "      <td>3324784</td>\n",
       "      <td>655910</td>\n",
       "    </tr>\n",
       "    <tr>\n",
       "      <th>35</th>\n",
       "      <td>2019-06-05</td>\n",
       "      <td>3272910</td>\n",
       "      <td>624779</td>\n",
       "    </tr>\n",
       "    <tr>\n",
       "      <th>36</th>\n",
       "      <td>2019-06-06</td>\n",
       "      <td>3329332</td>\n",
       "      <td>647088</td>\n",
       "    </tr>\n",
       "    <tr>\n",
       "      <th>37</th>\n",
       "      <td>2019-06-07</td>\n",
       "      <td>3341877</td>\n",
       "      <td>616573</td>\n",
       "    </tr>\n",
       "    <tr>\n",
       "      <th>38</th>\n",
       "      <td>2019-06-08</td>\n",
       "      <td>3341952</td>\n",
       "      <td>665871</td>\n",
       "    </tr>\n",
       "    <tr>\n",
       "      <th>39</th>\n",
       "      <td>2019-06-09</td>\n",
       "      <td>3295204</td>\n",
       "      <td>661423</td>\n",
       "    </tr>\n",
       "    <tr>\n",
       "      <th>40</th>\n",
       "      <td>2019-06-10</td>\n",
       "      <td>3374729</td>\n",
       "      <td>665645</td>\n",
       "    </tr>\n",
       "    <tr>\n",
       "      <th>41</th>\n",
       "      <td>2019-06-11</td>\n",
       "      <td>3397385</td>\n",
       "      <td>645933</td>\n",
       "    </tr>\n",
       "    <tr>\n",
       "      <th>42</th>\n",
       "      <td>2019-06-12</td>\n",
       "      <td>3345592</td>\n",
       "      <td>646389</td>\n",
       "    </tr>\n",
       "    <tr>\n",
       "      <th>43</th>\n",
       "      <td>2019-06-13</td>\n",
       "      <td>3350001</td>\n",
       "      <td>627579</td>\n",
       "    </tr>\n",
       "    <tr>\n",
       "      <th>44</th>\n",
       "      <td>2019-06-14</td>\n",
       "      <td>3357772</td>\n",
       "      <td>660401</td>\n",
       "    </tr>\n",
       "    <tr>\n",
       "      <th>45</th>\n",
       "      <td>2019-06-15</td>\n",
       "      <td>3377378</td>\n",
       "      <td>650093</td>\n",
       "    </tr>\n",
       "    <tr>\n",
       "      <th>46</th>\n",
       "      <td>2019-06-16</td>\n",
       "      <td>3256093</td>\n",
       "      <td>616750</td>\n",
       "    </tr>\n",
       "    <tr>\n",
       "      <th>47</th>\n",
       "      <td>2019-06-17</td>\n",
       "      <td>3374046</td>\n",
       "      <td>646981</td>\n",
       "    </tr>\n",
       "    <tr>\n",
       "      <th>48</th>\n",
       "      <td>2019-06-18</td>\n",
       "      <td>3360536</td>\n",
       "      <td>658894</td>\n",
       "    </tr>\n",
       "    <tr>\n",
       "      <th>49</th>\n",
       "      <td>2019-06-19</td>\n",
       "      <td>3453497</td>\n",
       "      <td>660544</td>\n",
       "    </tr>\n",
       "  </tbody>\n",
       "</table>\n",
       "</div>"
      ],
      "text/plain": [
       "       date_nk  returning_user  returning_repliers\n",
       "0   2019-05-01         3292534              662354\n",
       "1   2019-05-02         3272462              646647\n",
       "2   2019-05-03         3230965              616324\n",
       "3   2019-05-04         3224294              640090\n",
       "4   2019-05-05         3215541              648195\n",
       "5   2019-05-06         3236100              623548\n",
       "6   2019-05-07         3225953              632785\n",
       "7   2019-05-08         3242738              638517\n",
       "8   2019-05-09         3281590              655938\n",
       "9   2019-05-10         3241376              638354\n",
       "10  2019-05-11         3279030              657677\n",
       "11  2019-05-12         3167409              630399\n",
       "12  2019-05-13         3284687              646519\n",
       "13  2019-05-14         3314963              661104\n",
       "14  2019-05-15         3310753              661436\n",
       "15  2019-05-16         3323252              671096\n",
       "16  2019-05-17         3298991              660450\n",
       "17  2019-05-18         3294945              666416\n",
       "18  2019-05-19         3275065              674320\n",
       "19  2019-05-20         3352928              674185\n",
       "20  2019-05-21         3415265              690914\n",
       "21  2019-05-22         3353216              681172\n",
       "22  2019-05-23         3034135              577139\n",
       "23  2019-05-24         3218897              634791\n",
       "24  2019-05-25         3307580              663316\n",
       "25  2019-05-26         3337144              682886\n",
       "26  2019-05-27         3403602              671545\n",
       "27  2019-05-28         3415592              677259\n",
       "28  2019-05-29         3403680              679601\n",
       "29  2019-05-30         3352288              665597\n",
       "30  2019-05-31         3338930              662409\n",
       "31  2019-06-01         3352280              668414\n",
       "32  2019-06-02         3388177              686645\n",
       "33  2019-06-03         3283991              496134\n",
       "34  2019-06-04         3324784              655910\n",
       "35  2019-06-05         3272910              624779\n",
       "36  2019-06-06         3329332              647088\n",
       "37  2019-06-07         3341877              616573\n",
       "38  2019-06-08         3341952              665871\n",
       "39  2019-06-09         3295204              661423\n",
       "40  2019-06-10         3374729              665645\n",
       "41  2019-06-11         3397385              645933\n",
       "42  2019-06-12         3345592              646389\n",
       "43  2019-06-13         3350001              627579\n",
       "44  2019-06-14         3357772              660401\n",
       "45  2019-06-15         3377378              650093\n",
       "46  2019-06-16         3256093              616750\n",
       "47  2019-06-17         3374046              646981\n",
       "48  2019-06-18         3360536              658894\n",
       "49  2019-06-19         3453497              660544"
      ]
     },
     "execution_count": 24,
     "metadata": {},
     "output_type": "execute_result"
    }
   ],
   "source": [
    "df_returning_to_reply.sort_values(['date_nk']).head(50)"
   ]
  },
  {
   "cell_type": "code",
   "execution_count": 25,
   "metadata": {},
   "outputs": [
    {
     "data": {
      "text/plain": [
       "<matplotlib.axes._subplots.AxesSubplot at 0x1a1e643550>"
      ]
     },
     "execution_count": 25,
     "metadata": {},
     "output_type": "execute_result"
    },
    {
     "data": {
      "image/png": "[encoded data removed]",
      "text/plain": [
       "<Figure size 1080x360 with 1 Axes>"
      ]
     },
     "metadata": {
      "needs_background": "light"
     },
     "output_type": "display_data"
    }
   ],
   "source": [
    "df_returning_to_reply['DUB/DAU'] = df_returning_to_reply['returning_repliers'] / df_returning_to_reply['returning_user']\n",
    "df_returning_to_reply = df_returning_to_reply.set_index('date_nk')\n",
    "df_returning_to_reply = df_returning_to_reply[['DUB/DAU']]\n",
    "df_returning_to_reply.plot(figsize=(15,5) , title='DUB / DAU for returning users')"
   ]
  },
  {
   "cell_type": "markdown",
   "metadata": {},
   "source": [
    "## Opcion 2: DUB / DAU returning users activate it or not"
   ]
  },
  {
   "cell_type": "code",
   "execution_count": null,
   "metadata": {},
   "outputs": [],
   "source": [
    "query = \"\"\"\n",
    "\n",
    "drop table if exists dau_new_and_retur;\n",
    "select\n",
    "  date_nk,\n",
    "  count(distinct case when user_active_new_returning_nk = 'new' then session_long else null end) as new_users,\n",
    "  count(distinct session_long) as total_users\n",
    "  into temp table dau_new_and_retur\n",
    "  from ods.fact_user_hydra_browsing_activity\n",
    " where is_panamera = true\n",
    "   and date_nk >= '2019-06-01'\n",
    "   and country_sk = 'olx|asia|in'\n",
    "  group by 1\n",
    "\n",
    "\n",
    ";drop table if exists new_users_label;\n",
    "select\n",
    "  date_nk,\n",
    "  session_long,\n",
    "  user_sk\n",
    "   into temp new_users_label\n",
    "    from ods.fact_user_hydra_browsing_activity\n",
    "  where\n",
    "    is_panamera = true\n",
    "and country_sk = 'olx|asia|in'\n",
    "and user_sk != 'unknown'\n",
    "and date_nk >= '2019-06-01'\n",
    "and user_active_new_returning_nk = 'new'\n",
    " group by 1,2,3\n",
    "\n",
    ";drop table if exists number_of_reply;\n",
    "select\n",
    "  panamera_user_sk,\n",
    "  date_sent_nk\n",
    "  into temp table number_of_reply\n",
    " from ods.fact_replies\n",
    " where\n",
    "   country_sk like '%in%'\n",
    " and reply_num =1\n",
    "  group by 1,2\n",
    "\n",
    ";drop table if exists numero_de_replies;\n",
    "select\n",
    "  panamera_user_sk,\n",
    "  date_sent_nk,\n",
    "  row_number()over(partition by panamera_user_sk order by date_sent_nk) as number_of_replies\n",
    "  into temp table numero_de_replies\n",
    "from number_of_reply\n",
    "\n",
    ";drop table if exists repliess;\n",
    "select\n",
    "   date_sent_nk,\n",
    "   case when f1.number_of_replies=1 then 'not_activated' else 'already_activate' end as activado_o_no,\n",
    "   count(distinct panamera_user_sk) as returning_repliers\n",
    "  into temp repliess\n",
    "  from numero_de_replies f1\n",
    "    left join new_users_label f2 on f1.panamera_user_sk=f2.user_sk and f1.date_sent_nk=f2.date_nk\n",
    "    where\n",
    "      date_sent_nk >= '2019-05-01'\n",
    "  and f2.user_sk is null\n",
    "group by 1,2;\n",
    "\n",
    "select\n",
    " date_nk,\n",
    " f2.activado_o_no,\n",
    " f1.total_users - f1.new_users as returning_user,\n",
    " f2.returning_repliers\n",
    "  from dau_new_and_retur f1\n",
    "   inner join repliess f2 on f1.date_nk=f2.date_sent_nk\n",
    "order by 1\n",
    "\n",
    "\"\"\""
   ]
  },
  {
   "cell_type": "code",
   "execution_count": null,
   "metadata": {},
   "outputs": [],
   "source": [
    "df_returning_to_reply_by_activate = pd.read_sql_query(query ,engine)"
   ]
  },
  {
   "cell_type": "code",
   "execution_count": null,
   "metadata": {},
   "outputs": [],
   "source": [
    "df_returning_to_reply_by_activate.head()"
   ]
  },
  {
   "cell_type": "code",
   "execution_count": null,
   "metadata": {},
   "outputs": [],
   "source": [
    "df_returning_to_reply_by_activate['percentage_of_returning'] = df_returning_to_reply_by_activate['returning_repliers'] / df_returning_to_reply_by_activate['returning_user']\n",
    "df_returning_to_reply_by_activate_plot = df_returning_to_reply_by_activate.set_index('date_nk')\n",
    "df_returning_to_reply_by_activate_plot = df_returning_to_reply_by_activate_plot[['activado_o_no' , 'percentage_of_returning']]\n",
    "df_returning_to_reply_by_activate_plot.pivot_table(index=df_returning_to_reply_by_activate_plot.index , columns='activado_o_no',values='percentage_of_returning').plot(figsize=(15,5))"
   ]
  },
  {
   "cell_type": "code",
   "execution_count": null,
   "metadata": {},
   "outputs": [],
   "source": [
    "df_returning_to_reply_by_activate['total_repliers'] = df_returning_to_reply_by_activate.groupby(['date_nk'])['returning_repliers'].transform('sum')\n",
    "df_returning_to_reply_by_activate['percentage_of_repliers_activate'] = df_returning_to_reply_by_activate['returning_repliers'] / df_returning_to_reply_by_activate['total_repliers'] "
   ]
  },
  {
   "cell_type": "markdown",
   "metadata": {},
   "source": [
    "## Check of replies"
   ]
  },
  {
   "cell_type": "code",
   "execution_count": 89,
   "metadata": {},
   "outputs": [],
   "source": [
    "query = \"\"\"\n",
    "\n",
    "\n",
    "select\n",
    "   date_sent_nk,\n",
    "   count(distinct panamera_user_sk) as repliers\n",
    "  from ods.fact_replies f1\n",
    "    where country_sk = 'olx|asia|in'\n",
    " and reply_num = 1\n",
    " and date_sent_nk >= '2019-05-01'\n",
    "group by 1\n",
    "order by 1\n",
    "\n",
    "\"\"\""
   ]
  },
  {
   "cell_type": "code",
   "execution_count": 90,
   "metadata": {},
   "outputs": [
    {
     "name": "stdout",
     "output_type": "stream",
     "text": [
      "Wall time: 17.4 s\n"
     ]
    }
   ],
   "source": [
    "%%time\n",
    "replies = pd.read_sql_query(query.replace('%', '%%'), engine)"
   ]
  },
  {
   "cell_type": "code",
   "execution_count": 91,
   "metadata": {},
   "outputs": [
    {
     "data": {
      "text/html": [
       "<div>\n",
       "<style scoped>\n",
       "    .dataframe tbody tr th:only-of-type {\n",
       "        vertical-align: middle;\n",
       "    }\n",
       "\n",
       "    .dataframe tbody tr th {\n",
       "        vertical-align: top;\n",
       "    }\n",
       "\n",
       "    .dataframe thead th {\n",
       "        text-align: right;\n",
       "    }\n",
       "</style>\n",
       "<table border=\"1\" class=\"dataframe\">\n",
       "  <thead>\n",
       "    <tr style=\"text-align: right;\">\n",
       "      <th></th>\n",
       "      <th>date_sent_nk</th>\n",
       "      <th>repliers</th>\n",
       "    </tr>\n",
       "  </thead>\n",
       "  <tbody>\n",
       "    <tr>\n",
       "      <th>0</th>\n",
       "      <td>2019-05-12</td>\n",
       "      <td>695874</td>\n",
       "    </tr>\n",
       "    <tr>\n",
       "      <th>1</th>\n",
       "      <td>2019-05-11</td>\n",
       "      <td>729354</td>\n",
       "    </tr>\n",
       "    <tr>\n",
       "      <th>2</th>\n",
       "      <td>2019-06-09</td>\n",
       "      <td>731536</td>\n",
       "    </tr>\n",
       "    <tr>\n",
       "      <th>3</th>\n",
       "      <td>2019-05-27</td>\n",
       "      <td>742260</td>\n",
       "    </tr>\n",
       "    <tr>\n",
       "      <th>4</th>\n",
       "      <td>2019-05-13</td>\n",
       "      <td>715657</td>\n",
       "    </tr>\n",
       "  </tbody>\n",
       "</table>\n",
       "</div>"
      ],
      "text/plain": [
       "  date_sent_nk  repliers\n",
       "0   2019-05-12    695874\n",
       "1   2019-05-11    729354\n",
       "2   2019-06-09    731536\n",
       "3   2019-05-27    742260\n",
       "4   2019-05-13    715657"
      ]
     },
     "execution_count": 91,
     "metadata": {},
     "output_type": "execute_result"
    }
   ],
   "source": [
    "replies.head()"
   ]
  },
  {
   "cell_type": "markdown",
   "metadata": {},
   "source": [
    "## Opcion 2: DUB/DAU new users for apps"
   ]
  },
  {
   "cell_type": "code",
   "execution_count": 30,
   "metadata": {},
   "outputs": [],
   "source": [
    "query = \"\"\"\n",
    "\n",
    "drop table if exists dau_new;\n",
    "select\n",
    "  date_nk,\n",
    "  count(distinct session_long) as new_dau\n",
    "   into temp dau_new\n",
    "   from ods.fact_user_hydra_browsing_activity\n",
    "   --  left join (select session_long,user_sk,date_nk from ods.fact_user_hydra_browsing_activity where user_sk!='unknown' and is_panamera = true and country_sk in ('olx|mea|pk' , 'olx|mea|za' , 'olx|asia|in') and date_nk = '2019-06-11')\n",
    " where\n",
    "   is_panamera = true\n",
    "    and date_nk >= '2019-05-01'\n",
    "    and country_sk in ('olx|asia|in')\n",
    "    and user_active_new_returning_nk = 'new'\n",
    "    and channel_sk similar to ('%%android%%|%%ios%%')\n",
    "group by 1\n",
    "order by 1\n",
    "\n",
    ";drop table if exists new_users_label;\n",
    "select\n",
    "  date_nk,\n",
    "  session_long,\n",
    "  user_sk\n",
    "   into temp new_users_label\n",
    "    from ods.fact_user_hydra_browsing_activity\n",
    "  where\n",
    "    is_panamera = true\n",
    "and country_sk = 'olx|asia|in'\n",
    "and user_active_new_returning_nk = 'new'\n",
    "and user_sk != 'unknown'\n",
    "and date_nk >= '2019-05-01'\n",
    "and channel_sk similar to ('%%android%%|%%ios%%')\n",
    " group by 1,2,3\n",
    "\n",
    ";drop table if exists repliess;\n",
    "select\n",
    "   date_sent_nk,\n",
    "   count(distinct panamera_user_sk) as new_repliers\n",
    "  into temp repliess\n",
    "  from ods.fact_replies f1\n",
    "    inner join new_users_label f2 on f1.panamera_user_sk=f2.user_sk and f1.date_sent_nk=f2.date_nk\n",
    "    where country_sk = 'olx|asia|in'\n",
    "  and reply_num = 1\n",
    "  and date_sent_nk >= '2019-05-01'\n",
    "group by 1;\n",
    "\n",
    "\n",
    "select\n",
    "  f1.date_nk,\n",
    "  f1.new_dau,\n",
    "  f2.new_repliers\n",
    "   from dau_new f1\n",
    "  inner join repliess f2 on f1.date_nk=f2.date_sent_nk\n",
    "order by 1\n",
    "\n",
    " \n",
    "\"\"\""
   ]
  },
  {
   "cell_type": "code",
   "execution_count": 31,
   "metadata": {},
   "outputs": [],
   "source": [
    "df_news_to_reply_android = pd.read_sql_query(query.replace('%' , '%%') ,engine)"
   ]
  },
  {
   "cell_type": "code",
   "execution_count": 32,
   "metadata": {},
   "outputs": [
    {
     "data": {
      "text/html": [
       "<div>\n",
       "<style scoped>\n",
       "    .dataframe tbody tr th:only-of-type {\n",
       "        vertical-align: middle;\n",
       "    }\n",
       "\n",
       "    .dataframe tbody tr th {\n",
       "        vertical-align: top;\n",
       "    }\n",
       "\n",
       "    .dataframe thead th {\n",
       "        text-align: right;\n",
       "    }\n",
       "</style>\n",
       "<table border=\"1\" class=\"dataframe\">\n",
       "  <thead>\n",
       "    <tr style=\"text-align: right;\">\n",
       "      <th></th>\n",
       "      <th>date_nk</th>\n",
       "      <th>new_dau</th>\n",
       "      <th>new_repliers</th>\n",
       "    </tr>\n",
       "  </thead>\n",
       "  <tbody>\n",
       "    <tr>\n",
       "      <th>0</th>\n",
       "      <td>2019-05-01</td>\n",
       "      <td>205064</td>\n",
       "      <td>57042</td>\n",
       "    </tr>\n",
       "    <tr>\n",
       "      <th>1</th>\n",
       "      <td>2019-05-02</td>\n",
       "      <td>196995</td>\n",
       "      <td>54487</td>\n",
       "    </tr>\n",
       "    <tr>\n",
       "      <th>2</th>\n",
       "      <td>2019-05-03</td>\n",
       "      <td>198774</td>\n",
       "      <td>52663</td>\n",
       "    </tr>\n",
       "    <tr>\n",
       "      <th>3</th>\n",
       "      <td>2019-05-04</td>\n",
       "      <td>197389</td>\n",
       "      <td>53925</td>\n",
       "    </tr>\n",
       "    <tr>\n",
       "      <th>4</th>\n",
       "      <td>2019-05-05</td>\n",
       "      <td>204389</td>\n",
       "      <td>55647</td>\n",
       "    </tr>\n",
       "  </tbody>\n",
       "</table>\n",
       "</div>"
      ],
      "text/plain": [
       "      date_nk  new_dau  new_repliers\n",
       "0  2019-05-01   205064         57042\n",
       "1  2019-05-02   196995         54487\n",
       "2  2019-05-03   198774         52663\n",
       "3  2019-05-04   197389         53925\n",
       "4  2019-05-05   204389         55647"
      ]
     },
     "execution_count": 32,
     "metadata": {},
     "output_type": "execute_result"
    }
   ],
   "source": [
    "df_news_to_reply_android.head()"
   ]
  },
  {
   "cell_type": "code",
   "execution_count": 33,
   "metadata": {},
   "outputs": [
    {
     "data": {
      "text/plain": [
       "<matplotlib.axes._subplots.AxesSubplot at 0x1a1e643080>"
      ]
     },
     "execution_count": 33,
     "metadata": {},
     "output_type": "execute_result"
    },
    {
     "data": {
      "image/png": "[encoded data removed]",
      "text/plain": [
       "<Figure size 1080x360 with 1 Axes>"
      ]
     },
     "metadata": {},
     "output_type": "display_data"
    }
   ],
   "source": [
    "df_news_to_reply_android['DUB/DAU'] = df_news_to_reply_android['new_repliers'] / df_news_to_reply_android['new_dau']\n",
    "df_news_to_reply_android = df_news_to_reply_android.set_index('date_nk')\n",
    "df_news_to_reply_android = df_news_to_reply_android[['DUB/DAU']]\n",
    "df_news_to_reply_android.plot(figsize=(15,5) , title='DUB / DAU for new users for apps')"
   ]
  },
  {
   "cell_type": "markdown",
   "metadata": {},
   "source": [
    "## DUB/DAU new users for PWA web"
   ]
  },
  {
   "cell_type": "code",
   "execution_count": 77,
   "metadata": {},
   "outputs": [],
   "source": [
    "query = \"\"\"\n",
    "\n",
    "drop table if exists dau_new;\n",
    "select\n",
    "  date_nk,\n",
    "  count(distinct session_long) as new_dau\n",
    "   into temp dau_new\n",
    "   from ods.fact_user_hydra_browsing_activity\n",
    "   --  left join (select session_long,user_sk,date_nk from ods.fact_user_hydra_browsing_activity where user_sk!='unknown' and is_panamera = true and country_sk in ('olx|mea|pk' , 'olx|mea|za' , 'olx|asia|in') and date_nk = '2019-06-11')\n",
    " where\n",
    "   is_panamera = true\n",
    "    and date_nk >= '2019-05-01'\n",
    "    and country_sk in ('olx|asia|in')\n",
    "    and user_active_new_returning_nk = 'new'\n",
    "    and channel_sk similar to ('%%mobile%%|%%desktop%%')\n",
    "group by 1\n",
    "order by 1\n",
    "\n",
    ";drop table if exists new_users_label;\n",
    "select\n",
    "  date_nk,\n",
    "  session_long,\n",
    "  user_sk\n",
    "   into temp new_users_label\n",
    "    from ods.fact_user_hydra_browsing_activity\n",
    "  where\n",
    "    is_panamera = true\n",
    "and country_sk = 'olx|asia|in'\n",
    "and user_active_new_returning_nk = 'new'\n",
    "and user_sk != 'unknown'\n",
    "and date_nk >= '2019-05-01'\n",
    "and channel_sk similar to ('%%mobile%%|%%desktop%%')\n",
    " group by 1,2,3\n",
    "\n",
    ";drop table if exists repliess;\n",
    "select\n",
    "   date_sent_nk,\n",
    "   count(distinct panamera_user_sk) as new_repliers\n",
    "  into temp repliess\n",
    "  from ods.fact_replies f1\n",
    "    inner join new_users_label f2 on f1.panamera_user_sk=f2.user_sk and f1.date_sent_nk=f2.date_nk\n",
    "    where country_sk = 'olx|asia|in'\n",
    "  and reply_num = 1\n",
    "  and date_sent_nk >= '2019-05-01'\n",
    "group by 1;\n",
    "\n",
    "\n",
    "select\n",
    "  f1.date_nk,\n",
    "  f1.new_dau,\n",
    "  f2.new_repliers\n",
    "   from dau_new f1\n",
    "  inner join repliess f2 on f1.date_nk=f2.date_sent_nk\n",
    "order by 1\n",
    "\n",
    " \n",
    "\"\"\""
   ]
  },
  {
   "cell_type": "code",
   "execution_count": 78,
   "metadata": {},
   "outputs": [
    {
     "name": "stdout",
     "output_type": "stream",
     "text": [
      "Wall time: 3min 43s\n"
     ]
    }
   ],
   "source": [
    "%%time\n",
    "df_news_to_reply_mobile = pd.read_sql_query(query.replace('%', '%%'), engine)"
   ]
  },
  {
   "cell_type": "code",
   "execution_count": 79,
   "metadata": {},
   "outputs": [
    {
     "data": {
      "text/html": [
       "<div>\n",
       "<style scoped>\n",
       "    .dataframe tbody tr th:only-of-type {\n",
       "        vertical-align: middle;\n",
       "    }\n",
       "\n",
       "    .dataframe tbody tr th {\n",
       "        vertical-align: top;\n",
       "    }\n",
       "\n",
       "    .dataframe thead th {\n",
       "        text-align: right;\n",
       "    }\n",
       "</style>\n",
       "<table border=\"1\" class=\"dataframe\">\n",
       "  <thead>\n",
       "    <tr style=\"text-align: right;\">\n",
       "      <th></th>\n",
       "      <th>date_nk</th>\n",
       "      <th>new_dau</th>\n",
       "      <th>new_repliers</th>\n",
       "    </tr>\n",
       "  </thead>\n",
       "  <tbody>\n",
       "    <tr>\n",
       "      <th>0</th>\n",
       "      <td>2019-05-01</td>\n",
       "      <td>477561</td>\n",
       "      <td>73898</td>\n",
       "    </tr>\n",
       "    <tr>\n",
       "      <th>1</th>\n",
       "      <td>2019-05-02</td>\n",
       "      <td>460631</td>\n",
       "      <td>70323</td>\n",
       "    </tr>\n",
       "    <tr>\n",
       "      <th>2</th>\n",
       "      <td>2019-05-03</td>\n",
       "      <td>445650</td>\n",
       "      <td>66558</td>\n",
       "    </tr>\n",
       "    <tr>\n",
       "      <th>3</th>\n",
       "      <td>2019-05-04</td>\n",
       "      <td>455528</td>\n",
       "      <td>69442</td>\n",
       "    </tr>\n",
       "    <tr>\n",
       "      <th>4</th>\n",
       "      <td>2019-05-05</td>\n",
       "      <td>460759</td>\n",
       "      <td>70618</td>\n",
       "    </tr>\n",
       "  </tbody>\n",
       "</table>\n",
       "</div>"
      ],
      "text/plain": [
       "      date_nk  new_dau  new_repliers\n",
       "0  2019-05-01   477561         73898\n",
       "1  2019-05-02   460631         70323\n",
       "2  2019-05-03   445650         66558\n",
       "3  2019-05-04   455528         69442\n",
       "4  2019-05-05   460759         70618"
      ]
     },
     "execution_count": 79,
     "metadata": {},
     "output_type": "execute_result"
    }
   ],
   "source": [
    "df_news_to_reply_mobile.head()"
   ]
  },
  {
   "cell_type": "code",
   "execution_count": 80,
   "metadata": {},
   "outputs": [
    {
     "data": {
      "text/plain": [
       "<matplotlib.axes._subplots.AxesSubplot at 0x2c5051f9160>"
      ]
     },
     "execution_count": 80,
     "metadata": {},
     "output_type": "execute_result"
    },
    {
     "data": {
      "image/png": "[encoded data removed]",
      "text/plain": [
       "<Figure size 1080x360 with 1 Axes>"
      ]
     },
     "metadata": {
      "needs_background": "light"
     },
     "output_type": "display_data"
    }
   ],
   "source": [
    "df_news_to_reply_mobile['DUB/DAU'] = df_news_to_reply_mobile['new_repliers'] / df_news_to_reply_mobile['new_dau']\n",
    "df_news_to_reply_mobile = df_news_to_reply_mobile.set_index('date_nk')\n",
    "df_news_to_reply_mobile = df_news_to_reply_mobile[['DUB/DAU']]\n",
    "df_news_to_reply_mobile.plot(figsize=(15,5) , title='DUB / DAU for new users for PWA')"
   ]
  },
  {
   "cell_type": "markdown",
   "metadata": {},
   "source": [
    "# DUB / Starters of home,browse and search new users"
   ]
  },
  {
   "cell_type": "code",
   "execution_count": 103,
   "metadata": {},
   "outputs": [],
   "source": [
    "query = \"\"\"\n",
    "\n",
    "drop table if exists new_users_label;\n",
    "select\n",
    "  date_nk,\n",
    "  session_long\n",
    "   into temp new_users_label\n",
    "    from ods.fact_user_hydra_browsing_activity\n",
    "  where\n",
    "    is_panamera = true\n",
    "and country_sk = 'olx|asia|in'\n",
    "and user_active_new_returning_nk = 'new'\n",
    "and date_nk >= '2019-04-01'\n",
    " group by 1,2;\n",
    "\n",
    "select\n",
    "  a.date_nk,\n",
    "  (case when search_string notnull then 'Search'\n",
    "        when a.category_sk!='unknown' and search_string isnull then 'Browse'\n",
    "        when a.category_sk='unknown' and search_string isnull  then 'Home'  end) as Flow_new,\n",
    "\n",
    "  count(distinct a.session_long_sk) starters_new_users\n",
    ", count(distinct case when a.num_ads_with_adviews>'0' then a.session_long_sk end) adviewers_new_users\n",
    ", count(distinct case when ((a.num_ads_with_item_chat_tap_send_1st_reply+a.num_ads_with_item_chat_tap_send_offer)>'0' then session_long_sk else null end) as repliers_chat\n",
    ", count(distinct case when ((a.num_ads_with_item_tap_call)>'0'  then session_long_sk else null end) as replier_call\n",
    "\n",
    "from ods.fact_resultset_performance a\n",
    "  inner join new_users_label f1 on f1.session_long=split_part(session_long_sk , '|' , 7) and f1.date_nk=a.date_nk\n",
    " where a.country_sk='olx|asia|in'\n",
    "and a.date_nk >= '2019-04-01'\n",
    "group by a.date_nk, Flow_new\n",
    "order by 1;\n",
    "\n",
    "\"\"\""
   ]
  },
  {
   "cell_type": "code",
   "execution_count": 104,
   "metadata": {},
   "outputs": [
    {
     "name": "stdout",
     "output_type": "stream",
     "text": [
      "Wall time: 9min 33s\n"
     ]
    }
   ],
   "source": [
    "%%time\n",
    "starters_to_dub = pd.read_sql_query(query.replace('%', '%%'), engine)"
   ]
  },
  {
   "cell_type": "code",
   "execution_count": 173,
   "metadata": {},
   "outputs": [],
   "source": [
    "starters_to_dub.to_excel('C:\\\\Users\\\\OLX - Lucas Dresi\\\\Documents\\\\Activation\\\\activation.xlsx')"
   ]
  },
  {
   "cell_type": "code",
   "execution_count": 121,
   "metadata": {},
   "outputs": [
    {
     "data": {
      "text/plain": [
       "<matplotlib.axes._subplots.AxesSubplot at 0x162bd8e75c0>"
      ]
     },
     "execution_count": 121,
     "metadata": {},
     "output_type": "execute_result"
    },
    {
     "data": {
      "image/png": "[encoded data removed]",
      "text/plain": [
       "<Figure size 1080x360 with 1 Axes>"
      ]
     },
     "metadata": {
      "needs_background": "light"
     },
     "output_type": "display_data"
    }
   ],
   "source": [
    "starters_to_dub['new_replier_to_starters_new'] = starters_to_dub['repliers_new_users'] / starters_to_dub['starters_new_users'] \n",
    "starters_to_dub.pivot_table(index='date_nk' , columns='flow_new' , values='new_replier_to_starters_new').plot(figsize=(15,5) , label='DUB / Starters of home,browse and search for new users')"
   ]
  },
  {
   "cell_type": "code",
   "execution_count": 155,
   "metadata": {},
   "outputs": [
    {
     "data": {
      "text/plain": [
       "<matplotlib.axes._subplots.AxesSubplot at 0x162be3d37b8>"
      ]
     },
     "execution_count": 155,
     "metadata": {},
     "output_type": "execute_result"
    },
    {
     "data": {
      "image/png": "[encoded data removed]",
      "text/plain": [
       "<Figure size 1080x360 with 1 Axes>"
      ]
     },
     "metadata": {},
     "output_type": "display_data"
    }
   ],
   "source": [
    "starters_to_dub['starters_to_adviewers'] = starters_to_dub['adviewers_new_users'] / starters_to_dub['starters_new_users']\n",
    "starters_to_dub['adviewers_to_repliers'] = starters_to_dub['repliers_new_users'] / starters_to_dub['adviewers_new_users']\n",
    "starters_to_dub.pivot_table(index='flow_new' , values=['adviewers_to_repliers' , 'starters_to_adviewers'] , aggfunc={'adviewers_to_repliers':'mean' ,'starters_to_adviewers':'mean'}).plot(kind='bar' , figsize=(15,5))"
   ]
  },
  {
   "cell_type": "code",
   "execution_count": 157,
   "metadata": {},
   "outputs": [
    {
     "data": {
      "text/html": [
       "<div>\n",
       "<style scoped>\n",
       "    .dataframe tbody tr th:only-of-type {\n",
       "        vertical-align: middle;\n",
       "    }\n",
       "\n",
       "    .dataframe tbody tr th {\n",
       "        vertical-align: top;\n",
       "    }\n",
       "\n",
       "    .dataframe thead th {\n",
       "        text-align: right;\n",
       "    }\n",
       "</style>\n",
       "<table border=\"1\" class=\"dataframe\">\n",
       "  <thead>\n",
       "    <tr style=\"text-align: right;\">\n",
       "      <th></th>\n",
       "      <th>adviewers_to_repliers</th>\n",
       "      <th>new_replier_to_starters_new</th>\n",
       "      <th>starters_to_adviewers</th>\n",
       "    </tr>\n",
       "    <tr>\n",
       "      <th>flow_new</th>\n",
       "      <th></th>\n",
       "      <th></th>\n",
       "      <th></th>\n",
       "    </tr>\n",
       "  </thead>\n",
       "  <tbody>\n",
       "    <tr>\n",
       "      <th>Browse</th>\n",
       "      <td>0.229118</td>\n",
       "      <td>0.167547</td>\n",
       "      <td>0.730302</td>\n",
       "    </tr>\n",
       "    <tr>\n",
       "      <th>Home</th>\n",
       "      <td>0.149221</td>\n",
       "      <td>0.055319</td>\n",
       "      <td>0.369271</td>\n",
       "    </tr>\n",
       "    <tr>\n",
       "      <th>Search</th>\n",
       "      <td>0.177652</td>\n",
       "      <td>0.136013</td>\n",
       "      <td>0.762809</td>\n",
       "    </tr>\n",
       "  </tbody>\n",
       "</table>\n",
       "</div>"
      ],
      "text/plain": [
       "          adviewers_to_repliers  new_replier_to_starters_new  \\\n",
       "flow_new                                                       \n",
       "Browse                 0.229118                     0.167547   \n",
       "Home                   0.149221                     0.055319   \n",
       "Search                 0.177652                     0.136013   \n",
       "\n",
       "          starters_to_adviewers  \n",
       "flow_new                         \n",
       "Browse                 0.730302  \n",
       "Home                   0.369271  \n",
       "Search                 0.762809  "
      ]
     },
     "execution_count": 157,
     "metadata": {},
     "output_type": "execute_result"
    }
   ],
   "source": [
    "starters_to_dub.pivot_table(index='flow_new' , values=['adviewers_to_repliers' , 'starters_to_adviewers' , 'new_replier_to_starters_new'] , aggfunc={'adviewers_to_repliers':'mean' ,'starters_to_adviewers':'mean' , 'new_replier_to_starters_new':'mean'})"
   ]
  },
  {
   "cell_type": "markdown",
   "metadata": {},
   "source": [
    "# DUB / Starters of home,browse and search returning users"
   ]
  },
  {
   "cell_type": "code",
   "execution_count": 140,
   "metadata": {},
   "outputs": [],
   "source": [
    "query = \"\"\"\n",
    "\n",
    ";drop table if exists new_users_label;\n",
    "select\n",
    "  date_nk,\n",
    "  session_long\n",
    "   into temp new_users_label\n",
    "    from ods.fact_user_hydra_browsing_activity\n",
    "  where\n",
    "    is_panamera = true\n",
    "and country_sk = 'olx|asia|in'\n",
    "and user_active_new_returning_nk = 'new'\n",
    "and date_nk >= '2019-04-01'\n",
    " group by 1,2;\n",
    "\n",
    "\n",
    ";drop table if exists returning_users_label;\n",
    "select\n",
    "  v.date_nk,\n",
    "  v.session_long\n",
    "   into temp table returning_users_label\n",
    "   from ods.fact_user_hydra_browsing_activity v\n",
    "     left join new_users_label t on v.session_long=t.session_long and v.date_nk=t.date_nk\n",
    " where\n",
    "   is_panamera = true\n",
    "    and v.date_nk >= '2019-04-01'\n",
    "    and v.country_sk in ('olx|asia|in')\n",
    "    and t.date_nk is null\n",
    "group by 1,2\n",
    "order by 2;\n",
    "\n",
    "select\n",
    "  a.date_nk,\n",
    "  (case when search_string notnull then 'Search'\n",
    "        when a.category_sk!='unknown' and search_string isnull then 'Browse'\n",
    "        when a.category_sk='unknown' and search_string isnull  then 'Home'  end) as Flow_new,\n",
    "\n",
    "  count(distinct a.session_long_sk) starters_new_users\n",
    ", count(distinct case when a.num_ads_with_adviews>'0' then a.session_long_sk end) adviewers_new_users\n",
    ", count(distinct case when ((a.num_ads_with_item_chat_tap_send_1st_reply+a.num_ads_with_item_chat_tap_send_offer)>'0')\n",
    "                            or ((a.num_ads_with_item_tap_call)>'0')\n",
    "                            then a.session_long_sk end) repliers_new_users\n",
    "\n",
    "from ods.fact_resultset_performance a\n",
    "  inner join returning_users_label f1 on f1.session_long=split_part(session_long_sk , '|' , 7) and f1.date_nk=a.date_nk\n",
    " where a.country_sk='olx|asia|in'\n",
    "and a.date_nk >= '2019-04-01'\n",
    "group by a.date_nk, Flow_new\n",
    "order by 1;\n",
    "\n",
    "\n",
    "\"\"\""
   ]
  },
  {
   "cell_type": "code",
   "execution_count": 141,
   "metadata": {},
   "outputs": [
    {
     "name": "stdout",
     "output_type": "stream",
     "text": [
      "Wall time: 21min 22s\n"
     ]
    }
   ],
   "source": [
    "%%time\n",
    "starters_to_dub_return = pd.read_sql_query(query.replace('%', '%%'), engine)"
   ]
  },
  {
   "cell_type": "code",
   "execution_count": 175,
   "metadata": {},
   "outputs": [],
   "source": [
    "starters_to_dub_return.to_excel('C:\\\\Users\\\\OLX - Lucas Dresi\\\\Documents\\\\Activation\\\\activation_returning.xlsx')"
   ]
  },
  {
   "cell_type": "code",
   "execution_count": 144,
   "metadata": {},
   "outputs": [
    {
     "data": {
      "text/plain": [
       "<matplotlib.axes._subplots.AxesSubplot at 0x162be019240>"
      ]
     },
     "execution_count": 144,
     "metadata": {},
     "output_type": "execute_result"
    },
    {
     "data": {
      "image/png": "[encoded data removed]",
      "text/plain": [
       "<Figure size 1080x360 with 1 Axes>"
      ]
     },
     "metadata": {},
     "output_type": "display_data"
    }
   ],
   "source": [
    "starters_to_dub_return['return_replier_to_starters_new'] = starters_to_dub_return['repliers_new_users'] / starters_to_dub_return['starters_new_users'] \n",
    "starters_to_dub_return.pivot_table(index='date_nk' , columns='flow_new' , values='return_replier_to_starters_new').plot(figsize=(15,5) , label='DUB / Starters of home,browse and search for returning users')"
   ]
  },
  {
   "cell_type": "code",
   "execution_count": 159,
   "metadata": {},
   "outputs": [
    {
     "data": {
      "text/plain": [
       "<matplotlib.axes._subplots.AxesSubplot at 0x162be64bd30>"
      ]
     },
     "execution_count": 159,
     "metadata": {},
     "output_type": "execute_result"
    },
    {
     "data": {
      "image/png": "[encoded data removed]",
      "text/plain": [
       "<Figure size 1080x360 with 1 Axes>"
      ]
     },
     "metadata": {},
     "output_type": "display_data"
    }
   ],
   "source": [
    "starters_to_dub_return['starters_to_adviewers'] = starters_to_dub_return['adviewers_new_users'] / starters_to_dub_return['starters_new_users']\n",
    "starters_to_dub_return['adviewers_to_repliers'] = starters_to_dub_return['repliers_new_users'] / starters_to_dub_return['adviewers_new_users']\n",
    "starters_to_dub_return.pivot_table(index='flow_new' , values=['adviewers_to_repliers' , 'starters_to_adviewers'] , aggfunc={'adviewers_to_repliers':'mean' ,'starters_to_adviewers':'mean'}).plot(kind='bar' , figsize=(15,5))"
   ]
  },
  {
   "cell_type": "code",
   "execution_count": 161,
   "metadata": {},
   "outputs": [
    {
     "data": {
      "text/html": [
       "<div>\n",
       "<style scoped>\n",
       "    .dataframe tbody tr th:only-of-type {\n",
       "        vertical-align: middle;\n",
       "    }\n",
       "\n",
       "    .dataframe tbody tr th {\n",
       "        vertical-align: top;\n",
       "    }\n",
       "\n",
       "    .dataframe thead th {\n",
       "        text-align: right;\n",
       "    }\n",
       "</style>\n",
       "<table border=\"1\" class=\"dataframe\">\n",
       "  <thead>\n",
       "    <tr style=\"text-align: right;\">\n",
       "      <th></th>\n",
       "      <th>adviewers_to_repliers</th>\n",
       "      <th>return_replier_to_starters_new</th>\n",
       "      <th>starters_to_adviewers</th>\n",
       "    </tr>\n",
       "    <tr>\n",
       "      <th>flow_new</th>\n",
       "      <th></th>\n",
       "      <th></th>\n",
       "      <th></th>\n",
       "    </tr>\n",
       "  </thead>\n",
       "  <tbody>\n",
       "    <tr>\n",
       "      <th>Browse</th>\n",
       "      <td>0.282983</td>\n",
       "      <td>0.232614</td>\n",
       "      <td>0.821915</td>\n",
       "    </tr>\n",
       "    <tr>\n",
       "      <th>Home</th>\n",
       "      <td>0.212548</td>\n",
       "      <td>0.102273</td>\n",
       "      <td>0.479541</td>\n",
       "    </tr>\n",
       "    <tr>\n",
       "      <th>Search</th>\n",
       "      <td>0.253075</td>\n",
       "      <td>0.211867</td>\n",
       "      <td>0.837008</td>\n",
       "    </tr>\n",
       "  </tbody>\n",
       "</table>\n",
       "</div>"
      ],
      "text/plain": [
       "          adviewers_to_repliers  return_replier_to_starters_new  \\\n",
       "flow_new                                                          \n",
       "Browse                 0.282983                        0.232614   \n",
       "Home                   0.212548                        0.102273   \n",
       "Search                 0.253075                        0.211867   \n",
       "\n",
       "          starters_to_adviewers  \n",
       "flow_new                         \n",
       "Browse                 0.821915  \n",
       "Home                   0.479541  \n",
       "Search                 0.837008  "
      ]
     },
     "execution_count": 161,
     "metadata": {},
     "output_type": "execute_result"
    }
   ],
   "source": [
    "starters_to_dub_return.pivot_table(index='flow_new' , values=['adviewers_to_repliers' , 'starters_to_adviewers' , 'return_replier_to_starters_new'] , aggfunc={'adviewers_to_repliers':'mean' ,'starters_to_adviewers':'mean' , 'return_replier_to_starters_new':'mean'})"
   ]
  },
  {
   "cell_type": "markdown",
   "metadata": {},
   "source": [
    "# App install to onboarding to login complete to home"
   ]
  },
  {
   "cell_type": "code",
   "execution_count": 51,
   "metadata": {},
   "outputs": [],
   "source": [
    "query = \"\"\"\n",
    "\n",
    ";drop table if exists app_install;\n",
    "select\n",
    "  session_long,\n",
    "  date_event_nk\n",
    "  into temp table app_install\n",
    "   from ods.panameraolx_asia_hydra_ninja_android_last_month\n",
    "  where\n",
    "    trackevent like '%app_install%'\n",
    "and session_long_seq = 1\n",
    "group by 1,2\n",
    "\n",
    ";drop table if exists onboarding_show;\n",
    "select\n",
    "  session_long,\n",
    "  date_event_nk\n",
    "  into temp table onboarding_show\n",
    "   from ods.panameraolx_asia_hydra_ninja_android_last_month\n",
    "  where\n",
    "    trackevent like '%onboarding_show%'\n",
    " group by 1,2\n",
    " \n",
    ";drop table if exists login_start;\n",
    "select\n",
    "  session_long,\n",
    "  date_event_nk\n",
    "  into temp table onboarding_show\n",
    "   from ods.panameraolx_asia_hydra_ninja_android_last_month\n",
    "  where\n",
    "    trackevent like '%login_sign_in_start%'\n",
    " group by 1,2\n",
    "\n",
    ";drop table if exists login_complete;\n",
    "select\n",
    "  session_long,\n",
    "  date_event_nk\n",
    "  into temp table login_complete\n",
    "   from ods.panameraolx_asia_hydra_ninja_android_last_month\n",
    "  where\n",
    "    trackevent like '%login_sign_in_complete%'\n",
    " group by 1,2\n",
    "\n",
    "\n",
    ";drop table if exists home;\n",
    "select\n",
    "  session_long,\n",
    "  date_event_nk\n",
    "  into temp table home\n",
    "   from ods.panameraolx_asia_hydra_ninja_android_last_month\n",
    "  where\n",
    "    trackevent like '%view_listings%'\n",
    " group by 1,2;\n",
    "\n",
    ";drop table if exists funnel_value_prop;\n",
    "select\n",
    "  a.session_long,\n",
    "  a.date_event_nk,\n",
    "  1 as app_open,\n",
    "  case when b.session_long is not null then 1 else 0 end as onboarding_show,\n",
    "  case when c.session_long is not null then 1 else 0 end as login_complete,\n",
    "  case when d.session_long is not null then 1 else 0 end as home\n",
    "  into temp table funnel_value_prop\n",
    "   from app_install a\n",
    "    left join onboarding_show b using (session_long,date_event_nk)\n",
    "    left join login_complete c using (session_long,date_event_nk)\n",
    "    left join home d using (session_long,date_event_nk);\n",
    "\n",
    "select\n",
    "  date_event_nk,\n",
    "  sum(app_open) as app_open,\n",
    "  sum(onboarding_show) as onboarding_show,\n",
    "  sum(login_complete) as login_complete,\n",
    "  sum(home) as home\n",
    "  from funnel_value_prop\n",
    "   where date_event_nk < '2019-05-24'\n",
    "  group by 1\n",
    "\n",
    "\n",
    "\"\"\""
   ]
  },
  {
   "cell_type": "code",
   "execution_count": 52,
   "metadata": {},
   "outputs": [
    {
     "name": "stdout",
     "output_type": "stream",
     "text": [
      "Wall time: 8min 17s\n"
     ]
    }
   ],
   "source": [
    "%%time\n",
    "prop_value = pd.read_sql_query(query.replace('%', '%%'), engine)"
   ]
  },
  {
   "cell_type": "code",
   "execution_count": 53,
   "metadata": {},
   "outputs": [
    {
     "data": {
      "text/html": [
       "<div>\n",
       "<style scoped>\n",
       "    .dataframe tbody tr th:only-of-type {\n",
       "        vertical-align: middle;\n",
       "    }\n",
       "\n",
       "    .dataframe tbody tr th {\n",
       "        vertical-align: top;\n",
       "    }\n",
       "\n",
       "    .dataframe thead th {\n",
       "        text-align: right;\n",
       "    }\n",
       "</style>\n",
       "<table border=\"1\" class=\"dataframe\">\n",
       "  <thead>\n",
       "    <tr style=\"text-align: right;\">\n",
       "      <th></th>\n",
       "      <th>date_event_nk</th>\n",
       "      <th>app_open</th>\n",
       "      <th>onboarding_show</th>\n",
       "      <th>login_complete</th>\n",
       "      <th>home</th>\n",
       "    </tr>\n",
       "  </thead>\n",
       "  <tbody>\n",
       "    <tr>\n",
       "      <th>0</th>\n",
       "      <td>2019-05-19</td>\n",
       "      <td>196771</td>\n",
       "      <td>194403</td>\n",
       "      <td>179565</td>\n",
       "      <td>177742</td>\n",
       "    </tr>\n",
       "    <tr>\n",
       "      <th>1</th>\n",
       "      <td>2019-05-20</td>\n",
       "      <td>188721</td>\n",
       "      <td>186093</td>\n",
       "      <td>171479</td>\n",
       "      <td>170800</td>\n",
       "    </tr>\n",
       "    <tr>\n",
       "      <th>2</th>\n",
       "      <td>2019-05-02</td>\n",
       "      <td>189418</td>\n",
       "      <td>187053</td>\n",
       "      <td>170378</td>\n",
       "      <td>169578</td>\n",
       "    </tr>\n",
       "    <tr>\n",
       "      <th>3</th>\n",
       "      <td>2019-05-01</td>\n",
       "      <td>185993</td>\n",
       "      <td>183788</td>\n",
       "      <td>166989</td>\n",
       "      <td>166157</td>\n",
       "    </tr>\n",
       "    <tr>\n",
       "      <th>4</th>\n",
       "      <td>2019-05-10</td>\n",
       "      <td>182947</td>\n",
       "      <td>180549</td>\n",
       "      <td>164960</td>\n",
       "      <td>162789</td>\n",
       "    </tr>\n",
       "  </tbody>\n",
       "</table>\n",
       "</div>"
      ],
      "text/plain": [
       "  date_event_nk  app_open  onboarding_show  login_complete    home\n",
       "0    2019-05-19    196771           194403          179565  177742\n",
       "1    2019-05-20    188721           186093          171479  170800\n",
       "2    2019-05-02    189418           187053          170378  169578\n",
       "3    2019-05-01    185993           183788          166989  166157\n",
       "4    2019-05-10    182947           180549          164960  162789"
      ]
     },
     "execution_count": 53,
     "metadata": {},
     "output_type": "execute_result"
    }
   ],
   "source": [
    "prop_value.head()"
   ]
  },
  {
   "cell_type": "code",
   "execution_count": null,
   "metadata": {},
   "outputs": [],
   "source": [
    "prop_value['appinstall_to_onboarding']"
   ]
  },
  {
   "cell_type": "markdown",
   "metadata": {},
   "source": [
    "# Activation (MUL and MUB) / MAU"
   ]
  },
  {
   "cell_type": "code",
   "execution_count": 130,
   "metadata": {},
   "outputs": [],
   "source": [
    "query = \"\"\"\n",
    "\n",
    "\n",
    ";drop table if exists mau;\n",
    "select\n",
    "  extract(month from date_nk) as month,\n",
    "  session_long\n",
    "  into temp mau\n",
    "   from ods.fact_user_hydra_browsing_activity\n",
    " where is_panamera=true\n",
    " and country_sk='olx|asia|in'\n",
    " and extract(year from date_nk)=2019\n",
    "  group by 1,2\n",
    "\n",
    ";drop table if exists session_long_and_usersk;\n",
    "select\n",
    "  extract(month from date_nk) as month,\n",
    "  session_long,\n",
    "  user_sk\n",
    "  into temp table session_long_and_usersk\n",
    "     from ods.fact_user_hydra_browsing_activity\n",
    "    where is_panamera = true\n",
    " and country_sk='olx|asia|in'\n",
    " and user_sk != 'unknown'\n",
    " and extract(year from date_nk)=2019\n",
    "group by 1,2,3\n",
    "\n",
    ";drop table if exists mau_with_user_sk;\n",
    "select\n",
    "  f1.month,\n",
    "  f1.session_long,\n",
    "  f2.user_sk\n",
    "  into temp table mau_with_user_sk\n",
    "  from mau f1\n",
    "    left join session_long_and_usersk f2 on f1.session_long=f2.session_long and f1.month=f2.month\n",
    " order by 2,1\n",
    "\n",
    ";drop table if exists mau_listers;\n",
    "select\n",
    "  extract(month from date_posted_nk) as month,\n",
    "  user_sk\n",
    "  into temp table mau_listers\n",
    " from ods.fact_listings\n",
    " where\n",
    "    listing_net_sk like 'net%'\n",
    "and country_sk='olx|asia|in'\n",
    "and extract(year from date_posted_nk)=2019\n",
    "group by 1,2\n",
    "\n",
    ";drop table if exists mau_repliers;\n",
    "select\n",
    "  extract(month from date_sent_nk) as month,\n",
    "  panamera_user_sk\n",
    " into temp mau_repliers\n",
    " from ods.fact_replies\n",
    "where reply_num=1\n",
    "  and country_sk='olx|asia|in'\n",
    "  and extract(year from date_sent_nk)=2019\n",
    "  and panamera_user_sk!='unknown'\n",
    "group by 1,2\n",
    "\n",
    ";drop table if exists mau_users;\n",
    "select\n",
    "  month,\n",
    "  count(distinct session_long) as mau\n",
    "   into temp mau_users\n",
    "  from mau\n",
    "  group by 1 order by 1\n",
    "\n",
    ";drop table if exists activation_mau;\n",
    "select\n",
    "  a.month,\n",
    "  count(distinct session_long) as activation_mau\n",
    "  into temp table activation_mau\n",
    "from mau_with_user_sk a\n",
    "  inner join mau_listers b on a.user_sk=b.user_sk and a.month=b.month\n",
    "  inner join mau_repliers c on a.user_sk=c.panamera_user_sk and a.month=b.month\n",
    "group by 1;\n",
    "\n",
    "select\n",
    "  t.month,\n",
    "  t.mau,\n",
    "  b.activation_mau\n",
    "   from mau_users t\n",
    "  inner join activation_mau b on b.month=t.month\n",
    "\n",
    "\"\"\""
   ]
  },
  {
   "cell_type": "code",
   "execution_count": 135,
   "metadata": {},
   "outputs": [
    {
     "name": "stdout",
     "output_type": "stream",
     "text": [
      "Wall time: 6min 15s\n"
     ]
    }
   ],
   "source": [
    "%%time\n",
    "activation_over_mau = pd.read_sql_query(query.replace('%', '%%'), engine)"
   ]
  },
  {
   "cell_type": "code",
   "execution_count": 136,
   "metadata": {},
   "outputs": [
    {
     "data": {
      "text/html": [
       "<div>\n",
       "<style scoped>\n",
       "    .dataframe tbody tr th:only-of-type {\n",
       "        vertical-align: middle;\n",
       "    }\n",
       "\n",
       "    .dataframe tbody tr th {\n",
       "        vertical-align: top;\n",
       "    }\n",
       "\n",
       "    .dataframe thead th {\n",
       "        text-align: right;\n",
       "    }\n",
       "</style>\n",
       "<table border=\"1\" class=\"dataframe\">\n",
       "  <thead>\n",
       "    <tr style=\"text-align: right;\">\n",
       "      <th></th>\n",
       "      <th>month</th>\n",
       "      <th>mau</th>\n",
       "      <th>activation_mau</th>\n",
       "    </tr>\n",
       "  </thead>\n",
       "  <tbody>\n",
       "    <tr>\n",
       "      <th>0</th>\n",
       "      <td>2</td>\n",
       "      <td>20079402</td>\n",
       "      <td>1481858</td>\n",
       "    </tr>\n",
       "    <tr>\n",
       "      <th>1</th>\n",
       "      <td>4</td>\n",
       "      <td>27613915</td>\n",
       "      <td>1776199</td>\n",
       "    </tr>\n",
       "    <tr>\n",
       "      <th>2</th>\n",
       "      <td>1</td>\n",
       "      <td>2544</td>\n",
       "      <td>209</td>\n",
       "    </tr>\n",
       "    <tr>\n",
       "      <th>3</th>\n",
       "      <td>3</td>\n",
       "      <td>27725567</td>\n",
       "      <td>1859414</td>\n",
       "    </tr>\n",
       "    <tr>\n",
       "      <th>4</th>\n",
       "      <td>6</td>\n",
       "      <td>17954401</td>\n",
       "      <td>785491</td>\n",
       "    </tr>\n",
       "  </tbody>\n",
       "</table>\n",
       "</div>"
      ],
      "text/plain": [
       "   month       mau  activation_mau\n",
       "0      2  20079402         1481858\n",
       "1      4  27613915         1776199\n",
       "2      1      2544             209\n",
       "3      3  27725567         1859414\n",
       "4      6  17954401          785491"
      ]
     },
     "execution_count": 136,
     "metadata": {},
     "output_type": "execute_result"
    }
   ],
   "source": [
    "activation_over_mau.head()"
   ]
  },
  {
   "cell_type": "code",
   "execution_count": 137,
   "metadata": {},
   "outputs": [
    {
     "data": {
      "text/plain": [
       "<matplotlib.axes._subplots.AxesSubplot at 0x162bdbf83c8>"
      ]
     },
     "execution_count": 137,
     "metadata": {},
     "output_type": "execute_result"
    },
    {
     "data": {
      "image/png": "[encoded data removed]",
      "text/plain": [
       "<Figure size 1080x360 with 1 Axes>"
      ]
     },
     "metadata": {
      "needs_background": "light"
     },
     "output_type": "display_data"
    }
   ],
   "source": [
    "activation_over_mau['activation_over_mau'] = activation_over_mau['activation_mau'] / activation_over_mau['mau']\n",
    "activation_over_mau = activation_over_mau.sort_values(['month'])\n",
    "activation_over_mau = activation_over_mau.set_index('month')\n",
    "activation_over_mau_plot = activation_over_mau[['activation_over_mau']]\n",
    "activation_over_mau_plot.plot(title='Activation (MUL and MUB) / MAU' , figsize=(15,5))"
   ]
  },
  {
   "cell_type": "markdown",
   "metadata": {},
   "source": [
    "# DUL (30 days) / DAU new"
   ]
  },
  {
   "cell_type": "code",
   "execution_count": 106,
   "metadata": {},
   "outputs": [],
   "source": [
    "query = \"\"\"\n",
    "\n",
    "drop table if exists dau_new;\n",
    "select\n",
    "  date_nk,\n",
    "  count(distinct session_long) as new_dau\n",
    "   into temp table dau_new\n",
    "   from ods.fact_user_hydra_browsing_activity\n",
    " where\n",
    "   is_panamera = true\n",
    "    and date_nk >= '2019-05-01'\n",
    "    and country_sk in ('olx|asia|in')\n",
    "    and user_active_new_returning_nk = 'new'\n",
    "group by 1\n",
    "order by 1\n",
    "\n",
    ";drop table if exists new_users_label;\n",
    "select\n",
    "  date_nk,\n",
    "  session_long,\n",
    "  user_sk\n",
    "   into temp table new_users_label\n",
    "    from ods.fact_user_hydra_browsing_activity\n",
    "  where\n",
    "    is_panamera = true\n",
    "and country_sk = 'olx|asia|in'\n",
    "and user_active_new_returning_nk = 'new'\n",
    " group by 1,2,3\n",
    "\n",
    ";drop table if exists listingss;\n",
    "select\n",
    "   date_nk,\n",
    "   count(distinct f1.user_sk) as new_user_post_30_days\n",
    "  into temp table listingss\n",
    "  from ods.fact_listings f1\n",
    "    inner join new_users_label f2 on f1.user_sk=f2.user_sk\n",
    "    where country_sk = 'olx|asia|in'\n",
    "  and listing_net_sk like 'net%'\n",
    "  and date_posted_nk >= '2019-05-01'\n",
    "  and datediff(days ,date_nk,date_posted_nk) < 30\n",
    "  group by 1;\n",
    "\n",
    "select \n",
    "  b.date_nk,\n",
    "  b.new_dau,\n",
    "  a.new_user_post_30_days\n",
    "  from dau_new b\n",
    "   inner join listingss a on a.date_nk=b.date_nk\n",
    "   \n",
    "\n",
    "\"\"\""
   ]
  },
  {
   "cell_type": "code",
   "execution_count": 107,
   "metadata": {},
   "outputs": [
    {
     "name": "stdout",
     "output_type": "stream",
     "text": [
      "Wall time: 3min 43s\n"
     ]
    }
   ],
   "source": [
    "%%time\n",
    "df_news_to_post = pd.read_sql_query(query.replace('%', '%%'), engine)"
   ]
  },
  {
   "cell_type": "code",
   "execution_count": 110,
   "metadata": {},
   "outputs": [
    {
     "data": {
      "text/html": [
       "<div>\n",
       "<style scoped>\n",
       "    .dataframe tbody tr th:only-of-type {\n",
       "        vertical-align: middle;\n",
       "    }\n",
       "\n",
       "    .dataframe tbody tr th {\n",
       "        vertical-align: top;\n",
       "    }\n",
       "\n",
       "    .dataframe thead th {\n",
       "        text-align: right;\n",
       "    }\n",
       "</style>\n",
       "<table border=\"1\" class=\"dataframe\">\n",
       "  <thead>\n",
       "    <tr style=\"text-align: right;\">\n",
       "      <th></th>\n",
       "      <th>date_nk</th>\n",
       "      <th>new_dau</th>\n",
       "      <th>new_user_post_30_days</th>\n",
       "      <th>DUL(30 days) / DAU new</th>\n",
       "    </tr>\n",
       "  </thead>\n",
       "  <tbody>\n",
       "    <tr>\n",
       "      <th>0</th>\n",
       "      <td>2019-05-02</td>\n",
       "      <td>460631</td>\n",
       "      <td>40373</td>\n",
       "      <td>0.087647</td>\n",
       "    </tr>\n",
       "    <tr>\n",
       "      <th>1</th>\n",
       "      <td>2019-05-16</td>\n",
       "      <td>463352</td>\n",
       "      <td>48220</td>\n",
       "      <td>0.104068</td>\n",
       "    </tr>\n",
       "    <tr>\n",
       "      <th>2</th>\n",
       "      <td>2019-05-10</td>\n",
       "      <td>446982</td>\n",
       "      <td>43009</td>\n",
       "      <td>0.096221</td>\n",
       "    </tr>\n",
       "    <tr>\n",
       "      <th>3</th>\n",
       "      <td>2019-05-01</td>\n",
       "      <td>477561</td>\n",
       "      <td>40087</td>\n",
       "      <td>0.083941</td>\n",
       "    </tr>\n",
       "    <tr>\n",
       "      <th>4</th>\n",
       "      <td>2019-06-06</td>\n",
       "      <td>481600</td>\n",
       "      <td>42750</td>\n",
       "      <td>0.088767</td>\n",
       "    </tr>\n",
       "  </tbody>\n",
       "</table>\n",
       "</div>"
      ],
      "text/plain": [
       "      date_nk  new_dau  new_user_post_30_days  DUL(30 days) / DAU new\n",
       "0  2019-05-02   460631                  40373                0.087647\n",
       "1  2019-05-16   463352                  48220                0.104068\n",
       "2  2019-05-10   446982                  43009                0.096221\n",
       "3  2019-05-01   477561                  40087                0.083941\n",
       "4  2019-06-06   481600                  42750                0.088767"
      ]
     },
     "execution_count": 110,
     "metadata": {},
     "output_type": "execute_result"
    }
   ],
   "source": [
    "df_news_to_post.head()"
   ]
  },
  {
   "cell_type": "code",
   "execution_count": 111,
   "metadata": {},
   "outputs": [
    {
     "data": {
      "text/plain": [
       "<matplotlib.axes._subplots.AxesSubplot at 0x162bd3be4a8>"
      ]
     },
     "execution_count": 111,
     "metadata": {},
     "output_type": "execute_result"
    },
    {
     "data": {
      "image/png": "[encoded data removed]",
      "text/plain": [
       "<Figure size 1080x360 with 1 Axes>"
      ]
     },
     "metadata": {
      "needs_background": "light"
     },
     "output_type": "display_data"
    }
   ],
   "source": [
    "df_news_to_post['DUL(30 days) / DAU new'] = df_news_to_post['new_user_post_30_days'] / df_news_to_post['new_dau']\n",
    "df_news_to_post = df_news_to_post.set_index('date_nk')\n",
    "df_news_to_post_plot = df_news_to_post[['DUL(30 days) / DAU new']]\n",
    "df_news_to_post_plot.plot(figsize=(15,5) , title='DUL(30 days) / DAU new')"
   ]
  },
  {
   "cell_type": "markdown",
   "metadata": {},
   "source": [
    "# DUB (30 days) / DAU new"
   ]
  },
  {
   "cell_type": "code",
   "execution_count": 124,
   "metadata": {},
   "outputs": [],
   "source": [
    "query = \"\"\"\n",
    "\n",
    "drop table if exists dau_new;\n",
    "select\n",
    "  date_nk,\n",
    "  count(distinct session_long) as new_dau\n",
    "   into temp table dau_new\n",
    "   from ods.fact_user_hydra_browsing_activity\n",
    " where\n",
    "   is_panamera = true\n",
    "    and date_nk >= '2019-05-01'\n",
    "    and country_sk in ('olx|asia|in')\n",
    "    and user_active_new_returning_nk = 'new'\n",
    "group by 1\n",
    "order by 1\n",
    "\n",
    ";drop table if exists new_users_label;\n",
    "select\n",
    "  date_nk,\n",
    "  session_long,\n",
    "  user_sk\n",
    "   into temp table new_users_label\n",
    "    from ods.fact_user_hydra_browsing_activity\n",
    "  where\n",
    "    is_panamera = true\n",
    "and country_sk = 'olx|asia|in'\n",
    "and user_active_new_returning_nk = 'new'\n",
    " group by 1,2,3\n",
    "\n",
    ";drop table if exists repliess;\n",
    "select\n",
    "   date_nk,\n",
    "   count(distinct f1.panamera_user_sk) as new_user_replies_30_days\n",
    "  into temp table repliess\n",
    "  from ods.fact_replies f1\n",
    "    inner join new_users_label f2 on f1.panamera_user_sk=f2.user_sk\n",
    "    where country_sk = 'olx|asia|in'\n",
    "  and date_nk >= '2019-05-01'\n",
    "  and reply_num = 1\n",
    "  and datediff(days ,f2.date_nk,f1.date_sent_nk) < 30\n",
    "  group by 1;\n",
    "\n",
    "select \n",
    "  b.date_nk,\n",
    "  b.new_dau,\n",
    "  a.new_user_replies_30_days\n",
    "  from dau_new b\n",
    "   inner join repliess a on a.date_nk=b.date_nk\n",
    "   \n",
    "\n",
    "\"\"\""
   ]
  },
  {
   "cell_type": "code",
   "execution_count": 127,
   "metadata": {},
   "outputs": [
    {
     "ename": "OperationalError",
     "evalue": "(psycopg2.extensions.QueryCanceledError) Query (34398321) canceled on user's request and ran out of wlm queues for restart.\n [SQL: \"\\n\\ndrop table if exists dau_new;\\nselect\\n  date_nk,\\n  count(distinct session_long) as new_dau\\n   into temp table dau_new\\n   from ods.fact_user_hydra_browsing_activity\\n where\\n   is_panamera = true\\n    and date_nk >= '2019-05-01'\\n    and country_sk in ('olx|asia|in')\\n    and user_active_new_returning_nk = 'new'\\ngroup by 1\\norder by 1\\n\\n;drop table if exists new_users_label;\\nselect\\n  date_nk,\\n  session_long,\\n  user_sk\\n   into temp table new_users_label\\n    from ods.fact_user_hydra_browsing_activity\\n  where\\n    is_panamera = true\\nand country_sk = 'olx|asia|in'\\nand user_active_new_returning_nk = 'new'\\n group by 1,2,3\\n\\n;drop table if exists repliess;\\nselect\\n   date_nk,\\n   count(distinct f1.panamera_user_sk) as new_user_replies_30_days\\n  into temp table repliess\\n  from ods.fact_replies f1\\n    inner join new_users_label f2 on f1.panamera_user_sk=f2.user_sk\\n    where country_sk = 'olx|asia|in'\\n  and date_nk >= '2019-05-01'\\n  and reply_num = 1\\n  and datediff(days ,f2.date_nk,f1.date_sent_nk) < 30\\n  group by 1;\\n\\nselect \\n  b.date_nk,\\n  b.new_dau,\\n  a.new_user_replies_30_days\\n  from dau_new b\\n   inner join repliess a on a.date_nk=b.date_nk\\n   \\n\\n\"] (Background on this error at: http://sqlalche.me/e/e3q8)",
     "output_type": "error",
     "traceback": [
      "\u001b[1;31m---------------------------------------------------------------------------\u001b[0m",
      "\u001b[1;31mQueryCanceledError\u001b[0m                        Traceback (most recent call last)",
      "\u001b[1;32m~\\Anaconda3\\lib\\site-packages\\sqlalchemy\\engine\\base.py\u001b[0m in \u001b[0;36m_execute_context\u001b[1;34m(self, dialect, constructor, statement, parameters, *args)\u001b[0m\n\u001b[0;32m   1192\u001b[0m                         \u001b[0mparameters\u001b[0m\u001b[1;33m,\u001b[0m\u001b[1;33m\u001b[0m\u001b[1;33m\u001b[0m\u001b[0m\n\u001b[1;32m-> 1193\u001b[1;33m                         context)\n\u001b[0m\u001b[0;32m   1194\u001b[0m         \u001b[1;32mexcept\u001b[0m \u001b[0mBaseException\u001b[0m \u001b[1;32mas\u001b[0m \u001b[0me\u001b[0m\u001b[1;33m:\u001b[0m\u001b[1;33m\u001b[0m\u001b[1;33m\u001b[0m\u001b[0m\n",
      "\u001b[1;32m~\\Anaconda3\\lib\\site-packages\\sqlalchemy\\engine\\default.py\u001b[0m in \u001b[0;36mdo_execute\u001b[1;34m(self, cursor, statement, parameters, context)\u001b[0m\n\u001b[0;32m    508\u001b[0m     \u001b[1;32mdef\u001b[0m \u001b[0mdo_execute\u001b[0m\u001b[1;33m(\u001b[0m\u001b[0mself\u001b[0m\u001b[1;33m,\u001b[0m \u001b[0mcursor\u001b[0m\u001b[1;33m,\u001b[0m \u001b[0mstatement\u001b[0m\u001b[1;33m,\u001b[0m \u001b[0mparameters\u001b[0m\u001b[1;33m,\u001b[0m \u001b[0mcontext\u001b[0m\u001b[1;33m=\u001b[0m\u001b[1;32mNone\u001b[0m\u001b[1;33m)\u001b[0m\u001b[1;33m:\u001b[0m\u001b[1;33m\u001b[0m\u001b[1;33m\u001b[0m\u001b[0m\n\u001b[1;32m--> 509\u001b[1;33m         \u001b[0mcursor\u001b[0m\u001b[1;33m.\u001b[0m\u001b[0mexecute\u001b[0m\u001b[1;33m(\u001b[0m\u001b[0mstatement\u001b[0m\u001b[1;33m,\u001b[0m \u001b[0mparameters\u001b[0m\u001b[1;33m)\u001b[0m\u001b[1;33m\u001b[0m\u001b[1;33m\u001b[0m\u001b[0m\n\u001b[0m\u001b[0;32m    510\u001b[0m \u001b[1;33m\u001b[0m\u001b[0m\n",
      "\u001b[1;31mQueryCanceledError\u001b[0m: Query (34398321) canceled on user's request and ran out of wlm queues for restart.\n",
      "\nThe above exception was the direct cause of the following exception:\n",
      "\u001b[1;31mOperationalError\u001b[0m                          Traceback (most recent call last)",
      "\u001b[1;32m<timed exec>\u001b[0m in \u001b[0;36m<module>\u001b[1;34m\u001b[0m\n",
      "\u001b[1;32m~\\Anaconda3\\lib\\site-packages\\pandas\\io\\sql.py\u001b[0m in \u001b[0;36mread_sql_query\u001b[1;34m(sql, con, index_col, coerce_float, params, parse_dates, chunksize)\u001b[0m\n\u001b[0;32m    312\u001b[0m     return pandas_sql.read_query(\n\u001b[0;32m    313\u001b[0m         \u001b[0msql\u001b[0m\u001b[1;33m,\u001b[0m \u001b[0mindex_col\u001b[0m\u001b[1;33m=\u001b[0m\u001b[0mindex_col\u001b[0m\u001b[1;33m,\u001b[0m \u001b[0mparams\u001b[0m\u001b[1;33m=\u001b[0m\u001b[0mparams\u001b[0m\u001b[1;33m,\u001b[0m \u001b[0mcoerce_float\u001b[0m\u001b[1;33m=\u001b[0m\u001b[0mcoerce_float\u001b[0m\u001b[1;33m,\u001b[0m\u001b[1;33m\u001b[0m\u001b[1;33m\u001b[0m\u001b[0m\n\u001b[1;32m--> 314\u001b[1;33m         parse_dates=parse_dates, chunksize=chunksize)\n\u001b[0m\u001b[0;32m    315\u001b[0m \u001b[1;33m\u001b[0m\u001b[0m\n\u001b[0;32m    316\u001b[0m \u001b[1;33m\u001b[0m\u001b[0m\n",
      "\u001b[1;32m~\\Anaconda3\\lib\\site-packages\\pandas\\io\\sql.py\u001b[0m in \u001b[0;36mread_query\u001b[1;34m(self, sql, index_col, coerce_float, parse_dates, params, chunksize)\u001b[0m\n\u001b[0;32m   1097\u001b[0m         \u001b[0margs\u001b[0m \u001b[1;33m=\u001b[0m \u001b[0m_convert_params\u001b[0m\u001b[1;33m(\u001b[0m\u001b[0msql\u001b[0m\u001b[1;33m,\u001b[0m \u001b[0mparams\u001b[0m\u001b[1;33m)\u001b[0m\u001b[1;33m\u001b[0m\u001b[1;33m\u001b[0m\u001b[0m\n\u001b[0;32m   1098\u001b[0m \u001b[1;33m\u001b[0m\u001b[0m\n\u001b[1;32m-> 1099\u001b[1;33m         \u001b[0mresult\u001b[0m \u001b[1;33m=\u001b[0m \u001b[0mself\u001b[0m\u001b[1;33m.\u001b[0m\u001b[0mexecute\u001b[0m\u001b[1;33m(\u001b[0m\u001b[1;33m*\u001b[0m\u001b[0margs\u001b[0m\u001b[1;33m)\u001b[0m\u001b[1;33m\u001b[0m\u001b[1;33m\u001b[0m\u001b[0m\n\u001b[0m\u001b[0;32m   1100\u001b[0m         \u001b[0mcolumns\u001b[0m \u001b[1;33m=\u001b[0m \u001b[0mresult\u001b[0m\u001b[1;33m.\u001b[0m\u001b[0mkeys\u001b[0m\u001b[1;33m(\u001b[0m\u001b[1;33m)\u001b[0m\u001b[1;33m\u001b[0m\u001b[1;33m\u001b[0m\u001b[0m\n\u001b[0;32m   1101\u001b[0m \u001b[1;33m\u001b[0m\u001b[0m\n",
      "\u001b[1;32m~\\Anaconda3\\lib\\site-packages\\pandas\\io\\sql.py\u001b[0m in \u001b[0;36mexecute\u001b[1;34m(self, *args, **kwargs)\u001b[0m\n\u001b[0;32m    988\u001b[0m     \u001b[1;32mdef\u001b[0m \u001b[0mexecute\u001b[0m\u001b[1;33m(\u001b[0m\u001b[0mself\u001b[0m\u001b[1;33m,\u001b[0m \u001b[1;33m*\u001b[0m\u001b[0margs\u001b[0m\u001b[1;33m,\u001b[0m \u001b[1;33m**\u001b[0m\u001b[0mkwargs\u001b[0m\u001b[1;33m)\u001b[0m\u001b[1;33m:\u001b[0m\u001b[1;33m\u001b[0m\u001b[1;33m\u001b[0m\u001b[0m\n\u001b[0;32m    989\u001b[0m         \u001b[1;34m\"\"\"Simple passthrough to SQLAlchemy connectable\"\"\"\u001b[0m\u001b[1;33m\u001b[0m\u001b[1;33m\u001b[0m\u001b[0m\n\u001b[1;32m--> 990\u001b[1;33m         \u001b[1;32mreturn\u001b[0m \u001b[0mself\u001b[0m\u001b[1;33m.\u001b[0m\u001b[0mconnectable\u001b[0m\u001b[1;33m.\u001b[0m\u001b[0mexecute\u001b[0m\u001b[1;33m(\u001b[0m\u001b[1;33m*\u001b[0m\u001b[0margs\u001b[0m\u001b[1;33m,\u001b[0m \u001b[1;33m**\u001b[0m\u001b[0mkwargs\u001b[0m\u001b[1;33m)\u001b[0m\u001b[1;33m\u001b[0m\u001b[1;33m\u001b[0m\u001b[0m\n\u001b[0m\u001b[0;32m    991\u001b[0m \u001b[1;33m\u001b[0m\u001b[0m\n\u001b[0;32m    992\u001b[0m     def read_table(self, table_name, index_col=None, coerce_float=True,\n",
      "\u001b[1;32m~\\Anaconda3\\lib\\site-packages\\sqlalchemy\\engine\\base.py\u001b[0m in \u001b[0;36mexecute\u001b[1;34m(self, statement, *multiparams, **params)\u001b[0m\n\u001b[0;32m   2073\u001b[0m \u001b[1;33m\u001b[0m\u001b[0m\n\u001b[0;32m   2074\u001b[0m         \u001b[0mconnection\u001b[0m \u001b[1;33m=\u001b[0m \u001b[0mself\u001b[0m\u001b[1;33m.\u001b[0m\u001b[0mcontextual_connect\u001b[0m\u001b[1;33m(\u001b[0m\u001b[0mclose_with_result\u001b[0m\u001b[1;33m=\u001b[0m\u001b[1;32mTrue\u001b[0m\u001b[1;33m)\u001b[0m\u001b[1;33m\u001b[0m\u001b[1;33m\u001b[0m\u001b[0m\n\u001b[1;32m-> 2075\u001b[1;33m         \u001b[1;32mreturn\u001b[0m \u001b[0mconnection\u001b[0m\u001b[1;33m.\u001b[0m\u001b[0mexecute\u001b[0m\u001b[1;33m(\u001b[0m\u001b[0mstatement\u001b[0m\u001b[1;33m,\u001b[0m \u001b[1;33m*\u001b[0m\u001b[0mmultiparams\u001b[0m\u001b[1;33m,\u001b[0m \u001b[1;33m**\u001b[0m\u001b[0mparams\u001b[0m\u001b[1;33m)\u001b[0m\u001b[1;33m\u001b[0m\u001b[1;33m\u001b[0m\u001b[0m\n\u001b[0m\u001b[0;32m   2076\u001b[0m \u001b[1;33m\u001b[0m\u001b[0m\n\u001b[0;32m   2077\u001b[0m     \u001b[1;32mdef\u001b[0m \u001b[0mscalar\u001b[0m\u001b[1;33m(\u001b[0m\u001b[0mself\u001b[0m\u001b[1;33m,\u001b[0m \u001b[0mstatement\u001b[0m\u001b[1;33m,\u001b[0m \u001b[1;33m*\u001b[0m\u001b[0mmultiparams\u001b[0m\u001b[1;33m,\u001b[0m \u001b[1;33m**\u001b[0m\u001b[0mparams\u001b[0m\u001b[1;33m)\u001b[0m\u001b[1;33m:\u001b[0m\u001b[1;33m\u001b[0m\u001b[1;33m\u001b[0m\u001b[0m\n",
      "\u001b[1;32m~\\Anaconda3\\lib\\site-packages\\sqlalchemy\\engine\\base.py\u001b[0m in \u001b[0;36mexecute\u001b[1;34m(self, object, *multiparams, **params)\u001b[0m\n\u001b[0;32m    940\u001b[0m         \"\"\"\n\u001b[0;32m    941\u001b[0m         \u001b[1;32mif\u001b[0m \u001b[0misinstance\u001b[0m\u001b[1;33m(\u001b[0m\u001b[0mobject\u001b[0m\u001b[1;33m,\u001b[0m \u001b[0mutil\u001b[0m\u001b[1;33m.\u001b[0m\u001b[0mstring_types\u001b[0m\u001b[1;33m[\u001b[0m\u001b[1;36m0\u001b[0m\u001b[1;33m]\u001b[0m\u001b[1;33m)\u001b[0m\u001b[1;33m:\u001b[0m\u001b[1;33m\u001b[0m\u001b[1;33m\u001b[0m\u001b[0m\n\u001b[1;32m--> 942\u001b[1;33m             \u001b[1;32mreturn\u001b[0m \u001b[0mself\u001b[0m\u001b[1;33m.\u001b[0m\u001b[0m_execute_text\u001b[0m\u001b[1;33m(\u001b[0m\u001b[0mobject\u001b[0m\u001b[1;33m,\u001b[0m \u001b[0mmultiparams\u001b[0m\u001b[1;33m,\u001b[0m \u001b[0mparams\u001b[0m\u001b[1;33m)\u001b[0m\u001b[1;33m\u001b[0m\u001b[1;33m\u001b[0m\u001b[0m\n\u001b[0m\u001b[0;32m    943\u001b[0m         \u001b[1;32mtry\u001b[0m\u001b[1;33m:\u001b[0m\u001b[1;33m\u001b[0m\u001b[1;33m\u001b[0m\u001b[0m\n\u001b[0;32m    944\u001b[0m             \u001b[0mmeth\u001b[0m \u001b[1;33m=\u001b[0m \u001b[0mobject\u001b[0m\u001b[1;33m.\u001b[0m\u001b[0m_execute_on_connection\u001b[0m\u001b[1;33m\u001b[0m\u001b[1;33m\u001b[0m\u001b[0m\n",
      "\u001b[1;32m~\\Anaconda3\\lib\\site-packages\\sqlalchemy\\engine\\base.py\u001b[0m in \u001b[0;36m_execute_text\u001b[1;34m(self, statement, multiparams, params)\u001b[0m\n\u001b[0;32m   1102\u001b[0m             \u001b[0mstatement\u001b[0m\u001b[1;33m,\u001b[0m\u001b[1;33m\u001b[0m\u001b[1;33m\u001b[0m\u001b[0m\n\u001b[0;32m   1103\u001b[0m             \u001b[0mparameters\u001b[0m\u001b[1;33m,\u001b[0m\u001b[1;33m\u001b[0m\u001b[1;33m\u001b[0m\u001b[0m\n\u001b[1;32m-> 1104\u001b[1;33m             \u001b[0mstatement\u001b[0m\u001b[1;33m,\u001b[0m \u001b[0mparameters\u001b[0m\u001b[1;33m\u001b[0m\u001b[1;33m\u001b[0m\u001b[0m\n\u001b[0m\u001b[0;32m   1105\u001b[0m         )\n\u001b[0;32m   1106\u001b[0m         \u001b[1;32mif\u001b[0m \u001b[0mself\u001b[0m\u001b[1;33m.\u001b[0m\u001b[0m_has_events\u001b[0m \u001b[1;32mor\u001b[0m \u001b[0mself\u001b[0m\u001b[1;33m.\u001b[0m\u001b[0mengine\u001b[0m\u001b[1;33m.\u001b[0m\u001b[0m_has_events\u001b[0m\u001b[1;33m:\u001b[0m\u001b[1;33m\u001b[0m\u001b[1;33m\u001b[0m\u001b[0m\n",
      "\u001b[1;32m~\\Anaconda3\\lib\\site-packages\\sqlalchemy\\engine\\base.py\u001b[0m in \u001b[0;36m_execute_context\u001b[1;34m(self, dialect, constructor, statement, parameters, *args)\u001b[0m\n\u001b[0;32m   1198\u001b[0m                 \u001b[0mparameters\u001b[0m\u001b[1;33m,\u001b[0m\u001b[1;33m\u001b[0m\u001b[1;33m\u001b[0m\u001b[0m\n\u001b[0;32m   1199\u001b[0m                 \u001b[0mcursor\u001b[0m\u001b[1;33m,\u001b[0m\u001b[1;33m\u001b[0m\u001b[1;33m\u001b[0m\u001b[0m\n\u001b[1;32m-> 1200\u001b[1;33m                 context)\n\u001b[0m\u001b[0;32m   1201\u001b[0m \u001b[1;33m\u001b[0m\u001b[0m\n\u001b[0;32m   1202\u001b[0m         \u001b[1;32mif\u001b[0m \u001b[0mself\u001b[0m\u001b[1;33m.\u001b[0m\u001b[0m_has_events\u001b[0m \u001b[1;32mor\u001b[0m \u001b[0mself\u001b[0m\u001b[1;33m.\u001b[0m\u001b[0mengine\u001b[0m\u001b[1;33m.\u001b[0m\u001b[0m_has_events\u001b[0m\u001b[1;33m:\u001b[0m\u001b[1;33m\u001b[0m\u001b[1;33m\u001b[0m\u001b[0m\n",
      "\u001b[1;32m~\\Anaconda3\\lib\\site-packages\\sqlalchemy\\engine\\base.py\u001b[0m in \u001b[0;36m_handle_dbapi_exception\u001b[1;34m(self, e, statement, parameters, cursor, context)\u001b[0m\n\u001b[0;32m   1411\u001b[0m                 util.raise_from_cause(\n\u001b[0;32m   1412\u001b[0m                     \u001b[0msqlalchemy_exception\u001b[0m\u001b[1;33m,\u001b[0m\u001b[1;33m\u001b[0m\u001b[1;33m\u001b[0m\u001b[0m\n\u001b[1;32m-> 1413\u001b[1;33m                     \u001b[0mexc_info\u001b[0m\u001b[1;33m\u001b[0m\u001b[1;33m\u001b[0m\u001b[0m\n\u001b[0m\u001b[0;32m   1414\u001b[0m                 )\n\u001b[0;32m   1415\u001b[0m             \u001b[1;32melse\u001b[0m\u001b[1;33m:\u001b[0m\u001b[1;33m\u001b[0m\u001b[1;33m\u001b[0m\u001b[0m\n",
      "\u001b[1;32m~\\Anaconda3\\lib\\site-packages\\sqlalchemy\\util\\compat.py\u001b[0m in \u001b[0;36mraise_from_cause\u001b[1;34m(exception, exc_info)\u001b[0m\n\u001b[0;32m    263\u001b[0m     \u001b[0mexc_type\u001b[0m\u001b[1;33m,\u001b[0m \u001b[0mexc_value\u001b[0m\u001b[1;33m,\u001b[0m \u001b[0mexc_tb\u001b[0m \u001b[1;33m=\u001b[0m \u001b[0mexc_info\u001b[0m\u001b[1;33m\u001b[0m\u001b[1;33m\u001b[0m\u001b[0m\n\u001b[0;32m    264\u001b[0m     \u001b[0mcause\u001b[0m \u001b[1;33m=\u001b[0m \u001b[0mexc_value\u001b[0m \u001b[1;32mif\u001b[0m \u001b[0mexc_value\u001b[0m \u001b[1;32mis\u001b[0m \u001b[1;32mnot\u001b[0m \u001b[0mexception\u001b[0m \u001b[1;32melse\u001b[0m \u001b[1;32mNone\u001b[0m\u001b[1;33m\u001b[0m\u001b[1;33m\u001b[0m\u001b[0m\n\u001b[1;32m--> 265\u001b[1;33m     \u001b[0mreraise\u001b[0m\u001b[1;33m(\u001b[0m\u001b[0mtype\u001b[0m\u001b[1;33m(\u001b[0m\u001b[0mexception\u001b[0m\u001b[1;33m)\u001b[0m\u001b[1;33m,\u001b[0m \u001b[0mexception\u001b[0m\u001b[1;33m,\u001b[0m \u001b[0mtb\u001b[0m\u001b[1;33m=\u001b[0m\u001b[0mexc_tb\u001b[0m\u001b[1;33m,\u001b[0m \u001b[0mcause\u001b[0m\u001b[1;33m=\u001b[0m\u001b[0mcause\u001b[0m\u001b[1;33m)\u001b[0m\u001b[1;33m\u001b[0m\u001b[1;33m\u001b[0m\u001b[0m\n\u001b[0m\u001b[0;32m    266\u001b[0m \u001b[1;33m\u001b[0m\u001b[0m\n\u001b[0;32m    267\u001b[0m \u001b[1;32mif\u001b[0m \u001b[0mpy3k\u001b[0m\u001b[1;33m:\u001b[0m\u001b[1;33m\u001b[0m\u001b[1;33m\u001b[0m\u001b[0m\n",
      "\u001b[1;32m~\\Anaconda3\\lib\\site-packages\\sqlalchemy\\util\\compat.py\u001b[0m in \u001b[0;36mreraise\u001b[1;34m(tp, value, tb, cause)\u001b[0m\n\u001b[0;32m    246\u001b[0m             \u001b[0mvalue\u001b[0m\u001b[1;33m.\u001b[0m\u001b[0m__cause__\u001b[0m \u001b[1;33m=\u001b[0m \u001b[0mcause\u001b[0m\u001b[1;33m\u001b[0m\u001b[1;33m\u001b[0m\u001b[0m\n\u001b[0;32m    247\u001b[0m         \u001b[1;32mif\u001b[0m \u001b[0mvalue\u001b[0m\u001b[1;33m.\u001b[0m\u001b[0m__traceback__\u001b[0m \u001b[1;32mis\u001b[0m \u001b[1;32mnot\u001b[0m \u001b[0mtb\u001b[0m\u001b[1;33m:\u001b[0m\u001b[1;33m\u001b[0m\u001b[1;33m\u001b[0m\u001b[0m\n\u001b[1;32m--> 248\u001b[1;33m             \u001b[1;32mraise\u001b[0m \u001b[0mvalue\u001b[0m\u001b[1;33m.\u001b[0m\u001b[0mwith_traceback\u001b[0m\u001b[1;33m(\u001b[0m\u001b[0mtb\u001b[0m\u001b[1;33m)\u001b[0m\u001b[1;33m\u001b[0m\u001b[1;33m\u001b[0m\u001b[0m\n\u001b[0m\u001b[0;32m    249\u001b[0m         \u001b[1;32mraise\u001b[0m \u001b[0mvalue\u001b[0m\u001b[1;33m\u001b[0m\u001b[1;33m\u001b[0m\u001b[0m\n\u001b[0;32m    250\u001b[0m \u001b[1;33m\u001b[0m\u001b[0m\n",
      "\u001b[1;32m~\\Anaconda3\\lib\\site-packages\\sqlalchemy\\engine\\base.py\u001b[0m in \u001b[0;36m_execute_context\u001b[1;34m(self, dialect, constructor, statement, parameters, *args)\u001b[0m\n\u001b[0;32m   1191\u001b[0m                         \u001b[0mstatement\u001b[0m\u001b[1;33m,\u001b[0m\u001b[1;33m\u001b[0m\u001b[1;33m\u001b[0m\u001b[0m\n\u001b[0;32m   1192\u001b[0m                         \u001b[0mparameters\u001b[0m\u001b[1;33m,\u001b[0m\u001b[1;33m\u001b[0m\u001b[1;33m\u001b[0m\u001b[0m\n\u001b[1;32m-> 1193\u001b[1;33m                         context)\n\u001b[0m\u001b[0;32m   1194\u001b[0m         \u001b[1;32mexcept\u001b[0m \u001b[0mBaseException\u001b[0m \u001b[1;32mas\u001b[0m \u001b[0me\u001b[0m\u001b[1;33m:\u001b[0m\u001b[1;33m\u001b[0m\u001b[1;33m\u001b[0m\u001b[0m\n\u001b[0;32m   1195\u001b[0m             self._handle_dbapi_exception(\n",
      "\u001b[1;32m~\\Anaconda3\\lib\\site-packages\\sqlalchemy\\engine\\default.py\u001b[0m in \u001b[0;36mdo_execute\u001b[1;34m(self, cursor, statement, parameters, context)\u001b[0m\n\u001b[0;32m    507\u001b[0m \u001b[1;33m\u001b[0m\u001b[0m\n\u001b[0;32m    508\u001b[0m     \u001b[1;32mdef\u001b[0m \u001b[0mdo_execute\u001b[0m\u001b[1;33m(\u001b[0m\u001b[0mself\u001b[0m\u001b[1;33m,\u001b[0m \u001b[0mcursor\u001b[0m\u001b[1;33m,\u001b[0m \u001b[0mstatement\u001b[0m\u001b[1;33m,\u001b[0m \u001b[0mparameters\u001b[0m\u001b[1;33m,\u001b[0m \u001b[0mcontext\u001b[0m\u001b[1;33m=\u001b[0m\u001b[1;32mNone\u001b[0m\u001b[1;33m)\u001b[0m\u001b[1;33m:\u001b[0m\u001b[1;33m\u001b[0m\u001b[1;33m\u001b[0m\u001b[0m\n\u001b[1;32m--> 509\u001b[1;33m         \u001b[0mcursor\u001b[0m\u001b[1;33m.\u001b[0m\u001b[0mexecute\u001b[0m\u001b[1;33m(\u001b[0m\u001b[0mstatement\u001b[0m\u001b[1;33m,\u001b[0m \u001b[0mparameters\u001b[0m\u001b[1;33m)\u001b[0m\u001b[1;33m\u001b[0m\u001b[1;33m\u001b[0m\u001b[0m\n\u001b[0m\u001b[0;32m    510\u001b[0m \u001b[1;33m\u001b[0m\u001b[0m\n\u001b[0;32m    511\u001b[0m     \u001b[1;32mdef\u001b[0m \u001b[0mdo_execute_no_params\u001b[0m\u001b[1;33m(\u001b[0m\u001b[0mself\u001b[0m\u001b[1;33m,\u001b[0m \u001b[0mcursor\u001b[0m\u001b[1;33m,\u001b[0m \u001b[0mstatement\u001b[0m\u001b[1;33m,\u001b[0m \u001b[0mcontext\u001b[0m\u001b[1;33m=\u001b[0m\u001b[1;32mNone\u001b[0m\u001b[1;33m)\u001b[0m\u001b[1;33m:\u001b[0m\u001b[1;33m\u001b[0m\u001b[1;33m\u001b[0m\u001b[0m\n",
      "\u001b[1;31mOperationalError\u001b[0m: (psycopg2.extensions.QueryCanceledError) Query (34398321) canceled on user's request and ran out of wlm queues for restart.\n [SQL: \"\\n\\ndrop table if exists dau_new;\\nselect\\n  date_nk,\\n  count(distinct session_long) as new_dau\\n   into temp table dau_new\\n   from ods.fact_user_hydra_browsing_activity\\n where\\n   is_panamera = true\\n    and date_nk >= '2019-05-01'\\n    and country_sk in ('olx|asia|in')\\n    and user_active_new_returning_nk = 'new'\\ngroup by 1\\norder by 1\\n\\n;drop table if exists new_users_label;\\nselect\\n  date_nk,\\n  session_long,\\n  user_sk\\n   into temp table new_users_label\\n    from ods.fact_user_hydra_browsing_activity\\n  where\\n    is_panamera = true\\nand country_sk = 'olx|asia|in'\\nand user_active_new_returning_nk = 'new'\\n group by 1,2,3\\n\\n;drop table if exists repliess;\\nselect\\n   date_nk,\\n   count(distinct f1.panamera_user_sk) as new_user_replies_30_days\\n  into temp table repliess\\n  from ods.fact_replies f1\\n    inner join new_users_label f2 on f1.panamera_user_sk=f2.user_sk\\n    where country_sk = 'olx|asia|in'\\n  and date_nk >= '2019-05-01'\\n  and reply_num = 1\\n  and datediff(days ,f2.date_nk,f1.date_sent_nk) < 30\\n  group by 1;\\n\\nselect \\n  b.date_nk,\\n  b.new_dau,\\n  a.new_user_replies_30_days\\n  from dau_new b\\n   inner join repliess a on a.date_nk=b.date_nk\\n   \\n\\n\"] (Background on this error at: http://sqlalche.me/e/e3q8)"
     ]
    }
   ],
   "source": [
    "%%time\n",
    "df_news_to_reply_30_days = pd.read_sql_query(query.replace('%', '%%'), engine)"
   ]
  },
  {
   "cell_type": "code",
   "execution_count": 116,
   "metadata": {},
   "outputs": [
    {
     "data": {
      "text/html": [
       "<div>\n",
       "<style scoped>\n",
       "    .dataframe tbody tr th:only-of-type {\n",
       "        vertical-align: middle;\n",
       "    }\n",
       "\n",
       "    .dataframe tbody tr th {\n",
       "        vertical-align: top;\n",
       "    }\n",
       "\n",
       "    .dataframe thead th {\n",
       "        text-align: right;\n",
       "    }\n",
       "</style>\n",
       "<table border=\"1\" class=\"dataframe\">\n",
       "  <thead>\n",
       "    <tr style=\"text-align: right;\">\n",
       "      <th></th>\n",
       "      <th>date_nk</th>\n",
       "      <th>new_dau</th>\n",
       "      <th>new_user_replies_30_days</th>\n",
       "    </tr>\n",
       "  </thead>\n",
       "  <tbody>\n",
       "    <tr>\n",
       "      <th>0</th>\n",
       "      <td>2019-05-05</td>\n",
       "      <td>460759</td>\n",
       "      <td>142413</td>\n",
       "    </tr>\n",
       "    <tr>\n",
       "      <th>1</th>\n",
       "      <td>2019-05-09</td>\n",
       "      <td>457695</td>\n",
       "      <td>141520</td>\n",
       "    </tr>\n",
       "    <tr>\n",
       "      <th>2</th>\n",
       "      <td>2019-05-14</td>\n",
       "      <td>467853</td>\n",
       "      <td>145599</td>\n",
       "    </tr>\n",
       "    <tr>\n",
       "      <th>3</th>\n",
       "      <td>2019-05-23</td>\n",
       "      <td>372638</td>\n",
       "      <td>117542</td>\n",
       "    </tr>\n",
       "    <tr>\n",
       "      <th>4</th>\n",
       "      <td>2019-06-12</td>\n",
       "      <td>497517</td>\n",
       "      <td>132658</td>\n",
       "    </tr>\n",
       "  </tbody>\n",
       "</table>\n",
       "</div>"
      ],
      "text/plain": [
       "      date_nk  new_dau  new_user_replies_30_days\n",
       "0  2019-05-05   460759                    142413\n",
       "1  2019-05-09   457695                    141520\n",
       "2  2019-05-14   467853                    145599\n",
       "3  2019-05-23   372638                    117542\n",
       "4  2019-06-12   497517                    132658"
      ]
     },
     "execution_count": 116,
     "metadata": {},
     "output_type": "execute_result"
    }
   ],
   "source": [
    "df_news_to_reply_30_days.head()"
   ]
  },
  {
   "cell_type": "code",
   "execution_count": null,
   "metadata": {},
   "outputs": [],
   "source": [
    "df_news_to_reply_30_days.head()"
   ]
  },
  {
   "cell_type": "code",
   "execution_count": 118,
   "metadata": {},
   "outputs": [
    {
     "data": {
      "text/plain": [
       "<matplotlib.axes._subplots.AxesSubplot at 0x162bd6b0a58>"
      ]
     },
     "execution_count": 118,
     "metadata": {},
     "output_type": "execute_result"
    },
    {
     "data": {
      "image/png": "[encoded data removed]",
      "text/plain": [
       "<Figure size 1080x360 with 1 Axes>"
      ]
     },
     "metadata": {
      "needs_background": "light"
     },
     "output_type": "display_data"
    }
   ],
   "source": [
    "df_news_to_reply_30_days['DUB(30 days) / DAU new'] = df_news_to_reply_30_days['new_user_replies_30_days'] / df_news_to_reply_30_days['new_dau']\n",
    "df_news_to_reply_30_days = df_news_to_reply_30_days.set_index('date_nk')\n",
    "df_news_to_reply_30_days_plot = df_news_to_reply_30_days[['DUB(30 days) / DAU new']]\n",
    "df_news_to_reply_30_days_plot.plot(figsize=(15,5) , title='DUB(30 days) / DAU new')"
   ]
  },
  {
   "cell_type": "markdown",
   "metadata": {},
   "source": []
  },
  {
   "cell_type": "code",
   "execution_count": null,
   "metadata": {},
   "outputs": [],
   "source": []
  },
  {
   "cell_type": "code",
   "execution_count": null,
   "metadata": {},
   "outputs": [],
   "source": []
  }
 ],
 "metadata": {
  "kernelspec": {
   "display_name": "Python 3",
   "language": "python",
   "name": "python3"
  },
  "language_info": {
   "codemirror_mode": {
    "name": "ipython",
    "version": 3
   },
   "file_extension": ".py",
   "mimetype": "text/x-python",
   "name": "python",
   "nbconvert_exporter": "python",
   "pygments_lexer": "ipython3",
   "version": "3.7.0"
  },
  "toc": {
   "base_numbering": 1,
   "nav_menu": {},
   "number_sections": true,
   "sideBar": true,
   "skip_h1_title": false,
   "title_cell": "Table of Contents",
   "title_sidebar": "Contents",
   "toc_cell": false,
   "toc_position": {
    "height": "calc(100% - 180px)",
    "left": "10px",
    "top": "150px",
    "width": "233px"
   },
   "toc_section_display": true,
   "toc_window_display": true
  },
  "varInspector": {
   "cols": {
    "lenName": 16,
    "lenType": 16,
    "lenVar": 40
   },
   "kernels_config": {
    "python": {
     "delete_cmd_postfix": "",
     "delete_cmd_prefix": "del ",
     "library": "var_list.py",
     "varRefreshCmd": "print(var_dic_list())"
    },
    "r": {
     "delete_cmd_postfix": ") ",
     "delete_cmd_prefix": "rm(",
     "library": "var_list.r",
     "varRefreshCmd": "cat(var_dic_list()) "
    }
   },
   "types_to_exclude": [
    "module",
    "function",
    "builtin_function_or_method",
    "instance",
    "_Feature"
   ],
   "window_display": false
  }
 },
 "nbformat": 4,
 "nbformat_minor": 2
}
