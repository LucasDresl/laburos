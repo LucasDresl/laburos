{
 "cells": [
  {
   "cell_type": "code",
   "execution_count": 1,
   "metadata": {},
   "outputs": [],
   "source": [
    "import pandas as pd\n",
    "import numpy as np\n",
    "from time import time\n",
    "import json\n",
    "from sqlalchemy import create_engine\n",
    "import re\n",
    "import datetime\n",
    "from mpl_toolkits.basemap import Basemap\n",
    "\n",
    "%matplotlib inline\n",
    "import matplotlib.pyplot as plt\n",
    "import seaborn as sns; sns.set()\n",
    "plt.style.use('seaborn-whitegrid')\n",
    "import numpy as np\n",
    "from mpl_toolkits.basemap import Basemap\n",
    "from geopy.distance import distance as dist\n",
    "import ipywidgets as widgets\n",
    "from ipywidgets import interact, interact_manual\n",
    "import folium"
   ]
  },
  {
   "cell_type": "code",
   "execution_count": 2,
   "metadata": {},
   "outputs": [],
   "source": [
    "# Set up the SQL connection\n",
    "dbname = 'redshift'\n",
    "url = 'panamera-ods.cnsuxis6zqxr.us-west-2.redshift.amazonaws.com:5439/panameraods'\n",
    "engine = create_engine(\"postgresql://\" + 'lucasdresl' + \":\" + 'cQsY801a76x82x62aWDT' + \"@\" + url)\n"
   ]
  },
  {
   "cell_type": "markdown",
   "metadata": {},
   "source": [
    "- DUB / DAU by version"
   ]
  },
  {
   "cell_type": "code",
   "execution_count": 3,
   "metadata": {},
   "outputs": [],
   "source": [
    "app_versions = ['13.23.03' , '13.25.004' , '13.25.005' , '13.25.006'] # the best comparison of all the app version without bundles i think it is 13.23.03..."
   ]
  },
  {
   "cell_type": "code",
   "execution_count": 4,
   "metadata": {},
   "outputs": [],
   "source": [
    "query = \"\"\"\n",
    "\n",
    "drop table if exists app_version_with_bundles;\n",
    "select\n",
    " params_v\n",
    " into temp table app_version_with_bundles\n",
    "  from spectrum.hydra_p_olx_android\n",
    "where params_resultset_type like '%BUNDLE%'\n",
    "  and params_cc like '%za%'\n",
    "   and year=2019\n",
    " and month in (9,10,11)\n",
    "group by 1\n",
    "\n",
    ";drop table if exists dau;\n",
    "select\n",
    " year || '-' || month || '-' || day as date,\n",
    " count(distinct meta_session_long) as dau\n",
    "  into temp table dau\n",
    "    from spectrum.hydra_p_olx_android a\n",
    "          join app_version_with_bundles b on a.params_v=b.params_v\n",
    " where ((params_en NOT IN ('app_open', 'on_create', 'apps', 'push_dis','pushDis', 'push_rcv', 'pushRcv', 'UAReg', 'ua_reg', 'uareg','push_dismissed', 'push_show', 'fetching_matrix', 'not_found','permissions_impression','userBadgeCount','test_assignment','test_impression','test_discovered','FCMReg','APNSReg','appOpn','appOpen','google_play_services','fetchTestDefinitionsError','messages_scheduler_ended','messages_scheduler_started','chat_auth_fail','item_chat_multi_delete') AND params_en IS NOT NULL AND params_en NOT LIKE 'b2c%'))\n",
    " and year=2019\n",
    " and month in (9,10,11)\n",
    " and params_cc like '%za%'\n",
    "group by 1\n",
    "\n",
    "\n",
    ";drop table if exists dub;\n",
    "select\n",
    " year || '-' || month || '-' || day as date,\n",
    " count(distinct meta_session_long) as dub\n",
    "  into temp table dub\n",
    "    from spectrum.hydra_p_olx_android a\n",
    "      join app_version_with_bundles b on a.params_v=b.params_v\n",
    "where params_en in ('item_tap_call' , 'item_chat_tap_send_1st_reply' , 'item_tap_sms' , 'item_chat_tap_sms')\n",
    " and year=2019\n",
    " and month in (9,10,11)\n",
    " and params_cc like '%za%'\n",
    "group by 1;\n",
    "\n",
    "select\n",
    " a.*,\n",
    " b.dub\n",
    " from dau a\n",
    " left join dub b on a.date=b.date\n",
    "order by date\n",
    "\n",
    "\n",
    "\"\"\"\n",
    "\n",
    "query2 = \"\"\"\n",
    "\n",
    "drop table if exists app_version_with_bundles;\n",
    "select\n",
    " params_v\n",
    " into temp table app_version_with_bundles\n",
    "  from spectrum.hydra_p_olx_android\n",
    "where params_resultset_type like '%BUNDLE%'\n",
    "  and params_cc like '%za%'\n",
    "  and year=2019\n",
    "  and month in (10,11)\n",
    "group by 1\n",
    "\n",
    "drop table if exists app_version_with_no_bundles;\n",
    "select\n",
    " params_v\n",
    " into temp table app_version_with_no_bundles\n",
    "  from spectrum.hydra_p_olx_android\n",
    "where params_v not in (select params_v from app_version_with_bundles)\n",
    "  and params_cc like '%za%'\n",
    "  and year=2019\n",
    "  and month in (10,11)\n",
    "group by 1\n",
    "\n",
    ";drop table if exists dau;\n",
    "select\n",
    " year || '-' || month || '-' || day as date,\n",
    " count(distinct meta_session_long) as dau\n",
    "  into temp table dau\n",
    "    from spectrum.hydra_p_olx_android a\n",
    "          join app_version_with_no_bundles b on a.params_v=b.params_v\n",
    " where ((params_en NOT IN ('app_open', 'on_create', 'apps', 'push_dis','pushDis', 'push_rcv', 'pushRcv', 'UAReg', 'ua_reg', 'uareg','push_dismissed', 'push_show', 'fetching_matrix', 'not_found','permissions_impression','userBadgeCount','test_assignment','test_impression','test_discovered','FCMReg','APNSReg','appOpn','appOpen','google_play_services','fetchTestDefinitionsError','messages_scheduler_ended','messages_scheduler_started','chat_auth_fail','item_chat_multi_delete') AND params_en IS NOT NULL AND params_en NOT LIKE 'b2c%'))\n",
    " and year=2019\n",
    " and month in (9,10,11)\n",
    " and params_cc like '%za%'\n",
    "group by 1\n",
    "\n",
    "\n",
    ";drop table if exists dub;\n",
    "select\n",
    " year || '-' || month || '-' || day as date,\n",
    " count(distinct meta_session_long) as dub\n",
    "  into temp table dub\n",
    "    from spectrum.hydra_p_olx_android a\n",
    "      join app_version_with_no_bundles b on a.params_v=b.params_v\n",
    "where params_en in ('item_tap_call' , 'item_chat_tap_send_1st_reply' , 'item_tap_sms' , 'item_chat_tap_sms')\n",
    " and year=2019\n",
    " and month in (9,10,11)\n",
    " and params_cc like '%za%'\n",
    "group by 1;\n",
    "\n",
    "select\n",
    " a.*,\n",
    " b.dub\n",
    " from dau a\n",
    " left join dub b on a.date=b.date\n",
    "order by date\n",
    "\n",
    "\n",
    "\"\"\"\n",
    "\n"
   ]
  },
  {
   "cell_type": "code",
   "execution_count": 5,
   "metadata": {},
   "outputs": [
    {
     "ename": "ProgrammingError",
     "evalue": "(psycopg2.errors.SyntaxError) syntax error at or near \"drop\"\nLINE 14: drop table if exists app_version_with_no_bundles;\n         ^\n\n[SQL: \n\ndrop table if exists app_version_with_bundles;\nselect\n params_v\n into temp table app_version_with_bundles\n  from spectrum.hydra_p_olx_android\nwhere params_resultset_type like '%%BUNDLE%%'\n  and params_cc like '%%za%%'\n  and year=2019\n  and month in (10,11)\ngroup by 1\n\ndrop table if exists app_version_with_no_bundles;\nselect\n params_v\n into temp table app_version_with_no_bundles\n  from spectrum.hydra_p_olx_android\nwhere params_v not in (select params_v from app_version_with_bundles)\n  and params_cc like '%%za%%'\n  and year=2019\n  and month in (10,11)\ngroup by 1\n\n;drop table if exists dau;\nselect\n year || '-' || month || '-' || day as date,\n count(distinct meta_session_long) as dau\n  into temp table dau\n    from spectrum.hydra_p_olx_android a\n          join app_version_with_no_bundles b on a.params_v=b.params_v\n where ((params_en NOT IN ('app_open', 'on_create', 'apps', 'push_dis','pushDis', 'push_rcv', 'pushRcv', 'UAReg', 'ua_reg', 'uareg','push_dismissed', 'push_show', 'fetching_matrix', 'not_found','permissions_impression','userBadgeCount','test_assignment','test_impression','test_discovered','FCMReg','APNSReg','appOpn','appOpen','google_play_services','fetchTestDefinitionsError','messages_scheduler_ended','messages_scheduler_started','chat_auth_fail','item_chat_multi_delete') AND params_en IS NOT NULL AND params_en NOT LIKE 'b2c%%'))\n and year=2019\n and month in (9,10,11)\n and params_cc like '%%za%%'\ngroup by 1\n\n\n;drop table if exists dub;\nselect\n year || '-' || month || '-' || day as date,\n count(distinct meta_session_long) as dub\n  into temp table dub\n    from spectrum.hydra_p_olx_android a\n      join app_version_with_no_bundles b on a.params_v=b.params_v\nwhere params_en in ('item_tap_call' , 'item_chat_tap_send_1st_reply' , 'item_tap_sms' , 'item_chat_tap_sms')\n and year=2019\n and month in (9,10,11)\n and params_cc like '%%za%%'\ngroup by 1;\n\nselect\n a.*,\n b.dub\n from dau a\n left join dub b on a.date=b.date\norder by date\n\n\n]\n(Background on this error at: http://sqlalche.me/e/f405)",
     "output_type": "error",
     "traceback": [
      "\u001b[0;31m---------------------------------------------------------------------------\u001b[0m",
      "\u001b[0;31mSyntaxError\u001b[0m                               Traceback (most recent call last)",
      "\u001b[0;32m~/anaconda3/lib/python3.7/site-packages/sqlalchemy/engine/base.py\u001b[0m in \u001b[0;36m_execute_context\u001b[0;34m(self, dialect, constructor, statement, parameters, *args)\u001b[0m\n\u001b[1;32m   1243\u001b[0m                     self.dialect.do_execute(\n\u001b[0;32m-> 1244\u001b[0;31m                         \u001b[0mcursor\u001b[0m\u001b[0;34m,\u001b[0m \u001b[0mstatement\u001b[0m\u001b[0;34m,\u001b[0m \u001b[0mparameters\u001b[0m\u001b[0;34m,\u001b[0m \u001b[0mcontext\u001b[0m\u001b[0;34m\u001b[0m\u001b[0;34m\u001b[0m\u001b[0m\n\u001b[0m\u001b[1;32m   1245\u001b[0m                     )\n",
      "\u001b[0;32m~/anaconda3/lib/python3.7/site-packages/sqlalchemy/engine/default.py\u001b[0m in \u001b[0;36mdo_execute\u001b[0;34m(self, cursor, statement, parameters, context)\u001b[0m\n\u001b[1;32m    549\u001b[0m     \u001b[0;32mdef\u001b[0m \u001b[0mdo_execute\u001b[0m\u001b[0;34m(\u001b[0m\u001b[0mself\u001b[0m\u001b[0;34m,\u001b[0m \u001b[0mcursor\u001b[0m\u001b[0;34m,\u001b[0m \u001b[0mstatement\u001b[0m\u001b[0;34m,\u001b[0m \u001b[0mparameters\u001b[0m\u001b[0;34m,\u001b[0m \u001b[0mcontext\u001b[0m\u001b[0;34m=\u001b[0m\u001b[0;32mNone\u001b[0m\u001b[0;34m)\u001b[0m\u001b[0;34m:\u001b[0m\u001b[0;34m\u001b[0m\u001b[0;34m\u001b[0m\u001b[0m\n\u001b[0;32m--> 550\u001b[0;31m         \u001b[0mcursor\u001b[0m\u001b[0;34m.\u001b[0m\u001b[0mexecute\u001b[0m\u001b[0;34m(\u001b[0m\u001b[0mstatement\u001b[0m\u001b[0;34m,\u001b[0m \u001b[0mparameters\u001b[0m\u001b[0;34m)\u001b[0m\u001b[0;34m\u001b[0m\u001b[0;34m\u001b[0m\u001b[0m\n\u001b[0m\u001b[1;32m    551\u001b[0m \u001b[0;34m\u001b[0m\u001b[0m\n",
      "\u001b[0;31mSyntaxError\u001b[0m: syntax error at or near \"drop\"\nLINE 14: drop table if exists app_version_with_no_bundles;\n         ^\n",
      "\nThe above exception was the direct cause of the following exception:\n",
      "\u001b[0;31mProgrammingError\u001b[0m                          Traceback (most recent call last)",
      "\u001b[0;32m<ipython-input-5-db86795b8bc0>\u001b[0m in \u001b[0;36m<module>\u001b[0;34m\u001b[0m\n\u001b[1;32m      1\u001b[0m \u001b[0mdub_b\u001b[0m \u001b[0;34m=\u001b[0m \u001b[0mpd\u001b[0m\u001b[0;34m.\u001b[0m\u001b[0mread_sql_query\u001b[0m\u001b[0;34m(\u001b[0m\u001b[0mquery\u001b[0m\u001b[0;34m.\u001b[0m\u001b[0mreplace\u001b[0m\u001b[0;34m(\u001b[0m\u001b[0;34m'%'\u001b[0m\u001b[0;34m,\u001b[0m \u001b[0;34m'%%'\u001b[0m\u001b[0;34m)\u001b[0m\u001b[0;34m,\u001b[0m \u001b[0mengine\u001b[0m\u001b[0;34m)\u001b[0m\u001b[0;34m\u001b[0m\u001b[0;34m\u001b[0m\u001b[0m\n\u001b[0;32m----> 2\u001b[0;31m \u001b[0mdub_nob\u001b[0m \u001b[0;34m=\u001b[0m \u001b[0mpd\u001b[0m\u001b[0;34m.\u001b[0m\u001b[0mread_sql_query\u001b[0m\u001b[0;34m(\u001b[0m\u001b[0mquery2\u001b[0m\u001b[0;34m.\u001b[0m\u001b[0mreplace\u001b[0m\u001b[0;34m(\u001b[0m\u001b[0;34m'%'\u001b[0m\u001b[0;34m,\u001b[0m \u001b[0;34m'%%'\u001b[0m\u001b[0;34m)\u001b[0m\u001b[0;34m,\u001b[0m \u001b[0mengine\u001b[0m\u001b[0;34m)\u001b[0m\u001b[0;34m\u001b[0m\u001b[0;34m\u001b[0m\u001b[0m\n\u001b[0m",
      "\u001b[0;32m~/anaconda3/lib/python3.7/site-packages/pandas/io/sql.py\u001b[0m in \u001b[0;36mread_sql_query\u001b[0;34m(sql, con, index_col, coerce_float, params, parse_dates, chunksize)\u001b[0m\n\u001b[1;32m    312\u001b[0m     return pandas_sql.read_query(\n\u001b[1;32m    313\u001b[0m         \u001b[0msql\u001b[0m\u001b[0;34m,\u001b[0m \u001b[0mindex_col\u001b[0m\u001b[0;34m=\u001b[0m\u001b[0mindex_col\u001b[0m\u001b[0;34m,\u001b[0m \u001b[0mparams\u001b[0m\u001b[0;34m=\u001b[0m\u001b[0mparams\u001b[0m\u001b[0;34m,\u001b[0m \u001b[0mcoerce_float\u001b[0m\u001b[0;34m=\u001b[0m\u001b[0mcoerce_float\u001b[0m\u001b[0;34m,\u001b[0m\u001b[0;34m\u001b[0m\u001b[0;34m\u001b[0m\u001b[0m\n\u001b[0;32m--> 314\u001b[0;31m         parse_dates=parse_dates, chunksize=chunksize)\n\u001b[0m\u001b[1;32m    315\u001b[0m \u001b[0;34m\u001b[0m\u001b[0m\n\u001b[1;32m    316\u001b[0m \u001b[0;34m\u001b[0m\u001b[0m\n",
      "\u001b[0;32m~/anaconda3/lib/python3.7/site-packages/pandas/io/sql.py\u001b[0m in \u001b[0;36mread_query\u001b[0;34m(self, sql, index_col, coerce_float, parse_dates, params, chunksize)\u001b[0m\n\u001b[1;32m   1097\u001b[0m         \u001b[0margs\u001b[0m \u001b[0;34m=\u001b[0m \u001b[0m_convert_params\u001b[0m\u001b[0;34m(\u001b[0m\u001b[0msql\u001b[0m\u001b[0;34m,\u001b[0m \u001b[0mparams\u001b[0m\u001b[0;34m)\u001b[0m\u001b[0;34m\u001b[0m\u001b[0;34m\u001b[0m\u001b[0m\n\u001b[1;32m   1098\u001b[0m \u001b[0;34m\u001b[0m\u001b[0m\n\u001b[0;32m-> 1099\u001b[0;31m         \u001b[0mresult\u001b[0m \u001b[0;34m=\u001b[0m \u001b[0mself\u001b[0m\u001b[0;34m.\u001b[0m\u001b[0mexecute\u001b[0m\u001b[0;34m(\u001b[0m\u001b[0;34m*\u001b[0m\u001b[0margs\u001b[0m\u001b[0;34m)\u001b[0m\u001b[0;34m\u001b[0m\u001b[0;34m\u001b[0m\u001b[0m\n\u001b[0m\u001b[1;32m   1100\u001b[0m         \u001b[0mcolumns\u001b[0m \u001b[0;34m=\u001b[0m \u001b[0mresult\u001b[0m\u001b[0;34m.\u001b[0m\u001b[0mkeys\u001b[0m\u001b[0;34m(\u001b[0m\u001b[0;34m)\u001b[0m\u001b[0;34m\u001b[0m\u001b[0;34m\u001b[0m\u001b[0m\n\u001b[1;32m   1101\u001b[0m \u001b[0;34m\u001b[0m\u001b[0m\n",
      "\u001b[0;32m~/anaconda3/lib/python3.7/site-packages/pandas/io/sql.py\u001b[0m in \u001b[0;36mexecute\u001b[0;34m(self, *args, **kwargs)\u001b[0m\n\u001b[1;32m    988\u001b[0m     \u001b[0;32mdef\u001b[0m \u001b[0mexecute\u001b[0m\u001b[0;34m(\u001b[0m\u001b[0mself\u001b[0m\u001b[0;34m,\u001b[0m \u001b[0;34m*\u001b[0m\u001b[0margs\u001b[0m\u001b[0;34m,\u001b[0m \u001b[0;34m**\u001b[0m\u001b[0mkwargs\u001b[0m\u001b[0;34m)\u001b[0m\u001b[0;34m:\u001b[0m\u001b[0;34m\u001b[0m\u001b[0;34m\u001b[0m\u001b[0m\n\u001b[1;32m    989\u001b[0m         \u001b[0;34m\"\"\"Simple passthrough to SQLAlchemy connectable\"\"\"\u001b[0m\u001b[0;34m\u001b[0m\u001b[0;34m\u001b[0m\u001b[0m\n\u001b[0;32m--> 990\u001b[0;31m         \u001b[0;32mreturn\u001b[0m \u001b[0mself\u001b[0m\u001b[0;34m.\u001b[0m\u001b[0mconnectable\u001b[0m\u001b[0;34m.\u001b[0m\u001b[0mexecute\u001b[0m\u001b[0;34m(\u001b[0m\u001b[0;34m*\u001b[0m\u001b[0margs\u001b[0m\u001b[0;34m,\u001b[0m \u001b[0;34m**\u001b[0m\u001b[0mkwargs\u001b[0m\u001b[0;34m)\u001b[0m\u001b[0;34m\u001b[0m\u001b[0;34m\u001b[0m\u001b[0m\n\u001b[0m\u001b[1;32m    991\u001b[0m \u001b[0;34m\u001b[0m\u001b[0m\n\u001b[1;32m    992\u001b[0m     def read_table(self, table_name, index_col=None, coerce_float=True,\n",
      "\u001b[0;32m~/anaconda3/lib/python3.7/site-packages/sqlalchemy/engine/base.py\u001b[0m in \u001b[0;36mexecute\u001b[0;34m(self, statement, *multiparams, **params)\u001b[0m\n\u001b[1;32m   2164\u001b[0m \u001b[0;34m\u001b[0m\u001b[0m\n\u001b[1;32m   2165\u001b[0m         \u001b[0mconnection\u001b[0m \u001b[0;34m=\u001b[0m \u001b[0mself\u001b[0m\u001b[0;34m.\u001b[0m\u001b[0m_contextual_connect\u001b[0m\u001b[0;34m(\u001b[0m\u001b[0mclose_with_result\u001b[0m\u001b[0;34m=\u001b[0m\u001b[0;32mTrue\u001b[0m\u001b[0;34m)\u001b[0m\u001b[0;34m\u001b[0m\u001b[0;34m\u001b[0m\u001b[0m\n\u001b[0;32m-> 2166\u001b[0;31m         \u001b[0;32mreturn\u001b[0m \u001b[0mconnection\u001b[0m\u001b[0;34m.\u001b[0m\u001b[0mexecute\u001b[0m\u001b[0;34m(\u001b[0m\u001b[0mstatement\u001b[0m\u001b[0;34m,\u001b[0m \u001b[0;34m*\u001b[0m\u001b[0mmultiparams\u001b[0m\u001b[0;34m,\u001b[0m \u001b[0;34m**\u001b[0m\u001b[0mparams\u001b[0m\u001b[0;34m)\u001b[0m\u001b[0;34m\u001b[0m\u001b[0;34m\u001b[0m\u001b[0m\n\u001b[0m\u001b[1;32m   2167\u001b[0m \u001b[0;34m\u001b[0m\u001b[0m\n\u001b[1;32m   2168\u001b[0m     \u001b[0;32mdef\u001b[0m \u001b[0mscalar\u001b[0m\u001b[0;34m(\u001b[0m\u001b[0mself\u001b[0m\u001b[0;34m,\u001b[0m \u001b[0mstatement\u001b[0m\u001b[0;34m,\u001b[0m \u001b[0;34m*\u001b[0m\u001b[0mmultiparams\u001b[0m\u001b[0;34m,\u001b[0m \u001b[0;34m**\u001b[0m\u001b[0mparams\u001b[0m\u001b[0;34m)\u001b[0m\u001b[0;34m:\u001b[0m\u001b[0;34m\u001b[0m\u001b[0;34m\u001b[0m\u001b[0m\n",
      "\u001b[0;32m~/anaconda3/lib/python3.7/site-packages/sqlalchemy/engine/base.py\u001b[0m in \u001b[0;36mexecute\u001b[0;34m(self, object_, *multiparams, **params)\u001b[0m\n\u001b[1;32m    980\u001b[0m         \"\"\"\n\u001b[1;32m    981\u001b[0m         \u001b[0;32mif\u001b[0m \u001b[0misinstance\u001b[0m\u001b[0;34m(\u001b[0m\u001b[0mobject_\u001b[0m\u001b[0;34m,\u001b[0m \u001b[0mutil\u001b[0m\u001b[0;34m.\u001b[0m\u001b[0mstring_types\u001b[0m\u001b[0;34m[\u001b[0m\u001b[0;36m0\u001b[0m\u001b[0;34m]\u001b[0m\u001b[0;34m)\u001b[0m\u001b[0;34m:\u001b[0m\u001b[0;34m\u001b[0m\u001b[0;34m\u001b[0m\u001b[0m\n\u001b[0;32m--> 982\u001b[0;31m             \u001b[0;32mreturn\u001b[0m \u001b[0mself\u001b[0m\u001b[0;34m.\u001b[0m\u001b[0m_execute_text\u001b[0m\u001b[0;34m(\u001b[0m\u001b[0mobject_\u001b[0m\u001b[0;34m,\u001b[0m \u001b[0mmultiparams\u001b[0m\u001b[0;34m,\u001b[0m \u001b[0mparams\u001b[0m\u001b[0;34m)\u001b[0m\u001b[0;34m\u001b[0m\u001b[0;34m\u001b[0m\u001b[0m\n\u001b[0m\u001b[1;32m    983\u001b[0m         \u001b[0;32mtry\u001b[0m\u001b[0;34m:\u001b[0m\u001b[0;34m\u001b[0m\u001b[0;34m\u001b[0m\u001b[0m\n\u001b[1;32m    984\u001b[0m             \u001b[0mmeth\u001b[0m \u001b[0;34m=\u001b[0m \u001b[0mobject_\u001b[0m\u001b[0;34m.\u001b[0m\u001b[0m_execute_on_connection\u001b[0m\u001b[0;34m\u001b[0m\u001b[0;34m\u001b[0m\u001b[0m\n",
      "\u001b[0;32m~/anaconda3/lib/python3.7/site-packages/sqlalchemy/engine/base.py\u001b[0m in \u001b[0;36m_execute_text\u001b[0;34m(self, statement, multiparams, params)\u001b[0m\n\u001b[1;32m   1153\u001b[0m             \u001b[0mparameters\u001b[0m\u001b[0;34m,\u001b[0m\u001b[0;34m\u001b[0m\u001b[0;34m\u001b[0m\u001b[0m\n\u001b[1;32m   1154\u001b[0m             \u001b[0mstatement\u001b[0m\u001b[0;34m,\u001b[0m\u001b[0;34m\u001b[0m\u001b[0;34m\u001b[0m\u001b[0m\n\u001b[0;32m-> 1155\u001b[0;31m             \u001b[0mparameters\u001b[0m\u001b[0;34m,\u001b[0m\u001b[0;34m\u001b[0m\u001b[0;34m\u001b[0m\u001b[0m\n\u001b[0m\u001b[1;32m   1156\u001b[0m         )\n\u001b[1;32m   1157\u001b[0m         \u001b[0;32mif\u001b[0m \u001b[0mself\u001b[0m\u001b[0;34m.\u001b[0m\u001b[0m_has_events\u001b[0m \u001b[0;32mor\u001b[0m \u001b[0mself\u001b[0m\u001b[0;34m.\u001b[0m\u001b[0mengine\u001b[0m\u001b[0;34m.\u001b[0m\u001b[0m_has_events\u001b[0m\u001b[0;34m:\u001b[0m\u001b[0;34m\u001b[0m\u001b[0;34m\u001b[0m\u001b[0m\n",
      "\u001b[0;32m~/anaconda3/lib/python3.7/site-packages/sqlalchemy/engine/base.py\u001b[0m in \u001b[0;36m_execute_context\u001b[0;34m(self, dialect, constructor, statement, parameters, *args)\u001b[0m\n\u001b[1;32m   1246\u001b[0m         \u001b[0;32mexcept\u001b[0m \u001b[0mBaseException\u001b[0m \u001b[0;32mas\u001b[0m \u001b[0me\u001b[0m\u001b[0;34m:\u001b[0m\u001b[0;34m\u001b[0m\u001b[0;34m\u001b[0m\u001b[0m\n\u001b[1;32m   1247\u001b[0m             self._handle_dbapi_exception(\n\u001b[0;32m-> 1248\u001b[0;31m                 \u001b[0me\u001b[0m\u001b[0;34m,\u001b[0m \u001b[0mstatement\u001b[0m\u001b[0;34m,\u001b[0m \u001b[0mparameters\u001b[0m\u001b[0;34m,\u001b[0m \u001b[0mcursor\u001b[0m\u001b[0;34m,\u001b[0m \u001b[0mcontext\u001b[0m\u001b[0;34m\u001b[0m\u001b[0;34m\u001b[0m\u001b[0m\n\u001b[0m\u001b[1;32m   1249\u001b[0m             )\n\u001b[1;32m   1250\u001b[0m \u001b[0;34m\u001b[0m\u001b[0m\n",
      "\u001b[0;32m~/anaconda3/lib/python3.7/site-packages/sqlalchemy/engine/base.py\u001b[0m in \u001b[0;36m_handle_dbapi_exception\u001b[0;34m(self, e, statement, parameters, cursor, context)\u001b[0m\n\u001b[1;32m   1464\u001b[0m                 \u001b[0mutil\u001b[0m\u001b[0;34m.\u001b[0m\u001b[0mraise_from_cause\u001b[0m\u001b[0;34m(\u001b[0m\u001b[0mnewraise\u001b[0m\u001b[0;34m,\u001b[0m \u001b[0mexc_info\u001b[0m\u001b[0;34m)\u001b[0m\u001b[0;34m\u001b[0m\u001b[0;34m\u001b[0m\u001b[0m\n\u001b[1;32m   1465\u001b[0m             \u001b[0;32melif\u001b[0m \u001b[0mshould_wrap\u001b[0m\u001b[0;34m:\u001b[0m\u001b[0;34m\u001b[0m\u001b[0;34m\u001b[0m\u001b[0m\n\u001b[0;32m-> 1466\u001b[0;31m                 \u001b[0mutil\u001b[0m\u001b[0;34m.\u001b[0m\u001b[0mraise_from_cause\u001b[0m\u001b[0;34m(\u001b[0m\u001b[0msqlalchemy_exception\u001b[0m\u001b[0;34m,\u001b[0m \u001b[0mexc_info\u001b[0m\u001b[0;34m)\u001b[0m\u001b[0;34m\u001b[0m\u001b[0;34m\u001b[0m\u001b[0m\n\u001b[0m\u001b[1;32m   1467\u001b[0m             \u001b[0;32melse\u001b[0m\u001b[0;34m:\u001b[0m\u001b[0;34m\u001b[0m\u001b[0;34m\u001b[0m\u001b[0m\n\u001b[1;32m   1468\u001b[0m                 \u001b[0mutil\u001b[0m\u001b[0;34m.\u001b[0m\u001b[0mreraise\u001b[0m\u001b[0;34m(\u001b[0m\u001b[0;34m*\u001b[0m\u001b[0mexc_info\u001b[0m\u001b[0;34m)\u001b[0m\u001b[0;34m\u001b[0m\u001b[0;34m\u001b[0m\u001b[0m\n",
      "\u001b[0;32m~/anaconda3/lib/python3.7/site-packages/sqlalchemy/util/compat.py\u001b[0m in \u001b[0;36mraise_from_cause\u001b[0;34m(exception, exc_info)\u001b[0m\n\u001b[1;32m    397\u001b[0m     \u001b[0mexc_type\u001b[0m\u001b[0;34m,\u001b[0m \u001b[0mexc_value\u001b[0m\u001b[0;34m,\u001b[0m \u001b[0mexc_tb\u001b[0m \u001b[0;34m=\u001b[0m \u001b[0mexc_info\u001b[0m\u001b[0;34m\u001b[0m\u001b[0;34m\u001b[0m\u001b[0m\n\u001b[1;32m    398\u001b[0m     \u001b[0mcause\u001b[0m \u001b[0;34m=\u001b[0m \u001b[0mexc_value\u001b[0m \u001b[0;32mif\u001b[0m \u001b[0mexc_value\u001b[0m \u001b[0;32mis\u001b[0m \u001b[0;32mnot\u001b[0m \u001b[0mexception\u001b[0m \u001b[0;32melse\u001b[0m \u001b[0;32mNone\u001b[0m\u001b[0;34m\u001b[0m\u001b[0;34m\u001b[0m\u001b[0m\n\u001b[0;32m--> 399\u001b[0;31m     \u001b[0mreraise\u001b[0m\u001b[0;34m(\u001b[0m\u001b[0mtype\u001b[0m\u001b[0;34m(\u001b[0m\u001b[0mexception\u001b[0m\u001b[0;34m)\u001b[0m\u001b[0;34m,\u001b[0m \u001b[0mexception\u001b[0m\u001b[0;34m,\u001b[0m \u001b[0mtb\u001b[0m\u001b[0;34m=\u001b[0m\u001b[0mexc_tb\u001b[0m\u001b[0;34m,\u001b[0m \u001b[0mcause\u001b[0m\u001b[0;34m=\u001b[0m\u001b[0mcause\u001b[0m\u001b[0;34m)\u001b[0m\u001b[0;34m\u001b[0m\u001b[0;34m\u001b[0m\u001b[0m\n\u001b[0m\u001b[1;32m    400\u001b[0m \u001b[0;34m\u001b[0m\u001b[0m\n\u001b[1;32m    401\u001b[0m \u001b[0;34m\u001b[0m\u001b[0m\n",
      "\u001b[0;32m~/anaconda3/lib/python3.7/site-packages/sqlalchemy/util/compat.py\u001b[0m in \u001b[0;36mreraise\u001b[0;34m(tp, value, tb, cause)\u001b[0m\n\u001b[1;32m    151\u001b[0m             \u001b[0mvalue\u001b[0m\u001b[0;34m.\u001b[0m\u001b[0m__cause__\u001b[0m \u001b[0;34m=\u001b[0m \u001b[0mcause\u001b[0m\u001b[0;34m\u001b[0m\u001b[0;34m\u001b[0m\u001b[0m\n\u001b[1;32m    152\u001b[0m         \u001b[0;32mif\u001b[0m \u001b[0mvalue\u001b[0m\u001b[0;34m.\u001b[0m\u001b[0m__traceback__\u001b[0m \u001b[0;32mis\u001b[0m \u001b[0;32mnot\u001b[0m \u001b[0mtb\u001b[0m\u001b[0;34m:\u001b[0m\u001b[0;34m\u001b[0m\u001b[0;34m\u001b[0m\u001b[0m\n\u001b[0;32m--> 153\u001b[0;31m             \u001b[0;32mraise\u001b[0m \u001b[0mvalue\u001b[0m\u001b[0;34m.\u001b[0m\u001b[0mwith_traceback\u001b[0m\u001b[0;34m(\u001b[0m\u001b[0mtb\u001b[0m\u001b[0;34m)\u001b[0m\u001b[0;34m\u001b[0m\u001b[0;34m\u001b[0m\u001b[0m\n\u001b[0m\u001b[1;32m    154\u001b[0m         \u001b[0;32mraise\u001b[0m \u001b[0mvalue\u001b[0m\u001b[0;34m\u001b[0m\u001b[0;34m\u001b[0m\u001b[0m\n\u001b[1;32m    155\u001b[0m \u001b[0;34m\u001b[0m\u001b[0m\n",
      "\u001b[0;32m~/anaconda3/lib/python3.7/site-packages/sqlalchemy/engine/base.py\u001b[0m in \u001b[0;36m_execute_context\u001b[0;34m(self, dialect, constructor, statement, parameters, *args)\u001b[0m\n\u001b[1;32m   1242\u001b[0m                 \u001b[0;32mif\u001b[0m \u001b[0;32mnot\u001b[0m \u001b[0mevt_handled\u001b[0m\u001b[0;34m:\u001b[0m\u001b[0;34m\u001b[0m\u001b[0;34m\u001b[0m\u001b[0m\n\u001b[1;32m   1243\u001b[0m                     self.dialect.do_execute(\n\u001b[0;32m-> 1244\u001b[0;31m                         \u001b[0mcursor\u001b[0m\u001b[0;34m,\u001b[0m \u001b[0mstatement\u001b[0m\u001b[0;34m,\u001b[0m \u001b[0mparameters\u001b[0m\u001b[0;34m,\u001b[0m \u001b[0mcontext\u001b[0m\u001b[0;34m\u001b[0m\u001b[0;34m\u001b[0m\u001b[0m\n\u001b[0m\u001b[1;32m   1245\u001b[0m                     )\n\u001b[1;32m   1246\u001b[0m         \u001b[0;32mexcept\u001b[0m \u001b[0mBaseException\u001b[0m \u001b[0;32mas\u001b[0m \u001b[0me\u001b[0m\u001b[0;34m:\u001b[0m\u001b[0;34m\u001b[0m\u001b[0;34m\u001b[0m\u001b[0m\n",
      "\u001b[0;32m~/anaconda3/lib/python3.7/site-packages/sqlalchemy/engine/default.py\u001b[0m in \u001b[0;36mdo_execute\u001b[0;34m(self, cursor, statement, parameters, context)\u001b[0m\n\u001b[1;32m    548\u001b[0m \u001b[0;34m\u001b[0m\u001b[0m\n\u001b[1;32m    549\u001b[0m     \u001b[0;32mdef\u001b[0m \u001b[0mdo_execute\u001b[0m\u001b[0;34m(\u001b[0m\u001b[0mself\u001b[0m\u001b[0;34m,\u001b[0m \u001b[0mcursor\u001b[0m\u001b[0;34m,\u001b[0m \u001b[0mstatement\u001b[0m\u001b[0;34m,\u001b[0m \u001b[0mparameters\u001b[0m\u001b[0;34m,\u001b[0m \u001b[0mcontext\u001b[0m\u001b[0;34m=\u001b[0m\u001b[0;32mNone\u001b[0m\u001b[0;34m)\u001b[0m\u001b[0;34m:\u001b[0m\u001b[0;34m\u001b[0m\u001b[0;34m\u001b[0m\u001b[0m\n\u001b[0;32m--> 550\u001b[0;31m         \u001b[0mcursor\u001b[0m\u001b[0;34m.\u001b[0m\u001b[0mexecute\u001b[0m\u001b[0;34m(\u001b[0m\u001b[0mstatement\u001b[0m\u001b[0;34m,\u001b[0m \u001b[0mparameters\u001b[0m\u001b[0;34m)\u001b[0m\u001b[0;34m\u001b[0m\u001b[0;34m\u001b[0m\u001b[0m\n\u001b[0m\u001b[1;32m    551\u001b[0m \u001b[0;34m\u001b[0m\u001b[0m\n\u001b[1;32m    552\u001b[0m     \u001b[0;32mdef\u001b[0m \u001b[0mdo_execute_no_params\u001b[0m\u001b[0;34m(\u001b[0m\u001b[0mself\u001b[0m\u001b[0;34m,\u001b[0m \u001b[0mcursor\u001b[0m\u001b[0;34m,\u001b[0m \u001b[0mstatement\u001b[0m\u001b[0;34m,\u001b[0m \u001b[0mcontext\u001b[0m\u001b[0;34m=\u001b[0m\u001b[0;32mNone\u001b[0m\u001b[0;34m)\u001b[0m\u001b[0;34m:\u001b[0m\u001b[0;34m\u001b[0m\u001b[0;34m\u001b[0m\u001b[0m\n",
      "\u001b[0;31mProgrammingError\u001b[0m: (psycopg2.errors.SyntaxError) syntax error at or near \"drop\"\nLINE 14: drop table if exists app_version_with_no_bundles;\n         ^\n\n[SQL: \n\ndrop table if exists app_version_with_bundles;\nselect\n params_v\n into temp table app_version_with_bundles\n  from spectrum.hydra_p_olx_android\nwhere params_resultset_type like '%%BUNDLE%%'\n  and params_cc like '%%za%%'\n  and year=2019\n  and month in (10,11)\ngroup by 1\n\ndrop table if exists app_version_with_no_bundles;\nselect\n params_v\n into temp table app_version_with_no_bundles\n  from spectrum.hydra_p_olx_android\nwhere params_v not in (select params_v from app_version_with_bundles)\n  and params_cc like '%%za%%'\n  and year=2019\n  and month in (10,11)\ngroup by 1\n\n;drop table if exists dau;\nselect\n year || '-' || month || '-' || day as date,\n count(distinct meta_session_long) as dau\n  into temp table dau\n    from spectrum.hydra_p_olx_android a\n          join app_version_with_no_bundles b on a.params_v=b.params_v\n where ((params_en NOT IN ('app_open', 'on_create', 'apps', 'push_dis','pushDis', 'push_rcv', 'pushRcv', 'UAReg', 'ua_reg', 'uareg','push_dismissed', 'push_show', 'fetching_matrix', 'not_found','permissions_impression','userBadgeCount','test_assignment','test_impression','test_discovered','FCMReg','APNSReg','appOpn','appOpen','google_play_services','fetchTestDefinitionsError','messages_scheduler_ended','messages_scheduler_started','chat_auth_fail','item_chat_multi_delete') AND params_en IS NOT NULL AND params_en NOT LIKE 'b2c%%'))\n and year=2019\n and month in (9,10,11)\n and params_cc like '%%za%%'\ngroup by 1\n\n\n;drop table if exists dub;\nselect\n year || '-' || month || '-' || day as date,\n count(distinct meta_session_long) as dub\n  into temp table dub\n    from spectrum.hydra_p_olx_android a\n      join app_version_with_no_bundles b on a.params_v=b.params_v\nwhere params_en in ('item_tap_call' , 'item_chat_tap_send_1st_reply' , 'item_tap_sms' , 'item_chat_tap_sms')\n and year=2019\n and month in (9,10,11)\n and params_cc like '%%za%%'\ngroup by 1;\n\nselect\n a.*,\n b.dub\n from dau a\n left join dub b on a.date=b.date\norder by date\n\n\n]\n(Background on this error at: http://sqlalche.me/e/f405)"
     ]
    }
   ],
   "source": [
    "dub_b = pd.read_sql_query(query.replace('%', '%%'), engine)\n",
    "dub_nob = pd.read_sql_query(query2.replace('%', '%%'), engine)"
   ]
  },
  {
   "cell_type": "code",
   "execution_count": 61,
   "metadata": {},
   "outputs": [],
   "source": [
    "dub_b['bundle'] = 1\n",
    "dub_nob['bundle'] = 0\n",
    "dub = dub_b.append(dub_nob).fillna(0)\n",
    "dub['dub_over_dau'] = dub['dub'] / dub['dau']"
   ]
  },
  {
   "cell_type": "code",
   "execution_count": 62,
   "metadata": {},
   "outputs": [],
   "source": [
    "dub['date'] = pd.to_datetime(dub['date'])"
   ]
  },
  {
   "cell_type": "code",
   "execution_count": 63,
   "metadata": {},
   "outputs": [
    {
     "data": {
      "text/plain": [
       "<matplotlib.axes._subplots.AxesSubplot at 0x1a2127ecf8>"
      ]
     },
     "execution_count": 63,
     "metadata": {},
     "output_type": "execute_result"
    },
    {
     "data": {
      "image/png": "[encoded data removed]",
      "text/plain": [
       "<Figure size 1080x360 with 1 Axes>"
      ]
     },
     "metadata": {},
     "output_type": "display_data"
    }
   ],
   "source": [
    "dub[['date' , 'dub_over_dau' , 'bundle']].set_index(['date' , 'bundle']).unstack().plot(figsize=(15,5) , \n",
    "                                                                                       title='ZA : DUB / DAU - App version with bundle and without bundle')"
   ]
  },
  {
   "cell_type": "code",
   "execution_count": 55,
   "metadata": {},
   "outputs": [],
   "source": [
    "c = dub[['date' , 'dub_over_dau' , 'bundle']].set_index(['date' , 'bundle']).unstack().fillna(0)\n",
    "c.to_csv('dub_dau')"
   ]
  },
  {
   "cell_type": "markdown",
   "metadata": {},
   "source": [
    "- How many of the DAU are being affected by bundles ? (coverage)"
   ]
  },
  {
   "cell_type": "code",
   "execution_count": 5,
   "metadata": {},
   "outputs": [],
   "source": [
    "query = \"\"\"\n",
    "\n",
    "drop table if exists app_version_with_bundles;\n",
    "select\n",
    " params_v\n",
    " into temp table app_version_with_bundles\n",
    "  from spectrum.hydra_p_olx_android\n",
    "where params_resultset_type like '%BUNDLE%'\n",
    "  and params_cc like '%za%'\n",
    "group by 1\n",
    "\n",
    ";drop table if exists dau;\n",
    "select\n",
    " year || '-' || month || '-' || day as date,\n",
    " count(distinct meta_session_long) as dau\n",
    "  into temp table dau\n",
    "    from spectrum.hydra_p_olx_android a\n",
    "      join app_version_with_bundles b on a.params_v=b.params_v\n",
    " where ((params_en NOT IN ('app_open', 'on_create', 'apps', 'push_dis','pushDis', 'push_rcv', 'pushRcv', 'UAReg', 'ua_reg', 'uareg','push_dismissed', 'push_show', 'fetching_matrix', 'not_found','permissions_impression','userBadgeCount','test_assignment','test_impression','test_discovered','FCMReg','APNSReg','appOpn','appOpen','google_play_services','fetchTestDefinitionsError','messages_scheduler_ended','messages_scheduler_started','chat_auth_fail','item_chat_multi_delete') AND params_en IS NOT NULL AND params_en NOT LIKE 'b2c%'))\n",
    " and year=2019\n",
    " and month in (10,11)\n",
    " and params_cc like '%za%'\n",
    "group by 1\n",
    "\n",
    ";drop table if exists users_with_bund;\n",
    "select\n",
    " year || '-' || month || '-' || day as date,\n",
    " count(distinct meta_session_long) as user_with_bundle\n",
    "  into temp table users_with_bund\n",
    "    from spectrum.hydra_p_olx_android a\n",
    "  join app_version_with_bundles b on a.params_v=b.params_v\n",
    " where params_resultset_type like '%BUNDLE%'\n",
    "  and year=2019\n",
    " and month in (10,11)\n",
    " and params_cc like '%za%'\n",
    "group by 1;\n",
    "\n",
    "select\n",
    " a.*,\n",
    " b.user_with_bundle\n",
    "    from dau a\n",
    " left join users_with_bund b on a.date=b.date\n",
    "order by date\n",
    "\n",
    "\"\"\""
   ]
  },
  {
   "cell_type": "code",
   "execution_count": 6,
   "metadata": {},
   "outputs": [],
   "source": [
    "cov = pd.read_sql_query(query.replace('%', '%%'), engine)"
   ]
  },
  {
   "cell_type": "code",
   "execution_count": 13,
   "metadata": {},
   "outputs": [],
   "source": [
    "cov['date'] = pd.to_datetime(cov['date'])\n",
    "cov = cov.sort_values('date')"
   ]
  },
  {
   "cell_type": "code",
   "execution_count": 15,
   "metadata": {},
   "outputs": [],
   "source": [
    "cov['coverage'] = cov['user_with_bundle'] / cov['dau']"
   ]
  },
  {
   "cell_type": "code",
   "execution_count": 20,
   "metadata": {},
   "outputs": [
    {
     "data": {
      "text/plain": [
       "<matplotlib.axes._subplots.AxesSubplot at 0x1a20292048>"
      ]
     },
     "execution_count": 20,
     "metadata": {},
     "output_type": "execute_result"
    },
    {
     "data": {
      "image/png": "[encoded data removed]",
      "text/plain": [
       "<Figure size 432x288 with 1 Axes>"
      ]
     },
     "metadata": {
      "needs_background": "light"
     },
     "output_type": "display_data"
    }
   ],
   "source": [
    "cov[['coverage']].set_index(cov['date']).plot()"
   ]
  },
  {
   "cell_type": "markdown",
   "metadata": {},
   "source": [
    "- Which is the bundle more exposure in the home ? \n",
    "- Which one has the best conversion"
   ]
  },
  {
   "cell_type": "code",
   "execution_count": null,
   "metadata": {},
   "outputs": [],
   "source": [
    "query = \"\"\"\n",
    "\n",
    "drop table if exists users_with_bundles;\n",
    "select\n",
    " meta_session_long,\n",
    " params_user_id,\n",
    " params_resultset_id,\n",
    " CASE WHEN params_resultset_type like '%BUNDLE%' then 1 else 0 end as bundle,\n",
    " CASE WHEN params_resultset_type like '%BUNDLE_FAV%' then 1 else 0 end as bundle_fav,\n",
    " CASE WHEN params_resultset_type like '%BUNDLE_LAST%' then 1 else 0 end as bundle_search,\n",
    " CASE WHEN params_resultset_type like '%BUNDLE_NEARBY%' then 1 else 0 end as bundle_nearbyads\n",
    "   into temp table users_with_bundles\n",
    "  from spectrum.hydra_p_olx_android\n",
    "where params_en = 'view_listings'\n",
    " and params_origin is null\n",
    " and year=2019\n",
    " and month=10\n",
    " and day = 27\n",
    " and params_cc like '%za%'\n",
    " and params_v like '%13.25.004%'\n",
    "group by 1,2,3,4,5,6,7\n",
    "\n",
    ";drop table if exists users_with_bundless;\n",
    "select\n",
    " meta_session_long,\n",
    " params_user_id,\n",
    " params_resultset_id,\n",
    " max(bundle) as bundle,\n",
    " max(bundle_fav) as bundle_fav,\n",
    " max(bundle_search) as bundle_search,\n",
    " max(bundle_nearbyads) as bundle_nearbyads\n",
    "  into temp table users_with_bundless\n",
    "    from users_with_bundles a\n",
    "group by 1,2,3\n",
    "\n",
    ";drop table if exists users_with_bundlesss;\n",
    "select\n",
    " a.*,\n",
    " bundle_fav + bundle_search + bundle_nearbyads as cantidad_de_bundles\n",
    " into temp table users_with_bundlesss\n",
    "    from users_with_bundless a\n",
    "\n",
    ";drop table if exists item_identification;\n",
    "select\n",
    "  a.params_resultset_id,\n",
    "  params_item_id,\n",
    "  CASE WHEN params_resultset_type like '%FAV%' then 1 else 0 end as adview_bundle_fav,\n",
    "  CASE WHEN params_resultset_type like '%LAST%' then 1 else 0 end as adview_bundle_search,\n",
    "  CASE WHEN params_resultset_type like '%NEARBY%' then 1 else 0 end as adview_bundle_nearbyads\n",
    "    into temp table item_identification\n",
    " from spectrum.hydra_p_olx_android a\n",
    "    join (select params_resultset_id from users_with_bundles group by 1) b on a.params_resultset_id=b.params_resultset_id\n",
    "where params_en = 'view_item'\n",
    " and year=2019\n",
    " and month=10\n",
    " and day = 27\n",
    "\n",
    ";drop table if exists users_with_bundles_adview;\n",
    "select\n",
    "a.*,\n",
    "b.params_item_id,\n",
    "case when b.params_item_id is not null then 1 else 0 end resultset_adview,\n",
    "case when b.params_item_id is not null then b.adview_bundle_fav else 0 end as adview_bundle_fav,\n",
    "case when b.params_item_id is not null then b.adview_bundle_search else 0 end as adview_bundle_search,\n",
    "case when b.params_item_id is not null then b.adview_bundle_nearbyads else 0 end as adview_bundle_nearbyads\n",
    "  into temp table users_with_bundles_adview\n",
    "  from users_with_bundlesss a\n",
    " left join item_identification b on a.params_resultset_id=b.params_resultset_id\n",
    "\n",
    ";drop table if exists resulset_id_performance;\n",
    "select\n",
    "  params_resultset_id,\n",
    "  params_item_id,\n",
    "  count(distinct case when params_en in ('item_chat_tap_send_1st_reply' ,'item_tap_sms' , 'item_chat_tap_sms') then params_item_id else null end) as chats,\n",
    "  count(distinct case when params_en in ('item_tap_call') then params_item_id else null end) as calls\n",
    "  into temp table resulset_id_performance\n",
    "from spectrum.hydra_p_olx_android\n",
    "where params_en in ('item_tap_call' , 'item_chat_tap_send_1st_reply' , 'item_tap_sms' , 'item_chat_tap_sms')\n",
    " and year=2019\n",
    " and month=10\n",
    " and day = 27\n",
    " and params_cc like '%za%'\n",
    "group by 1,2\n",
    "\n",
    ";drop table if exists final;\n",
    "select\n",
    " a.*,\n",
    " case when b.params_resultset_id is not null then b.chats else 0 end as chats,\n",
    " case when b.params_resultset_id is not null then b.calls else 0 end as calls\n",
    "  into temp table final\n",
    "    from users_with_bundles_adview a\n",
    " left join resulset_id_performance b on a.params_resultset_id=b.params_resultset_id and a.params_item_id=b.params_item_id\n",
    "\n",
    ";select * from final order by params_resultset_id \n",
    "group by 1,2,3,4,5,6,7,8,9,10,11,12,13,14,15\n",
    "\n",
    "\"\"\""
   ]
  },
  {
   "cell_type": "code",
   "execution_count": null,
   "metadata": {},
   "outputs": [],
   "source": [
    "df = pd.read_sql_query(query.replace('%', '%%'), engine)"
   ]
  },
  {
   "cell_type": "code",
   "execution_count": null,
   "metadata": {},
   "outputs": [],
   "source": [
    "df.head()"
   ]
  },
  {
   "cell_type": "code",
   "execution_count": null,
   "metadata": {},
   "outputs": [],
   "source": [
    "df[['meta_session_long' , 'params_user_id' , 'params_resultset_id' , 'params_item_id']].nunique()"
   ]
  },
  {
   "cell_type": "markdown",
   "metadata": {},
   "source": [
    "From the people with bundles , which bundles are seing most ?"
   ]
  },
  {
   "cell_type": "code",
   "execution_count": null,
   "metadata": {},
   "outputs": [],
   "source": [
    "df.pivot_table(index=['bundle_fav' , 'bundle_search' , 'bundle_nearbyads'] , values='params_resultset_id' , aggfunc=pd.Series.nunique).reset_index()"
   ]
  },
  {
   "cell_type": "code",
   "execution_count": null,
   "metadata": {},
   "outputs": [],
   "source": [
    "print(8274 + 26 + 4508 + 2647 + 3930 + 1 +3063)"
   ]
  },
  {
   "cell_type": "code",
   "execution_count": null,
   "metadata": {},
   "outputs": [],
   "source": [
    "df.groupby(['params_resultset_id' , 'params_item_id'])['params_item_id'].count().sort_values(ascending=False).head()"
   ]
  },
  {
   "cell_type": "markdown",
   "metadata": {},
   "source": [
    "Performance"
   ]
  },
  {
   "cell_type": "code",
   "execution_count": null,
   "metadata": {},
   "outputs": [],
   "source": [
    "df['reply'] = df['chats'] + df['calls']"
   ]
  },
  {
   "cell_type": "code",
   "execution_count": null,
   "metadata": {},
   "outputs": [],
   "source": [
    "df.pivot_table(index=['adview_bundle_fav' , 'adview_bundle_search' , 'adview_bundle_nearbyads'] , \n",
    "               values=['params_resultset_id' , 'reply'] , \n",
    "               aggfunc={'params_resultset_id': pd.Series.nunique , \n",
    "                       'reply':'sum'}).reset_index()"
   ]
  },
  {
   "cell_type": "code",
   "execution_count": null,
   "metadata": {},
   "outputs": [],
   "source": [
    "df.pivot_table(index=['bundle_fav' , 'bundle_search' , 'bundle_nearbyads',\n",
    "                      'adview_bundle_fav' , 'adview_bundle_search' , 'adview_bundle_nearbyads'] , \n",
    "               values=['params_resultset_id' , 'reply'] , \n",
    "               aggfunc={'params_resultset_id': pd.Series.nunique , \n",
    "                       'reply':'sum'}).reset_index()"
   ]
  },
  {
   "cell_type": "code",
   "execution_count": null,
   "metadata": {},
   "outputs": [],
   "source": []
  },
  {
   "cell_type": "code",
   "execution_count": null,
   "metadata": {},
   "outputs": [],
   "source": []
  }
 ],
 "metadata": {
  "kernelspec": {
   "display_name": "Python 3",
   "language": "python",
   "name": "python3"
  },
  "language_info": {
   "codemirror_mode": {
    "name": "ipython",
    "version": 3
   },
   "file_extension": ".py",
   "mimetype": "text/x-python",
   "name": "python",
   "nbconvert_exporter": "python",
   "pygments_lexer": "ipython3",
   "version": "3.7.3"
  }
 },
 "nbformat": 4,
 "nbformat_minor": 4
}
