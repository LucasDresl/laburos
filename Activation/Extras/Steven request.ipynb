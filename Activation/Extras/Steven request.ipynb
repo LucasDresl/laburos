{
 "cells": [
  {
   "cell_type": "code",
   "execution_count": 16,
   "metadata": {},
   "outputs": [],
   "source": [
    "import pandas as pd\n",
    "import numpy as np\n",
    "from time import time\n",
    "import json\n",
    "from sqlalchemy import create_engine\n",
    "import re\n",
    "import datetime\n",
    "#import lifetimes\n",
    "#import pymc3 as pm\n",
    "\n",
    "%matplotlib inline\n",
    "import matplotlib.pyplot as plt\n",
    "import seaborn as sns; sns.set()"
   ]
  },
  {
   "cell_type": "code",
   "execution_count": 17,
   "metadata": {},
   "outputs": [],
   "source": [
    "# Set up the SQL connection\n",
    "dbname = 'redshift'\n",
    "url = 'panamera-ods.cnsuxis6zqxr.us-west-2.redshift.amazonaws.com:5439/panameraods'\n",
    "engine = create_engine(\"postgresql://\" + 'lucasdresl' + \":\" + 'cQsY801a76x82x62aWDT' + \"@\" + url)"
   ]
  },
  {
   "cell_type": "markdown",
   "metadata": {},
   "source": [
    "# Colin"
   ]
  },
  {
   "cell_type": "code",
   "execution_count": 66,
   "metadata": {},
   "outputs": [],
   "source": [
    "query = \"\"\"\n",
    "\n",
    "select\n",
    "  extract(month from date_event_nk) as month,\n",
    "  channel_sk,\n",
    "  split_part(country_sk , '|' , 1)||split_part(country_sk , '|' , 3) as country,\n",
    "  login_method,\n",
    "  user_nk\n",
    "    from ods.fact_login_complete\n",
    " where country_sk in ('olx|asia|in' , 'olx|asia|id')\n",
    " and date_event_nk >= '2019-08-20' and date_event_nk<='2019-08-31'\n",
    " and login_method in ('google' , 'facebook' , 'phone' , 'email')\n",
    "group by 1,2,3,4,5\n",
    "order by 5\n",
    "\n",
    "\n",
    "\"\"\""
   ]
  },
  {
   "cell_type": "code",
   "execution_count": 67,
   "metadata": {},
   "outputs": [],
   "source": [
    "df = pd.read_sql_query(query.replace('%', '%%'), engine)"
   ]
  },
  {
   "cell_type": "code",
   "execution_count": 68,
   "metadata": {},
   "outputs": [
    {
     "data": {
      "text/html": [
       "<div>\n",
       "<style scoped>\n",
       "    .dataframe tbody tr th:only-of-type {\n",
       "        vertical-align: middle;\n",
       "    }\n",
       "\n",
       "    .dataframe tbody tr th {\n",
       "        vertical-align: top;\n",
       "    }\n",
       "\n",
       "    .dataframe thead th {\n",
       "        text-align: right;\n",
       "    }\n",
       "</style>\n",
       "<table border=\"1\" class=\"dataframe\">\n",
       "  <thead>\n",
       "    <tr style=\"text-align: right;\">\n",
       "      <th></th>\n",
       "      <th>month</th>\n",
       "      <th>channel_sk</th>\n",
       "      <th>country</th>\n",
       "      <th>login_method</th>\n",
       "      <th>user_nk</th>\n",
       "    </tr>\n",
       "  </thead>\n",
       "  <tbody>\n",
       "    <tr>\n",
       "      <th>0</th>\n",
       "      <td>8</td>\n",
       "      <td>web|desktop_web</td>\n",
       "      <td>olxid</td>\n",
       "      <td>email</td>\n",
       "      <td>48.0</td>\n",
       "    </tr>\n",
       "    <tr>\n",
       "      <th>1</th>\n",
       "      <td>8</td>\n",
       "      <td>web|desktop_web</td>\n",
       "      <td>olxid</td>\n",
       "      <td>email</td>\n",
       "      <td>61.0</td>\n",
       "    </tr>\n",
       "    <tr>\n",
       "      <th>2</th>\n",
       "      <td>8</td>\n",
       "      <td>web|desktop_web</td>\n",
       "      <td>olxid</td>\n",
       "      <td>email</td>\n",
       "      <td>77.0</td>\n",
       "    </tr>\n",
       "    <tr>\n",
       "      <th>3</th>\n",
       "      <td>8</td>\n",
       "      <td>mobile_app|ios</td>\n",
       "      <td>olxid</td>\n",
       "      <td>email</td>\n",
       "      <td>120.0</td>\n",
       "    </tr>\n",
       "    <tr>\n",
       "      <th>4</th>\n",
       "      <td>8</td>\n",
       "      <td>mobile_app|android</td>\n",
       "      <td>olxid</td>\n",
       "      <td>email</td>\n",
       "      <td>120.0</td>\n",
       "    </tr>\n",
       "  </tbody>\n",
       "</table>\n",
       "</div>"
      ],
      "text/plain": [
       "   month          channel_sk country login_method  user_nk\n",
       "0      8     web|desktop_web   olxid        email     48.0\n",
       "1      8     web|desktop_web   olxid        email     61.0\n",
       "2      8     web|desktop_web   olxid        email     77.0\n",
       "3      8      mobile_app|ios   olxid        email    120.0\n",
       "4      8  mobile_app|android   olxid        email    120.0"
      ]
     },
     "execution_count": 68,
     "metadata": {},
     "output_type": "execute_result"
    }
   ],
   "source": [
    "df.head()"
   ]
  },
  {
   "cell_type": "code",
   "execution_count": 69,
   "metadata": {},
   "outputs": [],
   "source": [
    "df = df[df['user_nk'].notnull()]"
   ]
  },
  {
   "cell_type": "code",
   "execution_count": 70,
   "metadata": {},
   "outputs": [],
   "source": [
    "dfid = df[df['country'] == 'olxid'].sample(n=50000)\n",
    "dfin = df[df['country'] == 'olxin'].sample(n=50000)\n",
    "dfin.user_nk = dfin.user_nk.astype(int)\n",
    "dfid.user_nk = dfid.user_nk.astype(int)"
   ]
  },
  {
   "cell_type": "code",
   "execution_count": 71,
   "metadata": {},
   "outputs": [
    {
     "data": {
      "text/html": [
       "<div>\n",
       "<style scoped>\n",
       "    .dataframe tbody tr th:only-of-type {\n",
       "        vertical-align: middle;\n",
       "    }\n",
       "\n",
       "    .dataframe tbody tr th {\n",
       "        vertical-align: top;\n",
       "    }\n",
       "\n",
       "    .dataframe thead th {\n",
       "        text-align: right;\n",
       "    }\n",
       "</style>\n",
       "<table border=\"1\" class=\"dataframe\">\n",
       "  <thead>\n",
       "    <tr style=\"text-align: right;\">\n",
       "      <th></th>\n",
       "      <th>month</th>\n",
       "      <th>channel_sk</th>\n",
       "      <th>country</th>\n",
       "      <th>login_method</th>\n",
       "      <th>user_nk</th>\n",
       "    </tr>\n",
       "  </thead>\n",
       "  <tbody>\n",
       "    <tr>\n",
       "      <th>1600647</th>\n",
       "      <td>8</td>\n",
       "      <td>mobile_app|android</td>\n",
       "      <td>olxid</td>\n",
       "      <td>email</td>\n",
       "      <td>100384734</td>\n",
       "    </tr>\n",
       "    <tr>\n",
       "      <th>1278248</th>\n",
       "      <td>8</td>\n",
       "      <td>web|mobile_web</td>\n",
       "      <td>olxid</td>\n",
       "      <td>google</td>\n",
       "      <td>100060144</td>\n",
       "    </tr>\n",
       "    <tr>\n",
       "      <th>1467129</th>\n",
       "      <td>8</td>\n",
       "      <td>mobile_app|android</td>\n",
       "      <td>olxid</td>\n",
       "      <td>facebook</td>\n",
       "      <td>100249778</td>\n",
       "    </tr>\n",
       "    <tr>\n",
       "      <th>1042004</th>\n",
       "      <td>8</td>\n",
       "      <td>mobile_app|android</td>\n",
       "      <td>olxid</td>\n",
       "      <td>google</td>\n",
       "      <td>93247297</td>\n",
       "    </tr>\n",
       "    <tr>\n",
       "      <th>1565369</th>\n",
       "      <td>8</td>\n",
       "      <td>mobile_app|android</td>\n",
       "      <td>olxid</td>\n",
       "      <td>facebook</td>\n",
       "      <td>100348771</td>\n",
       "    </tr>\n",
       "  </tbody>\n",
       "</table>\n",
       "</div>"
      ],
      "text/plain": [
       "         month          channel_sk country login_method    user_nk\n",
       "1600647      8  mobile_app|android   olxid        email  100384734\n",
       "1278248      8      web|mobile_web   olxid       google  100060144\n",
       "1467129      8  mobile_app|android   olxid     facebook  100249778\n",
       "1042004      8  mobile_app|android   olxid       google   93247297\n",
       "1565369      8  mobile_app|android   olxid     facebook  100348771"
      ]
     },
     "execution_count": 71,
     "metadata": {},
     "output_type": "execute_result"
    }
   ],
   "source": [
    "dfid.head()"
   ]
  },
  {
   "cell_type": "code",
   "execution_count": 72,
   "metadata": {},
   "outputs": [],
   "source": [
    "# Connection to the SQL database\n",
    "import pymysql.cursors\n",
    "connect_sql = pymysql.connect(host='prd-db-olxin-replica-1.cnhuszkczyjo.ap-southeast-1.rds.amazonaws.com',\n",
    "                            user='dev',\n",
    "                            password='^b6W2vVuM4KJ',\n",
    "                            db='olxin',\n",
    "                            charset='utf8mb4',\n",
    "                            cursorclass=pymysql.cursors.DictCursor)"
   ]
  },
  {
   "cell_type": "code",
   "execution_count": 73,
   "metadata": {},
   "outputs": [],
   "source": [
    "query = \"\"\"\n",
    "\n",
    "SELECT\n",
    " id,\n",
    " case when facebook_id is not null then 1 else 0 end as has_facebook,\n",
    " case when google_id is not null then 1 else 0 end as has_google,\n",
    " case when default_phone is not null then 1 else 0 end as has_phone,\n",
    " case\n",
    "    WHEN email LIKE '%@olx%' THEN 0 -- Autogenerado\n",
    "    WHEN email LIKE '%DELETED%' THEN 0 -- Autogenerados\n",
    "    WHEN email LIKE '%UNLINK%' THEN 0 -- Autogenerados\n",
    "    ELSE 1 END  as valido_email\n",
    "FROM olxin.users\n",
    "    where id in {} \n",
    "\n",
    "\"\"\".format('(' + ', '.join(pd.Series(dfin.user_nk).astype('str').apply(lambda x: \"'\"  + x + \"'\")) + ')')"
   ]
  },
  {
   "cell_type": "code",
   "execution_count": 74,
   "metadata": {},
   "outputs": [
    {
     "name": "stderr",
     "output_type": "stream",
     "text": [
      "/Users/lucas/anaconda3/lib/python3.7/site-packages/pymysql/cursors.py:329: Warning: (3170, \"Memory capacity of 8388608 bytes for 'range_optimizer_max_mem_size' exceeded. Range optimization was not done for this query.\")\n",
      "  self._do_get_result()\n"
     ]
    }
   ],
   "source": [
    "df_ora = pd.read_sql(query, con=connect_sql)"
   ]
  },
  {
   "cell_type": "code",
   "execution_count": 75,
   "metadata": {},
   "outputs": [],
   "source": [
    "df_ora.rename(columns={'id' : 'user_nk'} , inplace=True)\n",
    "#dfid.rename(columns={'id' : 'user_nk'} , inplace=True)"
   ]
  },
  {
   "cell_type": "code",
   "execution_count": 76,
   "metadata": {},
   "outputs": [],
   "source": [
    "dfin_c = pd.merge(dfin , df_ora , how='left' , on=['user_nk']).fillna(0)\n",
    "#dfid_c = pd.merge(dfid , df_ora , how='left' , on=['user_nk']).fillna(0)"
   ]
  },
  {
   "cell_type": "code",
   "execution_count": 77,
   "metadata": {},
   "outputs": [
    {
     "data": {
      "text/html": [
       "<div>\n",
       "<style scoped>\n",
       "    .dataframe tbody tr th:only-of-type {\n",
       "        vertical-align: middle;\n",
       "    }\n",
       "\n",
       "    .dataframe tbody tr th {\n",
       "        vertical-align: top;\n",
       "    }\n",
       "\n",
       "    .dataframe thead th {\n",
       "        text-align: right;\n",
       "    }\n",
       "</style>\n",
       "<table border=\"1\" class=\"dataframe\">\n",
       "  <thead>\n",
       "    <tr style=\"text-align: right;\">\n",
       "      <th></th>\n",
       "      <th>month</th>\n",
       "      <th>channel_sk</th>\n",
       "      <th>country</th>\n",
       "      <th>login_method</th>\n",
       "      <th>user_nk</th>\n",
       "      <th>has_facebook</th>\n",
       "      <th>has_google</th>\n",
       "      <th>has_phone</th>\n",
       "      <th>valido_email</th>\n",
       "    </tr>\n",
       "  </thead>\n",
       "  <tbody>\n",
       "    <tr>\n",
       "      <th>0</th>\n",
       "      <td>8</td>\n",
       "      <td>mobile_app|android</td>\n",
       "      <td>olxin</td>\n",
       "      <td>facebook</td>\n",
       "      <td>424838816</td>\n",
       "      <td>1</td>\n",
       "      <td>0</td>\n",
       "      <td>1</td>\n",
       "      <td>0</td>\n",
       "    </tr>\n",
       "    <tr>\n",
       "      <th>1</th>\n",
       "      <td>8</td>\n",
       "      <td>mobile_app|android</td>\n",
       "      <td>olxin</td>\n",
       "      <td>google</td>\n",
       "      <td>308164991</td>\n",
       "      <td>1</td>\n",
       "      <td>1</td>\n",
       "      <td>1</td>\n",
       "      <td>1</td>\n",
       "    </tr>\n",
       "    <tr>\n",
       "      <th>2</th>\n",
       "      <td>8</td>\n",
       "      <td>mobile_app|android</td>\n",
       "      <td>olxin</td>\n",
       "      <td>phone</td>\n",
       "      <td>425654671</td>\n",
       "      <td>0</td>\n",
       "      <td>0</td>\n",
       "      <td>1</td>\n",
       "      <td>0</td>\n",
       "    </tr>\n",
       "    <tr>\n",
       "      <th>3</th>\n",
       "      <td>8</td>\n",
       "      <td>web|desktop_web</td>\n",
       "      <td>olxin</td>\n",
       "      <td>google</td>\n",
       "      <td>271708237</td>\n",
       "      <td>0</td>\n",
       "      <td>1</td>\n",
       "      <td>0</td>\n",
       "      <td>1</td>\n",
       "    </tr>\n",
       "    <tr>\n",
       "      <th>4</th>\n",
       "      <td>8</td>\n",
       "      <td>mobile_app|android</td>\n",
       "      <td>olxin</td>\n",
       "      <td>facebook</td>\n",
       "      <td>44585481</td>\n",
       "      <td>1</td>\n",
       "      <td>0</td>\n",
       "      <td>0</td>\n",
       "      <td>1</td>\n",
       "    </tr>\n",
       "  </tbody>\n",
       "</table>\n",
       "</div>"
      ],
      "text/plain": [
       "   month          channel_sk country login_method    user_nk  has_facebook  \\\n",
       "0      8  mobile_app|android   olxin     facebook  424838816             1   \n",
       "1      8  mobile_app|android   olxin       google  308164991             1   \n",
       "2      8  mobile_app|android   olxin        phone  425654671             0   \n",
       "3      8     web|desktop_web   olxin       google  271708237             0   \n",
       "4      8  mobile_app|android   olxin     facebook   44585481             1   \n",
       "\n",
       "   has_google  has_phone  valido_email  \n",
       "0           0          1             0  \n",
       "1           1          1             1  \n",
       "2           0          1             0  \n",
       "3           1          0             1  \n",
       "4           0          0             1  "
      ]
     },
     "execution_count": 77,
     "metadata": {},
     "output_type": "execute_result"
    }
   ],
   "source": [
    "dfin_c.head()"
   ]
  },
  {
   "cell_type": "code",
   "execution_count": 79,
   "metadata": {},
   "outputs": [
    {
     "data": {
      "text/html": [
       "<div>\n",
       "<style scoped>\n",
       "    .dataframe tbody tr th:only-of-type {\n",
       "        vertical-align: middle;\n",
       "    }\n",
       "\n",
       "    .dataframe tbody tr th {\n",
       "        vertical-align: top;\n",
       "    }\n",
       "\n",
       "    .dataframe thead th {\n",
       "        text-align: right;\n",
       "    }\n",
       "</style>\n",
       "<table border=\"1\" class=\"dataframe\">\n",
       "  <thead>\n",
       "    <tr style=\"text-align: right;\">\n",
       "      <th>login_method</th>\n",
       "      <th>email</th>\n",
       "      <th>facebook</th>\n",
       "      <th>google</th>\n",
       "      <th>phone</th>\n",
       "    </tr>\n",
       "    <tr>\n",
       "      <th>channel_sk</th>\n",
       "      <th></th>\n",
       "      <th></th>\n",
       "      <th></th>\n",
       "      <th></th>\n",
       "    </tr>\n",
       "  </thead>\n",
       "  <tbody>\n",
       "    <tr>\n",
       "      <th>mobile_app|android</th>\n",
       "      <td>1241</td>\n",
       "      <td>7892</td>\n",
       "      <td>13380</td>\n",
       "      <td>14278</td>\n",
       "    </tr>\n",
       "    <tr>\n",
       "      <th>mobile_app|ios</th>\n",
       "      <td>73</td>\n",
       "      <td>322</td>\n",
       "      <td>304</td>\n",
       "      <td>658</td>\n",
       "    </tr>\n",
       "    <tr>\n",
       "      <th>web|desktop_web</th>\n",
       "      <td>337</td>\n",
       "      <td>248</td>\n",
       "      <td>1182</td>\n",
       "      <td>1793</td>\n",
       "    </tr>\n",
       "    <tr>\n",
       "      <th>web|mobile_web</th>\n",
       "      <td>278</td>\n",
       "      <td>581</td>\n",
       "      <td>4641</td>\n",
       "      <td>2792</td>\n",
       "    </tr>\n",
       "  </tbody>\n",
       "</table>\n",
       "</div>"
      ],
      "text/plain": [
       "login_method        email  facebook  google  phone\n",
       "channel_sk                                        \n",
       "mobile_app|android   1241      7892   13380  14278\n",
       "mobile_app|ios         73       322     304    658\n",
       "web|desktop_web       337       248    1182   1793\n",
       "web|mobile_web        278       581    4641   2792"
      ]
     },
     "execution_count": 79,
     "metadata": {},
     "output_type": "execute_result"
    }
   ],
   "source": [
    "dfin_c.pivot_table(index='channel_sk' ,columns='login_method' , values='user_nk' , aggfunc={'user_nk':'count' ,\n",
    "                                                                                           'user_nk':pd.Series.nunique})"
   ]
  },
  {
   "cell_type": "code",
   "execution_count": 81,
   "metadata": {},
   "outputs": [
    {
     "data": {
      "text/html": [
       "<div>\n",
       "<style scoped>\n",
       "    .dataframe tbody tr th:only-of-type {\n",
       "        vertical-align: middle;\n",
       "    }\n",
       "\n",
       "    .dataframe tbody tr th {\n",
       "        vertical-align: top;\n",
       "    }\n",
       "\n",
       "    .dataframe thead th {\n",
       "        text-align: right;\n",
       "    }\n",
       "</style>\n",
       "<table border=\"1\" class=\"dataframe\">\n",
       "  <thead>\n",
       "    <tr style=\"text-align: right;\">\n",
       "      <th></th>\n",
       "      <th>user_nk</th>\n",
       "    </tr>\n",
       "    <tr>\n",
       "      <th>channel_sk</th>\n",
       "      <th></th>\n",
       "    </tr>\n",
       "  </thead>\n",
       "  <tbody>\n",
       "    <tr>\n",
       "      <th>mobile_app|android</th>\n",
       "      <td>36781</td>\n",
       "    </tr>\n",
       "    <tr>\n",
       "      <th>mobile_app|ios</th>\n",
       "      <td>1357</td>\n",
       "    </tr>\n",
       "    <tr>\n",
       "      <th>web|desktop_web</th>\n",
       "      <td>3560</td>\n",
       "    </tr>\n",
       "    <tr>\n",
       "      <th>web|mobile_web</th>\n",
       "      <td>8288</td>\n",
       "    </tr>\n",
       "  </tbody>\n",
       "</table>\n",
       "</div>"
      ],
      "text/plain": [
       "                    user_nk\n",
       "channel_sk                 \n",
       "mobile_app|android    36781\n",
       "mobile_app|ios         1357\n",
       "web|desktop_web        3560\n",
       "web|mobile_web         8288"
      ]
     },
     "execution_count": 81,
     "metadata": {},
     "output_type": "execute_result"
    }
   ],
   "source": [
    "dfin_c.pivot_table(index='channel_sk' , values='user_nk' , aggfunc={'user_nk':pd.Series.nunique})                                               "
   ]
  },
  {
   "cell_type": "code",
   "execution_count": 82,
   "metadata": {},
   "outputs": [
    {
     "data": {
      "text/html": [
       "<div>\n",
       "<style scoped>\n",
       "    .dataframe tbody tr th:only-of-type {\n",
       "        vertical-align: middle;\n",
       "    }\n",
       "\n",
       "    .dataframe tbody tr th {\n",
       "        vertical-align: top;\n",
       "    }\n",
       "\n",
       "    .dataframe thead th {\n",
       "        text-align: right;\n",
       "    }\n",
       "</style>\n",
       "<table border=\"1\" class=\"dataframe\">\n",
       "  <thead>\n",
       "    <tr style=\"text-align: right;\">\n",
       "      <th></th>\n",
       "      <th>has_facebook</th>\n",
       "      <th>has_google</th>\n",
       "      <th>has_phone</th>\n",
       "      <th>user_nk</th>\n",
       "      <th>valido_email</th>\n",
       "    </tr>\n",
       "    <tr>\n",
       "      <th>channel_sk</th>\n",
       "      <th></th>\n",
       "      <th></th>\n",
       "      <th></th>\n",
       "      <th></th>\n",
       "      <th></th>\n",
       "    </tr>\n",
       "  </thead>\n",
       "  <tbody>\n",
       "    <tr>\n",
       "      <th>mobile_app|android</th>\n",
       "      <td>14128</td>\n",
       "      <td>18005</td>\n",
       "      <td>28869</td>\n",
       "      <td>36781</td>\n",
       "      <td>20104</td>\n",
       "    </tr>\n",
       "    <tr>\n",
       "      <th>mobile_app|ios</th>\n",
       "      <td>532</td>\n",
       "      <td>491</td>\n",
       "      <td>1099</td>\n",
       "      <td>1357</td>\n",
       "      <td>611</td>\n",
       "    </tr>\n",
       "    <tr>\n",
       "      <th>web|desktop_web</th>\n",
       "      <td>1799</td>\n",
       "      <td>2359</td>\n",
       "      <td>3191</td>\n",
       "      <td>3560</td>\n",
       "      <td>2019</td>\n",
       "    </tr>\n",
       "    <tr>\n",
       "      <th>web|mobile_web</th>\n",
       "      <td>5157</td>\n",
       "      <td>6671</td>\n",
       "      <td>6968</td>\n",
       "      <td>8288</td>\n",
       "      <td>5514</td>\n",
       "    </tr>\n",
       "  </tbody>\n",
       "</table>\n",
       "</div>"
      ],
      "text/plain": [
       "                    has_facebook  has_google  has_phone  user_nk  valido_email\n",
       "channel_sk                                                                    \n",
       "mobile_app|android         14128       18005      28869    36781         20104\n",
       "mobile_app|ios               532         491       1099     1357           611\n",
       "web|desktop_web             1799        2359       3191     3560          2019\n",
       "web|mobile_web              5157        6671       6968     8288          5514"
      ]
     },
     "execution_count": 82,
     "metadata": {},
     "output_type": "execute_result"
    }
   ],
   "source": [
    "dfin_c.pivot_table(index='channel_sk' , values=['has_facebook' , 'has_google' , 'has_phone','valido_email','user_nk'] ,\n",
    "                  aggfunc={'has_facebook':sum , 'has_google':sum , 'has_phone':sum , 'valido_email':sum ,\n",
    "                          'user_nk':pd.Series.nunique})"
   ]
  },
  {
   "cell_type": "code",
   "execution_count": 83,
   "metadata": {},
   "outputs": [],
   "source": [
    "dfin_notface = dfin_c[dfin_c['login_method'] != 'facebook']"
   ]
  },
  {
   "cell_type": "code",
   "execution_count": 86,
   "metadata": {},
   "outputs": [
    {
     "data": {
      "text/plain": [
       "0    28276\n",
       "1    12681\n",
       "Name: has_facebook, dtype: int64"
      ]
     },
     "execution_count": 86,
     "metadata": {},
     "output_type": "execute_result"
    }
   ],
   "source": [
    "dfin_notface['has_facebook'].value_counts()"
   ]
  },
  {
   "cell_type": "code",
   "execution_count": 87,
   "metadata": {},
   "outputs": [],
   "source": [
    "# Connection to the SQL database\n",
    "import pymysql.cursors\n",
    "connect_sql = pymysql.connect(host='prd-db-olxid-replica-1.cnhuszkczyjo.ap-southeast-1.rds.amazonaws.com',\n",
    "                            user='dev',\n",
    "                            password='^b6W2vVuM4KJ',\n",
    "                            db='olxid',\n",
    "                            charset='utf8mb4',\n",
    "                            cursorclass=pymysql.cursors.DictCursor)"
   ]
  },
  {
   "cell_type": "code",
   "execution_count": 88,
   "metadata": {},
   "outputs": [],
   "source": [
    "query = \"\"\"\n",
    "\n",
    "SELECT\n",
    " id,\n",
    " case when facebook_id is not null then 1 else 0 end as has_facebook,\n",
    " case when google_id is not null then 1 else 0 end as has_google,\n",
    " case when default_phone is not null then 1 else 0 end as has_phone,\n",
    " case\n",
    "    WHEN email LIKE '%@olx%' THEN 0 -- Autogenerado\n",
    "    WHEN email LIKE '%DELETED%' THEN 0 -- Autogenerados\n",
    "    WHEN email LIKE '%UNLINK%' THEN 0 -- Autogenerados\n",
    "    ELSE 1 END  as valido_email\n",
    "FROM olxid.users\n",
    "    where id in {} \n",
    "\n",
    "\"\"\".format('(' + ', '.join(pd.Series(dfid.user_nk).astype('str').apply(lambda x: \"'\"  + x + \"'\")) + ')')"
   ]
  },
  {
   "cell_type": "code",
   "execution_count": 89,
   "metadata": {},
   "outputs": [
    {
     "name": "stderr",
     "output_type": "stream",
     "text": [
      "/Users/lucas/anaconda3/lib/python3.7/site-packages/pymysql/cursors.py:329: Warning: (3170, \"Memory capacity of 8388608 bytes for 'range_optimizer_max_mem_size' exceeded. Range optimization was not done for this query.\")\n",
      "  self._do_get_result()\n"
     ]
    }
   ],
   "source": [
    "df_ora = pd.read_sql(query, con=connect_sql)"
   ]
  },
  {
   "cell_type": "code",
   "execution_count": 90,
   "metadata": {},
   "outputs": [],
   "source": [
    "df_ora.rename(columns={'id' : 'user_nk'} , inplace=True)\n",
    "#dfid.rename(columns={'id' : 'user_nk'} , inplace=True)"
   ]
  },
  {
   "cell_type": "code",
   "execution_count": 91,
   "metadata": {},
   "outputs": [],
   "source": [
    "dfid_c = pd.merge(dfid , df_ora , how='left' , on=['user_nk']).fillna(0)\n",
    "#dfid_c = pd.merge(dfid , df_ora , how='left' , on=['user_nk']).fillna(0)"
   ]
  },
  {
   "cell_type": "code",
   "execution_count": 92,
   "metadata": {},
   "outputs": [
    {
     "data": {
      "text/html": [
       "<div>\n",
       "<style scoped>\n",
       "    .dataframe tbody tr th:only-of-type {\n",
       "        vertical-align: middle;\n",
       "    }\n",
       "\n",
       "    .dataframe tbody tr th {\n",
       "        vertical-align: top;\n",
       "    }\n",
       "\n",
       "    .dataframe thead th {\n",
       "        text-align: right;\n",
       "    }\n",
       "</style>\n",
       "<table border=\"1\" class=\"dataframe\">\n",
       "  <thead>\n",
       "    <tr style=\"text-align: right;\">\n",
       "      <th></th>\n",
       "      <th>month</th>\n",
       "      <th>channel_sk</th>\n",
       "      <th>country</th>\n",
       "      <th>login_method</th>\n",
       "      <th>user_nk</th>\n",
       "      <th>has_facebook</th>\n",
       "      <th>has_google</th>\n",
       "      <th>has_phone</th>\n",
       "      <th>valido_email</th>\n",
       "    </tr>\n",
       "  </thead>\n",
       "  <tbody>\n",
       "    <tr>\n",
       "      <th>0</th>\n",
       "      <td>8</td>\n",
       "      <td>mobile_app|android</td>\n",
       "      <td>olxid</td>\n",
       "      <td>email</td>\n",
       "      <td>100384734</td>\n",
       "      <td>0.0</td>\n",
       "      <td>0.0</td>\n",
       "      <td>1.0</td>\n",
       "      <td>1.0</td>\n",
       "    </tr>\n",
       "    <tr>\n",
       "      <th>1</th>\n",
       "      <td>8</td>\n",
       "      <td>web|mobile_web</td>\n",
       "      <td>olxid</td>\n",
       "      <td>google</td>\n",
       "      <td>100060144</td>\n",
       "      <td>1.0</td>\n",
       "      <td>1.0</td>\n",
       "      <td>1.0</td>\n",
       "      <td>1.0</td>\n",
       "    </tr>\n",
       "    <tr>\n",
       "      <th>2</th>\n",
       "      <td>8</td>\n",
       "      <td>mobile_app|android</td>\n",
       "      <td>olxid</td>\n",
       "      <td>facebook</td>\n",
       "      <td>100249778</td>\n",
       "      <td>1.0</td>\n",
       "      <td>0.0</td>\n",
       "      <td>0.0</td>\n",
       "      <td>0.0</td>\n",
       "    </tr>\n",
       "    <tr>\n",
       "      <th>3</th>\n",
       "      <td>8</td>\n",
       "      <td>mobile_app|android</td>\n",
       "      <td>olxid</td>\n",
       "      <td>google</td>\n",
       "      <td>93247297</td>\n",
       "      <td>0.0</td>\n",
       "      <td>1.0</td>\n",
       "      <td>0.0</td>\n",
       "      <td>1.0</td>\n",
       "    </tr>\n",
       "    <tr>\n",
       "      <th>4</th>\n",
       "      <td>8</td>\n",
       "      <td>mobile_app|android</td>\n",
       "      <td>olxid</td>\n",
       "      <td>facebook</td>\n",
       "      <td>100348771</td>\n",
       "      <td>1.0</td>\n",
       "      <td>0.0</td>\n",
       "      <td>0.0</td>\n",
       "      <td>0.0</td>\n",
       "    </tr>\n",
       "  </tbody>\n",
       "</table>\n",
       "</div>"
      ],
      "text/plain": [
       "   month          channel_sk country login_method    user_nk  has_facebook  \\\n",
       "0      8  mobile_app|android   olxid        email  100384734           0.0   \n",
       "1      8      web|mobile_web   olxid       google  100060144           1.0   \n",
       "2      8  mobile_app|android   olxid     facebook  100249778           1.0   \n",
       "3      8  mobile_app|android   olxid       google   93247297           0.0   \n",
       "4      8  mobile_app|android   olxid     facebook  100348771           1.0   \n",
       "\n",
       "   has_google  has_phone  valido_email  \n",
       "0         0.0        1.0           1.0  \n",
       "1         1.0        1.0           1.0  \n",
       "2         0.0        0.0           0.0  \n",
       "3         1.0        0.0           1.0  \n",
       "4         0.0        0.0           0.0  "
      ]
     },
     "execution_count": 92,
     "metadata": {},
     "output_type": "execute_result"
    }
   ],
   "source": [
    "dfid_c.head()"
   ]
  },
  {
   "cell_type": "code",
   "execution_count": 93,
   "metadata": {},
   "outputs": [
    {
     "data": {
      "text/html": [
       "<div>\n",
       "<style scoped>\n",
       "    .dataframe tbody tr th:only-of-type {\n",
       "        vertical-align: middle;\n",
       "    }\n",
       "\n",
       "    .dataframe tbody tr th {\n",
       "        vertical-align: top;\n",
       "    }\n",
       "\n",
       "    .dataframe thead th {\n",
       "        text-align: right;\n",
       "    }\n",
       "</style>\n",
       "<table border=\"1\" class=\"dataframe\">\n",
       "  <thead>\n",
       "    <tr style=\"text-align: right;\">\n",
       "      <th>login_method</th>\n",
       "      <th>email</th>\n",
       "      <th>facebook</th>\n",
       "      <th>google</th>\n",
       "      <th>phone</th>\n",
       "    </tr>\n",
       "    <tr>\n",
       "      <th>channel_sk</th>\n",
       "      <th></th>\n",
       "      <th></th>\n",
       "      <th></th>\n",
       "      <th></th>\n",
       "    </tr>\n",
       "  </thead>\n",
       "  <tbody>\n",
       "    <tr>\n",
       "      <th>mobile_app|android</th>\n",
       "      <td>4000.0</td>\n",
       "      <td>7722.0</td>\n",
       "      <td>13333.0</td>\n",
       "      <td>3.0</td>\n",
       "    </tr>\n",
       "    <tr>\n",
       "      <th>mobile_app|ios</th>\n",
       "      <td>643.0</td>\n",
       "      <td>1042.0</td>\n",
       "      <td>1441.0</td>\n",
       "      <td>NaN</td>\n",
       "    </tr>\n",
       "    <tr>\n",
       "      <th>web|desktop_web</th>\n",
       "      <td>1545.0</td>\n",
       "      <td>635.0</td>\n",
       "      <td>2338.0</td>\n",
       "      <td>NaN</td>\n",
       "    </tr>\n",
       "    <tr>\n",
       "      <th>web|mobile_web</th>\n",
       "      <td>1959.0</td>\n",
       "      <td>2466.0</td>\n",
       "      <td>12872.0</td>\n",
       "      <td>1.0</td>\n",
       "    </tr>\n",
       "  </tbody>\n",
       "</table>\n",
       "</div>"
      ],
      "text/plain": [
       "login_method         email  facebook   google  phone\n",
       "channel_sk                                          \n",
       "mobile_app|android  4000.0    7722.0  13333.0    3.0\n",
       "mobile_app|ios       643.0    1042.0   1441.0    NaN\n",
       "web|desktop_web     1545.0     635.0   2338.0    NaN\n",
       "web|mobile_web      1959.0    2466.0  12872.0    1.0"
      ]
     },
     "execution_count": 93,
     "metadata": {},
     "output_type": "execute_result"
    }
   ],
   "source": [
    "dfid_c.pivot_table(index='channel_sk' ,columns='login_method' , values='user_nk' , aggfunc={'user_nk':'count' ,\n",
    "                                                                                           'user_nk':pd.Series.nunique})"
   ]
  },
  {
   "cell_type": "code",
   "execution_count": 94,
   "metadata": {},
   "outputs": [
    {
     "data": {
      "text/html": [
       "<div>\n",
       "<style scoped>\n",
       "    .dataframe tbody tr th:only-of-type {\n",
       "        vertical-align: middle;\n",
       "    }\n",
       "\n",
       "    .dataframe tbody tr th {\n",
       "        vertical-align: top;\n",
       "    }\n",
       "\n",
       "    .dataframe thead th {\n",
       "        text-align: right;\n",
       "    }\n",
       "</style>\n",
       "<table border=\"1\" class=\"dataframe\">\n",
       "  <thead>\n",
       "    <tr style=\"text-align: right;\">\n",
       "      <th></th>\n",
       "      <th>user_nk</th>\n",
       "    </tr>\n",
       "    <tr>\n",
       "      <th>channel_sk</th>\n",
       "      <th></th>\n",
       "    </tr>\n",
       "  </thead>\n",
       "  <tbody>\n",
       "    <tr>\n",
       "      <th>mobile_app|android</th>\n",
       "      <td>25047</td>\n",
       "    </tr>\n",
       "    <tr>\n",
       "      <th>mobile_app|ios</th>\n",
       "      <td>3124</td>\n",
       "    </tr>\n",
       "    <tr>\n",
       "      <th>web|desktop_web</th>\n",
       "      <td>4505</td>\n",
       "    </tr>\n",
       "    <tr>\n",
       "      <th>web|mobile_web</th>\n",
       "      <td>17286</td>\n",
       "    </tr>\n",
       "  </tbody>\n",
       "</table>\n",
       "</div>"
      ],
      "text/plain": [
       "                    user_nk\n",
       "channel_sk                 \n",
       "mobile_app|android    25047\n",
       "mobile_app|ios         3124\n",
       "web|desktop_web        4505\n",
       "web|mobile_web        17286"
      ]
     },
     "execution_count": 94,
     "metadata": {},
     "output_type": "execute_result"
    }
   ],
   "source": [
    "dfid_c.pivot_table(index='channel_sk' , values='user_nk' , aggfunc={'user_nk':pd.Series.nunique})                                               "
   ]
  },
  {
   "cell_type": "code",
   "execution_count": 96,
   "metadata": {},
   "outputs": [
    {
     "data": {
      "text/html": [
       "<div>\n",
       "<style scoped>\n",
       "    .dataframe tbody tr th:only-of-type {\n",
       "        vertical-align: middle;\n",
       "    }\n",
       "\n",
       "    .dataframe tbody tr th {\n",
       "        vertical-align: top;\n",
       "    }\n",
       "\n",
       "    .dataframe thead th {\n",
       "        text-align: right;\n",
       "    }\n",
       "</style>\n",
       "<table border=\"1\" class=\"dataframe\">\n",
       "  <thead>\n",
       "    <tr style=\"text-align: right;\">\n",
       "      <th></th>\n",
       "      <th>has_facebook</th>\n",
       "      <th>has_google</th>\n",
       "      <th>has_phone</th>\n",
       "      <th>user_nk</th>\n",
       "      <th>valido_email</th>\n",
       "    </tr>\n",
       "    <tr>\n",
       "      <th>channel_sk</th>\n",
       "      <th></th>\n",
       "      <th></th>\n",
       "      <th></th>\n",
       "      <th></th>\n",
       "      <th></th>\n",
       "    </tr>\n",
       "  </thead>\n",
       "  <tbody>\n",
       "    <tr>\n",
       "      <th>mobile_app|android</th>\n",
       "      <td>9829.0</td>\n",
       "      <td>14212.0</td>\n",
       "      <td>17243.0</td>\n",
       "      <td>25047</td>\n",
       "      <td>23538.0</td>\n",
       "    </tr>\n",
       "    <tr>\n",
       "      <th>mobile_app|ios</th>\n",
       "      <td>1288.0</td>\n",
       "      <td>1556.0</td>\n",
       "      <td>1980.0</td>\n",
       "      <td>3124</td>\n",
       "      <td>3043.0</td>\n",
       "    </tr>\n",
       "    <tr>\n",
       "      <th>web|desktop_web</th>\n",
       "      <td>2018.0</td>\n",
       "      <td>3053.0</td>\n",
       "      <td>3946.0</td>\n",
       "      <td>4505</td>\n",
       "      <td>4381.0</td>\n",
       "    </tr>\n",
       "    <tr>\n",
       "      <th>web|mobile_web</th>\n",
       "      <td>11836.0</td>\n",
       "      <td>15106.0</td>\n",
       "      <td>14937.0</td>\n",
       "      <td>17286</td>\n",
       "      <td>16522.0</td>\n",
       "    </tr>\n",
       "  </tbody>\n",
       "</table>\n",
       "</div>"
      ],
      "text/plain": [
       "                    has_facebook  has_google  has_phone  user_nk  valido_email\n",
       "channel_sk                                                                    \n",
       "mobile_app|android        9829.0     14212.0    17243.0    25047       23538.0\n",
       "mobile_app|ios            1288.0      1556.0     1980.0     3124        3043.0\n",
       "web|desktop_web           2018.0      3053.0     3946.0     4505        4381.0\n",
       "web|mobile_web           11836.0     15106.0    14937.0    17286       16522.0"
      ]
     },
     "execution_count": 96,
     "metadata": {},
     "output_type": "execute_result"
    }
   ],
   "source": [
    "dfid_c.pivot_table(index='channel_sk' , values=['has_facebook' , 'has_google' , 'has_phone','valido_email','user_nk'] ,\n",
    "                  aggfunc={'has_facebook':sum , 'has_google':sum , 'has_phone':sum , 'valido_email':sum ,\n",
    "                          'user_nk':pd.Series.nunique})"
   ]
  },
  {
   "cell_type": "code",
   "execution_count": 99,
   "metadata": {},
   "outputs": [],
   "source": [
    "dfid_notface = dfid_c[dfid_c['login_method'] != 'facebook']"
   ]
  },
  {
   "cell_type": "code",
   "execution_count": 100,
   "metadata": {},
   "outputs": [
    {
     "data": {
      "text/plain": [
       "(38135, 9)"
      ]
     },
     "execution_count": 100,
     "metadata": {},
     "output_type": "execute_result"
    }
   ],
   "source": [
    "dfid_notface.shape"
   ]
  },
  {
   "cell_type": "code",
   "execution_count": 101,
   "metadata": {},
   "outputs": [
    {
     "data": {
      "text/plain": [
       "0.0    24806\n",
       "1.0    13329\n",
       "Name: has_facebook, dtype: int64"
      ]
     },
     "execution_count": 101,
     "metadata": {},
     "output_type": "execute_result"
    }
   ],
   "source": [
    "dfid_notface['has_facebook'].value_counts()"
   ]
  },
  {
   "cell_type": "code",
   "execution_count": null,
   "metadata": {},
   "outputs": [],
   "source": []
  },
  {
   "cell_type": "code",
   "execution_count": null,
   "metadata": {},
   "outputs": [],
   "source": []
  },
  {
   "cell_type": "code",
   "execution_count": null,
   "metadata": {},
   "outputs": [],
   "source": []
  },
  {
   "cell_type": "code",
   "execution_count": null,
   "metadata": {},
   "outputs": [],
   "source": []
  }
 ],
 "metadata": {
  "kernelspec": {
   "display_name": "Python 3",
   "language": "python",
   "name": "python3"
  },
  "language_info": {
   "codemirror_mode": {
    "name": "ipython",
    "version": 3
   },
   "file_extension": ".py",
   "mimetype": "text/x-python",
   "name": "python",
   "nbconvert_exporter": "python",
   "pygments_lexer": "ipython3",
   "version": "3.7.0"
  },
  "toc": {
   "base_numbering": 1,
   "nav_menu": {},
   "number_sections": true,
   "sideBar": true,
   "skip_h1_title": false,
   "title_cell": "Table of Contents",
   "title_sidebar": "Contents",
   "toc_cell": false,
   "toc_position": {},
   "toc_section_display": true,
   "toc_window_display": false
  }
 },
 "nbformat": 4,
 "nbformat_minor": 2
}
