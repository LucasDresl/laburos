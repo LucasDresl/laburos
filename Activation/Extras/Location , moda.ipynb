{
 "cells": [
  {
   "cell_type": "code",
   "execution_count": 3,
   "metadata": {},
   "outputs": [],
   "source": [
    "import pandas as pd\n",
    "import numpy as np\n",
    "from time import time\n",
    "import json\n",
    "from sqlalchemy import create_engine\n",
    "import re\n",
    "import datetime\n",
    "from mpl_toolkits.basemap import Basemap\n",
    "\n",
    "%matplotlib inline\n",
    "import matplotlib.pyplot as plt\n",
    "import seaborn as sns; sns.set()\n",
    "plt.style.use('seaborn-whitegrid')\n",
    "import numpy as np\n",
    "from mpl_toolkits.basemap import Basemap\n",
    "from geopy.distance import distance as dist"
   ]
  },
  {
   "cell_type": "code",
   "execution_count": 4,
   "metadata": {},
   "outputs": [],
   "source": [
    "# Set up the SQL connection\n",
    "dbname = 'redshift'\n",
    "url = 'panamera-ods.cnsuxis6zqxr.us-west-2.redshift.amazonaws.com:5439/panameraods'\n",
    "engine = create_engine(\"postgresql://\" + 'lucasdresl' + \":\" + 'cQsY801a76x82x62aWDT' + \"@\" + url)\n"
   ]
  },
  {
   "cell_type": "markdown",
   "metadata": {},
   "source": [
    "###  Location tabla de evento"
   ]
  },
  {
   "cell_type": "code",
   "execution_count": 5,
   "metadata": {},
   "outputs": [],
   "source": [
    "query = \"\"\"\n",
    "\n",
    "drop table if exists sold_items;\n",
    "select\n",
    "  id,\n",
    "  region_id,\n",
    "  district_id,\n",
    "  city_id,\n",
    "  category_id,\n",
    "  user_id,\n",
    "  buyer_id\n",
    "   into temp table sold_items\n",
    "  from livesync.panamera_ads\n",
    "where status='sold'\n",
    "  and livesync_dbname = 'olxin'\n",
    "  and created_at > '2019-07-15'\n",
    "  and buyer_id != 0\n",
    "  and source='android'\n",
    "  \n",
    ";drop table if exists ids;\n",
    "select\n",
    " distinct buyer_id as user_nk into temp ids from sold_items\n",
    "union all\n",
    "select distinct user_id as user_nk  from  sold_items\n",
    "\n",
    ";drop table if exists lat_and_long_mode;\n",
    "select\n",
    " \n",
    "       a.user_nk,\n",
    "       lat::float,\n",
    "       long::float,\n",
    "       count(*) as events\n",
    "    into temp table lat_and_long_mode\n",
    "  from ods.panameraolx_asia_hydra_ninja_android_last_month a\n",
    "    join ids b on a.user_nk=b.user_nk\n",
    "     where\n",
    "           user_sk != 'unknown'\n",
    "       and lat != ''\n",
    "       and long != ''\n",
    "       and lat is not null\n",
    "       and long is not null\n",
    "       and long!='NaN'\n",
    "group by 1,2,3;\n",
    "\n",
    ";drop table if exists lat_long_table;\n",
    "select\n",
    "  a.*,\n",
    "  b.lat as lat_buyer,\n",
    "  b.long as long_buyer,\n",
    "  c.map_lat as lat_item,\n",
    "  c.map_lon as long_item,\n",
    "  b.events as event_buyer\n",
    "   into temp table lat_long_table\n",
    "  from sold_items a\n",
    "    join lat_and_long_mode b on a.buyer_id=b.user_nk\n",
    "    join (select ad_id,map_lat,map_lon from livesync.panamera_locations where livesync_dbname='olxin' group by 1,2,3) c on a.id=c.ad_id;\n",
    "\n",
    "select\n",
    "  a.*,\n",
    "  b.category_l1_name_en,\n",
    "  b.category_l2_name_en\n",
    "   from lat_long_table a\n",
    "    left join (select category_nk , category_l1_name_en , category_l2_name_en from ods.dim_categories where country_sk='olx|asia|in') b on a.category_id=b.category_nk\n",
    "\n",
    "\"\"\""
   ]
  },
  {
   "cell_type": "code",
   "execution_count": 6,
   "metadata": {},
   "outputs": [],
   "source": [
    "df = pd.read_sql_query(query.replace('%', '%%'), engine)\n"
   ]
  },
  {
   "cell_type": "code",
   "execution_count": 7,
   "metadata": {},
   "outputs": [
    {
     "data": {
      "text/html": [
       "<div>\n",
       "<style scoped>\n",
       "    .dataframe tbody tr th:only-of-type {\n",
       "        vertical-align: middle;\n",
       "    }\n",
       "\n",
       "    .dataframe tbody tr th {\n",
       "        vertical-align: top;\n",
       "    }\n",
       "\n",
       "    .dataframe thead th {\n",
       "        text-align: right;\n",
       "    }\n",
       "</style>\n",
       "<table border=\"1\" class=\"dataframe\">\n",
       "  <thead>\n",
       "    <tr style=\"text-align: right;\">\n",
       "      <th></th>\n",
       "      <th>id</th>\n",
       "      <th>region_id</th>\n",
       "      <th>district_id</th>\n",
       "      <th>city_id</th>\n",
       "      <th>category_id</th>\n",
       "      <th>user_id</th>\n",
       "      <th>buyer_id</th>\n",
       "      <th>lat_buyer</th>\n",
       "      <th>long_buyer</th>\n",
       "      <th>lat_item</th>\n",
       "      <th>long_item</th>\n",
       "      <th>event_buyer</th>\n",
       "      <th>category_l1_name_en</th>\n",
       "      <th>category_l2_name_en</th>\n",
       "    </tr>\n",
       "  </thead>\n",
       "  <tbody>\n",
       "    <tr>\n",
       "      <th>0</th>\n",
       "      <td>1049783047</td>\n",
       "      <td>2001160</td>\n",
       "      <td>5419165.0</td>\n",
       "      <td>4396321</td>\n",
       "      <td>1523</td>\n",
       "      <td>104124911</td>\n",
       "      <td>154996581</td>\n",
       "      <td>8.505135</td>\n",
       "      <td>77.082825</td>\n",
       "      <td>9.635463</td>\n",
       "      <td>76.564537</td>\n",
       "      <td>54</td>\n",
       "      <td>Electronics &amp; Appliances</td>\n",
       "      <td>TVs,  Video - Audio</td>\n",
       "    </tr>\n",
       "    <tr>\n",
       "      <th>1</th>\n",
       "      <td>1145132897</td>\n",
       "      <td>2001159</td>\n",
       "      <td>5313945.0</td>\n",
       "      <td>4058803</td>\n",
       "      <td>1793</td>\n",
       "      <td>156223421</td>\n",
       "      <td>408870576</td>\n",
       "      <td>12.966260</td>\n",
       "      <td>77.553177</td>\n",
       "      <td>12.820973</td>\n",
       "      <td>77.661131</td>\n",
       "      <td>3114</td>\n",
       "      <td>Fashion</td>\n",
       "      <td>Men</td>\n",
       "    </tr>\n",
       "    <tr>\n",
       "      <th>2</th>\n",
       "      <td>1162713695</td>\n",
       "      <td>2001159</td>\n",
       "      <td>5457962.0</td>\n",
       "      <td>4058803</td>\n",
       "      <td>1505</td>\n",
       "      <td>143293385</td>\n",
       "      <td>259415661</td>\n",
       "      <td>12.966260</td>\n",
       "      <td>77.553177</td>\n",
       "      <td>12.966800</td>\n",
       "      <td>77.635100</td>\n",
       "      <td>965</td>\n",
       "      <td>Electronics &amp; Appliances</td>\n",
       "      <td>Computers &amp; Laptops</td>\n",
       "    </tr>\n",
       "    <tr>\n",
       "      <th>3</th>\n",
       "      <td>1175595533</td>\n",
       "      <td>2001155</td>\n",
       "      <td>5309677.0</td>\n",
       "      <td>4058748</td>\n",
       "      <td>771</td>\n",
       "      <td>192501061</td>\n",
       "      <td>224724009</td>\n",
       "      <td>28.667700</td>\n",
       "      <td>77.081802</td>\n",
       "      <td>28.509821</td>\n",
       "      <td>77.055054</td>\n",
       "      <td>472</td>\n",
       "      <td>Books, Sports &amp; Hobbies</td>\n",
       "      <td>Gym &amp; Fitness</td>\n",
       "    </tr>\n",
       "    <tr>\n",
       "      <th>4</th>\n",
       "      <td>1175595533</td>\n",
       "      <td>2001155</td>\n",
       "      <td>5309677.0</td>\n",
       "      <td>4058748</td>\n",
       "      <td>771</td>\n",
       "      <td>192501061</td>\n",
       "      <td>224724009</td>\n",
       "      <td>28.567080</td>\n",
       "      <td>77.240311</td>\n",
       "      <td>28.509821</td>\n",
       "      <td>77.055054</td>\n",
       "      <td>392</td>\n",
       "      <td>Books, Sports &amp; Hobbies</td>\n",
       "      <td>Gym &amp; Fitness</td>\n",
       "    </tr>\n",
       "  </tbody>\n",
       "</table>\n",
       "</div>"
      ],
      "text/plain": [
       "           id  region_id  district_id  city_id  category_id    user_id  \\\n",
       "0  1049783047    2001160    5419165.0  4396321         1523  104124911   \n",
       "1  1145132897    2001159    5313945.0  4058803         1793  156223421   \n",
       "2  1162713695    2001159    5457962.0  4058803         1505  143293385   \n",
       "3  1175595533    2001155    5309677.0  4058748          771  192501061   \n",
       "4  1175595533    2001155    5309677.0  4058748          771  192501061   \n",
       "\n",
       "    buyer_id  lat_buyer  long_buyer   lat_item  long_item  event_buyer  \\\n",
       "0  154996581   8.505135   77.082825   9.635463  76.564537           54   \n",
       "1  408870576  12.966260   77.553177  12.820973  77.661131         3114   \n",
       "2  259415661  12.966260   77.553177  12.966800  77.635100          965   \n",
       "3  224724009  28.667700   77.081802  28.509821  77.055054          472   \n",
       "4  224724009  28.567080   77.240311  28.509821  77.055054          392   \n",
       "\n",
       "        category_l1_name_en  category_l2_name_en  \n",
       "0  Electronics & Appliances  TVs,  Video - Audio  \n",
       "1                   Fashion                  Men  \n",
       "2  Electronics & Appliances  Computers & Laptops  \n",
       "3   Books, Sports & Hobbies        Gym & Fitness  \n",
       "4   Books, Sports & Hobbies        Gym & Fitness  "
      ]
     },
     "execution_count": 7,
     "metadata": {},
     "output_type": "execute_result"
    }
   ],
   "source": [
    "df.head()\n"
   ]
  },
  {
   "cell_type": "code",
   "execution_count": 8,
   "metadata": {},
   "outputs": [],
   "source": [
    "df['distance_user'] = df.apply(lambda x: dist((x['lat_buyer'], x['long_buyer']), \n",
    "                                              (x['lat_item'], x['long_item'])).km ,axis=1)\n"
   ]
  },
  {
   "cell_type": "markdown",
   "metadata": {},
   "source": [
    "### Graph visualization example"
   ]
  },
  {
   "cell_type": "code",
   "execution_count": 9,
   "metadata": {},
   "outputs": [
    {
     "name": "stderr",
     "output_type": "stream",
     "text": [
      "/Users/lucas/anaconda3/lib/python3.7/site-packages/ipykernel_launcher.py:12: MatplotlibDeprecationWarning: \n",
      "The dedent function was deprecated in Matplotlib 3.1 and will be removed in 3.3. Use inspect.cleandoc instead.\n",
      "  if sys.path[0] == '':\n",
      "/Users/lucas/anaconda3/lib/python3.7/site-packages/ipykernel_launcher.py:22: MatplotlibDeprecationWarning: \n",
      "The dedent function was deprecated in Matplotlib 3.1 and will be removed in 3.3. Use inspect.cleandoc instead.\n",
      "/Users/lucas/anaconda3/lib/python3.7/site-packages/ipykernel_launcher.py:24: MatplotlibDeprecationWarning: \n",
      "The dedent function was deprecated in Matplotlib 3.1 and will be removed in 3.3. Use inspect.cleandoc instead.\n"
     ]
    },
    {
     "data": {
      "image/png": "[encoded data removed]",
      "text/plain": [
       "<Figure size 1440x720 with 1 Axes>"
      ]
     },
     "metadata": {},
     "output_type": "display_data"
    },
    {
     "name": "stdout",
     "output_type": "stream",
     "text": [
      "Distance between location of item published and mode buyer location:[5.55144571]km\n",
      "Events seen with this location:[3564]\n"
     ]
    }
   ],
   "source": [
    "df_uno = df['id'].sample(n=1)\n",
    "A = df['id'].unique()\n",
    "id_random = A[np.random.choice(A.shape[0], replace=False)]\n",
    "df_random = df[df['id'] == id_random]\n",
    "\n",
    "plt.figure(figsize=(20,10))\n",
    "m = Basemap(projection='mill' ,\n",
    "           llcrnrlat = 7.363669,\n",
    "           llcrnrlon = 66.791601,\n",
    "           urcrnrlat = 35.518939,\n",
    "           urcrnrlon = 90.470235,\n",
    "           resolution='c')\n",
    "\n",
    "#m = Basemap(projection='mill' ,\n",
    "#           llcrnrlat = df_random['lat_buyer'].min() - 0.2 ,\n",
    "#           llcrnrlon = df_random['long_buyer'].min() - 0.2 ,\n",
    "#           urcrnrlat = df_random['lat_item'].unique() + 0.2 ,\n",
    "#           urcrnrlon = df_random['long_item'].unique() + 0.2 \n",
    "#           )\n",
    "\n",
    "\n",
    "m.drawcountries()\n",
    "m.fillcontinents()\n",
    "m.drawstates(color='b')\n",
    "\n",
    "\n",
    "item_lat , item_long  = df_random['lat_item'].unique(), df_random['long_item'].unique() \n",
    "xpt , ypt = m(item_long , item_lat)\n",
    "#m.plot(xpt , ypt , 'c*' , markersize=20 , label='Location of item' , color='blue')\n",
    "m.scatter(xpt , ypt,zorder=6, c='blue' ,marker='x' , edgecolors='none' , s=50 , label='Location of item published' )\n",
    "\n",
    "#lat_b , lon_b , size_b = df_random['lat_buyer'].unique(), df_random['long_buyer'].unique() , df_random['event_buyer']*1/100\n",
    "#xpt , ypt = m(lon_b , lat_b)\n",
    "#m.plot(xpt , ypt , 'c*' , markersize=5 , label='Buyer movements' , color='red')\n",
    "#m.scatter(xpt , ypt,zorder=3,s=size_b, c='red',marker='o' , label='Buyer movements')\n",
    "\n",
    "lat_b , lon_b , size_b =  df_random[df_random['event_buyer'] == df_random['event_buyer'].max()].lat_buyer.unique(), df_random[df_random['event_buyer'] == df_random['event_buyer'].max()].long_buyer.unique(), df_random[df_random['event_buyer'] == df_random['event_buyer'].max()].event_buyer * 1/100\n",
    "xpt , ypt = m(lon_b , lat_b)\n",
    "#m.plot(xpt , ypt , 'c*' , markersize=5 , label='Buyer movements' , color='red')\n",
    "m.scatter(xpt , ypt,zorder=3,s=size_b, c='red',marker='o' , label='Mode')\n",
    "\n",
    "\n",
    "plt.legend()\n",
    "plt.title('Transaction for a {}'.format(df_random['category_l1_name_en'].unique()))\n",
    "plt.show()\n",
    "print('Distance between location of item published and mode buyer location:' + str(df_random[df_random['event_buyer'] == df_random['event_buyer'].max()].distance_user.unique()) + 'km')\n",
    "print('Events seen with this location:' + str(df_random[df_random['event_buyer'] == df_random['event_buyer'].max()].event_buyer.unique()))"
   ]
  },
  {
   "cell_type": "code",
   "execution_count": 10,
   "metadata": {},
   "outputs": [
    {
     "data": {
      "text/plain": [
       "<matplotlib.axes._subplots.AxesSubplot at 0x1a85f84550>"
      ]
     },
     "execution_count": 10,
     "metadata": {},
     "output_type": "execute_result"
    },
    {
     "data": {
      "image/png": "[encoded data removed]",
      "text/plain": [
       "<Figure size 1080x360 with 1 Axes>"
      ]
     },
     "metadata": {
      "needs_background": "light"
     },
     "output_type": "display_data"
    }
   ],
   "source": [
    "df['max_event'] = df.groupby(['id'])['event_buyer'].transform('max')\n",
    "df['max_value'] = np.where(df['max_event'] == df['event_buyer'] , 1,0)\n",
    "dfmode = df[df['max_value'] ==1]\n",
    "dfmode.distance_user.quantile([.1,.2,.3,.4,.5,.6,.7,.8,.9, .95]).plot(kind='bar' , figsize=(15,5) , title='Distances - Quantiles')"
   ]
  },
  {
   "cell_type": "code",
   "execution_count": 11,
   "metadata": {},
   "outputs": [
    {
     "data": {
      "text/plain": [
       "0.10      1.403610\n",
       "0.20      2.424843\n",
       "0.30      3.447408\n",
       "0.40      4.520115\n",
       "0.50      6.173798\n",
       "0.60      9.936380\n",
       "0.70     18.953548\n",
       "0.80     47.590466\n",
       "0.90    196.321637\n",
       "0.95    450.070703\n",
       "Name: distance_user, dtype: float64"
      ]
     },
     "execution_count": 11,
     "metadata": {},
     "output_type": "execute_result"
    }
   ],
   "source": [
    "dfmode.distance_user.quantile([.1,.2,.3,.4,.5,.6,.7,.8,.9, .95])\n"
   ]
  },
  {
   "cell_type": "code",
   "execution_count": 13,
   "metadata": {},
   "outputs": [
    {
     "data": {
      "text/plain": [
       "<matplotlib.axes._subplots.AxesSubplot at 0x1a4e129eb8>"
      ]
     },
     "execution_count": 13,
     "metadata": {},
     "output_type": "execute_result"
    },
    {
     "data": {
      "image/png": "[encoded data removed]",
      "text/plain": [
       "<Figure size 1080x360 with 1 Axes>"
      ]
     },
     "metadata": {
      "needs_background": "light"
     },
     "output_type": "display_data"
    }
   ],
   "source": [
    "dfmode.groupby(['category_l1_name_en']).distance_user.quantile([.5, .9, .95]).unstack().plot(kind='bar' , figsize=(15,5))"
   ]
  },
  {
   "cell_type": "markdown",
   "metadata": {},
   "source": [
    "### Find aristas"
   ]
  },
  {
   "cell_type": "code",
   "execution_count": null,
   "metadata": {},
   "outputs": [],
   "source": []
  },
  {
   "cell_type": "code",
   "execution_count": null,
   "metadata": {},
   "outputs": [],
   "source": []
  }
 ],
 "metadata": {
  "kernelspec": {
   "display_name": "Python 3",
   "language": "python",
   "name": "python3"
  },
  "language_info": {
   "codemirror_mode": {
    "name": "ipython",
    "version": 3
   },
   "file_extension": ".py",
   "mimetype": "text/x-python",
   "name": "python",
   "nbconvert_exporter": "python",
   "pygments_lexer": "ipython3",
   "version": "3.7.3"
  },
  "toc": {
   "base_numbering": 1,
   "nav_menu": {},
   "number_sections": true,
   "sideBar": true,
   "skip_h1_title": false,
   "title_cell": "Table of Contents",
   "title_sidebar": "Contents",
   "toc_cell": false,
   "toc_position": {},
   "toc_section_display": true,
   "toc_window_display": true
  }
 },
 "nbformat": 4,
 "nbformat_minor": 4
}
