{
 "cells": [
  {
   "cell_type": "code",
   "execution_count": 23,
   "metadata": {},
   "outputs": [],
   "source": [
    "import pandas as pd\n",
    "import numpy as np\n",
    "from time import time\n",
    "import json\n",
    "from sqlalchemy import create_engine\n",
    "import re\n",
    "import datetime\n",
    "\n",
    "%matplotlib inline\n",
    "import matplotlib.pyplot as plt\n",
    "import seaborn as sns; sns.set()\n",
    "\n",
    "import numpy as np\n",
    "import pandas as pd\n",
    "import matplotlib.pyplot as plt\n",
    "import matplotlib.patches as mpatches #for custom legends\n",
    "import seaborn as sns\n",
    "#from lifelines import KaplanMeierFitter #survival analysis library\n",
    "#from lifelines.statistics import logrank_test #survival statistical testing"
   ]
  },
  {
   "cell_type": "code",
   "execution_count": 24,
   "metadata": {},
   "outputs": [],
   "source": [
    "url='panamera-ods.cnsuxis6zqxr.us-west-2.redshift.amazonaws.com:5439/panameraods'\n",
    "dbname = 'redshift'\n",
    "credentials = json.load(open('C:\\\\Users\\\\OLX - Lucas Dresi\\\\Documents\\\\LicenciaGrid\\\\dbconfig.json'))[dbname]\n",
    "engine = create_engine(\"postgresql://\" + credentials['user'] + \":\" + credentials['password'] + \"@\" + url)"
   ]
  },
  {
   "cell_type": "markdown",
   "metadata": {},
   "source": [
    "## My account tap over DAU proxy"
   ]
  },
  {
   "cell_type": "code",
   "execution_count": 33,
   "metadata": {},
   "outputs": [],
   "source": [
    "query = \"\"\"\n",
    "\n",
    "  SELECT date_event_nk ,country_sk ,  count(distinct case when trackevent NOT IN ('app_open', 'on_create', 'apps', 'push_dis','pushDis', 'push_rcv', 'pushRcv', 'UAReg', 'ua_reg', 'uareg','push_dismissed', 'push_show', 'fetching_matrix', 'not_found','permissions_impression','userBadgeCount','test_assignment','test_impression','test_discovered','FCMReg','APNSReg','appOpn','appOpen','google_play_services') AND trackevent IS NOT NULL then session_long else null end) as dau_proxy , \n",
    "                         count(distinct case when trackevent='myaccount_tap' then session_long else null end) as myaccount\n",
    "        FROM ods.panameraolx_mea_hydra_ninja_android_last_month \n",
    "            WHERE date_event_nk > '2019-01-25'\n",
    "             and app_version in ('13.08.02' , '13.08.01' , '13.08.00')\n",
    "        GROUP BY 1,2\n",
    "\n",
    "\n",
    "\"\"\""
   ]
  },
  {
   "cell_type": "code",
   "execution_count": 34,
   "metadata": {},
   "outputs": [],
   "source": [
    "df = pd.read_sql_query(query,engine)"
   ]
  },
  {
   "cell_type": "code",
   "execution_count": 35,
   "metadata": {},
   "outputs": [
    {
     "data": {
      "text/html": [
       "<div>\n",
       "<style scoped>\n",
       "    .dataframe tbody tr th:only-of-type {\n",
       "        vertical-align: middle;\n",
       "    }\n",
       "\n",
       "    .dataframe tbody tr th {\n",
       "        vertical-align: top;\n",
       "    }\n",
       "\n",
       "    .dataframe thead th {\n",
       "        text-align: right;\n",
       "    }\n",
       "</style>\n",
       "<table border=\"1\" class=\"dataframe\">\n",
       "  <thead>\n",
       "    <tr style=\"text-align: right;\">\n",
       "      <th></th>\n",
       "      <th>date_event_nk</th>\n",
       "      <th>country_sk</th>\n",
       "      <th>dau_proxy</th>\n",
       "      <th>myaccount</th>\n",
       "    </tr>\n",
       "  </thead>\n",
       "  <tbody>\n",
       "    <tr>\n",
       "      <th>0</th>\n",
       "      <td>2019-01-27</td>\n",
       "      <td>olx|mea|ug</td>\n",
       "      <td>1599</td>\n",
       "      <td>273</td>\n",
       "    </tr>\n",
       "    <tr>\n",
       "      <th>1</th>\n",
       "      <td>2019-01-26</td>\n",
       "      <td>olx|mea|ng</td>\n",
       "      <td>2445</td>\n",
       "      <td>585</td>\n",
       "    </tr>\n",
       "    <tr>\n",
       "      <th>2</th>\n",
       "      <td>2019-01-27</td>\n",
       "      <td>olx|mea|ng</td>\n",
       "      <td>2656</td>\n",
       "      <td>676</td>\n",
       "    </tr>\n",
       "    <tr>\n",
       "      <th>3</th>\n",
       "      <td>2019-01-26</td>\n",
       "      <td>olx|mea|tz</td>\n",
       "      <td>20</td>\n",
       "      <td>4</td>\n",
       "    </tr>\n",
       "    <tr>\n",
       "      <th>4</th>\n",
       "      <td>2019-01-27</td>\n",
       "      <td>olx|mea|gh</td>\n",
       "      <td>3594</td>\n",
       "      <td>661</td>\n",
       "    </tr>\n",
       "  </tbody>\n",
       "</table>\n",
       "</div>"
      ],
      "text/plain": [
       "  date_event_nk  country_sk  dau_proxy  myaccount\n",
       "0    2019-01-27  olx|mea|ug       1599        273\n",
       "1    2019-01-26  olx|mea|ng       2445        585\n",
       "2    2019-01-27  olx|mea|ng       2656        676\n",
       "3    2019-01-26  olx|mea|tz         20          4\n",
       "4    2019-01-27  olx|mea|gh       3594        661"
      ]
     },
     "execution_count": 35,
     "metadata": {},
     "output_type": "execute_result"
    }
   ],
   "source": [
    "df.head()"
   ]
  },
  {
   "cell_type": "code",
   "execution_count": 37,
   "metadata": {},
   "outputs": [
    {
     "data": {
      "text/html": [
       "<div>\n",
       "<style scoped>\n",
       "    .dataframe tbody tr th:only-of-type {\n",
       "        vertical-align: middle;\n",
       "    }\n",
       "\n",
       "    .dataframe tbody tr th {\n",
       "        vertical-align: top;\n",
       "    }\n",
       "\n",
       "    .dataframe thead th {\n",
       "        text-align: right;\n",
       "    }\n",
       "</style>\n",
       "<table border=\"1\" class=\"dataframe\">\n",
       "  <thead>\n",
       "    <tr style=\"text-align: right;\">\n",
       "      <th></th>\n",
       "      <th>date_event_nk</th>\n",
       "      <th>country_sk</th>\n",
       "      <th>dau_proxy</th>\n",
       "      <th>myaccount</th>\n",
       "      <th>myaccountuse</th>\n",
       "    </tr>\n",
       "  </thead>\n",
       "  <tbody>\n",
       "    <tr>\n",
       "      <th>0</th>\n",
       "      <td>2019-01-27</td>\n",
       "      <td>olx|mea|ug</td>\n",
       "      <td>1599</td>\n",
       "      <td>273</td>\n",
       "      <td>0.170732</td>\n",
       "    </tr>\n",
       "    <tr>\n",
       "      <th>1</th>\n",
       "      <td>2019-01-26</td>\n",
       "      <td>olx|mea|ng</td>\n",
       "      <td>2445</td>\n",
       "      <td>585</td>\n",
       "      <td>0.239264</td>\n",
       "    </tr>\n",
       "    <tr>\n",
       "      <th>2</th>\n",
       "      <td>2019-01-27</td>\n",
       "      <td>olx|mea|ng</td>\n",
       "      <td>2656</td>\n",
       "      <td>676</td>\n",
       "      <td>0.254518</td>\n",
       "    </tr>\n",
       "    <tr>\n",
       "      <th>3</th>\n",
       "      <td>2019-01-26</td>\n",
       "      <td>olx|mea|tz</td>\n",
       "      <td>20</td>\n",
       "      <td>4</td>\n",
       "      <td>0.200000</td>\n",
       "    </tr>\n",
       "    <tr>\n",
       "      <th>4</th>\n",
       "      <td>2019-01-27</td>\n",
       "      <td>olx|mea|gh</td>\n",
       "      <td>3594</td>\n",
       "      <td>661</td>\n",
       "      <td>0.183918</td>\n",
       "    </tr>\n",
       "    <tr>\n",
       "      <th>5</th>\n",
       "      <td>2019-01-27</td>\n",
       "      <td>olx|mea|pk</td>\n",
       "      <td>82156</td>\n",
       "      <td>14631</td>\n",
       "      <td>0.178088</td>\n",
       "    </tr>\n",
       "    <tr>\n",
       "      <th>6</th>\n",
       "      <td>2019-01-27</td>\n",
       "      <td>olx|mea|tz</td>\n",
       "      <td>36</td>\n",
       "      <td>6</td>\n",
       "      <td>0.166667</td>\n",
       "    </tr>\n",
       "    <tr>\n",
       "      <th>7</th>\n",
       "      <td>2019-01-27</td>\n",
       "      <td>olx|mea|ke</td>\n",
       "      <td>7658</td>\n",
       "      <td>1139</td>\n",
       "      <td>0.148733</td>\n",
       "    </tr>\n",
       "    <tr>\n",
       "      <th>8</th>\n",
       "      <td>2019-01-26</td>\n",
       "      <td>olx|mea|ke</td>\n",
       "      <td>7371</td>\n",
       "      <td>1124</td>\n",
       "      <td>0.152489</td>\n",
       "    </tr>\n",
       "    <tr>\n",
       "      <th>9</th>\n",
       "      <td>2019-01-28</td>\n",
       "      <td>olx|mea|za</td>\n",
       "      <td>25029</td>\n",
       "      <td>3322</td>\n",
       "      <td>0.132726</td>\n",
       "    </tr>\n",
       "    <tr>\n",
       "      <th>10</th>\n",
       "      <td>2019-01-26</td>\n",
       "      <td>olx|mea|ug</td>\n",
       "      <td>1534</td>\n",
       "      <td>254</td>\n",
       "      <td>0.165580</td>\n",
       "    </tr>\n",
       "    <tr>\n",
       "      <th>11</th>\n",
       "      <td>2019-01-26</td>\n",
       "      <td>olx|mea|pk</td>\n",
       "      <td>75752</td>\n",
       "      <td>13214</td>\n",
       "      <td>0.174438</td>\n",
       "    </tr>\n",
       "    <tr>\n",
       "      <th>12</th>\n",
       "      <td>2019-01-28</td>\n",
       "      <td>olx|mea|gh</td>\n",
       "      <td>3494</td>\n",
       "      <td>617</td>\n",
       "      <td>0.176588</td>\n",
       "    </tr>\n",
       "    <tr>\n",
       "      <th>13</th>\n",
       "      <td>2019-01-26</td>\n",
       "      <td>olx|mea|za</td>\n",
       "      <td>22565</td>\n",
       "      <td>2886</td>\n",
       "      <td>0.127897</td>\n",
       "    </tr>\n",
       "    <tr>\n",
       "      <th>14</th>\n",
       "      <td>2019-01-28</td>\n",
       "      <td>olx|mea|tz</td>\n",
       "      <td>30</td>\n",
       "      <td>5</td>\n",
       "      <td>0.166667</td>\n",
       "    </tr>\n",
       "    <tr>\n",
       "      <th>15</th>\n",
       "      <td>2019-01-28</td>\n",
       "      <td>olx|mea|pk</td>\n",
       "      <td>84367</td>\n",
       "      <td>14641</td>\n",
       "      <td>0.173539</td>\n",
       "    </tr>\n",
       "    <tr>\n",
       "      <th>16</th>\n",
       "      <td>2019-01-28</td>\n",
       "      <td>olx|mea|ng</td>\n",
       "      <td>2592</td>\n",
       "      <td>629</td>\n",
       "      <td>0.242670</td>\n",
       "    </tr>\n",
       "    <tr>\n",
       "      <th>17</th>\n",
       "      <td>2019-01-26</td>\n",
       "      <td>olx|mea|gh</td>\n",
       "      <td>3473</td>\n",
       "      <td>665</td>\n",
       "      <td>0.191477</td>\n",
       "    </tr>\n",
       "    <tr>\n",
       "      <th>18</th>\n",
       "      <td>2019-01-28</td>\n",
       "      <td>olx|mea|ug</td>\n",
       "      <td>1772</td>\n",
       "      <td>285</td>\n",
       "      <td>0.160835</td>\n",
       "    </tr>\n",
       "    <tr>\n",
       "      <th>19</th>\n",
       "      <td>2019-01-28</td>\n",
       "      <td>olx|mea|ke</td>\n",
       "      <td>8520</td>\n",
       "      <td>1391</td>\n",
       "      <td>0.163263</td>\n",
       "    </tr>\n",
       "  </tbody>\n",
       "</table>\n",
       "</div>"
      ],
      "text/plain": [
       "   date_event_nk  country_sk  dau_proxy  myaccount  myaccountuse\n",
       "0     2019-01-27  olx|mea|ug       1599        273      0.170732\n",
       "1     2019-01-26  olx|mea|ng       2445        585      0.239264\n",
       "2     2019-01-27  olx|mea|ng       2656        676      0.254518\n",
       "3     2019-01-26  olx|mea|tz         20          4      0.200000\n",
       "4     2019-01-27  olx|mea|gh       3594        661      0.183918\n",
       "5     2019-01-27  olx|mea|pk      82156      14631      0.178088\n",
       "6     2019-01-27  olx|mea|tz         36          6      0.166667\n",
       "7     2019-01-27  olx|mea|ke       7658       1139      0.148733\n",
       "8     2019-01-26  olx|mea|ke       7371       1124      0.152489\n",
       "9     2019-01-28  olx|mea|za      25029       3322      0.132726\n",
       "10    2019-01-26  olx|mea|ug       1534        254      0.165580\n",
       "11    2019-01-26  olx|mea|pk      75752      13214      0.174438\n",
       "12    2019-01-28  olx|mea|gh       3494        617      0.176588\n",
       "13    2019-01-26  olx|mea|za      22565       2886      0.127897\n",
       "14    2019-01-28  olx|mea|tz         30          5      0.166667\n",
       "15    2019-01-28  olx|mea|pk      84367      14641      0.173539\n",
       "16    2019-01-28  olx|mea|ng       2592        629      0.242670\n",
       "17    2019-01-26  olx|mea|gh       3473        665      0.191477\n",
       "18    2019-01-28  olx|mea|ug       1772        285      0.160835\n",
       "19    2019-01-28  olx|mea|ke       8520       1391      0.163263"
      ]
     },
     "execution_count": 37,
     "metadata": {},
     "output_type": "execute_result"
    }
   ],
   "source": [
    "df['myaccountuse'] = df['myaccount'] / df['dau_proxy'] \n",
    "df.groupby(['country_sk'])['myaccountuse'].mean()\n",
    "df.head(20)"
   ]
  },
  {
   "cell_type": "markdown",
   "metadata": {},
   "source": [
    "## Funnel of my account tap to edit profile"
   ]
  },
  {
   "cell_type": "code",
   "execution_count": 5,
   "metadata": {},
   "outputs": [],
   "source": [
    "# People which make login_show\n",
    "query = \"\"\"\n",
    "WITH step1 as (\n",
    "  SELECT t.date_event_nk,t.session_long,t.session_long_seq,t.time_event_utc \n",
    "        FROM ods.panameraolx_mea_hydra_ninja_android_last_month t\n",
    "      WHERE trackevent='myaccount_tap'\n",
    "      )\n",
    "      \n",
    "SELECT date_event_nk, COUNT(distinct session_long) FROM step1\n",
    "        GROUP BY 1\n",
    "        ORDER BY 1\n",
    "\"\"\""
   ]
  },
  {
   "cell_type": "code",
   "execution_count": 6,
   "metadata": {},
   "outputs": [],
   "source": [
    "step1 = pd.read_sql_query(query,engine)"
   ]
  },
  {
   "cell_type": "code",
   "execution_count": 22,
   "metadata": {},
   "outputs": [
    {
     "data": {
      "text/html": [
       "<div>\n",
       "<style scoped>\n",
       "    .dataframe tbody tr th:only-of-type {\n",
       "        vertical-align: middle;\n",
       "    }\n",
       "\n",
       "    .dataframe tbody tr th {\n",
       "        vertical-align: top;\n",
       "    }\n",
       "\n",
       "    .dataframe thead th {\n",
       "        text-align: right;\n",
       "    }\n",
       "</style>\n",
       "<table border=\"1\" class=\"dataframe\">\n",
       "  <thead>\n",
       "    <tr style=\"text-align: right;\">\n",
       "      <th></th>\n",
       "      <th>date_event_nk</th>\n",
       "      <th>count</th>\n",
       "    </tr>\n",
       "  </thead>\n",
       "  <tbody>\n",
       "    <tr>\n",
       "      <th>0</th>\n",
       "      <td>2019-01-15</td>\n",
       "      <td>1</td>\n",
       "    </tr>\n",
       "    <tr>\n",
       "      <th>1</th>\n",
       "      <td>2019-01-16</td>\n",
       "      <td>1</td>\n",
       "    </tr>\n",
       "    <tr>\n",
       "      <th>2</th>\n",
       "      <td>2019-01-18</td>\n",
       "      <td>34</td>\n",
       "    </tr>\n",
       "    <tr>\n",
       "      <th>3</th>\n",
       "      <td>2019-01-19</td>\n",
       "      <td>184</td>\n",
       "    </tr>\n",
       "    <tr>\n",
       "      <th>4</th>\n",
       "      <td>2019-01-20</td>\n",
       "      <td>319</td>\n",
       "    </tr>\n",
       "    <tr>\n",
       "      <th>5</th>\n",
       "      <td>2019-01-21</td>\n",
       "      <td>420</td>\n",
       "    </tr>\n",
       "    <tr>\n",
       "      <th>6</th>\n",
       "      <td>2019-01-22</td>\n",
       "      <td>4355</td>\n",
       "    </tr>\n",
       "    <tr>\n",
       "      <th>7</th>\n",
       "      <td>2019-01-23</td>\n",
       "      <td>8408</td>\n",
       "    </tr>\n",
       "    <tr>\n",
       "      <th>8</th>\n",
       "      <td>2019-01-24</td>\n",
       "      <td>14442</td>\n",
       "    </tr>\n",
       "    <tr>\n",
       "      <th>9</th>\n",
       "      <td>2019-01-25</td>\n",
       "      <td>16948</td>\n",
       "    </tr>\n",
       "    <tr>\n",
       "      <th>10</th>\n",
       "      <td>2019-01-26</td>\n",
       "      <td>18733</td>\n",
       "    </tr>\n",
       "    <tr>\n",
       "      <th>11</th>\n",
       "      <td>2019-01-27</td>\n",
       "      <td>20749</td>\n",
       "    </tr>\n",
       "    <tr>\n",
       "      <th>12</th>\n",
       "      <td>2019-01-28</td>\n",
       "      <td>19643</td>\n",
       "    </tr>\n",
       "  </tbody>\n",
       "</table>\n",
       "</div>"
      ],
      "text/plain": [
       "   date_event_nk  count\n",
       "0     2019-01-15      1\n",
       "1     2019-01-16      1\n",
       "2     2019-01-18     34\n",
       "3     2019-01-19    184\n",
       "4     2019-01-20    319\n",
       "5     2019-01-21    420\n",
       "6     2019-01-22   4355\n",
       "7     2019-01-23   8408\n",
       "8     2019-01-24  14442\n",
       "9     2019-01-25  16948\n",
       "10    2019-01-26  18733\n",
       "11    2019-01-27  20749\n",
       "12    2019-01-28  19643"
      ]
     },
     "execution_count": 22,
     "metadata": {},
     "output_type": "execute_result"
    }
   ],
   "source": [
    "step1.head()"
   ]
  },
  {
   "cell_type": "code",
   "execution_count": 12,
   "metadata": {},
   "outputs": [],
   "source": [
    "query = \"\"\"\n",
    "WITH step1 as (\n",
    "  SELECT t.date_event_nk,t.session_long,t.session_long_seq,t.time_event_utc \n",
    "      FROM ods.panameraolx_mea_hydra_ninja_android_last_month t\n",
    "      WHERE  trackevent='myaccount_tap'\n",
    "\n",
    "          ),\n",
    "    step2 as (\n",
    "    \n",
    "    SELECT a.date_event_nk,\n",
    "           a.session_long,\n",
    "           a.time_event_utc as tiime_step2 ,\n",
    "           b.time_event_utc as tiime_step1\n",
    "                FROM ods.panameraolx_mea_hydra_ninja_android_last_month a\n",
    "                    INNER JOIN step1 b ON a.session_long=b.session_long AND a.date_event_nk=b.date_event_nk\n",
    "                                                                        --AND a.session_long_seq=b.session_long_seq\n",
    "                    WHERE trackevent='myaccount_tap_profile'\n",
    "                    AND DATEDIFF(minute, tiime_step1 , tiime_step2) <  10\n",
    "                    AND DATEDIFF(minute, tiime_step1 , tiime_step2) >=  0\n",
    "             \n",
    "    )\n",
    "SELECT date_event_nk ,COUNT(distinct session_long) FROM step2\n",
    "        GROUP BY 1\n",
    "        ORDER BY 1\n",
    "        \n",
    "\"\"\""
   ]
  },
  {
   "cell_type": "code",
   "execution_count": 13,
   "metadata": {},
   "outputs": [],
   "source": [
    "step2 = pd.read_sql_query(query,engine)"
   ]
  },
  {
   "cell_type": "code",
   "execution_count": 14,
   "metadata": {},
   "outputs": [
    {
     "data": {
      "text/html": [
       "<div>\n",
       "<style scoped>\n",
       "    .dataframe tbody tr th:only-of-type {\n",
       "        vertical-align: middle;\n",
       "    }\n",
       "\n",
       "    .dataframe tbody tr th {\n",
       "        vertical-align: top;\n",
       "    }\n",
       "\n",
       "    .dataframe thead th {\n",
       "        text-align: right;\n",
       "    }\n",
       "</style>\n",
       "<table border=\"1\" class=\"dataframe\">\n",
       "  <thead>\n",
       "    <tr style=\"text-align: right;\">\n",
       "      <th></th>\n",
       "      <th>date_event_nk</th>\n",
       "      <th>count_x</th>\n",
       "      <th>count_y</th>\n",
       "      <th>Show_Complete</th>\n",
       "    </tr>\n",
       "  </thead>\n",
       "  <tbody>\n",
       "    <tr>\n",
       "      <th>0</th>\n",
       "      <td>2019-01-15</td>\n",
       "      <td>1</td>\n",
       "      <td>NaN</td>\n",
       "      <td>NaN</td>\n",
       "    </tr>\n",
       "    <tr>\n",
       "      <th>1</th>\n",
       "      <td>2019-01-16</td>\n",
       "      <td>1</td>\n",
       "      <td>NaN</td>\n",
       "      <td>NaN</td>\n",
       "    </tr>\n",
       "    <tr>\n",
       "      <th>2</th>\n",
       "      <td>2019-01-18</td>\n",
       "      <td>34</td>\n",
       "      <td>7.0</td>\n",
       "      <td>0.205882</td>\n",
       "    </tr>\n",
       "    <tr>\n",
       "      <th>3</th>\n",
       "      <td>2019-01-19</td>\n",
       "      <td>184</td>\n",
       "      <td>32.0</td>\n",
       "      <td>0.173913</td>\n",
       "    </tr>\n",
       "    <tr>\n",
       "      <th>4</th>\n",
       "      <td>2019-01-20</td>\n",
       "      <td>319</td>\n",
       "      <td>52.0</td>\n",
       "      <td>0.163009</td>\n",
       "    </tr>\n",
       "  </tbody>\n",
       "</table>\n",
       "</div>"
      ],
      "text/plain": [
       "  date_event_nk  count_x  count_y  Show_Complete\n",
       "0    2019-01-15        1      NaN            NaN\n",
       "1    2019-01-16        1      NaN            NaN\n",
       "2    2019-01-18       34      7.0       0.205882\n",
       "3    2019-01-19      184     32.0       0.173913\n",
       "4    2019-01-20      319     52.0       0.163009"
      ]
     },
     "execution_count": 14,
     "metadata": {},
     "output_type": "execute_result"
    }
   ],
   "source": [
    "funnel = pd.merge(step1,step2,how='left',on=['date_event_nk'] , validate = 'one_to_one')\n",
    "funnel['Show_Complete'] = funnel['count_y'] / funnel['count_x']\n",
    "funnel.drop(funnel.index[-1:], inplace=True)\n",
    "funnel.head()"
   ]
  },
  {
   "cell_type": "code",
   "execution_count": 15,
   "metadata": {},
   "outputs": [
    {
     "name": "stdout",
     "output_type": "stream",
     "text": [
      "0.1759699269451734\n"
     ]
    }
   ],
   "source": [
    "print(funnel['count_y'].sum() / funnel['count_x'].sum())"
   ]
  },
  {
   "cell_type": "markdown",
   "metadata": {},
   "source": []
  },
  {
   "cell_type": "markdown",
   "metadata": {},
   "source": [
    "## View item to view profile"
   ]
  },
  {
   "cell_type": "code",
   "execution_count": 10,
   "metadata": {},
   "outputs": [],
   "source": [
    "# People which make login_show\n",
    "query = \"\"\"\n",
    "WITH step1 as (\n",
    "  SELECT t.date_event_nk,t.session_long,t.session_long_seq,t.time_event_utc \n",
    "        FROM ods.panameraolx_mea_hydra_ninja_android_last_month t\n",
    "      WHERE trackevent='view_item'\n",
    "      )\n",
    "      \n",
    "SELECT date_event_nk, COUNT(distinct session_long) FROM step1\n",
    "        GROUP BY 1\n",
    "        ORDER BY 1\n",
    "\"\"\""
   ]
  },
  {
   "cell_type": "code",
   "execution_count": 11,
   "metadata": {},
   "outputs": [],
   "source": [
    "step1 = pd.read_sql_query(query,engine)"
   ]
  },
  {
   "cell_type": "code",
   "execution_count": 12,
   "metadata": {},
   "outputs": [
    {
     "data": {
      "text/html": [
       "<div>\n",
       "<style scoped>\n",
       "    .dataframe tbody tr th:only-of-type {\n",
       "        vertical-align: middle;\n",
       "    }\n",
       "\n",
       "    .dataframe tbody tr th {\n",
       "        vertical-align: top;\n",
       "    }\n",
       "\n",
       "    .dataframe thead th {\n",
       "        text-align: right;\n",
       "    }\n",
       "</style>\n",
       "<table border=\"1\" class=\"dataframe\">\n",
       "  <thead>\n",
       "    <tr style=\"text-align: right;\">\n",
       "      <th></th>\n",
       "      <th>count</th>\n",
       "    </tr>\n",
       "  </thead>\n",
       "  <tbody>\n",
       "    <tr>\n",
       "      <th>0</th>\n",
       "      <td>2518221</td>\n",
       "    </tr>\n",
       "  </tbody>\n",
       "</table>\n",
       "</div>"
      ],
      "text/plain": [
       "     count\n",
       "0  2518221"
      ]
     },
     "execution_count": 12,
     "metadata": {},
     "output_type": "execute_result"
    }
   ],
   "source": [
    "step1.head()"
   ]
  },
  {
   "cell_type": "code",
   "execution_count": 41,
   "metadata": {},
   "outputs": [],
   "source": [
    "query = \"\"\"\n",
    "WITH step1 as (\n",
    "  SELECT t.date_event_nk,t.session_long,t.session_long_seq,t.time_event_utc \n",
    "      FROM ods.panameraolx_mea_hydra_ninja_android_last_month t\n",
    "      WHERE  trackevent='view_item'\n",
    "\n",
    "          ),\n",
    "    step2 as (\n",
    "    \n",
    "    SELECT a.date_event_nk,\n",
    "           a.session_long,\n",
    "           a.time_event_utc as tiime_step2 ,\n",
    "           b.time_event_utc as tiime_step1\n",
    "                FROM ods.panameraolx_mea_hydra_ninja_android_last_month a\n",
    "                    INNER JOIN step1 b ON a.session_long=b.session_long AND a.date_event_nk=b.date_event_nk\n",
    "                                                                        AND a.session_long_seq=b.session_long_seq\n",
    "                    WHERE trackevent='social_view_listed'\n",
    "                    AND DATEDIFF(minute, tiime_step1 , tiime_step2) <  10\n",
    "                    AND DATEDIFF(minute, tiime_step1 , tiime_step2) >=  0\n",
    "             \n",
    "    )\n",
    "SELECT  COUNT(distinct session_long) FROM step2\n",
    "        \n",
    "\"\"\""
   ]
  },
  {
   "cell_type": "code",
   "execution_count": 42,
   "metadata": {},
   "outputs": [],
   "source": [
    "step2 = pd.read_sql_query(query,engine)"
   ]
  },
  {
   "cell_type": "code",
   "execution_count": 43,
   "metadata": {},
   "outputs": [
    {
     "data": {
      "text/html": [
       "<div>\n",
       "<style scoped>\n",
       "    .dataframe tbody tr th:only-of-type {\n",
       "        vertical-align: middle;\n",
       "    }\n",
       "\n",
       "    .dataframe tbody tr th {\n",
       "        vertical-align: top;\n",
       "    }\n",
       "\n",
       "    .dataframe thead th {\n",
       "        text-align: right;\n",
       "    }\n",
       "</style>\n",
       "<table border=\"1\" class=\"dataframe\">\n",
       "  <thead>\n",
       "    <tr style=\"text-align: right;\">\n",
       "      <th></th>\n",
       "      <th>date_event_nk</th>\n",
       "      <th>count_x</th>\n",
       "      <th>count_y</th>\n",
       "      <th>Show_Complete</th>\n",
       "    </tr>\n",
       "  </thead>\n",
       "  <tbody>\n",
       "    <tr>\n",
       "      <th>0</th>\n",
       "      <td>2018-12-01</td>\n",
       "      <td>205853</td>\n",
       "      <td>30148</td>\n",
       "      <td>0.146454</td>\n",
       "    </tr>\n",
       "    <tr>\n",
       "      <th>1</th>\n",
       "      <td>2018-12-02</td>\n",
       "      <td>235684</td>\n",
       "      <td>35898</td>\n",
       "      <td>0.152314</td>\n",
       "    </tr>\n",
       "    <tr>\n",
       "      <th>2</th>\n",
       "      <td>2018-12-03</td>\n",
       "      <td>237001</td>\n",
       "      <td>35531</td>\n",
       "      <td>0.149919</td>\n",
       "    </tr>\n",
       "    <tr>\n",
       "      <th>3</th>\n",
       "      <td>2018-12-04</td>\n",
       "      <td>241768</td>\n",
       "      <td>36011</td>\n",
       "      <td>0.148949</td>\n",
       "    </tr>\n",
       "    <tr>\n",
       "      <th>4</th>\n",
       "      <td>2018-12-05</td>\n",
       "      <td>238418</td>\n",
       "      <td>35489</td>\n",
       "      <td>0.148852</td>\n",
       "    </tr>\n",
       "  </tbody>\n",
       "</table>\n",
       "</div>"
      ],
      "text/plain": [
       "  date_event_nk  count_x  count_y  Show_Complete\n",
       "0    2018-12-01   205853    30148       0.146454\n",
       "1    2018-12-02   235684    35898       0.152314\n",
       "2    2018-12-03   237001    35531       0.149919\n",
       "3    2018-12-04   241768    36011       0.148949\n",
       "4    2018-12-05   238418    35489       0.148852"
      ]
     },
     "execution_count": 43,
     "metadata": {},
     "output_type": "execute_result"
    }
   ],
   "source": [
    "funnel = pd.merge(step1,step2,how='left',on=['date_event_nk'] , validate = 'one_to_one')\n",
    "funnel['Show_Complete'] = funnel['count_y'] / funnel['count_x']\n",
    "funnel.drop(funnel.index[-1:], inplace=True)\n",
    "funnel.head()"
   ]
  },
  {
   "cell_type": "code",
   "execution_count": 44,
   "metadata": {},
   "outputs": [
    {
     "name": "stdout",
     "output_type": "stream",
     "text": [
      "0.1448839013577168\n"
     ]
    }
   ],
   "source": [
    "print(funnel['count_y'].sum() / funnel['count_x'].sum())"
   ]
  },
  {
   "cell_type": "markdown",
   "metadata": {},
   "source": [
    "## My account use Android"
   ]
  },
  {
   "cell_type": "markdown",
   "metadata": {},
   "source": [
    "### Edite profile"
   ]
  },
  {
   "cell_type": "code",
   "execution_count": 64,
   "metadata": {},
   "outputs": [],
   "source": [
    "query = \"\"\"\n",
    "WITH step1 as (\n",
    "  SELECT t.date_event_nk,t.session_long,t.session_long_seq,t.time_event_utc \n",
    "        FROM ods.panameraolx_mea_hydra_ninja_android_last_month t\n",
    "      WHERE trackevent='myaccount_tap'\n",
    "      and country_sk = 'olx|mea|pk'\n",
    "      )\n",
    "      \n",
    "SELECT COUNT(distinct session_long) FROM step1\n",
    "\"\"\""
   ]
  },
  {
   "cell_type": "code",
   "execution_count": 65,
   "metadata": {},
   "outputs": [],
   "source": [
    "step1 = pd.read_sql_query(query,engine)"
   ]
  },
  {
   "cell_type": "code",
   "execution_count": 66,
   "metadata": {},
   "outputs": [
    {
     "data": {
      "text/html": [
       "<div>\n",
       "<style scoped>\n",
       "    .dataframe tbody tr th:only-of-type {\n",
       "        vertical-align: middle;\n",
       "    }\n",
       "\n",
       "    .dataframe tbody tr th {\n",
       "        vertical-align: top;\n",
       "    }\n",
       "\n",
       "    .dataframe thead th {\n",
       "        text-align: right;\n",
       "    }\n",
       "</style>\n",
       "<table border=\"1\" class=\"dataframe\">\n",
       "  <thead>\n",
       "    <tr style=\"text-align: right;\">\n",
       "      <th></th>\n",
       "      <th>count</th>\n",
       "    </tr>\n",
       "  </thead>\n",
       "  <tbody>\n",
       "    <tr>\n",
       "      <th>0</th>\n",
       "      <td>76799</td>\n",
       "    </tr>\n",
       "  </tbody>\n",
       "</table>\n",
       "</div>"
      ],
      "text/plain": [
       "   count\n",
       "0  76799"
      ]
     },
     "execution_count": 66,
     "metadata": {},
     "output_type": "execute_result"
    }
   ],
   "source": [
    "step1.head()"
   ]
  },
  {
   "cell_type": "code",
   "execution_count": 67,
   "metadata": {},
   "outputs": [],
   "source": [
    "query = \"\"\"\n",
    "WITH step1 as (\n",
    "  SELECT t.date_event_nk,t.session_long,t.session_long_seq,t.time_event_utc \n",
    "      FROM ods.panameraolx_mea_hydra_ninja_android_last_month t\n",
    "      WHERE  trackevent='myaccount_tap'\n",
    "     and country_sk = 'olx|mea|pk'\n",
    "\n",
    "          ),\n",
    "    step2 as (\n",
    "    \n",
    "    SELECT a.date_event_nk,\n",
    "           a.session_long,\n",
    "           a.time_event_utc as tiime_step2 ,\n",
    "           b.time_event_utc as tiime_step1\n",
    "                FROM ods.panameraolx_mea_hydra_ninja_android_last_month a\n",
    "                    INNER JOIN step1 b ON a.session_long=b.session_long AND a.date_event_nk=b.date_event_nk\n",
    "                                                                        --AND a.session_long_seq=b.session_long_seq\n",
    "                    WHERE trackevent='myaccount_tap_profile'\n",
    "                    AND DATEDIFF(minute, tiime_step1 , tiime_step2) <  10\n",
    "                    AND DATEDIFF(minute, tiime_step1 , tiime_step2) >=  0\n",
    "                      and country_sk = 'olx|mea|pk'\n",
    "             \n",
    "    )\n",
    "SELECT  COUNT(distinct session_long) FROM step2\n",
    "        \n",
    "\"\"\""
   ]
  },
  {
   "cell_type": "code",
   "execution_count": 68,
   "metadata": {},
   "outputs": [],
   "source": [
    "step2 = pd.read_sql_query(query,engine)"
   ]
  },
  {
   "cell_type": "code",
   "execution_count": 69,
   "metadata": {},
   "outputs": [
    {
     "data": {
      "text/html": [
       "<div>\n",
       "<style scoped>\n",
       "    .dataframe tbody tr th:only-of-type {\n",
       "        vertical-align: middle;\n",
       "    }\n",
       "\n",
       "    .dataframe tbody tr th {\n",
       "        vertical-align: top;\n",
       "    }\n",
       "\n",
       "    .dataframe thead th {\n",
       "        text-align: right;\n",
       "    }\n",
       "</style>\n",
       "<table border=\"1\" class=\"dataframe\">\n",
       "  <thead>\n",
       "    <tr style=\"text-align: right;\">\n",
       "      <th></th>\n",
       "      <th>count</th>\n",
       "    </tr>\n",
       "  </thead>\n",
       "  <tbody>\n",
       "    <tr>\n",
       "      <th>0</th>\n",
       "      <td>17498</td>\n",
       "    </tr>\n",
       "  </tbody>\n",
       "</table>\n",
       "</div>"
      ],
      "text/plain": [
       "   count\n",
       "0  17498"
      ]
     },
     "execution_count": 69,
     "metadata": {},
     "output_type": "execute_result"
    }
   ],
   "source": [
    "step2.head()"
   ]
  },
  {
   "cell_type": "code",
   "execution_count": 71,
   "metadata": {},
   "outputs": [
    {
     "data": {
      "text/html": [
       "<div>\n",
       "<style scoped>\n",
       "    .dataframe tbody tr th:only-of-type {\n",
       "        vertical-align: middle;\n",
       "    }\n",
       "\n",
       "    .dataframe tbody tr th {\n",
       "        vertical-align: top;\n",
       "    }\n",
       "\n",
       "    .dataframe thead th {\n",
       "        text-align: right;\n",
       "    }\n",
       "</style>\n",
       "<table border=\"1\" class=\"dataframe\">\n",
       "  <thead>\n",
       "    <tr style=\"text-align: right;\">\n",
       "      <th></th>\n",
       "      <th>date_event_nk</th>\n",
       "      <th>count_x</th>\n",
       "      <th>count_y</th>\n",
       "      <th>Show_Complete</th>\n",
       "    </tr>\n",
       "  </thead>\n",
       "  <tbody>\n",
       "    <tr>\n",
       "      <th>0</th>\n",
       "      <td>2019-01-15</td>\n",
       "      <td>1</td>\n",
       "      <td>NaN</td>\n",
       "      <td>NaN</td>\n",
       "    </tr>\n",
       "    <tr>\n",
       "      <th>1</th>\n",
       "      <td>2019-01-16</td>\n",
       "      <td>1</td>\n",
       "      <td>NaN</td>\n",
       "      <td>NaN</td>\n",
       "    </tr>\n",
       "    <tr>\n",
       "      <th>2</th>\n",
       "      <td>2019-01-18</td>\n",
       "      <td>34</td>\n",
       "      <td>7.0</td>\n",
       "      <td>0.205882</td>\n",
       "    </tr>\n",
       "    <tr>\n",
       "      <th>3</th>\n",
       "      <td>2019-01-19</td>\n",
       "      <td>184</td>\n",
       "      <td>32.0</td>\n",
       "      <td>0.173913</td>\n",
       "    </tr>\n",
       "    <tr>\n",
       "      <th>4</th>\n",
       "      <td>2019-01-20</td>\n",
       "      <td>319</td>\n",
       "      <td>52.0</td>\n",
       "      <td>0.163009</td>\n",
       "    </tr>\n",
       "    <tr>\n",
       "      <th>5</th>\n",
       "      <td>2019-01-21</td>\n",
       "      <td>420</td>\n",
       "      <td>72.0</td>\n",
       "      <td>0.171429</td>\n",
       "    </tr>\n",
       "    <tr>\n",
       "      <th>6</th>\n",
       "      <td>2019-01-22</td>\n",
       "      <td>4355</td>\n",
       "      <td>883.0</td>\n",
       "      <td>0.202755</td>\n",
       "    </tr>\n",
       "    <tr>\n",
       "      <th>7</th>\n",
       "      <td>2019-01-23</td>\n",
       "      <td>8408</td>\n",
       "      <td>1577.0</td>\n",
       "      <td>0.187559</td>\n",
       "    </tr>\n",
       "    <tr>\n",
       "      <th>8</th>\n",
       "      <td>2019-01-24</td>\n",
       "      <td>14442</td>\n",
       "      <td>2645.0</td>\n",
       "      <td>0.183146</td>\n",
       "    </tr>\n",
       "    <tr>\n",
       "      <th>9</th>\n",
       "      <td>2019-01-25</td>\n",
       "      <td>16948</td>\n",
       "      <td>2915.0</td>\n",
       "      <td>0.171997</td>\n",
       "    </tr>\n",
       "    <tr>\n",
       "      <th>10</th>\n",
       "      <td>2019-01-26</td>\n",
       "      <td>18733</td>\n",
       "      <td>3254.0</td>\n",
       "      <td>0.173704</td>\n",
       "    </tr>\n",
       "    <tr>\n",
       "      <th>11</th>\n",
       "      <td>2019-01-27</td>\n",
       "      <td>20749</td>\n",
       "      <td>3449.0</td>\n",
       "      <td>0.166225</td>\n",
       "    </tr>\n",
       "    <tr>\n",
       "      <th>12</th>\n",
       "      <td>2019-01-28</td>\n",
       "      <td>21889</td>\n",
       "      <td>3635.0</td>\n",
       "      <td>0.166065</td>\n",
       "    </tr>\n",
       "    <tr>\n",
       "      <th>13</th>\n",
       "      <td>2019-01-29</td>\n",
       "      <td>23457</td>\n",
       "      <td>3847.0</td>\n",
       "      <td>0.164002</td>\n",
       "    </tr>\n",
       "    <tr>\n",
       "      <th>14</th>\n",
       "      <td>2019-01-30</td>\n",
       "      <td>23465</td>\n",
       "      <td>3840.0</td>\n",
       "      <td>0.163648</td>\n",
       "    </tr>\n",
       "  </tbody>\n",
       "</table>\n",
       "</div>"
      ],
      "text/plain": [
       "   date_event_nk  count_x  count_y  Show_Complete\n",
       "0     2019-01-15        1      NaN            NaN\n",
       "1     2019-01-16        1      NaN            NaN\n",
       "2     2019-01-18       34      7.0       0.205882\n",
       "3     2019-01-19      184     32.0       0.173913\n",
       "4     2019-01-20      319     52.0       0.163009\n",
       "5     2019-01-21      420     72.0       0.171429\n",
       "6     2019-01-22     4355    883.0       0.202755\n",
       "7     2019-01-23     8408   1577.0       0.187559\n",
       "8     2019-01-24    14442   2645.0       0.183146\n",
       "9     2019-01-25    16948   2915.0       0.171997\n",
       "10    2019-01-26    18733   3254.0       0.173704\n",
       "11    2019-01-27    20749   3449.0       0.166225\n",
       "12    2019-01-28    21889   3635.0       0.166065\n",
       "13    2019-01-29    23457   3847.0       0.164002\n",
       "14    2019-01-30    23465   3840.0       0.163648"
      ]
     },
     "execution_count": 71,
     "metadata": {},
     "output_type": "execute_result"
    }
   ],
   "source": [
    "funnel_edit.head(20)"
   ]
  },
  {
   "cell_type": "code",
   "execution_count": 72,
   "metadata": {},
   "outputs": [
    {
     "name": "stdout",
     "output_type": "stream",
     "text": [
      "0.17084188911704312\n"
     ]
    }
   ],
   "source": [
    "print(funnel_edit['count_y'].sum() / funnel_edit['count_x'].sum())"
   ]
  },
  {
   "cell_type": "code",
   "execution_count": 73,
   "metadata": {},
   "outputs": [
    {
     "name": "stdout",
     "output_type": "stream",
     "text": [
      "      count\n",
      "0  0.227842\n"
     ]
    }
   ],
   "source": [
    "edit_profile = step2 / step1"
   ]
  },
  {
   "cell_type": "markdown",
   "metadata": {},
   "source": [
    "### Notifications"
   ]
  },
  {
   "cell_type": "code",
   "execution_count": 74,
   "metadata": {},
   "outputs": [],
   "source": [
    "query = \"\"\"\n",
    "WITH step1 as (\n",
    "  SELECT t.date_event_nk,t.session_long,t.session_long_seq,t.time_event_utc \n",
    "        FROM ods.panameraolx_mea_hydra_ninja_android_last_month t\n",
    "      WHERE trackevent='myaccount_tap'\n",
    "         and country_sk = 'olx|mea|pk'\n",
    "      )\n",
    "      \n",
    "SELECT COUNT(distinct session_long) FROM step1\n",
    "\n",
    "\"\"\""
   ]
  },
  {
   "cell_type": "code",
   "execution_count": 75,
   "metadata": {},
   "outputs": [],
   "source": [
    "step1 = pd.read_sql_query(query,engine)"
   ]
  },
  {
   "cell_type": "code",
   "execution_count": 76,
   "metadata": {},
   "outputs": [
    {
     "data": {
      "text/html": [
       "<div>\n",
       "<style scoped>\n",
       "    .dataframe tbody tr th:only-of-type {\n",
       "        vertical-align: middle;\n",
       "    }\n",
       "\n",
       "    .dataframe tbody tr th {\n",
       "        vertical-align: top;\n",
       "    }\n",
       "\n",
       "    .dataframe thead th {\n",
       "        text-align: right;\n",
       "    }\n",
       "</style>\n",
       "<table border=\"1\" class=\"dataframe\">\n",
       "  <thead>\n",
       "    <tr style=\"text-align: right;\">\n",
       "      <th></th>\n",
       "      <th>count</th>\n",
       "    </tr>\n",
       "  </thead>\n",
       "  <tbody>\n",
       "    <tr>\n",
       "      <th>0</th>\n",
       "      <td>76799</td>\n",
       "    </tr>\n",
       "  </tbody>\n",
       "</table>\n",
       "</div>"
      ],
      "text/plain": [
       "   count\n",
       "0  76799"
      ]
     },
     "execution_count": 76,
     "metadata": {},
     "output_type": "execute_result"
    }
   ],
   "source": [
    "step1.head()"
   ]
  },
  {
   "cell_type": "code",
   "execution_count": 77,
   "metadata": {},
   "outputs": [],
   "source": [
    "query = \"\"\"\n",
    "WITH step1 as (\n",
    "  SELECT t.date_event_nk,t.session_long,t.session_long_seq,t.time_event_utc \n",
    "      FROM ods.panameraolx_mea_hydra_ninja_android_last_month t\n",
    "      WHERE  trackevent='myaccount_tap'  and country_sk = 'olx|mea|pk'\n",
    "\n",
    "          ),\n",
    "    step2 as (\n",
    "    \n",
    "    SELECT a.date_event_nk,\n",
    "           a.session_long,\n",
    "           a.time_event_utc as tiime_step2 ,\n",
    "           b.time_event_utc as tiime_step1\n",
    "                FROM ods.panameraolx_mea_hydra_ninja_android_last_month a\n",
    "                    INNER JOIN step1 b ON a.session_long=b.session_long AND a.date_event_nk=b.date_event_nk\n",
    "                                                                        AND a.session_long_seq=b.session_long_seq\n",
    "                    WHERE trackevent='notifications_open'\n",
    "                    AND DATEDIFF(minute, tiime_step1 , tiime_step2) <  10\n",
    "                    AND DATEDIFF(minute, tiime_step1 , tiime_step2) >=  0\n",
    "              and country_sk = 'olx|mea|pk'\n",
    "    )\n",
    "SELECT  COUNT(distinct session_long) FROM step2\n",
    "\n",
    "        \n",
    "\"\"\""
   ]
  },
  {
   "cell_type": "code",
   "execution_count": 78,
   "metadata": {},
   "outputs": [],
   "source": [
    "step2 = pd.read_sql_query(query,engine)"
   ]
  },
  {
   "cell_type": "code",
   "execution_count": 79,
   "metadata": {},
   "outputs": [
    {
     "data": {
      "text/html": [
       "<div>\n",
       "<style scoped>\n",
       "    .dataframe tbody tr th:only-of-type {\n",
       "        vertical-align: middle;\n",
       "    }\n",
       "\n",
       "    .dataframe tbody tr th {\n",
       "        vertical-align: top;\n",
       "    }\n",
       "\n",
       "    .dataframe thead th {\n",
       "        text-align: right;\n",
       "    }\n",
       "</style>\n",
       "<table border=\"1\" class=\"dataframe\">\n",
       "  <thead>\n",
       "    <tr style=\"text-align: right;\">\n",
       "      <th></th>\n",
       "      <th>count</th>\n",
       "    </tr>\n",
       "  </thead>\n",
       "  <tbody>\n",
       "    <tr>\n",
       "      <th>0</th>\n",
       "      <td>28460</td>\n",
       "    </tr>\n",
       "  </tbody>\n",
       "</table>\n",
       "</div>"
      ],
      "text/plain": [
       "   count\n",
       "0  28460"
      ]
     },
     "execution_count": 79,
     "metadata": {},
     "output_type": "execute_result"
    }
   ],
   "source": [
    "step2.head()"
   ]
  },
  {
   "cell_type": "code",
   "execution_count": 80,
   "metadata": {},
   "outputs": [
    {
     "name": "stdout",
     "output_type": "stream",
     "text": [
      "      count\n",
      "0  0.370578\n"
     ]
    }
   ],
   "source": [
    "notification = step2 / step1"
   ]
  },
  {
   "cell_type": "markdown",
   "metadata": {},
   "source": [
    "### My network"
   ]
  },
  {
   "cell_type": "code",
   "execution_count": 81,
   "metadata": {},
   "outputs": [],
   "source": [
    "query = \"\"\"\n",
    "WITH step1 as (\n",
    "  SELECT t.date_event_nk,t.session_long,t.session_long_seq,t.time_event_utc \n",
    "      FROM ods.panameraolx_mea_hydra_ninja_android_last_month t\n",
    "      WHERE  trackevent='myaccount_tap'  and country_sk = 'olx|mea|pk'\n",
    "\n",
    "          ),\n",
    "    step2 as (\n",
    "    \n",
    "    SELECT a.date_event_nk,\n",
    "           a.session_long,\n",
    "           a.time_event_utc as tiime_step2 ,\n",
    "           b.time_event_utc as tiime_step1\n",
    "                FROM ods.panameraolx_mea_hydra_ninja_android_last_month a\n",
    "                    INNER JOIN step1 b ON a.session_long=b.session_long AND a.date_event_nk=b.date_event_nk\n",
    "                                                                        AND a.session_long_seq=b.session_long_seq\n",
    "                    WHERE trackevent='myaccount_tap_mynetwork'\n",
    "                    AND DATEDIFF(minute, tiime_step1 , tiime_step2) <  10\n",
    "                    AND DATEDIFF(minute, tiime_step1 , tiime_step2) >=  0\n",
    "                     and country_sk = 'olx|mea|pk'\n",
    "             \n",
    "    )\n",
    "SELECT  COUNT(distinct session_long) FROM step2\n",
    "\n",
    "        \n",
    "\"\"\""
   ]
  },
  {
   "cell_type": "code",
   "execution_count": 82,
   "metadata": {},
   "outputs": [],
   "source": [
    "step2 = pd.read_sql_query(query,engine)"
   ]
  },
  {
   "cell_type": "code",
   "execution_count": 83,
   "metadata": {},
   "outputs": [
    {
     "data": {
      "text/html": [
       "<div>\n",
       "<style scoped>\n",
       "    .dataframe tbody tr th:only-of-type {\n",
       "        vertical-align: middle;\n",
       "    }\n",
       "\n",
       "    .dataframe tbody tr th {\n",
       "        vertical-align: top;\n",
       "    }\n",
       "\n",
       "    .dataframe thead th {\n",
       "        text-align: right;\n",
       "    }\n",
       "</style>\n",
       "<table border=\"1\" class=\"dataframe\">\n",
       "  <thead>\n",
       "    <tr style=\"text-align: right;\">\n",
       "      <th></th>\n",
       "      <th>count</th>\n",
       "    </tr>\n",
       "  </thead>\n",
       "  <tbody>\n",
       "    <tr>\n",
       "      <th>0</th>\n",
       "      <td>5330</td>\n",
       "    </tr>\n",
       "  </tbody>\n",
       "</table>\n",
       "</div>"
      ],
      "text/plain": [
       "   count\n",
       "0   5330"
      ]
     },
     "execution_count": 83,
     "metadata": {},
     "output_type": "execute_result"
    }
   ],
   "source": [
    "step2.head()"
   ]
  },
  {
   "cell_type": "code",
   "execution_count": 84,
   "metadata": {},
   "outputs": [
    {
     "name": "stdout",
     "output_type": "stream",
     "text": [
      "      count\n",
      "0  0.069402\n"
     ]
    }
   ],
   "source": [
    "print(step2 / step1)"
   ]
  },
  {
   "cell_type": "code",
   "execution_count": null,
   "metadata": {},
   "outputs": [],
   "source": [
    "mynetwork = step2 / step1"
   ]
  },
  {
   "cell_type": "markdown",
   "metadata": {},
   "source": [
    "### Orders and billing"
   ]
  },
  {
   "cell_type": "code",
   "execution_count": 85,
   "metadata": {},
   "outputs": [],
   "source": [
    "query = \"\"\"\n",
    "WITH step1 as (\n",
    "  SELECT t.date_event_nk,t.session_long,t.session_long_seq,t.time_event_utc \n",
    "      FROM ods.panameraolx_mea_hydra_ninja_android_last_month t\n",
    "      WHERE  trackevent='myaccount_tap'\n",
    "       and country_sk = 'olx|mea|pk'\n",
    "\n",
    "          ),\n",
    "    step2 as (\n",
    "    \n",
    "    SELECT a.date_event_nk,\n",
    "           a.session_long,\n",
    "           a.time_event_utc as tiime_step2 ,\n",
    "           b.time_event_utc as tiime_step1\n",
    "                FROM ods.panameraolx_mea_hydra_ninja_android_last_month a\n",
    "                    INNER JOIN step1 b ON a.session_long=b.session_long AND a.date_event_nk=b.date_event_nk\n",
    "                                                                        AND a.session_long_seq=b.session_long_seq\n",
    "                    WHERE trackevent='myaccount_monetization_order_billings_tap'\n",
    "                    AND DATEDIFF(minute, tiime_step1 , tiime_step2) <  10\n",
    "                    AND DATEDIFF(minute, tiime_step1 , tiime_step2) >=  0\n",
    "                     and country_sk = 'olx|mea|pk'\n",
    "             \n",
    "    )\n",
    "SELECT  COUNT(distinct session_long) FROM step2\n",
    "\n",
    "        \n",
    "\"\"\""
   ]
  },
  {
   "cell_type": "code",
   "execution_count": 86,
   "metadata": {},
   "outputs": [],
   "source": [
    "step2 = pd.read_sql_query(query,engine)"
   ]
  },
  {
   "cell_type": "code",
   "execution_count": 87,
   "metadata": {},
   "outputs": [
    {
     "data": {
      "text/html": [
       "<div>\n",
       "<style scoped>\n",
       "    .dataframe tbody tr th:only-of-type {\n",
       "        vertical-align: middle;\n",
       "    }\n",
       "\n",
       "    .dataframe tbody tr th {\n",
       "        vertical-align: top;\n",
       "    }\n",
       "\n",
       "    .dataframe thead th {\n",
       "        text-align: right;\n",
       "    }\n",
       "</style>\n",
       "<table border=\"1\" class=\"dataframe\">\n",
       "  <thead>\n",
       "    <tr style=\"text-align: right;\">\n",
       "      <th></th>\n",
       "      <th>count</th>\n",
       "    </tr>\n",
       "  </thead>\n",
       "  <tbody>\n",
       "    <tr>\n",
       "      <th>0</th>\n",
       "      <td>5980</td>\n",
       "    </tr>\n",
       "  </tbody>\n",
       "</table>\n",
       "</div>"
      ],
      "text/plain": [
       "   count\n",
       "0   5980"
      ]
     },
     "execution_count": 87,
     "metadata": {},
     "output_type": "execute_result"
    }
   ],
   "source": [
    "step2.head()"
   ]
  },
  {
   "cell_type": "code",
   "execution_count": 88,
   "metadata": {},
   "outputs": [
    {
     "name": "stdout",
     "output_type": "stream",
     "text": [
      "      count\n",
      "0  0.077866\n"
     ]
    }
   ],
   "source": [
    "print(step2 / step1)"
   ]
  },
  {
   "cell_type": "code",
   "execution_count": null,
   "metadata": {},
   "outputs": [],
   "source": [
    "orders = step2 / step1"
   ]
  },
  {
   "cell_type": "markdown",
   "metadata": {},
   "source": [
    "### Settings"
   ]
  },
  {
   "cell_type": "code",
   "execution_count": 89,
   "metadata": {},
   "outputs": [],
   "source": [
    "query = \"\"\"\n",
    "WITH step1 as (\n",
    "  SELECT t.date_event_nk,t.session_long,t.session_long_seq,t.time_event_utc \n",
    "      FROM ods.panameraolx_mea_hydra_ninja_android_last_month t\n",
    "      WHERE  trackevent='myaccount_tap'\n",
    "       and country_sk = 'olx|mea|pk'\n",
    "\n",
    "          ),\n",
    "    step2 as (\n",
    "    \n",
    "    SELECT a.date_event_nk,\n",
    "           a.session_long,\n",
    "           a.time_event_utc as tiime_step2 ,\n",
    "           b.time_event_utc as tiime_step1\n",
    "                FROM ods.panameraolx_mea_hydra_ninja_android_last_month a\n",
    "                    INNER JOIN step1 b ON a.session_long=b.session_long AND a.date_event_nk=b.date_event_nk\n",
    "                                                                        AND a.session_long_seq=b.session_long_seq\n",
    "                    WHERE trackevent='myaccount_tap_settings'\n",
    "                    AND DATEDIFF(minute, tiime_step1 , tiime_step2) <  10\n",
    "                    AND DATEDIFF(minute, tiime_step1 , tiime_step2) >=  0\n",
    "                     and country_sk = 'olx|mea|pk'\n",
    "             \n",
    "    )\n",
    "SELECT  COUNT(distinct session_long) FROM step2\n",
    "\n",
    "        \n",
    "\"\"\""
   ]
  },
  {
   "cell_type": "code",
   "execution_count": 90,
   "metadata": {},
   "outputs": [],
   "source": [
    "step2 = pd.read_sql_query(query,engine)"
   ]
  },
  {
   "cell_type": "code",
   "execution_count": 91,
   "metadata": {},
   "outputs": [
    {
     "data": {
      "text/html": [
       "<div>\n",
       "<style scoped>\n",
       "    .dataframe tbody tr th:only-of-type {\n",
       "        vertical-align: middle;\n",
       "    }\n",
       "\n",
       "    .dataframe tbody tr th {\n",
       "        vertical-align: top;\n",
       "    }\n",
       "\n",
       "    .dataframe thead th {\n",
       "        text-align: right;\n",
       "    }\n",
       "</style>\n",
       "<table border=\"1\" class=\"dataframe\">\n",
       "  <thead>\n",
       "    <tr style=\"text-align: right;\">\n",
       "      <th></th>\n",
       "      <th>count</th>\n",
       "    </tr>\n",
       "  </thead>\n",
       "  <tbody>\n",
       "    <tr>\n",
       "      <th>0</th>\n",
       "      <td>12166</td>\n",
       "    </tr>\n",
       "  </tbody>\n",
       "</table>\n",
       "</div>"
      ],
      "text/plain": [
       "   count\n",
       "0  12166"
      ]
     },
     "execution_count": 91,
     "metadata": {},
     "output_type": "execute_result"
    }
   ],
   "source": [
    "step2.head()"
   ]
  },
  {
   "cell_type": "code",
   "execution_count": 92,
   "metadata": {},
   "outputs": [
    {
     "name": "stdout",
     "output_type": "stream",
     "text": [
      "      count\n",
      "0  0.158414\n"
     ]
    }
   ],
   "source": [
    "print(step2 / step1)"
   ]
  },
  {
   "cell_type": "code",
   "execution_count": null,
   "metadata": {},
   "outputs": [],
   "source": [
    "settings = step2 / step1 "
   ]
  },
  {
   "cell_type": "markdown",
   "metadata": {},
   "source": [
    "### Help"
   ]
  },
  {
   "cell_type": "code",
   "execution_count": 95,
   "metadata": {},
   "outputs": [],
   "source": [
    "query = \"\"\"\n",
    "WITH step1 as (\n",
    "  SELECT t.date_event_nk,t.session_long,t.session_long_seq,t.time_event_utc \n",
    "      FROM ods.panameraolx_mea_hydra_ninja_android_last_month t\n",
    "      WHERE  trackevent='myaccount_tap'\n",
    "       and country_sk = 'olx|mea|pk'\n",
    "\n",
    "          ),\n",
    "    step2 as (\n",
    "    \n",
    "    SELECT a.date_event_nk,\n",
    "           a.session_long,\n",
    "           a.time_event_utc as tiime_step2 ,\n",
    "           b.time_event_utc as tiime_step1\n",
    "                FROM ods.panameraolx_mea_hydra_ninja_android_last_month a\n",
    "                    INNER JOIN step1 b ON a.session_long=b.session_long AND a.date_event_nk=b.date_event_nk\n",
    "                                                                        AND a.session_long_seq=b.session_long_seq\n",
    "                    WHERE trackevent='myaccount_tap_help'\n",
    "                    AND DATEDIFF(minute, tiime_step1 , tiime_step2) <  10\n",
    "                    AND DATEDIFF(minute, tiime_step1 , tiime_step2) >=  0\n",
    "                     and country_sk = 'olx|mea|pk'\n",
    "             \n",
    "    )\n",
    "SELECT  COUNT(distinct session_long) FROM step2\n",
    "\n",
    "        \n",
    "\"\"\""
   ]
  },
  {
   "cell_type": "code",
   "execution_count": 96,
   "metadata": {},
   "outputs": [],
   "source": [
    "step2 = pd.read_sql_query(query,engine)"
   ]
  },
  {
   "cell_type": "code",
   "execution_count": 97,
   "metadata": {},
   "outputs": [
    {
     "data": {
      "text/html": [
       "<div>\n",
       "<style scoped>\n",
       "    .dataframe tbody tr th:only-of-type {\n",
       "        vertical-align: middle;\n",
       "    }\n",
       "\n",
       "    .dataframe tbody tr th {\n",
       "        vertical-align: top;\n",
       "    }\n",
       "\n",
       "    .dataframe thead th {\n",
       "        text-align: right;\n",
       "    }\n",
       "</style>\n",
       "<table border=\"1\" class=\"dataframe\">\n",
       "  <thead>\n",
       "    <tr style=\"text-align: right;\">\n",
       "      <th></th>\n",
       "      <th>count</th>\n",
       "    </tr>\n",
       "  </thead>\n",
       "  <tbody>\n",
       "    <tr>\n",
       "      <th>0</th>\n",
       "      <td>3620</td>\n",
       "    </tr>\n",
       "  </tbody>\n",
       "</table>\n",
       "</div>"
      ],
      "text/plain": [
       "   count\n",
       "0   3620"
      ]
     },
     "execution_count": 97,
     "metadata": {},
     "output_type": "execute_result"
    }
   ],
   "source": [
    "step2.head()"
   ]
  },
  {
   "cell_type": "code",
   "execution_count": 98,
   "metadata": {},
   "outputs": [
    {
     "name": "stdout",
     "output_type": "stream",
     "text": [
      "      count\n",
      "0  0.047136\n"
     ]
    }
   ],
   "source": [
    "print(step2 / step1)"
   ]
  },
  {
   "cell_type": "code",
   "execution_count": 99,
   "metadata": {},
   "outputs": [],
   "source": [
    "helpp = step2 / step1 "
   ]
  },
  {
   "cell_type": "code",
   "execution_count": null,
   "metadata": {},
   "outputs": [],
   "source": []
  },
  {
   "cell_type": "code",
   "execution_count": null,
   "metadata": {},
   "outputs": [],
   "source": [
    "d = {'col1': [1, 2], 'col2': [3, 4]}\n",
    "df = pd.DataFrame(data=d)\n",
    "df\n"
   ]
  },
  {
   "cell_type": "code",
   "execution_count": null,
   "metadata": {},
   "outputs": [],
   "source": []
  },
  {
   "cell_type": "code",
   "execution_count": null,
   "metadata": {},
   "outputs": [],
   "source": []
  }
 ],
 "metadata": {
  "kernelspec": {
   "display_name": "Python 3",
   "language": "python",
   "name": "python3"
  },
  "language_info": {
   "codemirror_mode": {
    "name": "ipython",
    "version": 3
   },
   "file_extension": ".py",
   "mimetype": "text/x-python",
   "name": "python",
   "nbconvert_exporter": "python",
   "pygments_lexer": "ipython3",
   "version": "3.7.1"
  },
  "toc": {
   "base_numbering": 1,
   "nav_menu": {},
   "number_sections": true,
   "sideBar": true,
   "skip_h1_title": false,
   "title_cell": "Table of Contents",
   "title_sidebar": "Contents",
   "toc_cell": false,
   "toc_position": {
    "height": "calc(100% - 180px)",
    "left": "10px",
    "top": "150px",
    "width": "364px"
   },
   "toc_section_display": true,
   "toc_window_display": true
  },
  "varInspector": {
   "cols": {
    "lenName": 16,
    "lenType": 16,
    "lenVar": 40
   },
   "kernels_config": {
    "python": {
     "delete_cmd_postfix": "",
     "delete_cmd_prefix": "del ",
     "library": "var_list.py",
     "varRefreshCmd": "print(var_dic_list())"
    },
    "r": {
     "delete_cmd_postfix": ") ",
     "delete_cmd_prefix": "rm(",
     "library": "var_list.r",
     "varRefreshCmd": "cat(var_dic_list()) "
    }
   },
   "types_to_exclude": [
    "module",
    "function",
    "builtin_function_or_method",
    "instance",
    "_Feature"
   ],
   "window_display": false
  }
 },
 "nbformat": 4,
 "nbformat_minor": 2
}
