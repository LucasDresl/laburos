{
 "cells": [
  {
   "cell_type": "code",
   "execution_count": 65,
   "metadata": {},
   "outputs": [],
   "source": [
    "import pandas as pd\n",
    "import datetime \n",
    "import psycopg2\n",
    "from sqlalchemy import create_engine\n",
    "from time import time\n",
    "import pandas as pd\n",
    "import json\n",
    "import numpy as np\n",
    "import seaborn as sns\n",
    "import matplotlib.pyplot as plt"
   ]
  },
  {
   "cell_type": "code",
   "execution_count": 120,
   "metadata": {},
   "outputs": [],
   "source": [
    "df = pd.read_csv('C:\\\\Users\\\\OLX - Lucas Dresi\\\\Documents\\\\RatingsAndReviews\\\\conversations_time_response.csv')"
   ]
  },
  {
   "cell_type": "code",
   "execution_count": 121,
   "metadata": {},
   "outputs": [],
   "source": [
    "df = df.sort_values(['conversation_nk' , 'acounter'])"
   ]
  },
  {
   "cell_type": "code",
   "execution_count": 122,
   "metadata": {},
   "outputs": [
    {
     "data": {
      "text/html": [
       "<div>\n",
       "<style scoped>\n",
       "    .dataframe tbody tr th:only-of-type {\n",
       "        vertical-align: middle;\n",
       "    }\n",
       "\n",
       "    .dataframe tbody tr th {\n",
       "        vertical-align: top;\n",
       "    }\n",
       "\n",
       "    .dataframe thead th {\n",
       "        text-align: right;\n",
       "    }\n",
       "</style>\n",
       "<table border=\"1\" class=\"dataframe\">\n",
       "  <thead>\n",
       "    <tr style=\"text-align: right;\">\n",
       "      <th></th>\n",
       "      <th>conversation_nk</th>\n",
       "      <th>acounter</th>\n",
       "      <th>time_sent_utc</th>\n",
       "    </tr>\n",
       "  </thead>\n",
       "  <tbody>\n",
       "    <tr>\n",
       "      <th>0</th>\n",
       "      <td>000092e3a4b0d3c6c5675e4e72b6f9ea44a77403</td>\n",
       "      <td>2</td>\n",
       "      <td>2019-03-15 15:01:55.000000</td>\n",
       "    </tr>\n",
       "    <tr>\n",
       "      <th>27306</th>\n",
       "      <td>000092e3a4b0d3c6c5675e4e72b6f9ea44a77403</td>\n",
       "      <td>3</td>\n",
       "      <td>2019-03-19 01:41:27.000000</td>\n",
       "    </tr>\n",
       "    <tr>\n",
       "      <th>24600</th>\n",
       "      <td>00013e6f2a0092c799415a3112cbe1e6e72ed0ab</td>\n",
       "      <td>2</td>\n",
       "      <td>2019-03-08 08:24:38.000000</td>\n",
       "    </tr>\n",
       "    <tr>\n",
       "      <th>13653</th>\n",
       "      <td>00013e6f2a0092c799415a3112cbe1e6e72ed0ab</td>\n",
       "      <td>3</td>\n",
       "      <td>2019-03-08 08:24:57.000000</td>\n",
       "    </tr>\n",
       "    <tr>\n",
       "      <th>12669</th>\n",
       "      <td>00013e6f2a0092c799415a3112cbe1e6e72ed0ab</td>\n",
       "      <td>4</td>\n",
       "      <td>2019-03-08 08:25:03.000000</td>\n",
       "    </tr>\n",
       "  </tbody>\n",
       "</table>\n",
       "</div>"
      ],
      "text/plain": [
       "                                conversation_nk  acounter  \\\n",
       "0      000092e3a4b0d3c6c5675e4e72b6f9ea44a77403         2   \n",
       "27306  000092e3a4b0d3c6c5675e4e72b6f9ea44a77403         3   \n",
       "24600  00013e6f2a0092c799415a3112cbe1e6e72ed0ab         2   \n",
       "13653  00013e6f2a0092c799415a3112cbe1e6e72ed0ab         3   \n",
       "12669  00013e6f2a0092c799415a3112cbe1e6e72ed0ab         4   \n",
       "\n",
       "                    time_sent_utc  \n",
       "0      2019-03-15 15:01:55.000000  \n",
       "27306  2019-03-19 01:41:27.000000  \n",
       "24600  2019-03-08 08:24:38.000000  \n",
       "13653  2019-03-08 08:24:57.000000  \n",
       "12669  2019-03-08 08:25:03.000000  "
      ]
     },
     "execution_count": 122,
     "metadata": {},
     "output_type": "execute_result"
    }
   ],
   "source": [
    "df.head()"
   ]
  },
  {
   "cell_type": "code",
   "execution_count": 123,
   "metadata": {},
   "outputs": [],
   "source": [
    "df['time_sent_utc'] = pd.to_datetime(df['time_sent_utc'])"
   ]
  },
  {
   "cell_type": "code",
   "execution_count": 124,
   "metadata": {},
   "outputs": [],
   "source": [
    "import datetime as dt\n",
    "df['minutos'] = df.groupby(['conversation_nk'])['time_sent_utc'].shift()\n",
    "df['tiempo_de_respuesta'] = (df['time_sent_utc'] - df['minutos'])\n",
    "df['tiempo_de_respuesta_en_minutos'] = df['tiempo_de_respuesta'].astype('timedelta64[h]')\n",
    "#df['tiempo_de_respuesta_en_horas'] = (df['tiempo_de_respuesta_en_minutos'] / 60).round()\n",
    "#df['tiempo_de_respuesta'].seconds"
   ]
  },
  {
   "cell_type": "code",
   "execution_count": 125,
   "metadata": {
    "scrolled": true
   },
   "outputs": [
    {
     "data": {
      "text/html": [
       "<div>\n",
       "<style scoped>\n",
       "    .dataframe tbody tr th:only-of-type {\n",
       "        vertical-align: middle;\n",
       "    }\n",
       "\n",
       "    .dataframe tbody tr th {\n",
       "        vertical-align: top;\n",
       "    }\n",
       "\n",
       "    .dataframe thead th {\n",
       "        text-align: right;\n",
       "    }\n",
       "</style>\n",
       "<table border=\"1\" class=\"dataframe\">\n",
       "  <thead>\n",
       "    <tr style=\"text-align: right;\">\n",
       "      <th></th>\n",
       "      <th>conversation_nk</th>\n",
       "      <th>acounter</th>\n",
       "      <th>time_sent_utc</th>\n",
       "      <th>minutos</th>\n",
       "      <th>tiempo_de_respuesta</th>\n",
       "      <th>tiempo_de_respuesta_en_minutos</th>\n",
       "    </tr>\n",
       "  </thead>\n",
       "  <tbody>\n",
       "    <tr>\n",
       "      <th>0</th>\n",
       "      <td>000092e3a4b0d3c6c5675e4e72b6f9ea44a77403</td>\n",
       "      <td>2</td>\n",
       "      <td>2019-03-15 15:01:55</td>\n",
       "      <td>NaT</td>\n",
       "      <td>NaT</td>\n",
       "      <td>NaN</td>\n",
       "    </tr>\n",
       "    <tr>\n",
       "      <th>27306</th>\n",
       "      <td>000092e3a4b0d3c6c5675e4e72b6f9ea44a77403</td>\n",
       "      <td>3</td>\n",
       "      <td>2019-03-19 01:41:27</td>\n",
       "      <td>2019-03-15 15:01:55</td>\n",
       "      <td>3 days 10:39:32</td>\n",
       "      <td>82.0</td>\n",
       "    </tr>\n",
       "    <tr>\n",
       "      <th>24600</th>\n",
       "      <td>00013e6f2a0092c799415a3112cbe1e6e72ed0ab</td>\n",
       "      <td>2</td>\n",
       "      <td>2019-03-08 08:24:38</td>\n",
       "      <td>NaT</td>\n",
       "      <td>NaT</td>\n",
       "      <td>NaN</td>\n",
       "    </tr>\n",
       "    <tr>\n",
       "      <th>13653</th>\n",
       "      <td>00013e6f2a0092c799415a3112cbe1e6e72ed0ab</td>\n",
       "      <td>3</td>\n",
       "      <td>2019-03-08 08:24:57</td>\n",
       "      <td>2019-03-08 08:24:38</td>\n",
       "      <td>0 days 00:00:19</td>\n",
       "      <td>0.0</td>\n",
       "    </tr>\n",
       "    <tr>\n",
       "      <th>12669</th>\n",
       "      <td>00013e6f2a0092c799415a3112cbe1e6e72ed0ab</td>\n",
       "      <td>4</td>\n",
       "      <td>2019-03-08 08:25:03</td>\n",
       "      <td>2019-03-08 08:24:57</td>\n",
       "      <td>0 days 00:00:06</td>\n",
       "      <td>0.0</td>\n",
       "    </tr>\n",
       "  </tbody>\n",
       "</table>\n",
       "</div>"
      ],
      "text/plain": [
       "                                conversation_nk  acounter       time_sent_utc  \\\n",
       "0      000092e3a4b0d3c6c5675e4e72b6f9ea44a77403         2 2019-03-15 15:01:55   \n",
       "27306  000092e3a4b0d3c6c5675e4e72b6f9ea44a77403         3 2019-03-19 01:41:27   \n",
       "24600  00013e6f2a0092c799415a3112cbe1e6e72ed0ab         2 2019-03-08 08:24:38   \n",
       "13653  00013e6f2a0092c799415a3112cbe1e6e72ed0ab         3 2019-03-08 08:24:57   \n",
       "12669  00013e6f2a0092c799415a3112cbe1e6e72ed0ab         4 2019-03-08 08:25:03   \n",
       "\n",
       "                  minutos tiempo_de_respuesta  tiempo_de_respuesta_en_minutos  \n",
       "0                     NaT                 NaT                             NaN  \n",
       "27306 2019-03-15 15:01:55     3 days 10:39:32                            82.0  \n",
       "24600                 NaT                 NaT                             NaN  \n",
       "13653 2019-03-08 08:24:38     0 days 00:00:19                             0.0  \n",
       "12669 2019-03-08 08:24:57     0 days 00:00:06                             0.0  "
      ]
     },
     "execution_count": 125,
     "metadata": {},
     "output_type": "execute_result"
    }
   ],
   "source": [
    "df.head()"
   ]
  },
  {
   "cell_type": "code",
   "execution_count": 109,
   "metadata": {},
   "outputs": [],
   "source": [
    "df['tiempo_de_respuesta'].value_counts().to_frame().to_csv('C:\\\\Users\\\\OLX - Lucas Dresi\\\\Documents\\\\RatingsAndReviews\\\\tiempo_de_respuesta.csv')"
   ]
  },
  {
   "cell_type": "code",
   "execution_count": 127,
   "metadata": {},
   "outputs": [],
   "source": [
    "#a = df['tiempo_de_respuesta'].value_counts().to_frame()\n",
    "#a.sort_values(['tiempo_de_respuesta'] , ascending = False)\n",
    "df1 = df[df['tiempo_de_respuesta_en_minutos'].notnull()]"
   ]
  },
  {
   "cell_type": "code",
   "execution_count": 132,
   "metadata": {},
   "outputs": [],
   "source": [
    "#df1['tiempo_de_respuesta_en_minutos'].value_counts()"
   ]
  },
  {
   "cell_type": "code",
   "execution_count": 130,
   "metadata": {},
   "outputs": [
    {
     "data": {
      "text/plain": [
       "Text(0.5, 1.0, 'Time to response')"
      ]
     },
     "execution_count": 130,
     "metadata": {},
     "output_type": "execute_result"
    },
    {
     "data": {
      "image/png": "[encoded data removed]",
      "text/plain": [
       "<Figure size 1080x576 with 1 Axes>"
      ]
     },
     "metadata": {
      "needs_background": "light"
     },
     "output_type": "display_data"
    }
   ],
   "source": [
    "fig , ax = plt.subplots(1,1,figsize=(15,8))\n",
    "sns.countplot(x=\"tiempo_de_respuesta_en_minutos\", data=df1)\n",
    "ax.set_title('Time to response')"
   ]
  },
  {
   "cell_type": "code",
   "execution_count": 131,
   "metadata": {},
   "outputs": [],
   "source": [
    "df.to_csv('C:\\\\Users\\\\OLX - Lucas Dresi\\\\Documents\\\\RatingsAndReviews\\\\tiempo_de_respuesta_df.csv')"
   ]
  },
  {
   "cell_type": "code",
   "execution_count": null,
   "metadata": {},
   "outputs": [],
   "source": [
    "df1[df1['conversation_nk'] == '0277c4d0beb1f491757fe2b67e025daf5ef4993c']"
   ]
  }
 ],
 "metadata": {
  "kernelspec": {
   "display_name": "Python 3",
   "language": "python",
   "name": "python3"
  },
  "language_info": {
   "codemirror_mode": {
    "name": "ipython",
    "version": 3
   },
   "file_extension": ".py",
   "mimetype": "text/x-python",
   "name": "python",
   "nbconvert_exporter": "python",
   "pygments_lexer": "ipython3",
   "version": "3.7.1"
  },
  "toc": {
   "base_numbering": 1,
   "nav_menu": {},
   "number_sections": true,
   "sideBar": true,
   "skip_h1_title": false,
   "title_cell": "Table of Contents",
   "title_sidebar": "Contents",
   "toc_cell": false,
   "toc_position": {},
   "toc_section_display": true,
   "toc_window_display": false
  },
  "varInspector": {
   "cols": {
    "lenName": 16,
    "lenType": 16,
    "lenVar": 40
   },
   "kernels_config": {
    "python": {
     "delete_cmd_postfix": "",
     "delete_cmd_prefix": "del ",
     "library": "var_list.py",
     "varRefreshCmd": "print(var_dic_list())"
    },
    "r": {
     "delete_cmd_postfix": ") ",
     "delete_cmd_prefix": "rm(",
     "library": "var_list.r",
     "varRefreshCmd": "cat(var_dic_list()) "
    }
   },
   "types_to_exclude": [
    "module",
    "function",
    "builtin_function_or_method",
    "instance",
    "_Feature"
   ],
   "window_display": false
  }
 },
 "nbformat": 4,
 "nbformat_minor": 2
}
